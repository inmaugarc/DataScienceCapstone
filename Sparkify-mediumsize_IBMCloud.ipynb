{
 "cells": [
  {
   "cell_type": "code",
   "execution_count": 1,
   "metadata": {},
   "outputs": [
    {
     "name": "stdout",
     "output_type": "stream",
     "text": [
      "Waiting for a Spark session to start...\n",
      "Spark Initialization Done! ApplicationId = app-20210405173221-0000\n",
      "KERNEL_ID = 9c1952ec-b087-4000-a501-065548194413\n"
     ]
    },
    {
     "data": {
      "text/plain": [
       "[Row(artist='Martin Orford', auth='Logged In', firstName='Joseph', gender='M', itemInSession=20, lastName='Morales', length=597.55057, level='free', location='Corpus Christi, TX', method='PUT', page='NextSong', registration=1532063507000, sessionId=292, song='Grand Designs', status=200, ts=1538352011000, userAgent='\"Mozilla/5.0 (Macintosh; Intel Mac OS X 10_9_4) AppleWebKit/537.36 (KHTML, like Gecko) Chrome/36.0.1985.125 Safari/537.36\"', userId='293'),\n",
       " Row(artist=\"John Brown's Body\", auth='Logged In', firstName='Sawyer', gender='M', itemInSession=74, lastName='Larson', length=380.21179, level='free', location='Houston-The Woodlands-Sugar Land, TX', method='PUT', page='NextSong', registration=1538069638000, sessionId=97, song='Bulls', status=200, ts=1538352025000, userAgent='\"Mozilla/5.0 (Macintosh; Intel Mac OS X 10_9_4) AppleWebKit/537.36 (KHTML, like Gecko) Chrome/36.0.1985.143 Safari/537.36\"', userId='98'),\n",
       " Row(artist='Afroman', auth='Logged In', firstName='Maverick', gender='M', itemInSession=184, lastName='Santiago', length=202.37016, level='paid', location='Orlando-Kissimmee-Sanford, FL', method='PUT', page='NextSong', registration=1535953455000, sessionId=178, song='Because I Got High', status=200, ts=1538352118000, userAgent='\"Mozilla/5.0 (Macintosh; Intel Mac OS X 10_9_4) AppleWebKit/537.36 (KHTML, like Gecko) Chrome/36.0.1985.143 Safari/537.36\"', userId='179'),\n",
       " Row(artist=None, auth='Logged In', firstName='Maverick', gender='M', itemInSession=185, lastName='Santiago', length=None, level='paid', location='Orlando-Kissimmee-Sanford, FL', method='PUT', page='Logout', registration=1535953455000, sessionId=178, song=None, status=307, ts=1538352119000, userAgent='\"Mozilla/5.0 (Macintosh; Intel Mac OS X 10_9_4) AppleWebKit/537.36 (KHTML, like Gecko) Chrome/36.0.1985.143 Safari/537.36\"', userId='179'),\n",
       " Row(artist='Lily Allen', auth='Logged In', firstName='Gianna', gender='F', itemInSession=22, lastName='Campos', length=194.53342, level='paid', location='Mobile, AL', method='PUT', page='NextSong', registration=1535931018000, sessionId=245, song='Smile (Radio Edit)', status=200, ts=1538352124000, userAgent='Mozilla/5.0 (Windows NT 6.1; WOW64; rv:31.0) Gecko/20100101 Firefox/31.0', userId='246')]"
      ]
     },
     "execution_count": 1,
     "metadata": {},
     "output_type": "execute_result"
    }
   ],
   "source": [
    "import ibmos2spark, os\n",
    "# @hidden_cell\n",
    "\n",
    "if os.environ.get('RUNTIME_ENV_LOCATION_TYPE') == 'external':\n",
    "    endpoint_8cef0e3522844ac4be8f0bd9cec66d89 = 'https://s3.eu-geo.objectstorage.softlayer.net'\n",
    "else:\n",
    "    endpoint_8cef0e3522844ac4be8f0bd9cec66d89 = 'https://s3.eu-geo.objectstorage.service.networklayer.com'\n",
    "\n",
    "credentials = {\n",

    "}\n",
    "\n",
    "configuration_name = 'os_8cef0e3522844ac4be8f0bd9cec66d89_configs'\n",
    "cos = ibmos2spark.CloudObjectStorage(sc, credentials, configuration_name, 'bluemix_cos')\n",
    "\n",
    "from pyspark.sql import SparkSession\n",
    "spark = SparkSession.builder.getOrCreate()\n",
    "# Since JSON data can be semi-structured and contain additional metadata, it is possible that you might face issues with the DataFrame layout.\n",
    "# Please read the documentation of 'SparkSession.read()' to learn more about the possibilities to adjust the data loading.\n",
    "# PySpark documentation: http://spark.apache.org/docs/2.0.2/api/python/pyspark.sql.html#pyspark.sql.DataFrameReader.json\n",
    "\n",
    "df_data_1 = spark.read.json(cos.url('medium-sparkify-event-data.json', 'sparkify-donotdelete-pr-wtbp2aggjvp9tm'))\n",
    "df_data_1.take(5)"
   ]
  },
  {
   "cell_type": "code",
   "execution_count": 2,
   "metadata": {},
   "outputs": [
    {
     "name": "stdout",
     "output_type": "stream",
     "text": [
      "Collecting chart_studio\n",
      "  Downloading chart_studio-1.1.0-py3-none-any.whl (64 kB)\n",
      "\u001b[K     |████████████████████████████████| 64 kB 1.0 MB/s  eta 0:00:01\n",
      "\u001b[?25hCollecting retrying>=1.3.3\n",
      "  Downloading retrying-1.3.3.tar.gz (10 kB)\n",
      "Collecting plotly\n",
      "  Downloading plotly-4.14.3-py2.py3-none-any.whl (13.2 MB)\n",
      "\u001b[K     |████████████████████████████████| 13.2 MB 16.2 MB/s eta 0:00:01\n",
      "\u001b[?25hCollecting six\n",
      "  Downloading six-1.15.0-py2.py3-none-any.whl (10 kB)\n",
      "Collecting requests\n",
      "  Downloading requests-2.25.1-py2.py3-none-any.whl (61 kB)\n",
      "\u001b[K     |████████████████████████████████| 61 kB 2.6 MB/s  eta 0:00:01\n",
      "\u001b[?25hCollecting urllib3<1.27,>=1.21.1\n",
      "  Downloading urllib3-1.26.4-py2.py3-none-any.whl (153 kB)\n",
      "\u001b[K     |████████████████████████████████| 153 kB 41.4 MB/s eta 0:00:01\n",
      "\u001b[?25hCollecting idna<3,>=2.5\n",
      "  Downloading idna-2.10-py2.py3-none-any.whl (58 kB)\n",
      "\u001b[K     |████████████████████████████████| 58 kB 2.1 MB/s  eta 0:00:01\n",
      "\u001b[?25hCollecting certifi>=2017.4.17\n",
      "  Downloading certifi-2020.12.5-py2.py3-none-any.whl (147 kB)\n",
      "\u001b[K     |████████████████████████████████| 147 kB 42.2 MB/s eta 0:00:01\n",
      "\u001b[?25hCollecting chardet<5,>=3.0.2\n",
      "  Downloading chardet-4.0.0-py2.py3-none-any.whl (178 kB)\n",
      "\u001b[K     |████████████████████████████████| 178 kB 42.4 MB/s eta 0:00:01\n",
      "\u001b[?25hBuilding wheels for collected packages: retrying\n",
      "  Building wheel for retrying (setup.py) ... \u001b[?25ldone\n",
      "\u001b[?25h  Created wheel for retrying: filename=retrying-1.3.3-py3-none-any.whl size=11430 sha256=ae28712040685ca25551924fe9aac4d3aaa5821a8bd0a2a32b31c699fb389877\n",
      "  Stored in directory: /home/spark/shared/.cache/pip/wheels/f9/8d/8d/f6af3f7f9eea3553bc2fe6d53e4b287dad18b06a861ac56ddf\n",
      "Successfully built retrying\n",
      "\u001b[31mERROR: conda 4.8.2 requires ruamel_yaml>=0.11.14, which is not installed.\u001b[0m\n",
      "\u001b[31mERROR: tensorflow 2.1.0 has requirement scipy==1.4.1; python_version >= \"3\", but you'll have scipy 1.5.0 which is incompatible.\u001b[0m\n",
      "\u001b[31mERROR: botocore 1.16.11 has requirement urllib3<1.26,>=1.20, but you'll have urllib3 1.26.4 which is incompatible.\u001b[0m\n",
      "\u001b[31mERROR: aiohttp 3.6.2 has requirement chardet<4.0,>=2.0, but you'll have chardet 4.0.0 which is incompatible.\u001b[0m\n",
      "Installing collected packages: six, retrying, plotly, urllib3, idna, certifi, chardet, requests, chart-studio\n",
      "Successfully installed certifi-2020.12.5 chardet-4.0.0 chart-studio-1.1.0 idna-2.10 plotly-4.14.3 requests-2.25.1 retrying-1.3.3 six-1.15.0 urllib3-1.26.4\n"
     ]
    }
   ],
   "source": [
    "! pip install chart_studio"
   ]
  },
  {
   "cell_type": "code",
   "execution_count": 3,
   "metadata": {},
   "outputs": [],
   "source": [
    "# import standard libraries\n",
    "import numpy as np\n",
    "import pandas as pd\n",
    "import matplotlib.pyplot as plt\n",
    "import seaborn as sns\n",
    "\n",
    "import chart_studio.plotly as py\n",
    "import plotly.graph_objs as go\n",
    "\n",
    "import datetime\n",
    "from time import time\n",
    "%matplotlib inline\n",
    "import re\n",
    "\n",
    "#import pyspark libraries\n",
    "import pyspark\n",
    "from pyspark import SparkConf\n",
    "\n",
    "# import sql Spark libraries\n",
    "from pyspark.sql import SparkSession, Window\n",
    "from pyspark.sql.types import StringType, IntegerType,DataType\n",
    "from pyspark.sql.functions import udf\n",
    "from pyspark.sql.functions import date_format\n",
    "from pyspark.sql.functions import sum as Fsum\n",
    "from pyspark.sql.functions import min as Fmin\n",
    "from pyspark.sql.functions import max as Fmax\n",
    "from pyspark.sql.functions import avg, col, min, max, regexp_replace, concat, count, desc, asc, explode, lit, split, stddev, udf, lower, isnan, when, rank, from_unixtime\n",
    "\n",
    "# import ml Spark libraries\n",
    "from pyspark.ml import Pipeline\n",
    "from pyspark.ml.feature import StandardScaler, MinMaxScaler, VectorAssembler\n",
    "from pyspark.ml.classification import LogisticRegression, RandomForestClassifier, GBTClassifier, DecisionTreeClassifier, LinearSVC\n",
    "from pyspark.ml.evaluation import BinaryClassificationEvaluator, MulticlassClassificationEvaluator\n",
    "from pyspark.ml.tuning import CrossValidator, ParamGridBuilder\n",
    "from pyspark.ml.regression import LinearRegression\n",
    "from pyspark.ml.clustering import KMeans\n",
    "from pyspark.mllib.evaluation import BinaryClassificationMetrics\n",
    "\n",
    "# import sklearn ml metrics libraries for metrics calculation\n",
    "from sklearn.metrics import confusion_matrix, f1_score, classification_report"
   ]
  },
  {
   "cell_type": "code",
   "execution_count": 4,
   "metadata": {},
   "outputs": [],
   "source": [
    "# create a Spark session\n",
    "spark = SparkSession \\\n",
    "    .builder \\\n",
    "    .appName(\"My Sparkify app\") \\\n",
    "    .getOrCreate()"
   ]
  },
  {
   "cell_type": "code",
   "execution_count": 5,
   "metadata": {},
   "outputs": [
    {
     "data": {
      "text/plain": [
       "[('spark.dynamicAllocation.enabled', 'false'),\n",
       " ('spark.network.crypto.keyLength', '256'),\n",
       " ('spark.shuffle.service.enabled', 'false'),\n",
       " ('spark.network.crypto.enabled', 'true'),\n",
       " ('spark.driver.memory', '4g'),\n",
       " ('spark.driver.port', '41013'),\n",
       " ('spark.app.id', 'app-20210405173221-0000'),\n",
       " ('spark.executor.extraClassPath',\n",
       "  '/usr/local/share/jupyter/kernels/scala/lib/*:/home/spark/shared/user-libs/spark2/*:/home/spark/shared/user-libs/common/*:/home/spark/shared/user-libs/connectors/*:/opt/ibm/connectors/db2/*:/opt/ibm/connectors/others-db-drivers/*:/opt/ibm/third-party/libs/spark2/*:/opt/ibm/third-party/libs/common/*:/opt/ibm/third-party/libs/connectors/*'),\n",
       " ('spark.driver.extraJavaOptions',\n",
       "  ' -Dderby.system.home=/home/spark/.local/share/jupyter/runtime/kernel-9c1952ec-b087-4000-a501-065548194413-20210405_172813 -Dlog4j.logFile=/home/spark/shared/logs/kernel-python3.7-python3.7-20210405_172813.log -Dlog4j.configuration=file:/opt/ibm/jkg/log4j/log4j.properties -Dfile.encoding=UTF-8 '),\n",
       " ('spark.authenticate.enableSaslEncryption', 'true'),\n",
       " ('spark.ui.port', '4040'),\n",
       " ('spark.ui.killEnabled', 'false'),\n",
       " ('spark.authenticate.secret', 'da618749-e214-4e2b-b5c7-19c2a76ea4bd'),\n",
       " ('spark.hadoop.fs.stocator.glob.bracket.support', 'true'),\n",
       " ('spark.ui.proxyBase', '/proxy/app-20210405173221-0000'),\n",
       " ('spark.serializer.objectStreamReset', '100'),\n",
       " ('spark.submit.deployMode', 'client'),\n",
       " ('spark.eventLog.enabled', 'false'),\n",
       " ('spark.driver.cores', '1'),\n",
       " ('spark.ui.reverseProxy', 'true'),\n",
       " ('spark.eventLog.dir', 'file:///home/spark/shared/spark-events'),\n",
       " ('spark.hadoop.fs.stocator.scheme.list', 'cos'),\n",
       " ('spark.history.ui.port', '18080'),\n",
       " ('spark.worker.ui.port', '8081'),\n",
       " ('spark.r.command', '/opt/ibm/conda/R/bin/Rscript'),\n",
       " ('spark.executor.memory', '4g'),\n",
       " ('spark.ui.enabled', 'true'),\n",
       " ('spark.executor.id', 'driver'),\n",
       " ('spark.master',\n",
       "  'spark://jkg-deployment-9c1952ec-b087-4000-a501-065548194413-8696dc2sqlm:7077'),\n",
       " ('spark.shuffle.service.port', '7337'),\n",
       " ('spark.app.name', 'pyspark-shell'),\n",
       " ('spark.hadoop.fs.cos.impl', 'com.ibm.stocator.fs.ObjectStoreFileSystem'),\n",
       " ('spark.hadoop.fs.s3a.impl', 'org.apache.hadoop.fs.s3a.S3AFileSystem'),\n",
       " ('spark.sql.catalogImplementation', 'hive'),\n",
       " ('spark.driver.extraClassPath',\n",
       "  '/usr/local/share/jupyter/kernels/scala/lib/*:/home/spark/shared/user-libs/spark2/*:/home/spark/shared/user-libs/common/*:/home/spark/shared/user-libs/connectors/*:/opt/ibm/connectors/db2/*:/opt/ibm/connectors/others-db-drivers/*:/opt/ibm/third-party/libs/spark2/*:/opt/ibm/third-party/libs/common/*:/opt/ibm/third-party/libs/connectors/*'),\n",
       " ('spark.master.ui.port', '8080'),\n",
       " ('spark.rdd.compress', 'True'),\n",
       " ('spark.driver.host', '172.30.53.237'),\n",
       " ('spark.hadoop.fs.stocator.cos.impl', 'com.ibm.stocator.fs.cos.COSAPIClient'),\n",
       " ('spark.executor.instances', '1'),\n",
       " ('spark.submit.pyFiles', ''),\n",
       " ('spark.history.fs.logDirectory', '/home/spark/shared/spark-event'),\n",
       " ('spark.hadoop.fs.s3a.multipart.size', '33554432'),\n",
       " ('spark.executor.cores', '1'),\n",
       " ('spark.hadoop.fs.stocator.cos.scheme', 'cos'),\n",
       " ('spark.ui.showConsoleProgress', 'true'),\n",
       " ('spark.hadoop.fs.s3a.fast.upload', 'true'),\n",
       " ('spark.authenticate', 'true')]"
      ]
     },
     "execution_count": 5,
     "metadata": {},
     "output_type": "execute_result"
    }
   ],
   "source": [
    "# get the Spark context\n",
    "spark.sparkContext.getConf().getAll()"
   ]
  },
  {
   "cell_type": "code",
   "execution_count": 6,
   "metadata": {},
   "outputs": [
    {
     "data": {
      "text/html": [
       "\n",
       "            <div>\n",
       "                <p><b>SparkSession - hive</b></p>\n",
       "                \n",
       "        <div>\n",
       "            <p><b>SparkContext</b></p>\n",
       "\n",
       "            <p><a href=\"http://172.30.53.237:4040\">Spark UI</a></p>\n",
       "\n",
       "            <dl>\n",
       "              <dt>Version</dt>\n",
       "                <dd><code>v3.0.1</code></dd>\n",
       "              <dt>Master</dt>\n",
       "                <dd><code>spark://jkg-deployment-9c1952ec-b087-4000-a501-065548194413-8696dc2sqlm:7077</code></dd>\n",
       "              <dt>AppName</dt>\n",
       "                <dd><code>pyspark-shell</code></dd>\n",
       "            </dl>\n",
       "        </div>\n",
       "        \n",
       "            </div>\n",
       "        "
      ],
      "text/plain": [
       "<pyspark.sql.session.SparkSession at 0x7ff30327fa10>"
      ]
     },
     "execution_count": 6,
     "metadata": {},
     "output_type": "execute_result"
    }
   ],
   "source": [
    "spark"
   ]
  },
  {
   "cell_type": "code",
   "execution_count": 7,
   "metadata": {},
   "outputs": [],
   "source": [
    "# get medium-dataset file\n",
    "df = df_data_1"
   ]
  },
  {
   "cell_type": "code",
   "execution_count": 8,
   "metadata": {},
   "outputs": [
    {
     "data": {
      "text/plain": [
       "DataFrame[artist: string, auth: string, firstName: string, gender: string, itemInSession: bigint, lastName: string, length: double, level: string, location: string, method: string, page: string, registration: bigint, sessionId: bigint, song: string, status: bigint, ts: bigint, userAgent: string, userId: string]"
      ]
     },
     "execution_count": 8,
     "metadata": {},
     "output_type": "execute_result"
    }
   ],
   "source": [
    "# Let's check the dataset\n",
    "df.persist()"
   ]
  },
  {
   "cell_type": "code",
   "execution_count": 9,
   "metadata": {},
   "outputs": [],
   "source": [
    "# Let's build a function to count the nulls/missing/empty values\n",
    "def count_null_col(df,column):\n",
    "    '''\n",
    "    Function that counts the nulls or missing values that exist in a column\n",
    "    Input:  \n",
    "            df: dataset where we want to count null/missing/empty values\n",
    "            column: column of the dataset we want to count null/missing/empty values\n",
    "    Output: \n",
    "            n_missing: it returns the number of missing values\n",
    "    '''\n",
    "    missing = df.filter(((df[column].isNull()) | isnan(df[column])) | (df[column] == \"\"))\n",
    "    n_missing = missing.count()\n",
    "    \n",
    "    return n_missing"
   ]
  },
  {
   "cell_type": "code",
   "execution_count": 10,
   "metadata": {},
   "outputs": [],
   "source": [
    "# Let's build a function to count the nulls/missing/empty values of every column of the dataset\n",
    "def count_null_df(df):\n",
    "    '''\n",
    "    Function that counts the nulls or missing values that exist in a dataset\n",
    "    Input:  \n",
    "            df: dataset where we want to count null/missing/empty values\n",
    "    Output: \n",
    "            missing: it returns a dictionary with the number of missing values of every column\n",
    "            in case the column has nulls/missing/empty values\n",
    "    '''   \n",
    "    missing = {}\n",
    "    for col in df.columns:\n",
    "        n_missing = count_null_col(df,col)\n",
    "        if n_missing > 0:\n",
    "            missing.update({col: n_missing})\n",
    "    \n",
    "    return missing      "
   ]
  },
  {
   "cell_type": "code",
   "execution_count": 11,
   "metadata": {},
   "outputs": [],
   "source": [
    "# Let's build a function to count if the categorical and numerical columns of the dataset\n",
    "def cat_or_num(df):\n",
    "    '''\n",
    "    Function that clasifies the kind of columns (categorical or numerical) that exist in a dataset\n",
    "    Input:  \n",
    "            df: dataset where we want to clasify columns\n",
    "    Output: \n",
    "            num_cols,cat:cols: it returns a dictionary with the category of every column\n",
    "    \n",
    "    '''   \n",
    "    cat_cols = []\n",
    "    num_cols = []\n",
    "\n",
    "    for coltype in df.schema:\n",
    "        ctype = str(coltype.dataType)\n",
    "        if ctype == \"StringType\":\n",
    "            cat_cols.append(coltype.name)\n",
    "\n",
    "        elif ctype == \"LongType\" or ctype == \"DoubleType\":\n",
    "            num_cols.append(coltype.name)\n",
    "            \n",
    "    return cat_cols, num_cols"
   ]
  },
  {
   "cell_type": "code",
   "execution_count": 12,
   "metadata": {},
   "outputs": [],
   "source": [
    "def load_data_spark(path_to_dataset):\n",
    "    '''\n",
    "    Function that load a dataset\n",
    "    Input:  \n",
    "            path_to_dataset: path to the file containing the data\n",
    "    Output: \n",
    "            df: loaded dataset\n",
    "    '''  \n",
    "    df = spark.read.json(path_to_dataset)  \n",
    "    \n",
    "    return df"
   ]
  },
  {
   "cell_type": "code",
   "execution_count": 13,
   "metadata": {},
   "outputs": [],
   "source": [
    "# function for cleansing the dataset\n",
    "def drop_na_duplicates(input_dataset):\n",
    "    '''\n",
    "    Function that eliminates nulls and duplicates from a dataset\n",
    "    Input:  \n",
    "            input_dataset: original dataset\n",
    "    Output: \n",
    "            output_dataset: dataset without nans and duplicates\n",
    "    '''     \n",
    "\n",
    "    output_dataset = input_dataset.dropna(how = \"any\", subset = [\"userId\", \"sessionId\"])\n",
    "    # Let's get the unique records of UserId\n",
    "    output_dataset = output_dataset.select(\"userId\").dropDuplicates().sort(\"userId\").show()\n",
    "    #output_dataset = output_dataset.filter(output_dataset[\"userId\"] != \"\")\n",
    "    \n",
    "    \n",
    "    return output_dataset"
   ]
  },
  {
   "cell_type": "code",
   "execution_count": 14,
   "metadata": {},
   "outputs": [],
   "source": [
    "def feature_engineerme(df_input):\n",
    "    '''\n",
    "    Function that collects the feature to build the ML model\n",
    "    Input:  \n",
    "            df_input: dataframe\n",
    "    Output: \n",
    "            df_output: output datadrame with the features\n",
    "    '''  \n",
    "    # This dataframe will contain the following features:\n",
    "    # |-- userId: string (nullable = true)\n",
    "    # |-- churn: cancellation of the service\n",
    "    # |-- level: type of subscription + I will convert into number 0/1\n",
    "    # |-- n_artists: number of artist a user listens to + I will convert into number\n",
    "    # |-- n_songs:number of songs a user listens to + I will convert into number  \n",
    "    # |-- n_songs_play:number of songs added to the playlist + I will convert into number   \n",
    "    # |-- n_thumbs_up: number of thumbs up + I will convert into number\n",
    "    # |-- n_thumbs_down:  number of thumbs down + I will convert into number \n",
    "    # |-- n_Errors: long (nullable = true)\n",
    "    # |-- n_friends: number of friends + I will convert into number \n",
    "    # |-- n_Rolls: number of spots displayed to the user\n",
    "    # |-- n_Help: number of visits to help page\n",
    "    # |-- total_sdays: time of the subscription (in days)\n",
    "    # |-- n_sessions: number of sesions of a user\n",
    "    # |-- IPAD: the user connects with an IPAD to our Sparkify service\n",
    "    # |-- IPHONE: the user connects with an IPHONE to our Sparkify service\n",
    "    # |-- LINUX: the user connects with a Linux device to our Sparkify service\n",
    "    # |-- MAC: the user connects with a MAC device to our Sparkify service\n",
    "    # |-- WINDOWS: the user connects with a WINDOWS to our Sparkify service\n",
    "\n",
    "\n",
    "    churn = df_input.groupby('userId').max(\"churn\").withColumnRenamed(\"max(churn)\", \"churn\")\n",
    "    df_churn = churn.withColumn('churn', churn.churn.cast('int'))\n",
    "    df_churn.count()\n",
    "        \n",
    "    ## Let's change level into a numerical,binary field (0/1)\n",
    "    level = df_input.select(['userId', 'level','ts']).orderBy(desc('ts')).dropDuplicates(['userId']).select(['userId', 'level']).replace(['free', 'paid'], ['0', '1'], 'level')\n",
    "    df_level = level.withColumn('level', level.level.cast('int'))\n",
    "    df_level.count()\n",
    "    \n",
    "    # Let's calculate the number of artists a user listens to \n",
    "    n_artists = df_input.filter(df_valid.page==\"NextSong\").select(['userId', 'artist']).dropDuplicates().groupby('userId').count().withColumnRenamed('count', 'n_artists')\n",
    "    df_n_artists= n_artists.withColumn('n_artists', n_artists.n_artists.cast('int'))\n",
    "    df_n_artists.count()\n",
    "    \n",
    "    n_songs = df_input.select('userId','song').groupBy('userId').count().withColumnRenamed('count', 'n_songs')\n",
    "    df_n_songs= n_songs.withColumn('n_songs', n_songs.n_songs.cast('double'))\n",
    "    df_n_songs.count()\n",
    "    \n",
    "    n_songs_play = df_input.select('userId', 'page').where(df_valid.page =='Add to Playlist').groupBy('userId').agg({'page':'count'}).withColumnRenamed('count(page)','n_songs_play')\n",
    "    df_n_songs_play = n_songs_play.withColumn('n_songs_play', n_songs_play.n_songs_play.cast('double'))\n",
    "    df_n_songs_play.count()\n",
    "        \n",
    "    n_thumbs_up = df_input.select('userId','page').where(df_valid.page == 'Thumbs Up').groupBy('userId').count().withColumnRenamed('count', 'n_thumbs_up')\n",
    "    df_n_thumbs_up= n_thumbs_up.withColumn('n_thumbs_up', n_thumbs_up.n_thumbs_up.cast('bigint'))\n",
    "    df_n_thumbs_up.count()\n",
    "    \n",
    "    n_thumbs_down = df_input.select('userId','page').where(df_valid.page == 'Thumbs Down').groupBy('userId').count().withColumnRenamed('count', 'n_thumbs_down')\n",
    "    df_n_thumbs_down= n_thumbs_down.withColumn('n_thumbs_down', n_thumbs_down.n_thumbs_down.cast('bigint'))\n",
    "    df_n_thumbs_down.count()\n",
    "    \n",
    "    n_Errors = df_input.select('userId','page').where(df_valid.page == 'Error').groupBy('userId').count().withColumnRenamed('count', 'n_Errors')\n",
    "    df_n_Errors = n_Errors.withColumn('n_Errors', n_Errors.n_Errors.cast('bigint'))\n",
    "    df_n_Errors.count()\n",
    "    \n",
    "    n_friends = df_input.select('userId','page').where(df_valid.page == 'Add Friend').groupBy('userId').count().withColumnRenamed('count', 'n_friends')\n",
    "    df_n_friends= n_friends.withColumn('n_friends', n_friends.n_friends.cast('bigint'))\n",
    "    df_n_friends.count()\n",
    "    \n",
    "    n_Rolls = df_input.select('userId','page').where(df_valid.page == 'Roll Advert').groupBy('userId').count().withColumnRenamed('count', 'n_Rolls')\n",
    "    df_n_Rolls = n_Rolls.withColumn('n_Rolls', n_Rolls.n_Rolls.cast('bigint'))\n",
    "    df_n_Rolls.count()\n",
    "    \n",
    "    # Let's calculate the number of Help a user visits\n",
    "    n_Help = df_input.select('userId','page').where(df_valid.page == 'Help').groupBy('userId').count().withColumnRenamed('count', 'n_Help')\n",
    "    df_n_Help = n_Help.withColumn('n_Help', n_Help.n_Help.cast('bigint'))\n",
    "    df_n_Help.count()\n",
    "    \n",
    "    # Let's calculate the subscription days a user stays in the service\n",
    "    subscription_days = df_input.select('userId','subscription_days').groupBy('userId').agg({'subscription_days':'max'}).withColumnRenamed('max(subscription_days)','total_sdays')\n",
    "    df_subscription_days = subscription_days.withColumn('total_sdays', subscription_days.total_sdays.cast('double'))\n",
    "    df_subscription_days.count()\n",
    "\n",
    "    n_sessions = df_input.select('userId','sessionId').dropDuplicates().groupby('userId').count().withColumnRenamed('count','n_sessions')\n",
    "    df_n_sessions = n_sessions.withColumn('n_sessions', n_sessions.n_sessions.cast('bigint'))\n",
    "    df_n_sessions.count()\n",
    "    \n",
    "    # Let's take the OS the user connects to the Sparkify session and make one hot encoding with the pivot option\n",
    "    df_os = df_valid.select('userId','OS').dropDuplicates().groupby('userId').pivot('OS').agg(count('OS')).fillna(0)   \n",
    "    \n",
    "    df_output = df_churn.join(df_level,'userId','outer')\\\n",
    "     .join(df_n_artists,'userId','outer') \\\n",
    "     .join(df_n_songs,'userId','outer') \\\n",
    "     .join(df_n_songs_play,'userId','outer')\\\n",
    "     .join(df_n_thumbs_up,'userId','outer') \\\n",
    "     .join(df_n_thumbs_down,'userId','outer') \\\n",
    "     .join(df_n_Errors,'userId','outer') \\\n",
    "     .join(df_n_friends,'userId','outer') \\\n",
    "     .join(df_n_Rolls,'userId','outer') \\\n",
    "     .join(df_n_Help,'userId','outer') \\\n",
    "     .join(df_subscription_days,'userId','outer') \\\n",
    "     .join(df_n_sessions,'userId','outer') \\\n",
    "     .join(df_os,'userId','outer')\n",
    "    \n",
    "\n",
    "    return df_output"
   ]
  },
  {
   "cell_type": "code",
   "execution_count": 25,
   "metadata": {},
   "outputs": [
    {
     "name": "stdout",
     "output_type": "stream",
     "text": [
      "root\n",
      " |-- artist: string (nullable = true)\n",
      " |-- auth: string (nullable = true)\n",
      " |-- firstName: string (nullable = true)\n",
      " |-- gender: string (nullable = true)\n",
      " |-- itemInSession: long (nullable = true)\n",
      " |-- lastName: string (nullable = true)\n",
      " |-- length: double (nullable = true)\n",
      " |-- level: string (nullable = true)\n",
      " |-- location: string (nullable = true)\n",
      " |-- method: string (nullable = true)\n",
      " |-- page: string (nullable = true)\n",
      " |-- registration: long (nullable = true)\n",
      " |-- sessionId: long (nullable = true)\n",
      " |-- song: string (nullable = true)\n",
      " |-- status: long (nullable = true)\n",
      " |-- ts: long (nullable = true)\n",
      " |-- userAgent: string (nullable = true)\n",
      " |-- userId: string (nullable = true)\n",
      "\n"
     ]
    }
   ],
   "source": [
    "# Let's take a overview of the schema of the dataset file\n",
    "df.printSchema()"
   ]
  },
  {
   "cell_type": "code",
   "execution_count": 26,
   "metadata": {},
   "outputs": [
    {
     "data": {
      "text/plain": [
       "543705"
      ]
     },
     "execution_count": 26,
     "metadata": {},
     "output_type": "execute_result"
    }
   ],
   "source": [
    "# printSchema of the data\n",
    "df.count()"
   ]
  },
  {
   "cell_type": "code",
   "execution_count": 27,
   "metadata": {},
   "outputs": [
    {
     "name": "stdout",
     "output_type": "stream",
     "text": [
      "These are the columns with nulls/missing/empty values: {'artist': 110828, 'firstName': 15700, 'gender': 15700, 'lastName': 15700, 'length': 110828, 'location': 15700, 'registration': 15700, 'song': 110829, 'userAgent': 15700, 'userId': 15700}\n",
      "\n"
     ]
    }
   ],
   "source": [
    "# Let's see how many missing values there are in the dataset\n",
    "missing = count_null_df(df)\n",
    "print(\"These are the columns with nulls/missing/empty values: {}\\n\".format(missing))"
   ]
  },
  {
   "cell_type": "code",
   "execution_count": 28,
   "metadata": {},
   "outputs": [],
   "source": [
    "df_valid = df.dropna(how = \"any\", subset = [\"userId\", \"sessionId\"])"
   ]
  },
  {
   "cell_type": "code",
   "execution_count": 29,
   "metadata": {},
   "outputs": [
    {
     "name": "stdout",
     "output_type": "stream",
     "text": [
      "+------+\n",
      "|userId|\n",
      "+------+\n",
      "|      |\n",
      "|    10|\n",
      "|   100|\n",
      "|100001|\n",
      "|100002|\n",
      "|100003|\n",
      "|100004|\n",
      "|100005|\n",
      "|100006|\n",
      "|100007|\n",
      "|100008|\n",
      "|100009|\n",
      "|100010|\n",
      "|100011|\n",
      "|100012|\n",
      "|100013|\n",
      "|100014|\n",
      "|100015|\n",
      "|100016|\n",
      "|100017|\n",
      "+------+\n",
      "only showing top 20 rows\n",
      "\n"
     ]
    }
   ],
   "source": [
    "# Let's get the unique records of UserId\n",
    "df.select(\"userId\").dropDuplicates().sort(\"userId\").show()"
   ]
  },
  {
   "cell_type": "code",
   "execution_count": 30,
   "metadata": {},
   "outputs": [
    {
     "name": "stdout",
     "output_type": "stream",
     "text": [
      "+------+\n",
      "|userId|\n",
      "+------+\n",
      "|      |\n",
      "|    10|\n",
      "|   100|\n",
      "|100001|\n",
      "|100002|\n",
      "|100003|\n",
      "|100004|\n",
      "|100005|\n",
      "|100006|\n",
      "|100007|\n",
      "|100008|\n",
      "|100009|\n",
      "|100010|\n",
      "|100011|\n",
      "|100012|\n",
      "|100013|\n",
      "|100014|\n",
      "|100015|\n",
      "|100016|\n",
      "|100017|\n",
      "+------+\n",
      "only showing top 20 rows\n",
      "\n"
     ]
    }
   ],
   "source": [
    "# Let's eliminate nans and duplicates from the dataset\n",
    "df_valid = drop_na_duplicates(df)"
   ]
  },
  {
   "cell_type": "code",
   "execution_count": 31,
   "metadata": {},
   "outputs": [
    {
     "name": "stdout",
     "output_type": "stream",
     "text": [
      "+------+\n",
      "|userId|\n",
      "+------+\n",
      "|   293|\n",
      "|    98|\n",
      "|   179|\n",
      "|   179|\n",
      "|   246|\n",
      "|   163|\n",
      "|      |\n",
      "|      |\n",
      "|      |\n",
      "|      |\n",
      "|   179|\n",
      "|   175|\n",
      "|   100|\n",
      "|   100|\n",
      "|   163|\n",
      "|   246|\n",
      "|   179|\n",
      "|    39|\n",
      "|   163|\n",
      "|   179|\n",
      "+------+\n",
      "only showing top 20 rows\n",
      "\n"
     ]
    }
   ],
   "source": [
    "df.select(\"userId\").show()"
   ]
  },
  {
   "cell_type": "code",
   "execution_count": 32,
   "metadata": {},
   "outputs": [
    {
     "name": "stdout",
     "output_type": "stream",
     "text": [
      "+------+\n",
      "|userId|\n",
      "+------+\n",
      "|      |\n",
      "|    10|\n",
      "|   100|\n",
      "|100001|\n",
      "|100002|\n",
      "|100003|\n",
      "|100004|\n",
      "|100005|\n",
      "|100006|\n",
      "|100007|\n",
      "|100008|\n",
      "|100009|\n",
      "|100010|\n",
      "|100011|\n",
      "|100012|\n",
      "|100013|\n",
      "|100014|\n",
      "|100015|\n",
      "|100016|\n",
      "|100017|\n",
      "+------+\n",
      "only showing top 20 rows\n",
      "\n"
     ]
    }
   ],
   "source": [
    "df.select(\"userId\").dropDuplicates().sort(\"userId\").show()"
   ]
  },
  {
   "cell_type": "code",
   "execution_count": 33,
   "metadata": {},
   "outputs": [],
   "source": [
    "# We can see that there are users with empty userid, let's eliminate them from our scope\n",
    "df_valid = df.filter(df[\"userId\"] != \"\")"
   ]
  },
  {
   "cell_type": "code",
   "execution_count": 34,
   "metadata": {},
   "outputs": [
    {
     "data": {
      "text/plain": [
       "528005"
      ]
     },
     "execution_count": 34,
     "metadata": {},
     "output_type": "execute_result"
    }
   ],
   "source": [
    "df_valid.count()"
   ]
  },
  {
   "cell_type": "code",
   "execution_count": 35,
   "metadata": {},
   "outputs": [],
   "source": [
    "# Let's categorize the columns, depending on their type (categorical or numerical)\n",
    "cat_cols,num_cols = cat_or_num(df)"
   ]
  },
  {
   "cell_type": "code",
   "execution_count": 36,
   "metadata": {},
   "outputs": [
    {
     "name": "stdout",
     "output_type": "stream",
     "text": [
      "The categorical columns are: ['artist', 'auth', 'firstName', 'gender', 'lastName', 'level', 'location', 'method', 'page', 'song', 'userAgent', 'userId']\n"
     ]
    }
   ],
   "source": [
    "print (\"The categorical columns are: {}\".format(cat_cols))"
   ]
  },
  {
   "cell_type": "code",
   "execution_count": 37,
   "metadata": {},
   "outputs": [
    {
     "name": "stdout",
     "output_type": "stream",
     "text": [
      "The numerical columns are: ['itemInSession', 'length', 'registration', 'sessionId', 'status', 'ts']\n"
     ]
    }
   ],
   "source": [
    "print (\"The numerical columns are: {}\".format(num_cols))"
   ]
  },
  {
   "cell_type": "code",
   "execution_count": 38,
   "metadata": {},
   "outputs": [
    {
     "data": {
      "text/plain": [
       "528005"
      ]
     },
     "execution_count": 38,
     "metadata": {},
     "output_type": "execute_result"
    }
   ],
   "source": [
    "# Let's see how many registries the file has --> we have 528.005 records\n",
    "df_valid.count()"
   ]
  },
  {
   "cell_type": "code",
   "execution_count": 39,
   "metadata": {},
   "outputs": [
    {
     "data": {
      "text/plain": [
       "[Row(artist='Martin Orford', auth='Logged In', firstName='Joseph', gender='M', itemInSession=20, lastName='Morales', length=597.55057, level='free', location='Corpus Christi, TX', method='PUT', page='NextSong', registration=1532063507000, sessionId=292, song='Grand Designs', status=200, ts=1538352011000, userAgent='\"Mozilla/5.0 (Macintosh; Intel Mac OS X 10_9_4) AppleWebKit/537.36 (KHTML, like Gecko) Chrome/36.0.1985.125 Safari/537.36\"', userId='293'),\n",
       " Row(artist=\"John Brown's Body\", auth='Logged In', firstName='Sawyer', gender='M', itemInSession=74, lastName='Larson', length=380.21179, level='free', location='Houston-The Woodlands-Sugar Land, TX', method='PUT', page='NextSong', registration=1538069638000, sessionId=97, song='Bulls', status=200, ts=1538352025000, userAgent='\"Mozilla/5.0 (Macintosh; Intel Mac OS X 10_9_4) AppleWebKit/537.36 (KHTML, like Gecko) Chrome/36.0.1985.143 Safari/537.36\"', userId='98')]"
      ]
     },
     "execution_count": 39,
     "metadata": {},
     "output_type": "execute_result"
    }
   ],
   "source": [
    "# Let's take a look at the first lines of the file, to see what they look like\n",
    "df_valid.head(2)"
   ]
  },
  {
   "cell_type": "code",
   "execution_count": 40,
   "metadata": {},
   "outputs": [
    {
     "data": {
      "text/plain": [
       "[Row(state=' TX'),\n",
       " Row(state=' TX'),\n",
       " Row(state=' FL'),\n",
       " Row(state=' FL'),\n",
       " Row(state=' AL'),\n",
       " Row(state=' MN'),\n",
       " Row(state=' FL'),\n",
       " Row(state=' TX'),\n",
       " Row(state=' TX'),\n",
       " Row(state=' TX'),\n",
       " Row(state=' MN'),\n",
       " Row(state=' AL'),\n",
       " Row(state=' FL'),\n",
       " Row(state=' CA'),\n",
       " Row(state=' MN'),\n",
       " Row(state=' FL'),\n",
       " Row(state=' TX'),\n",
       " Row(state=' TX'),\n",
       " Row(state=' TX'),\n",
       " Row(state=' TX'),\n",
       " Row(state=' TX'),\n",
       " Row(state=' FL'),\n",
       " Row(state=' TX'),\n",
       " Row(state=' AL'),\n",
       " Row(state=' CA'),\n",
       " Row(state=' TX'),\n",
       " Row(state=' TX'),\n",
       " Row(state=' MN'),\n",
       " Row(state=' TX'),\n",
       " Row(state=' TX'),\n",
       " Row(state=' FL'),\n",
       " Row(state=' CA'),\n",
       " Row(state=' CA'),\n",
       " Row(state=' TX'),\n",
       " Row(state=' TX'),\n",
       " Row(state=' TX'),\n",
       " Row(state=' MN'),\n",
       " Row(state=' AL'),\n",
       " Row(state=' AL'),\n",
       " Row(state=' TX'),\n",
       " Row(state=' FL'),\n",
       " Row(state=' TX'),\n",
       " Row(state=' NC-SC'),\n",
       " Row(state=' TX'),\n",
       " Row(state=' CA'),\n",
       " Row(state=' TX'),\n",
       " Row(state=' MN'),\n",
       " Row(state=' NC-SC'),\n",
       " Row(state=' TX'),\n",
       " Row(state=' TX'),\n",
       " Row(state=' VA-NC'),\n",
       " Row(state=' VA-NC'),\n",
       " Row(state=' CA'),\n",
       " Row(state=' AL'),\n",
       " Row(state=' AL'),\n",
       " Row(state=' TX'),\n",
       " Row(state=' FL'),\n",
       " Row(state=' CA'),\n",
       " Row(state=' MN'),\n",
       " Row(state=' NC-SC'),\n",
       " Row(state=' AL'),\n",
       " Row(state=' AL'),\n",
       " Row(state=' TX'),\n",
       " Row(state=' TX'),\n",
       " Row(state=' TX'),\n",
       " Row(state=' VA-NC'),\n",
       " Row(state=' TX'),\n",
       " Row(state=' NC-SC'),\n",
       " Row(state=' VA-NC'),\n",
       " Row(state=' CA'),\n",
       " Row(state=' CA'),\n",
       " Row(state=' TX'),\n",
       " Row(state=' FL'),\n",
       " Row(state=' AL'),\n",
       " Row(state=' TX'),\n",
       " Row(state=' NC-SC'),\n",
       " Row(state=' NC-SC'),\n",
       " Row(state=' MN'),\n",
       " Row(state=' TX'),\n",
       " Row(state=' VA-NC'),\n",
       " Row(state=' CA'),\n",
       " Row(state=' CA'),\n",
       " Row(state=' NC-SC'),\n",
       " Row(state=' NC-SC'),\n",
       " Row(state=' TX'),\n",
       " Row(state=' FL'),\n",
       " Row(state=' TX'),\n",
       " Row(state=' AL'),\n",
       " Row(state=' VA-NC'),\n",
       " Row(state=' IN'),\n",
       " Row(state=' WA'),\n",
       " Row(state=' CA'),\n",
       " Row(state=' MN'),\n",
       " Row(state=' TX'),\n",
       " Row(state=' TX'),\n",
       " Row(state=' AL'),\n",
       " Row(state=' AL'),\n",
       " Row(state=' FL'),\n",
       " Row(state=' CA'),\n",
       " Row(state=' WA'),\n",
       " Row(state=' MN'),\n",
       " Row(state=' MN'),\n",
       " Row(state=' AL'),\n",
       " Row(state=' IN'),\n",
       " Row(state=' TX'),\n",
       " Row(state=' TX'),\n",
       " Row(state=' CA'),\n",
       " Row(state=' VA-NC'),\n",
       " Row(state=' FL'),\n",
       " Row(state=' CA'),\n",
       " Row(state=' TX'),\n",
       " Row(state=' VA-NC'),\n",
       " Row(state=' WA'),\n",
       " Row(state=' AL'),\n",
       " Row(state=' IN'),\n",
       " Row(state=' MN'),\n",
       " Row(state=' FL'),\n",
       " Row(state=' VA-NC'),\n",
       " Row(state=' TX'),\n",
       " Row(state=' WA'),\n",
       " Row(state=' AL'),\n",
       " Row(state=' CA'),\n",
       " Row(state=' CA'),\n",
       " Row(state=' IN'),\n",
       " Row(state=' WA'),\n",
       " Row(state=' WA'),\n",
       " Row(state=' FL'),\n",
       " Row(state=' AL'),\n",
       " Row(state=' TX'),\n",
       " Row(state=' TX'),\n",
       " Row(state=' VA-NC'),\n",
       " Row(state=' MN'),\n",
       " Row(state=' VA-NC'),\n",
       " Row(state=' MN'),\n",
       " Row(state=' CA'),\n",
       " Row(state=' AL'),\n",
       " Row(state=' TX'),\n",
       " Row(state=' TX'),\n",
       " Row(state=' TX'),\n",
       " Row(state=' FL'),\n",
       " Row(state=' AL'),\n",
       " Row(state=' VA-NC'),\n",
       " Row(state=' CA'),\n",
       " Row(state=' MN'),\n",
       " Row(state=' TX'),\n",
       " Row(state=' TX'),\n",
       " Row(state=' TX'),\n",
       " Row(state=' FL'),\n",
       " Row(state=' VA-NC'),\n",
       " Row(state=' AL'),\n",
       " Row(state=' AL'),\n",
       " Row(state=' CA'),\n",
       " Row(state=' CA'),\n",
       " Row(state=' MN'),\n",
       " Row(state=' TX'),\n",
       " Row(state=' TX'),\n",
       " Row(state=' TX'),\n",
       " Row(state=' FL'),\n",
       " Row(state=' VA-NC'),\n",
       " Row(state=' CA'),\n",
       " Row(state=' FL'),\n",
       " Row(state=' AL'),\n",
       " Row(state=' MN'),\n",
       " Row(state=' TX'),\n",
       " Row(state=' FL'),\n",
       " Row(state=' CA'),\n",
       " Row(state=' VA-NC'),\n",
       " Row(state=' TX'),\n",
       " Row(state=' TX'),\n",
       " Row(state=' MN'),\n",
       " Row(state=' AL'),\n",
       " Row(state=' CA'),\n",
       " Row(state=' NY-NJ-PA'),\n",
       " Row(state=' NY-NJ-PA'),\n",
       " Row(state=' CA'),\n",
       " Row(state=' NY-NJ-PA'),\n",
       " Row(state=' FL'),\n",
       " Row(state=' TX'),\n",
       " Row(state=' MN'),\n",
       " Row(state=' VA-NC'),\n",
       " Row(state=' AL'),\n",
       " Row(state=' CA'),\n",
       " Row(state=' CA'),\n",
       " Row(state=' TX'),\n",
       " Row(state=' NY-NJ-PA'),\n",
       " Row(state=' CA'),\n",
       " Row(state=' TX'),\n",
       " Row(state=' TX'),\n",
       " Row(state=' NY-NJ-PA'),\n",
       " Row(state=' FL'),\n",
       " Row(state=' MN'),\n",
       " Row(state=' VA-NC'),\n",
       " Row(state=' VA-NC'),\n",
       " Row(state=' CA'),\n",
       " Row(state=' VA-NC'),\n",
       " Row(state=' AL'),\n",
       " Row(state=' TX'),\n",
       " Row(state=' TX'),\n",
       " Row(state=' MN'),\n",
       " Row(state=' CA'),\n",
       " Row(state=' NY-NJ-PA'),\n",
       " Row(state=' VA-NC'),\n",
       " Row(state=' CA'),\n",
       " Row(state=' MN'),\n",
       " Row(state=' AL'),\n",
       " Row(state=' CA'),\n",
       " Row(state=' TX'),\n",
       " Row(state=' NY-NJ-PA'),\n",
       " Row(state=' CA'),\n",
       " Row(state=' MN'),\n",
       " Row(state=' VA-NC'),\n",
       " Row(state=' CA'),\n",
       " Row(state=' TX'),\n",
       " Row(state=' FL'),\n",
       " Row(state=' VA-NC'),\n",
       " Row(state=' AL'),\n",
       " Row(state=' CA'),\n",
       " Row(state=' TX'),\n",
       " Row(state=' MN'),\n",
       " Row(state=' NY-NJ-PA'),\n",
       " Row(state=' FL'),\n",
       " Row(state=' VA-NC'),\n",
       " Row(state=' AL'),\n",
       " Row(state=' MN'),\n",
       " Row(state=' TX'),\n",
       " Row(state=' NY-NJ-PA'),\n",
       " Row(state=' NY-NJ-PA'),\n",
       " Row(state=' FL'),\n",
       " Row(state=' FL'),\n",
       " Row(state=' VA-NC'),\n",
       " Row(state=' AL'),\n",
       " Row(state=' TX'),\n",
       " Row(state=' MN'),\n",
       " Row(state=' CA'),\n",
       " Row(state=' FL'),\n",
       " Row(state=' TX'),\n",
       " Row(state=' NY-NJ-PA'),\n",
       " Row(state=' TX'),\n",
       " Row(state=' MN'),\n",
       " Row(state=' VA-NC'),\n",
       " Row(state=' AL'),\n",
       " Row(state=' CA'),\n",
       " Row(state=' NY-NJ-PA'),\n",
       " Row(state=' TX'),\n",
       " Row(state=' TX'),\n",
       " Row(state=' MN'),\n",
       " Row(state=' TX'),\n",
       " Row(state=' AL'),\n",
       " Row(state=' AL'),\n",
       " Row(state=' FL'),\n",
       " Row(state=' CA'),\n",
       " Row(state=' FL'),\n",
       " Row(state=' NY-NJ-PA'),\n",
       " Row(state=' VA-NC'),\n",
       " Row(state=' AL'),\n",
       " Row(state=' TX'),\n",
       " Row(state=' CA'),\n",
       " Row(state=' AL'),\n",
       " Row(state=' TX'),\n",
       " Row(state=' VA-NC'),\n",
       " Row(state=' FL'),\n",
       " Row(state=' VA-NC'),\n",
       " Row(state=' NY-NJ-PA'),\n",
       " Row(state=' MN'),\n",
       " Row(state=' CA'),\n",
       " Row(state=' TX'),\n",
       " Row(state=' TX'),\n",
       " Row(state=' MN'),\n",
       " Row(state=' MN'),\n",
       " Row(state=' MN'),\n",
       " Row(state=' VA-NC'),\n",
       " Row(state=' NY-NJ-PA'),\n",
       " Row(state=' NY-NJ-PA'),\n",
       " Row(state=' NY-NJ-PA'),\n",
       " Row(state=' NY-NJ-PA'),\n",
       " Row(state=' FL'),\n",
       " Row(state=' TX'),\n",
       " Row(state=' TX'),\n",
       " Row(state=' TX'),\n",
       " Row(state=' TX'),\n",
       " Row(state=' MN'),\n",
       " Row(state=' AL'),\n",
       " Row(state=' CA'),\n",
       " Row(state=' AL'),\n",
       " Row(state=' NY-NJ-PA'),\n",
       " Row(state=' VA-NC'),\n",
       " Row(state=' FL'),\n",
       " Row(state=' CA'),\n",
       " Row(state=' TX'),\n",
       " Row(state=' TX'),\n",
       " Row(state=' FL'),\n",
       " Row(state=' FL'),\n",
       " Row(state=' AL'),\n",
       " Row(state=' NY-NJ-PA'),\n",
       " Row(state=' VA-NC'),\n",
       " Row(state=' CO'),\n",
       " Row(state=' CA'),\n",
       " Row(state=' TX'),\n",
       " Row(state=' TX'),\n",
       " Row(state=' AL'),\n",
       " Row(state=' AL'),\n",
       " Row(state=' CO'),\n",
       " Row(state=' FL'),\n",
       " Row(state=' NY-NJ-PA'),\n",
       " Row(state=' VA-NC'),\n",
       " Row(state=' VA-NC'),\n",
       " Row(state=' TX'),\n",
       " Row(state=' FL'),\n",
       " Row(state=' FL'),\n",
       " Row(state=' TX'),\n",
       " Row(state=' FL'),\n",
       " Row(state=' FL'),\n",
       " Row(state=' WI'),\n",
       " Row(state=' AL'),\n",
       " Row(state=' VA-NC'),\n",
       " Row(state=' AL'),\n",
       " Row(state=' NY-NJ-PA'),\n",
       " Row(state=' NY-NJ-PA'),\n",
       " Row(state=' WI'),\n",
       " Row(state=' TX'),\n",
       " Row(state=' FL'),\n",
       " Row(state=' FL'),\n",
       " Row(state=' CA'),\n",
       " Row(state=' TX'),\n",
       " Row(state=' IL-IN-WI'),\n",
       " Row(state=' IL-IN-WI'),\n",
       " Row(state=' CO'),\n",
       " Row(state=' VA-NC'),\n",
       " Row(state=' NY-NJ-PA'),\n",
       " Row(state=' CO'),\n",
       " Row(state=' AL'),\n",
       " Row(state=' WI'),\n",
       " Row(state=' CA'),\n",
       " Row(state=' CO'),\n",
       " Row(state=' CA'),\n",
       " Row(state=' TX'),\n",
       " Row(state=' FL'),\n",
       " Row(state=' FL'),\n",
       " Row(state=' TX'),\n",
       " Row(state=' TX'),\n",
       " Row(state=' VA-NC'),\n",
       " Row(state=' CO'),\n",
       " Row(state=' AL'),\n",
       " Row(state=' WI'),\n",
       " Row(state=' WI'),\n",
       " Row(state=' CA'),\n",
       " Row(state=' FL'),\n",
       " Row(state=' TX'),\n",
       " Row(state=' NY-NJ-PA'),\n",
       " Row(state=' FL'),\n",
       " Row(state=' FL'),\n",
       " Row(state=' CA'),\n",
       " Row(state=' TX'),\n",
       " Row(state=' AL'),\n",
       " Row(state=' VA-NC'),\n",
       " Row(state=' NY-NJ-PA'),\n",
       " Row(state=' TX'),\n",
       " Row(state=' FL'),\n",
       " Row(state=' WI'),\n",
       " Row(state=' IL-IN-WI'),\n",
       " Row(state=' MN'),\n",
       " Row(state=' FL'),\n",
       " Row(state=' AL'),\n",
       " Row(state=' TX'),\n",
       " Row(state=' VA-NC'),\n",
       " Row(state=' TX'),\n",
       " Row(state=' CO'),\n",
       " Row(state=' TX'),\n",
       " Row(state=' WI'),\n",
       " Row(state=' FL'),\n",
       " Row(state=' FL'),\n",
       " Row(state=' TX'),\n",
       " Row(state=' CA'),\n",
       " Row(state=' MN'),\n",
       " Row(state=' IL-IN-WI'),\n",
       " Row(state=' IL-IN-WI'),\n",
       " Row(state=' VA-NC'),\n",
       " Row(state=' FL'),\n",
       " Row(state=' CO'),\n",
       " Row(state=' FL'),\n",
       " Row(state=' TX'),\n",
       " Row(state=' AL'),\n",
       " Row(state=' CA'),\n",
       " Row(state=' MN'),\n",
       " Row(state=' TX'),\n",
       " Row(state=' TX'),\n",
       " Row(state=' IL-IN-WI'),\n",
       " Row(state=' WI'),\n",
       " Row(state=' FL'),\n",
       " Row(state=' CO'),\n",
       " Row(state=' FL'),\n",
       " Row(state=' FL'),\n",
       " Row(state=' MN'),\n",
       " Row(state=' CA'),\n",
       " Row(state=' VA-NC'),\n",
       " Row(state=' FL'),\n",
       " Row(state=' IL-IN-WI'),\n",
       " Row(state=' TX'),\n",
       " Row(state=' VA-NC'),\n",
       " Row(state=' FL'),\n",
       " Row(state=' AL'),\n",
       " Row(state=' FL'),\n",
       " Row(state=' FL'),\n",
       " Row(state=' FL'),\n",
       " Row(state=' VA-NC'),\n",
       " Row(state=' VA-NC'),\n",
       " Row(state=' FL'),\n",
       " Row(state=' CO'),\n",
       " Row(state=' WI'),\n",
       " Row(state=' FL'),\n",
       " Row(state=' FL'),\n",
       " Row(state=' FL'),\n",
       " Row(state=' AL'),\n",
       " Row(state=' TX'),\n",
       " Row(state=' FL'),\n",
       " Row(state=' AL'),\n",
       " Row(state=' FL'),\n",
       " Row(state=' IL-IN-WI'),\n",
       " Row(state=' CA'),\n",
       " Row(state=' MN'),\n",
       " Row(state=' WI'),\n",
       " Row(state=' FL'),\n",
       " Row(state=' TX'),\n",
       " Row(state=' CO'),\n",
       " Row(state=' TX'),\n",
       " Row(state=' FL'),\n",
       " Row(state=' AL'),\n",
       " Row(state=' CA'),\n",
       " Row(state=' MN'),\n",
       " Row(state=' IL-IN-WI'),\n",
       " Row(state=' CA'),\n",
       " Row(state=' FL'),\n",
       " Row(state=' FL'),\n",
       " Row(state=' WI'),\n",
       " Row(state=' TX'),\n",
       " Row(state=' FL'),\n",
       " Row(state=' AL'),\n",
       " Row(state=' FL'),\n",
       " Row(state=' WA'),\n",
       " Row(state=' WI'),\n",
       " Row(state=' CA'),\n",
       " Row(state=' CO'),\n",
       " Row(state=' MN'),\n",
       " Row(state=' CO'),\n",
       " Row(state=' TX'),\n",
       " Row(state=' FL'),\n",
       " Row(state=' FL'),\n",
       " Row(state=' AL'),\n",
       " Row(state=' MN'),\n",
       " Row(state=' WI'),\n",
       " Row(state=' FL'),\n",
       " Row(state=' CO'),\n",
       " Row(state=' CO'),\n",
       " Row(state=' TX'),\n",
       " Row(state=' WA'),\n",
       " Row(state=' FL'),\n",
       " Row(state=' FL'),\n",
       " Row(state=' CO'),\n",
       " Row(state=' IL-IN-WI'),\n",
       " Row(state=' AL'),\n",
       " Row(state=' IL-IN-WI'),\n",
       " Row(state=' WI'),\n",
       " Row(state=' CA'),\n",
       " Row(state=' CA'),\n",
       " Row(state=' MN'),\n",
       " Row(state=' AL'),\n",
       " Row(state=' FL'),\n",
       " Row(state=' WA'),\n",
       " Row(state=' FL'),\n",
       " Row(state=' TX'),\n",
       " Row(state=' FL'),\n",
       " Row(state=' FL'),\n",
       " Row(state=' AL'),\n",
       " Row(state=' AL'),\n",
       " Row(state=' MN'),\n",
       " Row(state=' CA'),\n",
       " Row(state=' WI'),\n",
       " Row(state=' IL-IN-WI'),\n",
       " Row(state=' WI'),\n",
       " Row(state=' WA'),\n",
       " Row(state=' FL'),\n",
       " Row(state=' FL'),\n",
       " Row(state=' MN'),\n",
       " Row(state=' TX'),\n",
       " Row(state=' FL'),\n",
       " Row(state=' CA'),\n",
       " Row(state=' AL'),\n",
       " Row(state=' WA'),\n",
       " Row(state=' WA'),\n",
       " Row(state=' IL-IN-WI'),\n",
       " Row(state=' FL'),\n",
       " Row(state=' FL'),\n",
       " Row(state=' FL'),\n",
       " Row(state=' TX'),\n",
       " Row(state=' MN'),\n",
       " Row(state=' CA'),\n",
       " Row(state=' FL'),\n",
       " Row(state=' FL'),\n",
       " Row(state=' IL-IN-WI'),\n",
       " Row(state=' TN'),\n",
       " Row(state=' MN'),\n",
       " Row(state=' TX'),\n",
       " Row(state=' FL'),\n",
       " Row(state=' AL'),\n",
       " Row(state=' MN'),\n",
       " Row(state=' IL-IN-WI'),\n",
       " Row(state=' IL-IN-WI'),\n",
       " Row(state=' IL-IN-WI'),\n",
       " Row(state=' CA'),\n",
       " Row(state=' TN'),\n",
       " Row(state=' FL'),\n",
       " Row(state=' MN'),\n",
       " Row(state=' FL'),\n",
       " Row(state=' TX'),\n",
       " Row(state=' TX'),\n",
       " Row(state=' FL'),\n",
       " Row(state=' AL'),\n",
       " Row(state=' TX'),\n",
       " Row(state=' TN'),\n",
       " Row(state=' IL-IN-WI'),\n",
       " Row(state=' FL'),\n",
       " Row(state=' FL'),\n",
       " Row(state=' MN'),\n",
       " Row(state=' FL'),\n",
       " Row(state=' CA'),\n",
       " Row(state=' FL'),\n",
       " Row(state=' TN'),\n",
       " Row(state=' MN'),\n",
       " Row(state=' TX'),\n",
       " Row(state=' AL'),\n",
       " Row(state=' AL'),\n",
       " Row(state=' AL'),\n",
       " Row(state=' CA'),\n",
       " Row(state=' TN'),\n",
       " Row(state=' FL'),\n",
       " Row(state=' FL'),\n",
       " Row(state=' FL'),\n",
       " Row(state=' FL'),\n",
       " Row(state=' IL-IN-WI'),\n",
       " Row(state=' TX'),\n",
       " Row(state=' AL'),\n",
       " Row(state=' CA'),\n",
       " Row(state=' FL'),\n",
       " Row(state=' OH'),\n",
       " Row(state=' AL'),\n",
       " Row(state=' OH'),\n",
       " Row(state=' OH'),\n",
       " Row(state=' OH'),\n",
       " Row(state=' OH'),\n",
       " Row(state=' AL'),\n",
       " Row(state=' TN'),\n",
       " Row(state=' TN'),\n",
       " Row(state=' MN'),\n",
       " Row(state=' OH'),\n",
       " Row(state=' IL-IN-WI'),\n",
       " Row(state=' FL'),\n",
       " Row(state=' AL'),\n",
       " Row(state=' FL'),\n",
       " Row(state=' CA'),\n",
       " Row(state=' MN'),\n",
       " Row(state=' TX'),\n",
       " Row(state=' OH'),\n",
       " Row(state=' TN'),\n",
       " Row(state=' FL'),\n",
       " Row(state=' TN'),\n",
       " Row(state=' IL-IN-WI'),\n",
       " Row(state=' CA'),\n",
       " Row(state=' TX'),\n",
       " Row(state=' FL'),\n",
       " Row(state=' OH'),\n",
       " Row(state=' FL'),\n",
       " Row(state=' TN'),\n",
       " Row(state=' TN'),\n",
       " Row(state=' OH'),\n",
       " Row(state=' IL-IN-WI'),\n",
       " Row(state=' TX'),\n",
       " Row(state=' VA'),\n",
       " Row(state=' VA'),\n",
       " Row(state=' IL-IN-WI'),\n",
       " Row(state=' AL'),\n",
       " Row(state=' VA'),\n",
       " Row(state=' FL'),\n",
       " Row(state=' FL'),\n",
       " Row(state=' CA'),\n",
       " Row(state=' FL'),\n",
       " Row(state=' FL'),\n",
       " Row(state=' OH'),\n",
       " Row(state=' OH'),\n",
       " Row(state=' TX'),\n",
       " Row(state=' TN'),\n",
       " Row(state=' FL'),\n",
       " Row(state=' VA'),\n",
       " Row(state=' VA'),\n",
       " Row(state=' FL'),\n",
       " Row(state=' AL'),\n",
       " Row(state=' FL'),\n",
       " Row(state=' FL'),\n",
       " Row(state=' FL'),\n",
       " Row(state=' IL-IN-WI'),\n",
       " Row(state=' IL-IN-WI'),\n",
       " Row(state=' FL'),\n",
       " Row(state=' CA'),\n",
       " Row(state=' OH'),\n",
       " Row(state=' TX'),\n",
       " Row(state=' TN'),\n",
       " Row(state=' FL'),\n",
       " Row(state=' FL'),\n",
       " Row(state=' FL'),\n",
       " Row(state=' IL-IN-WI'),\n",
       " Row(state=' OH'),\n",
       " Row(state=' CA'),\n",
       " Row(state=' AL'),\n",
       " Row(state=' TX'),\n",
       " Row(state=' FL'),\n",
       " Row(state=' CA'),\n",
       " Row(state=' FL'),\n",
       " Row(state=' FL'),\n",
       " Row(state=' TX'),\n",
       " Row(state=' AL'),\n",
       " Row(state=' OH'),\n",
       " Row(state=' OH'),\n",
       " Row(state=' CA'),\n",
       " Row(state=' IL-IN-WI'),\n",
       " Row(state=' FL'),\n",
       " Row(state=' TN'),\n",
       " Row(state=' CA'),\n",
       " Row(state=' TX'),\n",
       " Row(state=' CA'),\n",
       " Row(state=' FL'),\n",
       " Row(state=' FL'),\n",
       " Row(state=' AL'),\n",
       " Row(state=' FL'),\n",
       " Row(state=' NC'),\n",
       " Row(state=' IL-IN-WI'),\n",
       " Row(state=' TN'),\n",
       " Row(state=' CA'),\n",
       " Row(state=' CA'),\n",
       " Row(state=' TX'),\n",
       " Row(state=' FL'),\n",
       " Row(state=' OH'),\n",
       " Row(state=' AL'),\n",
       " Row(state=' FL'),\n",
       " Row(state=' TN'),\n",
       " Row(state=' NC'),\n",
       " Row(state=' FL'),\n",
       " Row(state=' TX'),\n",
       " Row(state=' CA'),\n",
       " Row(state=' OH'),\n",
       " Row(state=' CA'),\n",
       " Row(state=' AL'),\n",
       " Row(state=' CA'),\n",
       " Row(state=' FL'),\n",
       " Row(state=' TN'),\n",
       " Row(state=' FL'),\n",
       " Row(state=' NC'),\n",
       " Row(state=' TN-VA'),\n",
       " Row(state=' TN'),\n",
       " Row(state=' FL'),\n",
       " Row(state=' IL-IN-WI'),\n",
       " Row(state=' OH'),\n",
       " Row(state=' TN-VA'),\n",
       " Row(state=' CA'),\n",
       " Row(state=' FL'),\n",
       " Row(state=' TN'),\n",
       " Row(state=' AL'),\n",
       " Row(state=' CA'),\n",
       " Row(state=' IL-IN-WI'),\n",
       " Row(state=' TN-VA'),\n",
       " Row(state=' TN'),\n",
       " Row(state=' NC'),\n",
       " Row(state=' TN'),\n",
       " Row(state=' TX'),\n",
       " Row(state=' CA'),\n",
       " Row(state=' CA'),\n",
       " Row(state=' AL'),\n",
       " Row(state=' FL'),\n",
       " Row(state=' FL'),\n",
       " Row(state=' OH'),\n",
       " Row(state=' CA'),\n",
       " Row(state=' CA'),\n",
       " Row(state=' CA'),\n",
       " Row(state=' TN-VA'),\n",
       " Row(state=' IL-IN-WI'),\n",
       " Row(state=' TN'),\n",
       " Row(state=' OH'),\n",
       " Row(state=' TX'),\n",
       " Row(state=' TN-VA'),\n",
       " Row(state=' TX'),\n",
       " Row(state=' TN'),\n",
       " Row(state=' FL'),\n",
       " Row(state=' IL-IN-WI'),\n",
       " Row(state=' FL'),\n",
       " Row(state=' AL'),\n",
       " Row(state=' OH'),\n",
       " Row(state=' CA'),\n",
       " Row(state=' FL'),\n",
       " Row(state=' TN-VA'),\n",
       " Row(state=' TX'),\n",
       " Row(state=' CA'),\n",
       " Row(state=' TN'),\n",
       " Row(state=' TN'),\n",
       " Row(state=' IL-IN-WI'),\n",
       " Row(state=' IL-IN-WI'),\n",
       " Row(state=' CA'),\n",
       " Row(state=' CA'),\n",
       " Row(state=' FL'),\n",
       " Row(state=' CA'),\n",
       " Row(state=' AL'),\n",
       " Row(state=' AL'),\n",
       " Row(state=' OH'),\n",
       " Row(state=' FL'),\n",
       " Row(state=' FL'),\n",
       " Row(state=' IL-IN-WI'),\n",
       " Row(state=' TN'),\n",
       " Row(state=' CA'),\n",
       " Row(state=' TX'),\n",
       " Row(state=' AL'),\n",
       " Row(state=' OH'),\n",
       " Row(state=' FL'),\n",
       " Row(state=' CA'),\n",
       " Row(state=' FL'),\n",
       " Row(state=' TN'),\n",
       " Row(state=' FL'),\n",
       " Row(state=' CA'),\n",
       " Row(state=' AL'),\n",
       " Row(state=' CA'),\n",
       " Row(state=' CA'),\n",
       " Row(state=' TN-VA'),\n",
       " Row(state=' IL-IN-WI'),\n",
       " Row(state=' IL-IN-WI'),\n",
       " Row(state=' IL-IN-WI'),\n",
       " Row(state=' OH'),\n",
       " Row(state=' TX'),\n",
       " Row(state=' CA'),\n",
       " Row(state=' FL'),\n",
       " Row(state=' FL'),\n",
       " Row(state=' CA'),\n",
       " Row(state=' TN'),\n",
       " Row(state=' AL'),\n",
       " Row(state=' OH'),\n",
       " Row(state=' TN-VA'),\n",
       " Row(state=' IL-IN-WI'),\n",
       " Row(state=' IL-IN-WI'),\n",
       " Row(state=' IL-IN-WI'),\n",
       " Row(state=' IL-IN-WI'),\n",
       " Row(state=' TX'),\n",
       " Row(state=' FL'),\n",
       " Row(state=' FL'),\n",
       " Row(state=' FL'),\n",
       " Row(state=' FL'),\n",
       " Row(state=' CA'),\n",
       " Row(state=' TN'),\n",
       " Row(state=' CA'),\n",
       " Row(state=' OH'),\n",
       " Row(state=' FL'),\n",
       " Row(state=' TN-VA'),\n",
       " Row(state=' IL-IN-WI'),\n",
       " Row(state=' TN-VA'),\n",
       " Row(state=' TX'),\n",
       " Row(state=' CA'),\n",
       " Row(state=' CA'),\n",
       " Row(state=' VA'),\n",
       " Row(state=' TN'),\n",
       " Row(state=' FL'),\n",
       " Row(state=' CA'),\n",
       " Row(state=' AL'),\n",
       " Row(state=' OH'),\n",
       " Row(state=' TN-VA'),\n",
       " Row(state=' CA'),\n",
       " Row(state=' CA'),\n",
       " Row(state=' CA'),\n",
       " Row(state=' OH'),\n",
       " Row(state=' VA'),\n",
       " Row(state=' TX'),\n",
       " Row(state=' FL'),\n",
       " Row(state=' FL'),\n",
       " Row(state=' CA'),\n",
       " Row(state=' AL'),\n",
       " Row(state=' IL-IN-WI'),\n",
       " Row(state=' TN'),\n",
       " Row(state=' FL'),\n",
       " Row(state=' CA'),\n",
       " Row(state=' CA'),\n",
       " Row(state=' CA'),\n",
       " Row(state=' TN'),\n",
       " Row(state=' FL'),\n",
       " Row(state=' FL'),\n",
       " Row(state=' VA'),\n",
       " Row(state=' TN-VA'),\n",
       " Row(state=' OH'),\n",
       " Row(state=' CA'),\n",
       " Row(state=' TX'),\n",
       " Row(state=' TN'),\n",
       " Row(state=' CA'),\n",
       " Row(state=' IL-IN-WI'),\n",
       " Row(state=' CA'),\n",
       " Row(state=' AL'),\n",
       " Row(state=' FL'),\n",
       " Row(state=' FL'),\n",
       " Row(state=' TN-VA'),\n",
       " Row(state=' CA'),\n",
       " Row(state=' CA'),\n",
       " Row(state=' TN'),\n",
       " Row(state=' FL'),\n",
       " Row(state=' VA'),\n",
       " Row(state=' TN-VA'),\n",
       " Row(state=' CA'),\n",
       " Row(state=' CA'),\n",
       " Row(state=' OH'),\n",
       " Row(state=' FL'),\n",
       " Row(state=' OH'),\n",
       " Row(state=' FL'),\n",
       " Row(state=' TX'),\n",
       " Row(state=' IL-IN-WI'),\n",
       " Row(state=' CA'),\n",
       " Row(state=' AL'),\n",
       " Row(state=' TN'),\n",
       " Row(state=' CA'),\n",
       " Row(state=' FL'),\n",
       " Row(state=' VA'),\n",
       " Row(state=' CA'),\n",
       " Row(state=' TX'),\n",
       " Row(state=' TN'),\n",
       " Row(state=' AL'),\n",
       " Row(state=' TN-VA'),\n",
       " Row(state=' CA'),\n",
       " Row(state=' OH'),\n",
       " Row(state=' FL'),\n",
       " Row(state=' CA'),\n",
       " Row(state=' TN'),\n",
       " Row(state=' CA'),\n",
       " Row(state=' VA'),\n",
       " Row(state=' TN-VA'),\n",
       " Row(state=' FL'),\n",
       " Row(state=' TN-VA'),\n",
       " Row(state=' IL-IN-WI'),\n",
       " Row(state=' AL'),\n",
       " Row(state=' OH'),\n",
       " Row(state=' TX'),\n",
       " Row(state=' CA'),\n",
       " Row(state=' TN-VA'),\n",
       " Row(state=' CA'),\n",
       " Row(state=' FL'),\n",
       " Row(state=' TN-VA'),\n",
       " Row(state=' CA'),\n",
       " Row(state=' CA'),\n",
       " Row(state=' FL'),\n",
       " Row(state=' TX'),\n",
       " Row(state=' TX'),\n",
       " Row(state=' AL'),\n",
       " Row(state=' IL-IN-WI'),\n",
       " Row(state=' VA'),\n",
       " Row(state=' CA'),\n",
       " Row(state=' FL'),\n",
       " Row(state=' CA'),\n",
       " Row(state=' TN-VA'),\n",
       " Row(state=' FL'),\n",
       " Row(state=' TN'),\n",
       " Row(state=' AL'),\n",
       " Row(state=' AL'),\n",
       " Row(state=' CA'),\n",
       " Row(state=' OH'),\n",
       " Row(state=' IL-IN-WI'),\n",
       " Row(state=' VA'),\n",
       " Row(state=' TX'),\n",
       " Row(state=' TN'),\n",
       " Row(state=' CA'),\n",
       " Row(state=' CA'),\n",
       " Row(state=' CA'),\n",
       " Row(state=' CA'),\n",
       " Row(state=' AL'),\n",
       " Row(state=' FL'),\n",
       " Row(state=' CA'),\n",
       " Row(state=' FL'),\n",
       " Row(state=' FL'),\n",
       " Row(state=' CA'),\n",
       " Row(state=' TN-VA'),\n",
       " Row(state=' OH'),\n",
       " Row(state=' TX'),\n",
       " Row(state=' VA'),\n",
       " Row(state=' IL-IN-WI'),\n",
       " Row(state=' FL'),\n",
       " Row(state=' FL'),\n",
       " Row(state=' CA'),\n",
       " Row(state=' AL'),\n",
       " Row(state=' AL'),\n",
       " Row(state=' TN'),\n",
       " Row(state=' TN-VA'),\n",
       " Row(state=' CA'),\n",
       " Row(state=' FL'),\n",
       " Row(state=' OH'),\n",
       " Row(state=' IL-IN-WI'),\n",
       " Row(state=' MO-KS'),\n",
       " Row(state=' AL'),\n",
       " Row(state=' VA'),\n",
       " Row(state=' CA'),\n",
       " Row(state=' CA'),\n",
       " Row(state=' MO-KS'),\n",
       " Row(state=' FL'),\n",
       " Row(state=' TX'),\n",
       " Row(state=' TX'),\n",
       " Row(state=' FL'),\n",
       " Row(state=' IL-IN-WI'),\n",
       " Row(state=' OH'),\n",
       " Row(state=' TN-VA'),\n",
       " Row(state=' CA'),\n",
       " Row(state=' FL'),\n",
       " Row(state=' AL'),\n",
       " Row(state=' OH'),\n",
       " Row(state=' TN'),\n",
       " Row(state=' CA'),\n",
       " Row(state=' VA'),\n",
       " Row(state=' TX'),\n",
       " Row(state=' MO-KS'),\n",
       " Row(state=' IL-IN-WI'),\n",
       " Row(state=' TN-VA'),\n",
       " Row(state=' MO-KS'),\n",
       " Row(state=' FL'),\n",
       " Row(state=' FL'),\n",
       " Row(state=' TN'),\n",
       " Row(state=' TN-VA'),\n",
       " Row(state=' TN'),\n",
       " Row(state=' AL'),\n",
       " Row(state=' CA'),\n",
       " Row(state=' CA'),\n",
       " Row(state=' MO-KS'),\n",
       " Row(state=' IL-IN-WI'),\n",
       " Row(state=' OH'),\n",
       " Row(state=' OH'),\n",
       " Row(state=' OH'),\n",
       " Row(state=' AL'),\n",
       " Row(state=' FL'),\n",
       " Row(state=' VA'),\n",
       " Row(state=' OH'),\n",
       " Row(state=' TX'),\n",
       " Row(state=' MO-KS'),\n",
       " Row(state=' FL'),\n",
       " Row(state=' TN'),\n",
       " Row(state=' IL-IN-WI'),\n",
       " Row(state=' FL'),\n",
       " Row(state=' CA'),\n",
       " Row(state=' OH'),\n",
       " Row(state=' OH'),\n",
       " Row(state=' AL'),\n",
       " Row(state=' CA'),\n",
       " Row(state=' FL'),\n",
       " Row(state=' OH'),\n",
       " Row(state=' OH'),\n",
       " Row(state=' FL'),\n",
       " Row(state=' AL'),\n",
       " Row(state=' TN'),\n",
       " Row(state=' CA'),\n",
       " Row(state=' VA'),\n",
       " Row(state=' TN-VA'),\n",
       " Row(state=' TN-VA'),\n",
       " Row(state=' IL-IN-WI'),\n",
       " Row(state=' CA'),\n",
       " Row(state=' TN-VA'),\n",
       " Row(state=' MO-KS'),\n",
       " Row(state=' TX'),\n",
       " Row(state=' FL'),\n",
       " Row(state=' FL'),\n",
       " Row(state=' OH'),\n",
       " Row(state=' OH'),\n",
       " Row(state=' OH'),\n",
       " Row(state=' FL'),\n",
       " Row(state=' TN'),\n",
       " Row(state=' CA'),\n",
       " Row(state=' TN-VA'),\n",
       " Row(state=' IL-IN-WI'),\n",
       " Row(state=' MO-KS'),\n",
       " Row(state=' VA'),\n",
       " Row(state=' AL'),\n",
       " Row(state=' FL'),\n",
       " Row(state=' CA'),\n",
       " Row(state=' FL'),\n",
       " Row(state=' TX'),\n",
       " Row(state=' TX'),\n",
       " Row(state=' TN'),\n",
       " Row(state=' OH'),\n",
       " Row(state=' TN-VA'),\n",
       " Row(state=' TN-VA'),\n",
       " Row(state=' IL-IN-WI'),\n",
       " Row(state=' MO-KS'),\n",
       " Row(state=' CA'),\n",
       " Row(state=' VA'),\n",
       " Row(state=' OH'),\n",
       " Row(state=' MO-KS'),\n",
       " Row(state=' FL'),\n",
       " Row(state=' CA'),\n",
       " Row(state=' TX'),\n",
       " Row(state=' AL'),\n",
       " Row(state=' TN'),\n",
       " Row(state=' TN'),\n",
       " Row(state=' TN-VA'),\n",
       " Row(state=' VA'),\n",
       " Row(state=' IL-IN-WI'),\n",
       " Row(state=' CA'),\n",
       " Row(state=' VA'),\n",
       " Row(state=' AL'),\n",
       " ...]"
      ]
     },
     "execution_count": 40,
     "metadata": {},
     "output_type": "execute_result"
    }
   ],
   "source": [
    "# Prepare the data for a better visualization of the location column\n",
    "# The location column has the form: Name,Short_Name, eg: 'Lexington-Fayette, KY'\n",
    "# so we'll get the column location and split it by comma and then get the second part\n",
    "# and then we'll take only the first part\n",
    "df_valid = df_valid.withColumn(\"state\", split(col(\"location\"),',').getItem(1))\n",
    "#df_valid = df_valid.withColumn(\"state\", split(col(\"state\"),'-').getItem(1))\n",
    "df_valid.select(\"state\").collect()"
   ]
  },
  {
   "cell_type": "code",
   "execution_count": 41,
   "metadata": {},
   "outputs": [],
   "source": [
    "# Now we are going to add two new columns derived from ts field:\n",
    "# We would like to know the hour and datetime in UTF timestamp\n",
    "# for that we prepare a lambda function\n",
    "get_date       = udf(lambda x: datetime.datetime.fromtimestamp(x / 1000.0).strftime(\"%Y-%m-%d %H:%M:%S\"))\n",
    "get_month      = udf(lambda x: datetime.datetime.fromtimestamp(x / 1000.0). month)\n",
    "get_day        = udf(lambda x: datetime.datetime.fromtimestamp(x / 1000.0). day)\n",
    "get_hour       = udf(lambda x: datetime.datetime.fromtimestamp(x / 1000.0). hour)\n",
    "get_weekday    = udf(lambda x: datetime.datetime.fromtimestamp(x / 1000.0).strftime('%w'))"
   ]
  },
  {
   "cell_type": "code",
   "execution_count": 42,
   "metadata": {},
   "outputs": [],
   "source": [
    "# we apply the lambda function to convert the ts into hour and data\n",
    "# we apply also the lambda function to convert the registration field into a new field \"registration_time\" with the timestamp \n",
    "df_valid = df_valid.withColumn(\"registration_time\", get_date(df_valid.registration))\n",
    "df_valid = df_valid.withColumn(\"date\", get_date(df_valid.ts))\n",
    "df_valid = df_valid.withColumn(\"month\", get_month(df_valid.ts))\n",
    "df_valid = df_valid.withColumn(\"day_of_month\", get_day(df_valid.ts))\n",
    "df_valid = df_valid.withColumn(\"hour\", get_hour(df_valid.ts))\n",
    "df_valid = df_valid.withColumn('day_of_week', get_weekday(df_valid.ts))"
   ]
  },
  {
   "cell_type": "code",
   "execution_count": 43,
   "metadata": {},
   "outputs": [],
   "source": [
    "# Let's prepare sparksql \n",
    "# To do that, we need to create a temporary table, where we'll perform the SQL queries\n",
    "df_valid.createOrReplaceTempView(\"Sparkify_sql\")"
   ]
  },
  {
   "cell_type": "code",
   "execution_count": 44,
   "metadata": {},
   "outputs": [
    {
     "name": "stdout",
     "output_type": "stream",
     "text": [
      "+-------------------+-------+\n",
      "|  registration_time|weekday|\n",
      "+-------------------+-------+\n",
      "|2018-07-20 05:11:47|    Fri|\n",
      "|2018-09-27 17:33:58|    Thu|\n",
      "|2018-09-03 05:44:15|    Mon|\n",
      "|2018-09-03 05:44:15|    Mon|\n",
      "|2018-09-02 23:30:18|    Sun|\n",
      "|2018-08-02 02:08:30|    Thu|\n",
      "|2018-09-03 05:44:15|    Mon|\n",
      "|2018-09-21 13:20:32|    Fri|\n",
      "|2018-09-26 17:17:35|    Wed|\n",
      "|2018-09-26 17:17:35|    Wed|\n",
      "|2018-08-02 02:08:30|    Thu|\n",
      "|2018-09-02 23:30:18|    Sun|\n",
      "|2018-09-03 05:44:15|    Mon|\n",
      "|2018-06-15 01:52:21|    Fri|\n",
      "|2018-08-02 02:08:30|    Thu|\n",
      "|2018-09-03 05:44:15|    Mon|\n",
      "|2018-09-27 17:33:58|    Thu|\n",
      "|2018-09-21 13:20:32|    Fri|\n",
      "|2018-09-27 17:33:58|    Thu|\n",
      "|2018-09-26 17:17:35|    Wed|\n",
      "+-------------------+-------+\n",
      "only showing top 20 rows\n",
      "\n"
     ]
    }
   ],
   "source": [
    "# Let's prepare the registration_time for human understanding, that is year-month-day hour:minute:second, \n",
    "# And also let's add the weekday\n",
    "# Due to differences between versions 2.0 and 3.0 of Spark we have to set additional time parser\n",
    "spark.sql(\"set spark.sql.legacy.timeParserPolicy=LEGACY\")\n",
    "\n",
    "df_time = df_valid.select('registration_time', date_format('registration_time', 'E').alias('weekday'))\n",
    "df_time.show()"
   ]
  },
  {
   "cell_type": "code",
   "execution_count": 45,
   "metadata": {},
   "outputs": [],
   "source": [
    "# Now let's calculate how long the user is subscribed to our Sparkify service\n",
    "# To calculate that, we have to substract current date to the registration date\n",
    "\n",
    "def get_days_from_registration(df_valid):\n",
    "    days_from_registration = df_valid.ts - df_valid.registration\n",
    "    days_from_registration = days_from_registration/(1000*3600*24)\n",
    "    \n",
    "    return days_from_registration\n",
    "    \n",
    "    \n",
    "df_valid = df_valid.withColumn(\"subscription_days\", get_days_from_registration(df_valid))"
   ]
  },
  {
   "cell_type": "code",
   "execution_count": 46,
   "metadata": {},
   "outputs": [
    {
     "data": {
      "text/plain": [
       "Row(subscription_days=390.31975694444446)"
      ]
     },
     "execution_count": 46,
     "metadata": {},
     "output_type": "execute_result"
    }
   ],
   "source": [
    "# Let's see the old registered user --> 390 days\n",
    "df_valid.select('subscription_days').sort(\"subscription_days\").collect()[-1]"
   ]
  },
  {
   "cell_type": "code",
   "execution_count": 47,
   "metadata": {},
   "outputs": [
    {
     "data": {
      "text/plain": [
       "[Row(userID='293', subscription_days=72.78361111111111),\n",
       " Row(userID='98', subscription_days=3.2683680555555554),\n",
       " Row(userID='179', subscription_days=27.762303240740742)]"
      ]
     },
     "execution_count": 47,
     "metadata": {},
     "output_type": "execute_result"
    }
   ],
   "source": [
    "# Let's see the subscriptions days of other users\n",
    "df_valid.select('userID', 'subscription_days').take(3)"
   ]
  },
  {
   "cell_type": "code",
   "execution_count": 48,
   "metadata": {},
   "outputs": [
    {
     "name": "stdout",
     "output_type": "stream",
     "text": [
      "+------------+-----+\n",
      "|       state|count|\n",
      "+------------+-----+\n",
      "|       NE-IA|    2|\n",
      "|    IA-IL-MO|    1|\n",
      "|       PA-NJ|    3|\n",
      "|          ME|    1|\n",
      "|       AR-OK|    1|\n",
      "|          WA|   10|\n",
      "| DC-VA-MD-WV|    6|\n",
      "|          AL|    9|\n",
      "|          NM|    3|\n",
      "|          MI|   11|\n",
      "|          HI|    1|\n",
      "|          VT|    1|\n",
      "|       MN-WI|    7|\n",
      "|    IL-IN-WI|   19|\n",
      "|       MD-WV|    2|\n",
      "|          NH|    3|\n",
      "|          AK|    2|\n",
      "|          AR|    1|\n",
      "|          AZ|   10|\n",
      "|       MA-NH|    7|\n",
      "+------------+-----+\n",
      "only showing top 20 rows\n",
      "\n"
     ]
    }
   ],
   "source": [
    "# Let's see the states\n",
    "df_valid.select('userId','state').distinct().groupby('state').count().show()"
   ]
  },
  {
   "cell_type": "markdown",
   "metadata": {},
   "source": [
    "# Question: How is the proportion between Males and Females in our musical streaming service ?"
   ]
  },
  {
   "cell_type": "code",
   "execution_count": 49,
   "metadata": {},
   "outputs": [
    {
     "data": {
      "text/html": [
       "<div>\n",
       "<style scoped>\n",
       "    .dataframe tbody tr th:only-of-type {\n",
       "        vertical-align: middle;\n",
       "    }\n",
       "\n",
       "    .dataframe tbody tr th {\n",
       "        vertical-align: top;\n",
       "    }\n",
       "\n",
       "    .dataframe thead th {\n",
       "        text-align: right;\n",
       "    }\n",
       "</style>\n",
       "<table border=\"1\" class=\"dataframe\">\n",
       "  <thead>\n",
       "    <tr style=\"text-align: right;\">\n",
       "      <th></th>\n",
       "      <th>gender</th>\n",
       "      <th>count</th>\n",
       "    </tr>\n",
       "  </thead>\n",
       "  <tbody>\n",
       "    <tr>\n",
       "      <th>0</th>\n",
       "      <td>F</td>\n",
       "      <td>198</td>\n",
       "    </tr>\n",
       "    <tr>\n",
       "      <th>1</th>\n",
       "      <td>M</td>\n",
       "      <td>250</td>\n",
       "    </tr>\n",
       "  </tbody>\n",
       "</table>\n",
       "</div>"
      ],
      "text/plain": [
       "  gender  count\n",
       "0      F    198\n",
       "1      M    250"
      ]
     },
     "execution_count": 49,
     "metadata": {},
     "output_type": "execute_result"
    }
   ],
   "source": [
    "ngender = df_valid.select('gender','userId').distinct().groupby('gender').count().toPandas()\n",
    "ngender.head(5)"
   ]
  },
  {
   "cell_type": "code",
   "execution_count": 50,
   "metadata": {},
   "outputs": [
    {
     "data": {
      "image/png": "[encoded data removed]",
      "text/plain": [
       "<Figure size 504x504 with 1 Axes>"
      ]
     },
     "metadata": {
      "needs_background": "light"
     },
     "output_type": "display_data"
    }
   ],
   "source": [
    "# Let's plot this proportion with a graphic\n",
    "# and show the percentage above\n",
    "plt.figure(figsize = (7,7))\n",
    "plt.title('Number of Users by Gender & Percentage')\n",
    "ax = sns.barplot(x='gender', y='count',hue='gender', data=ngender);\n",
    "\n",
    "# this code is to calculate the percentage \n",
    "# and present the numbers above the bars and centered in the middle\n",
    "total = ngender.iloc[0]['count'] + ngender.iloc[1]['count']\n",
    "for p in ax.patches:\n",
    "    if p.get_height()>0:\n",
    "        percentage = '{:.1f}%'.format(100 * p.get_height()/total)\n",
    "        x = p.get_x() + p.get_width()/2.6\n",
    "        y = p.get_y() + p.get_height() + 0.7\n",
    "        ax.annotate(percentage, (x, y))\n",
    "\n",
    "plt.xticks(size=12)\n",
    "plt.xlabel('Gender',size=12)\n",
    "plt.yticks(size=12)\n",
    "plt.ylabel('Number of Users', size=12)\n",
    "plt.legend(title='Gender', loc='best');\n",
    "plt.savefig('Users_by_Gender.png')"
   ]
  },
  {
   "cell_type": "markdown",
   "metadata": {},
   "source": [
    "#### Question: What about the location of the users? Does this feature affects on the level of service?"
   ]
  },
  {
   "cell_type": "code",
   "execution_count": 51,
   "metadata": {},
   "outputs": [
    {
     "data": {
      "image/png": "[encoded data removed]",
      "text/plain": [
       "<Figure size 1080x432 with 1 Axes>"
      ]
     },
     "metadata": {
      "needs_background": "light"
     },
     "output_type": "display_data"
    }
   ],
   "source": [
    "df_location_level = df_valid.select('userId','state','level').groupby('state','level').count().orderBy(desc('count')).toPandas()\n",
    "fig = plt.figure(figsize=(15,6))\n",
    "plt.ylabel('Number of Users')\n",
    "ax = fig.gca()\n",
    "df_location_level.pivot(index='state', columns='level', values='count').plot(kind='bar', ax=ax)\n",
    "plt.title('Users and Account types by State')\n",
    "plt.savefig('df_state_level.png')"
   ]
  },
  {
   "cell_type": "code",
   "execution_count": 52,
   "metadata": {},
   "outputs": [],
   "source": [
    "# Maybe it's interesting augment our dataset with the device the users utilize our Sparkify service\n",
    "# let's map the operating system, through the Browser\n",
    "\n",
    "map = {'macintosh':'MAC', 'iphone':'IPHONE','ipad':'IPAD',\n",
    "       'x11':'LINUX','compatible':'WINDOWS',\n",
    "       'windows nt 5.0':'WINDOWS','windows nt 5.1':'WINDOWS',\n",
    "       'windows nt 6.1':'WINDOWS', 'windows nt 6.0':'WINDOWS',\n",
    "       'windows nt 6.2':'WINDOWS','windows nt 6.3':'WINDOWS'}\n",
    "\n",
    "classify_os = udf(lambda x: map[re.findall('\\(([^\\)]*)\\)', x)[0].split(';')[0].lower()])\n",
    "\n",
    "df_valid = df_valid.withColumn('OS', classify_os(df_valid.userAgent))"
   ]
  },
  {
   "cell_type": "code",
   "execution_count": 53,
   "metadata": {},
   "outputs": [
    {
     "data": {
      "text/html": [
       "<div>\n",
       "<style scoped>\n",
       "    .dataframe tbody tr th:only-of-type {\n",
       "        vertical-align: middle;\n",
       "    }\n",
       "\n",
       "    .dataframe tbody tr th {\n",
       "        vertical-align: top;\n",
       "    }\n",
       "\n",
       "    .dataframe thead th {\n",
       "        text-align: right;\n",
       "    }\n",
       "</style>\n",
       "<table border=\"1\" class=\"dataframe\">\n",
       "  <thead>\n",
       "    <tr style=\"text-align: right;\">\n",
       "      <th></th>\n",
       "      <th>OS</th>\n",
       "      <th>level</th>\n",
       "      <th>count</th>\n",
       "    </tr>\n",
       "  </thead>\n",
       "  <tbody>\n",
       "    <tr>\n",
       "      <th>0</th>\n",
       "      <td>WINDOWS</td>\n",
       "      <td>paid</td>\n",
       "      <td>214357</td>\n",
       "    </tr>\n",
       "    <tr>\n",
       "      <th>1</th>\n",
       "      <td>MAC</td>\n",
       "      <td>paid</td>\n",
       "      <td>160568</td>\n",
       "    </tr>\n",
       "    <tr>\n",
       "      <th>2</th>\n",
       "      <td>WINDOWS</td>\n",
       "      <td>free</td>\n",
       "      <td>56076</td>\n",
       "    </tr>\n",
       "    <tr>\n",
       "      <th>3</th>\n",
       "      <td>MAC</td>\n",
       "      <td>free</td>\n",
       "      <td>41491</td>\n",
       "    </tr>\n",
       "    <tr>\n",
       "      <th>4</th>\n",
       "      <td>LINUX</td>\n",
       "      <td>paid</td>\n",
       "      <td>19809</td>\n",
       "    </tr>\n",
       "    <tr>\n",
       "      <th>5</th>\n",
       "      <td>IPAD</td>\n",
       "      <td>paid</td>\n",
       "      <td>13404</td>\n",
       "    </tr>\n",
       "    <tr>\n",
       "      <th>6</th>\n",
       "      <td>IPHONE</td>\n",
       "      <td>paid</td>\n",
       "      <td>9906</td>\n",
       "    </tr>\n",
       "    <tr>\n",
       "      <th>7</th>\n",
       "      <td>LINUX</td>\n",
       "      <td>free</td>\n",
       "      <td>5219</td>\n",
       "    </tr>\n",
       "    <tr>\n",
       "      <th>8</th>\n",
       "      <td>IPHONE</td>\n",
       "      <td>free</td>\n",
       "      <td>4575</td>\n",
       "    </tr>\n",
       "    <tr>\n",
       "      <th>9</th>\n",
       "      <td>IPAD</td>\n",
       "      <td>free</td>\n",
       "      <td>2600</td>\n",
       "    </tr>\n",
       "  </tbody>\n",
       "</table>\n",
       "</div>"
      ],
      "text/plain": [
       "        OS level   count\n",
       "0  WINDOWS  paid  214357\n",
       "1      MAC  paid  160568\n",
       "2  WINDOWS  free   56076\n",
       "3      MAC  free   41491\n",
       "4    LINUX  paid   19809\n",
       "5     IPAD  paid   13404\n",
       "6   IPHONE  paid    9906\n",
       "7    LINUX  free    5219\n",
       "8   IPHONE  free    4575\n",
       "9     IPAD  free    2600"
      ]
     },
     "execution_count": 53,
     "metadata": {},
     "output_type": "execute_result"
    }
   ],
   "source": [
    "# And now we would like to know the count of OS's connections depending on the subscription level of the users\n",
    "df_os_level = df_valid.select('userId','OS','level').groupby('OS','level').count().orderBy(desc('count')).toPandas()\n",
    "df_os_level.head(15)"
   ]
  },
  {
   "cell_type": "code",
   "execution_count": 54,
   "metadata": {},
   "outputs": [
    {
     "data": {
      "image/png": "[encoded data removed]",
      "text/plain": [
       "<Figure size 432x288 with 1 Axes>"
      ]
     },
     "metadata": {
      "needs_background": "light"
     },
     "output_type": "display_data"
    }
   ],
   "source": [
    "# level subscription of the user by Operating System\n",
    "level_os = df_valid.dropDuplicates(['userId','OS','level']).groupby(['OS', 'level']).count().orderBy(desc('count')).toPandas()\n",
    "\n",
    "ax = sns.barplot(x='level', y='count',hue='OS', data=level_os);\n",
    "plt.xlabel('Subscription type')\n",
    "plt.ylabel('Number of Users')\n",
    "plt.title('What OS do Clients use by subscription type?')\n",
    "plt.legend(title='OS', loc='best');\n",
    "plt.savefig('df_OS_by_subscription_type.png')"
   ]
  },
  {
   "cell_type": "code",
   "execution_count": 55,
   "metadata": {},
   "outputs": [],
   "source": [
    "downgrade_select = udf(lambda x: 1 if x == 'Submit Downgrade' else 0, IntegerType())"
   ]
  },
  {
   "cell_type": "code",
   "execution_count": 56,
   "metadata": {},
   "outputs": [],
   "source": [
    "df_valid = df_valid.withColumn('downgrade_select', downgrade_select('page'))"
   ]
  },
  {
   "cell_type": "code",
   "execution_count": 57,
   "metadata": {},
   "outputs": [
    {
     "name": "stdout",
     "output_type": "stream",
     "text": [
      "root\n",
      " |-- artist: string (nullable = true)\n",
      " |-- auth: string (nullable = true)\n",
      " |-- firstName: string (nullable = true)\n",
      " |-- gender: string (nullable = true)\n",
      " |-- itemInSession: long (nullable = true)\n",
      " |-- lastName: string (nullable = true)\n",
      " |-- length: double (nullable = true)\n",
      " |-- level: string (nullable = true)\n",
      " |-- location: string (nullable = true)\n",
      " |-- method: string (nullable = true)\n",
      " |-- page: string (nullable = true)\n",
      " |-- registration: long (nullable = true)\n",
      " |-- sessionId: long (nullable = true)\n",
      " |-- song: string (nullable = true)\n",
      " |-- status: long (nullable = true)\n",
      " |-- ts: long (nullable = true)\n",
      " |-- userAgent: string (nullable = true)\n",
      " |-- userId: string (nullable = true)\n",
      " |-- state: string (nullable = true)\n",
      " |-- registration_time: string (nullable = true)\n",
      " |-- date: string (nullable = true)\n",
      " |-- month: string (nullable = true)\n",
      " |-- day_of_month: string (nullable = true)\n",
      " |-- hour: string (nullable = true)\n",
      " |-- day_of_week: string (nullable = true)\n",
      " |-- subscription_days: double (nullable = true)\n",
      " |-- OS: string (nullable = true)\n",
      " |-- downgrade_select: integer (nullable = true)\n",
      "\n"
     ]
    }
   ],
   "source": [
    "df_valid.printSchema()"
   ]
  },
  {
   "cell_type": "code",
   "execution_count": 58,
   "metadata": {},
   "outputs": [],
   "source": [
    "# We need to have all information from users that have downgraded Sparkify service\n",
    "# so we need to save an interval of time\n",
    "windowSpec  = Window.partitionBy('userId')\n",
    "\n",
    "df_valid = df_valid.withColumn('will_downgrade', max('downgrade_select').over(windowSpec))"
   ]
  },
  {
   "cell_type": "code",
   "execution_count": 59,
   "metadata": {},
   "outputs": [
    {
     "data": {
      "text/html": [
       "<div>\n",
       "<style scoped>\n",
       "    .dataframe tbody tr th:only-of-type {\n",
       "        vertical-align: middle;\n",
       "    }\n",
       "\n",
       "    .dataframe tbody tr th {\n",
       "        vertical-align: top;\n",
       "    }\n",
       "\n",
       "    .dataframe thead th {\n",
       "        text-align: right;\n",
       "    }\n",
       "</style>\n",
       "<table border=\"1\" class=\"dataframe\">\n",
       "  <thead>\n",
       "    <tr style=\"text-align: right;\">\n",
       "      <th></th>\n",
       "      <th>gender</th>\n",
       "      <th>downgrade_select</th>\n",
       "      <th>count</th>\n",
       "    </tr>\n",
       "  </thead>\n",
       "  <tbody>\n",
       "    <tr>\n",
       "      <th>2</th>\n",
       "      <td>F</td>\n",
       "      <td>1</td>\n",
       "      <td>46</td>\n",
       "    </tr>\n",
       "    <tr>\n",
       "      <th>0</th>\n",
       "      <td>M</td>\n",
       "      <td>1</td>\n",
       "      <td>51</td>\n",
       "    </tr>\n",
       "    <tr>\n",
       "      <th>1</th>\n",
       "      <td>F</td>\n",
       "      <td>0</td>\n",
       "      <td>198</td>\n",
       "    </tr>\n",
       "    <tr>\n",
       "      <th>3</th>\n",
       "      <td>M</td>\n",
       "      <td>0</td>\n",
       "      <td>250</td>\n",
       "    </tr>\n",
       "  </tbody>\n",
       "</table>\n",
       "</div>"
      ],
      "text/plain": [
       "  gender  downgrade_select  count\n",
       "2      F                 1     46\n",
       "0      M                 1     51\n",
       "1      F                 0    198\n",
       "3      M                 0    250"
      ]
     },
     "execution_count": 59,
     "metadata": {},
     "output_type": "execute_result"
    }
   ],
   "source": [
    "df_downgrade = df_valid.select('userId','gender','downgrade_select').distinct().groupby('gender','downgrade_select').count().toPandas().sort_values(by='count')\n",
    "df_downgrade.head()"
   ]
  },
  {
   "cell_type": "code",
   "execution_count": 60,
   "metadata": {},
   "outputs": [],
   "source": [
    "churn_confirmation = udf(lambda x: 1 if x == \"Cancellation Confirmation\" else 0, IntegerType())\n",
    "df_valid = df_valid.withColumn(\"churn\", churn_confirmation(df_valid.page))\n",
    "df_users_churned = df_valid.withColumn(\"churned\", churn_confirmation(\"page\"))"
   ]
  },
  {
   "cell_type": "code",
   "execution_count": 61,
   "metadata": {},
   "outputs": [],
   "source": [
    "df_valid = df_valid.withColumn('will_churn', max('churn').over(windowSpec))"
   ]
  },
  {
   "cell_type": "code",
   "execution_count": 62,
   "metadata": {},
   "outputs": [
    {
     "name": "stdout",
     "output_type": "stream",
     "text": [
      "root\n",
      " |-- artist: string (nullable = true)\n",
      " |-- auth: string (nullable = true)\n",
      " |-- firstName: string (nullable = true)\n",
      " |-- gender: string (nullable = true)\n",
      " |-- itemInSession: long (nullable = true)\n",
      " |-- lastName: string (nullable = true)\n",
      " |-- length: double (nullable = true)\n",
      " |-- level: string (nullable = true)\n",
      " |-- location: string (nullable = true)\n",
      " |-- method: string (nullable = true)\n",
      " |-- page: string (nullable = true)\n",
      " |-- registration: long (nullable = true)\n",
      " |-- sessionId: long (nullable = true)\n",
      " |-- song: string (nullable = true)\n",
      " |-- status: long (nullable = true)\n",
      " |-- ts: long (nullable = true)\n",
      " |-- userAgent: string (nullable = true)\n",
      " |-- userId: string (nullable = true)\n",
      " |-- state: string (nullable = true)\n",
      " |-- registration_time: string (nullable = true)\n",
      " |-- date: string (nullable = true)\n",
      " |-- month: string (nullable = true)\n",
      " |-- day_of_month: string (nullable = true)\n",
      " |-- hour: string (nullable = true)\n",
      " |-- day_of_week: string (nullable = true)\n",
      " |-- subscription_days: double (nullable = true)\n",
      " |-- OS: string (nullable = true)\n",
      " |-- downgrade_select: integer (nullable = true)\n",
      " |-- will_downgrade: integer (nullable = true)\n",
      " |-- churn: integer (nullable = true)\n",
      " |-- will_churn: integer (nullable = true)\n",
      "\n"
     ]
    }
   ],
   "source": [
    "# Let's remember the schema of the data\n",
    "df_valid.printSchema()"
   ]
  },
  {
   "cell_type": "markdown",
   "metadata": {},
   "source": [
    "### Question: How many users churned? And what's the rate of churned users vs the total number of users ? "
   ]
  },
  {
   "cell_type": "code",
   "execution_count": 63,
   "metadata": {},
   "outputs": [
    {
     "name": "stdout",
     "output_type": "stream",
     "text": [
      "Number of users who churned: 99 vs Total Users: 448\n",
      "Percentage of users who churned: 22.10%\n"
     ]
    }
   ],
   "source": [
    "# Let's count the number of user cancellations (churns) --> there are 52 users who have cancel the service\n",
    "users_churned = df_users_churned.filter(df_users_churned[\"churned\"] ==1).count()\n",
    "# Let's calculate the total number of users\n",
    "total_users = df_valid.select('userId').distinct().count()\n",
    "# Let's calculate the percentage\n",
    "percentage_churn = df_users_churned.groupby(\"userId\").agg({\"churned\":\"sum\"}).select(avg(\"sum(churned)\")).collect()[0][\"avg(sum(churned))\"]\n",
    "\n",
    "print(\"Number of users who churned: {} vs Total Users: {}\".format(users_churned, total_users))\n",
    "print(\"Percentage of users who churned: {:.2f}%\".format(percentage_churn * 100))"
   ]
  },
  {
   "cell_type": "code",
   "execution_count": 64,
   "metadata": {},
   "outputs": [
    {
     "name": "stdout",
     "output_type": "stream",
     "text": [
      "Number of users who churned:    churn  count\n",
      "0      1     99\n",
      "1      0    448 \n"
     ]
    }
   ],
   "source": [
    "# Let's drop the UserId duplicates and then count the users who churned\n",
    "# And prepare the data to be plotted with a sns, so we need to convert to a Pandas Dataframe\n",
    "total_churn = df_valid.dropDuplicates(['userId','churn']).groupby(['churn']).count().toPandas()\n",
    "print(\"Number of users who churned: {} \".format(total_churn))"
   ]
  },
  {
   "cell_type": "code",
   "execution_count": 65,
   "metadata": {},
   "outputs": [
    {
     "name": "stderr",
     "output_type": "stream",
     "text": [
      "WARNING:matplotlib.legend:No handles with labels found to put in legend.\n"
     ]
    },
    {
     "data": {
      "image/png": "[encoded data removed]",
      "text/plain": [
       "<Figure size 432x288 with 1 Axes>"
      ]
     },
     "metadata": {
      "needs_background": "light"
     },
     "output_type": "display_data"
    }
   ],
   "source": [
    "# We like to see it graphically\n",
    "sns.barplot(x='churn', y='count', data=total_churn);\n",
    "plt.xlabel('Churn')\n",
    "plt.ylabel('Number of Users')\n",
    "plt.title('The number of Users who churned or not')\n",
    "plt.legend(title='Churn', loc='best');\n",
    "plt.savefig('Users_who_churned.png');"
   ]
  },
  {
   "cell_type": "code",
   "execution_count": 66,
   "metadata": {},
   "outputs": [
    {
     "data": {
      "image/png": "[encoded data removed]",
      "text/plain": [
       "<Figure size 864x432 with 1 Axes>"
      ]
     },
     "metadata": {
      "needs_background": "light"
     },
     "output_type": "display_data"
    }
   ],
   "source": [
    "page_total_churn = df_valid.dropDuplicates(['userId','page']).groupby(['page','will_churn']).count().toPandas()\n",
    "\n",
    "fig = plt.figure(figsize=(12, 6))\n",
    "g = sns.barplot(x='page', y='count',hue='will_churn', data=page_total_churn);\n",
    "plt.xticks(rotation=90)\n",
    "plt.xlabel('Page')\n",
    "plt.ylabel('Number of Users')\n",
    "plt.title('Activities of the User')\n",
    "plt.legend(title='Churn', loc='best');\n",
    "plt.savefig('Activities_User_Page.png')"
   ]
  },
  {
   "cell_type": "markdown",
   "metadata": {},
   "source": [
    "#### Question: Is there a difference in time between the users who churned and who did not churn? "
   ]
  },
  {
   "cell_type": "code",
   "execution_count": 67,
   "metadata": {},
   "outputs": [],
   "source": [
    "# Let's prepare a query to take the the membership time in days\n",
    "df_membership = df_valid.select([\"userId\", \"registration\", \"ts\", \"churn\"]) \\\n",
    "    .withColumn('membership_time',(df_valid.ts-df_valid.registration)) \\\n",
    "    .groupBy('userId', 'churn') \\\n",
    "    .agg({'membership_time':'max'}) \\\n",
    "    .withColumnRenamed('max(membership_time)', 'membership_time') \\\n",
    "    .select('userId', (col('membership_time')/1000/86400).alias('membership_time'),'churn') \\\n",
    "    .sort('membership_time') \\\n",
    "    .toPandas()   "
   ]
  },
  {
   "cell_type": "code",
   "execution_count": 68,
   "metadata": {},
   "outputs": [
    {
     "data": {
      "image/png": "[encoded data removed]",
      "text/plain": [
       "<Figure size 432x288 with 1 Axes>"
      ]
     },
     "metadata": {
      "needs_background": "light"
     },
     "output_type": "display_data"
    }
   ],
   "source": [
    "# And plot the results with a seaborn boxplot, we can see the outliers\n",
    "ax = sns.boxplot(data=df_membership, y='membership_time', x='churn', orient='v')\n",
    "plt.ylabel('Membership time in days until churn')\n",
    "plt.xlabel('Churn')\n",
    "plt.title('Membership time (churn/no churn)')\n",
    "sns.despine(ax=ax);\n",
    "plt.savefig('Membership_time.png')"
   ]
  },
  {
   "cell_type": "markdown",
   "metadata": {},
   "source": [
    "# Let's engineer the features for our ML model"
   ]
  },
  {
   "cell_type": "code",
   "execution_count": 69,
   "metadata": {},
   "outputs": [],
   "source": [
    "# Test if the feature function works fine\n",
    "df_final_feat = feature_engineerme(df_valid)"
   ]
  },
  {
   "cell_type": "code",
   "execution_count": 70,
   "metadata": {},
   "outputs": [
    {
     "data": {
      "text/plain": [
       "DataFrame[userId: string, churn: int, level: int, n_artists: int, n_songs: double, n_songs_play: double, n_thumbs_up: bigint, n_thumbs_down: bigint, n_Errors: bigint, n_friends: bigint, n_Rolls: bigint, n_Help: bigint, total_sdays: double, n_sessions: bigint, IPAD: bigint, IPHONE: bigint, LINUX: bigint, MAC: bigint, WINDOWS: bigint]"
      ]
     },
     "execution_count": 70,
     "metadata": {},
     "output_type": "execute_result"
    }
   ],
   "source": [
    "# Yes! it works fine!\n",
    "df_final_feat"
   ]
  },
  {
   "cell_type": "code",
   "execution_count": 71,
   "metadata": {},
   "outputs": [
    {
     "name": "stdout",
     "output_type": "stream",
     "text": [
      "+-----+-----+\n",
      "|churn|count|\n",
      "+-----+-----+\n",
      "|    1|   99|\n",
      "|    0|  349|\n",
      "+-----+-----+\n",
      "\n"
     ]
    }
   ],
   "source": [
    "# Let's check if churn proportion maintains (as I had some problems with this)\n",
    "df_final_feat.groupby(\"churn\").count().show()"
   ]
  },
  {
   "cell_type": "code",
   "execution_count": 72,
   "metadata": {},
   "outputs": [
    {
     "name": "stdout",
     "output_type": "stream",
     "text": [
      "The number of rows is 448 and the number of columns is 19\n"
     ]
    }
   ],
   "source": [
    "# Let's see the size of the final features dataframe\n",
    "rows = df_final_feat.count()\n",
    "cols = len(df_final_feat.columns)\n",
    "print(\"The number of rows is {} and the number of columns is {}\".format(rows, cols))"
   ]
  },
  {
   "cell_type": "code",
   "execution_count": 73,
   "metadata": {},
   "outputs": [],
   "source": [
    "# We don't need userId, as we will predict if a user will churn, but we are not interested in the id of that user\n",
    "final_features = df_final_feat.drop('userId', 'sessionId')"
   ]
  },
  {
   "cell_type": "code",
   "execution_count": 74,
   "metadata": {},
   "outputs": [],
   "source": [
    "# But we need to imputate nulls with a value, 0 for instance\n",
    "final_features= final_features.na.fill(0)"
   ]
  },
  {
   "cell_type": "markdown",
   "metadata": {},
   "source": [
    "# Modeling"
   ]
  },
  {
   "cell_type": "code",
   "execution_count": 75,
   "metadata": {},
   "outputs": [],
   "source": [
    "# Change the name of the churn column into label, that will be the feature to predict\n",
    "final_features = df_final_feat.withColumnRenamed(\"churn\",\"label\")"
   ]
  },
  {
   "cell_type": "code",
   "execution_count": 76,
   "metadata": {},
   "outputs": [
    {
     "name": "stdout",
     "output_type": "stream",
     "text": [
      "root\n",
      " |-- userId: string (nullable = true)\n",
      " |-- label: integer (nullable = true)\n",
      " |-- level: integer (nullable = true)\n",
      " |-- n_artists: integer (nullable = true)\n",
      " |-- n_songs: double (nullable = true)\n",
      " |-- n_songs_play: double (nullable = true)\n",
      " |-- n_thumbs_up: long (nullable = true)\n",
      " |-- n_thumbs_down: long (nullable = true)\n",
      " |-- n_Errors: long (nullable = true)\n",
      " |-- n_friends: long (nullable = true)\n",
      " |-- n_Rolls: long (nullable = true)\n",
      " |-- n_Help: long (nullable = true)\n",
      " |-- total_sdays: double (nullable = true)\n",
      " |-- n_sessions: long (nullable = true)\n",
      " |-- IPAD: long (nullable = true)\n",
      " |-- IPHONE: long (nullable = true)\n",
      " |-- LINUX: long (nullable = true)\n",
      " |-- MAC: long (nullable = true)\n",
      " |-- WINDOWS: long (nullable = true)\n",
      "\n"
     ]
    }
   ],
   "source": [
    "final_features.printSchema()"
   ]
  },
  {
   "cell_type": "code",
   "execution_count": 77,
   "metadata": {},
   "outputs": [],
   "source": [
    "numerical_features = final_features"
   ]
  },
  {
   "cell_type": "code",
   "execution_count": 78,
   "metadata": {},
   "outputs": [],
   "source": [
    "ff_pandas = numerical_features.toPandas()"
   ]
  },
  {
   "cell_type": "code",
   "execution_count": 79,
   "metadata": {},
   "outputs": [
    {
     "data": {
      "text/plain": [
       "(448, 19)"
      ]
     },
     "execution_count": 79,
     "metadata": {},
     "output_type": "execute_result"
    }
   ],
   "source": [
    "ff_pandas.shape"
   ]
  },
  {
   "cell_type": "code",
   "execution_count": 80,
   "metadata": {},
   "outputs": [],
   "source": [
    "columns_features = numerical_features.columns"
   ]
  },
  {
   "cell_type": "code",
   "execution_count": 81,
   "metadata": {},
   "outputs": [
    {
     "data": {
      "text/plain": [
       "['userId',\n",
       " 'label',\n",
       " 'level',\n",
       " 'n_artists',\n",
       " 'n_songs',\n",
       " 'n_songs_play',\n",
       " 'n_thumbs_up',\n",
       " 'n_thumbs_down',\n",
       " 'n_Errors',\n",
       " 'n_friends',\n",
       " 'n_Rolls',\n",
       " 'n_Help',\n",
       " 'total_sdays',\n",
       " 'n_sessions',\n",
       " 'IPAD',\n",
       " 'IPHONE',\n",
       " 'LINUX',\n",
       " 'MAC',\n",
       " 'WINDOWS']"
      ]
     },
     "execution_count": 81,
     "metadata": {},
     "output_type": "execute_result"
    }
   ],
   "source": [
    "columns_features"
   ]
  },
  {
   "cell_type": "code",
   "execution_count": 82,
   "metadata": {},
   "outputs": [
    {
     "data": {
      "text/html": [
       "<div>\n",
       "<style scoped>\n",
       "    .dataframe tbody tr th:only-of-type {\n",
       "        vertical-align: middle;\n",
       "    }\n",
       "\n",
       "    .dataframe tbody tr th {\n",
       "        vertical-align: top;\n",
       "    }\n",
       "\n",
       "    .dataframe thead th {\n",
       "        text-align: right;\n",
       "    }\n",
       "</style>\n",
       "<table border=\"1\" class=\"dataframe\">\n",
       "  <thead>\n",
       "    <tr style=\"text-align: right;\">\n",
       "      <th></th>\n",
       "      <th>label</th>\n",
       "      <th>level</th>\n",
       "      <th>n_artists</th>\n",
       "      <th>n_songs</th>\n",
       "      <th>n_songs_play</th>\n",
       "      <th>n_thumbs_up</th>\n",
       "      <th>n_thumbs_down</th>\n",
       "      <th>n_Errors</th>\n",
       "      <th>n_friends</th>\n",
       "      <th>n_Rolls</th>\n",
       "      <th>n_Help</th>\n",
       "      <th>total_sdays</th>\n",
       "      <th>n_sessions</th>\n",
       "      <th>IPAD</th>\n",
       "      <th>IPHONE</th>\n",
       "      <th>LINUX</th>\n",
       "      <th>MAC</th>\n",
       "      <th>WINDOWS</th>\n",
       "    </tr>\n",
       "  </thead>\n",
       "  <tbody>\n",
       "    <tr>\n",
       "      <th>label</th>\n",
       "      <td>1.000000</td>\n",
       "      <td>0.086944</td>\n",
       "      <td>-0.056433</td>\n",
       "      <td>-0.050845</td>\n",
       "      <td>-0.075502</td>\n",
       "      <td>-0.079773</td>\n",
       "      <td>0.014619</td>\n",
       "      <td>0.044879</td>\n",
       "      <td>-0.087982</td>\n",
       "      <td>0.115218</td>\n",
       "      <td>-0.069355</td>\n",
       "      <td>-0.195473</td>\n",
       "      <td>-0.059936</td>\n",
       "      <td>-0.076259</td>\n",
       "      <td>0.192379</td>\n",
       "      <td>-0.017154</td>\n",
       "      <td>-0.035690</td>\n",
       "      <td>-0.011385</td>\n",
       "    </tr>\n",
       "    <tr>\n",
       "      <th>level</th>\n",
       "      <td>0.086944</td>\n",
       "      <td>1.000000</td>\n",
       "      <td>0.482443</td>\n",
       "      <td>0.418714</td>\n",
       "      <td>0.401203</td>\n",
       "      <td>0.384810</td>\n",
       "      <td>0.352027</td>\n",
       "      <td>0.224363</td>\n",
       "      <td>0.353334</td>\n",
       "      <td>-0.057927</td>\n",
       "      <td>0.291097</td>\n",
       "      <td>0.001566</td>\n",
       "      <td>0.293053</td>\n",
       "      <td>0.017451</td>\n",
       "      <td>-0.068159</td>\n",
       "      <td>0.043284</td>\n",
       "      <td>-0.028498</td>\n",
       "      <td>0.029383</td>\n",
       "    </tr>\n",
       "    <tr>\n",
       "      <th>n_artists</th>\n",
       "      <td>-0.056433</td>\n",
       "      <td>0.482443</td>\n",
       "      <td>1.000000</td>\n",
       "      <td>0.985109</td>\n",
       "      <td>0.968378</td>\n",
       "      <td>0.923555</td>\n",
       "      <td>0.861253</td>\n",
       "      <td>0.749641</td>\n",
       "      <td>0.936474</td>\n",
       "      <td>0.274780</td>\n",
       "      <td>0.903854</td>\n",
       "      <td>0.123020</td>\n",
       "      <td>0.886850</td>\n",
       "      <td>0.041433</td>\n",
       "      <td>-0.058682</td>\n",
       "      <td>-0.027540</td>\n",
       "      <td>-0.002717</td>\n",
       "      <td>0.026946</td>\n",
       "    </tr>\n",
       "    <tr>\n",
       "      <th>n_songs</th>\n",
       "      <td>-0.050845</td>\n",
       "      <td>0.418714</td>\n",
       "      <td>0.985109</td>\n",
       "      <td>1.000000</td>\n",
       "      <td>0.986459</td>\n",
       "      <td>0.945873</td>\n",
       "      <td>0.868927</td>\n",
       "      <td>0.785069</td>\n",
       "      <td>0.957146</td>\n",
       "      <td>0.273684</td>\n",
       "      <td>0.924606</td>\n",
       "      <td>0.101530</td>\n",
       "      <td>0.903143</td>\n",
       "      <td>0.062257</td>\n",
       "      <td>-0.055498</td>\n",
       "      <td>-0.038871</td>\n",
       "      <td>-0.006103</td>\n",
       "      <td>0.028448</td>\n",
       "    </tr>\n",
       "    <tr>\n",
       "      <th>n_songs_play</th>\n",
       "      <td>-0.075502</td>\n",
       "      <td>0.401203</td>\n",
       "      <td>0.968378</td>\n",
       "      <td>0.986459</td>\n",
       "      <td>1.000000</td>\n",
       "      <td>0.946049</td>\n",
       "      <td>0.844806</td>\n",
       "      <td>0.783777</td>\n",
       "      <td>0.938851</td>\n",
       "      <td>0.211663</td>\n",
       "      <td>0.913051</td>\n",
       "      <td>0.075670</td>\n",
       "      <td>0.882522</td>\n",
       "      <td>0.064095</td>\n",
       "      <td>-0.057853</td>\n",
       "      <td>-0.044231</td>\n",
       "      <td>-0.001213</td>\n",
       "      <td>0.027151</td>\n",
       "    </tr>\n",
       "    <tr>\n",
       "      <th>n_thumbs_up</th>\n",
       "      <td>-0.079773</td>\n",
       "      <td>0.384810</td>\n",
       "      <td>0.923555</td>\n",
       "      <td>0.945873</td>\n",
       "      <td>0.946049</td>\n",
       "      <td>1.000000</td>\n",
       "      <td>0.801103</td>\n",
       "      <td>0.704128</td>\n",
       "      <td>0.909460</td>\n",
       "      <td>0.181003</td>\n",
       "      <td>0.864857</td>\n",
       "      <td>0.087582</td>\n",
       "      <td>0.901227</td>\n",
       "      <td>0.041311</td>\n",
       "      <td>-0.029091</td>\n",
       "      <td>-0.028194</td>\n",
       "      <td>-0.012883</td>\n",
       "      <td>0.025694</td>\n",
       "    </tr>\n",
       "    <tr>\n",
       "      <th>n_thumbs_down</th>\n",
       "      <td>0.014619</td>\n",
       "      <td>0.352027</td>\n",
       "      <td>0.861253</td>\n",
       "      <td>0.868927</td>\n",
       "      <td>0.844806</td>\n",
       "      <td>0.801103</td>\n",
       "      <td>1.000000</td>\n",
       "      <td>0.648103</td>\n",
       "      <td>0.824784</td>\n",
       "      <td>0.325390</td>\n",
       "      <td>0.790113</td>\n",
       "      <td>0.008404</td>\n",
       "      <td>0.818220</td>\n",
       "      <td>0.067898</td>\n",
       "      <td>-0.065465</td>\n",
       "      <td>-0.048390</td>\n",
       "      <td>0.002984</td>\n",
       "      <td>0.029551</td>\n",
       "    </tr>\n",
       "    <tr>\n",
       "      <th>n_Errors</th>\n",
       "      <td>0.044879</td>\n",
       "      <td>0.224363</td>\n",
       "      <td>0.749641</td>\n",
       "      <td>0.785069</td>\n",
       "      <td>0.783777</td>\n",
       "      <td>0.704128</td>\n",
       "      <td>0.648103</td>\n",
       "      <td>1.000000</td>\n",
       "      <td>0.739405</td>\n",
       "      <td>0.145541</td>\n",
       "      <td>0.716695</td>\n",
       "      <td>-0.055177</td>\n",
       "      <td>0.661789</td>\n",
       "      <td>0.132542</td>\n",
       "      <td>-0.055268</td>\n",
       "      <td>-0.034543</td>\n",
       "      <td>-0.016867</td>\n",
       "      <td>0.013356</td>\n",
       "    </tr>\n",
       "    <tr>\n",
       "      <th>n_friends</th>\n",
       "      <td>-0.087982</td>\n",
       "      <td>0.353334</td>\n",
       "      <td>0.936474</td>\n",
       "      <td>0.957146</td>\n",
       "      <td>0.938851</td>\n",
       "      <td>0.909460</td>\n",
       "      <td>0.824784</td>\n",
       "      <td>0.739405</td>\n",
       "      <td>1.000000</td>\n",
       "      <td>0.234975</td>\n",
       "      <td>0.886181</td>\n",
       "      <td>0.077084</td>\n",
       "      <td>0.871843</td>\n",
       "      <td>0.054188</td>\n",
       "      <td>-0.064148</td>\n",
       "      <td>-0.054657</td>\n",
       "      <td>-0.032560</td>\n",
       "      <td>0.068382</td>\n",
       "    </tr>\n",
       "    <tr>\n",
       "      <th>n_Rolls</th>\n",
       "      <td>0.115218</td>\n",
       "      <td>-0.057927</td>\n",
       "      <td>0.274780</td>\n",
       "      <td>0.273684</td>\n",
       "      <td>0.211663</td>\n",
       "      <td>0.181003</td>\n",
       "      <td>0.325390</td>\n",
       "      <td>0.145541</td>\n",
       "      <td>0.234975</td>\n",
       "      <td>1.000000</td>\n",
       "      <td>0.206464</td>\n",
       "      <td>0.010053</td>\n",
       "      <td>0.450299</td>\n",
       "      <td>0.003820</td>\n",
       "      <td>-0.015228</td>\n",
       "      <td>-0.034497</td>\n",
       "      <td>-0.016646</td>\n",
       "      <td>0.037043</td>\n",
       "    </tr>\n",
       "    <tr>\n",
       "      <th>n_Help</th>\n",
       "      <td>-0.069355</td>\n",
       "      <td>0.291097</td>\n",
       "      <td>0.903854</td>\n",
       "      <td>0.924606</td>\n",
       "      <td>0.913051</td>\n",
       "      <td>0.864857</td>\n",
       "      <td>0.790113</td>\n",
       "      <td>0.716695</td>\n",
       "      <td>0.886181</td>\n",
       "      <td>0.206464</td>\n",
       "      <td>1.000000</td>\n",
       "      <td>0.017395</td>\n",
       "      <td>0.812296</td>\n",
       "      <td>0.064056</td>\n",
       "      <td>-0.050770</td>\n",
       "      <td>-0.054052</td>\n",
       "      <td>-0.012642</td>\n",
       "      <td>0.038211</td>\n",
       "    </tr>\n",
       "    <tr>\n",
       "      <th>total_sdays</th>\n",
       "      <td>-0.195473</td>\n",
       "      <td>0.001566</td>\n",
       "      <td>0.123020</td>\n",
       "      <td>0.101530</td>\n",
       "      <td>0.075670</td>\n",
       "      <td>0.087582</td>\n",
       "      <td>0.008404</td>\n",
       "      <td>-0.055177</td>\n",
       "      <td>0.077084</td>\n",
       "      <td>0.010053</td>\n",
       "      <td>0.017395</td>\n",
       "      <td>1.000000</td>\n",
       "      <td>0.127806</td>\n",
       "      <td>-0.027584</td>\n",
       "      <td>-0.007417</td>\n",
       "      <td>0.021510</td>\n",
       "      <td>-0.029730</td>\n",
       "      <td>0.029545</td>\n",
       "    </tr>\n",
       "    <tr>\n",
       "      <th>n_sessions</th>\n",
       "      <td>-0.059936</td>\n",
       "      <td>0.293053</td>\n",
       "      <td>0.886850</td>\n",
       "      <td>0.903143</td>\n",
       "      <td>0.882522</td>\n",
       "      <td>0.901227</td>\n",
       "      <td>0.818220</td>\n",
       "      <td>0.661789</td>\n",
       "      <td>0.871843</td>\n",
       "      <td>0.450299</td>\n",
       "      <td>0.812296</td>\n",
       "      <td>0.127806</td>\n",
       "      <td>1.000000</td>\n",
       "      <td>0.050615</td>\n",
       "      <td>-0.023574</td>\n",
       "      <td>-0.032550</td>\n",
       "      <td>-0.023298</td>\n",
       "      <td>0.032964</td>\n",
       "    </tr>\n",
       "    <tr>\n",
       "      <th>IPAD</th>\n",
       "      <td>-0.076259</td>\n",
       "      <td>0.017451</td>\n",
       "      <td>0.041433</td>\n",
       "      <td>0.062257</td>\n",
       "      <td>0.064095</td>\n",
       "      <td>0.041311</td>\n",
       "      <td>0.067898</td>\n",
       "      <td>0.132542</td>\n",
       "      <td>0.054188</td>\n",
       "      <td>0.003820</td>\n",
       "      <td>0.064056</td>\n",
       "      <td>-0.027584</td>\n",
       "      <td>0.050615</td>\n",
       "      <td>1.000000</td>\n",
       "      <td>-0.029295</td>\n",
       "      <td>-0.035540</td>\n",
       "      <td>-0.113565</td>\n",
       "      <td>-0.141909</td>\n",
       "    </tr>\n",
       "    <tr>\n",
       "      <th>IPHONE</th>\n",
       "      <td>0.192379</td>\n",
       "      <td>-0.068159</td>\n",
       "      <td>-0.058682</td>\n",
       "      <td>-0.055498</td>\n",
       "      <td>-0.057853</td>\n",
       "      <td>-0.029091</td>\n",
       "      <td>-0.065465</td>\n",
       "      <td>-0.055268</td>\n",
       "      <td>-0.064148</td>\n",
       "      <td>-0.015228</td>\n",
       "      <td>-0.050770</td>\n",
       "      <td>-0.007417</td>\n",
       "      <td>-0.023574</td>\n",
       "      <td>-0.029295</td>\n",
       "      <td>1.000000</td>\n",
       "      <td>-0.050785</td>\n",
       "      <td>-0.162278</td>\n",
       "      <td>-0.202780</td>\n",
       "    </tr>\n",
       "    <tr>\n",
       "      <th>LINUX</th>\n",
       "      <td>-0.017154</td>\n",
       "      <td>0.043284</td>\n",
       "      <td>-0.027540</td>\n",
       "      <td>-0.038871</td>\n",
       "      <td>-0.044231</td>\n",
       "      <td>-0.028194</td>\n",
       "      <td>-0.048390</td>\n",
       "      <td>-0.034543</td>\n",
       "      <td>-0.054657</td>\n",
       "      <td>-0.034497</td>\n",
       "      <td>-0.054052</td>\n",
       "      <td>0.021510</td>\n",
       "      <td>-0.032550</td>\n",
       "      <td>-0.035540</td>\n",
       "      <td>-0.050785</td>\n",
       "      <td>1.000000</td>\n",
       "      <td>-0.196873</td>\n",
       "      <td>-0.246010</td>\n",
       "    </tr>\n",
       "    <tr>\n",
       "      <th>MAC</th>\n",
       "      <td>-0.035690</td>\n",
       "      <td>-0.028498</td>\n",
       "      <td>-0.002717</td>\n",
       "      <td>-0.006103</td>\n",
       "      <td>-0.001213</td>\n",
       "      <td>-0.012883</td>\n",
       "      <td>0.002984</td>\n",
       "      <td>-0.016867</td>\n",
       "      <td>-0.032560</td>\n",
       "      <td>-0.016646</td>\n",
       "      <td>-0.012642</td>\n",
       "      <td>-0.029730</td>\n",
       "      <td>-0.023298</td>\n",
       "      <td>-0.113565</td>\n",
       "      <td>-0.162278</td>\n",
       "      <td>-0.196873</td>\n",
       "      <td>1.000000</td>\n",
       "      <td>-0.786102</td>\n",
       "    </tr>\n",
       "    <tr>\n",
       "      <th>WINDOWS</th>\n",
       "      <td>-0.011385</td>\n",
       "      <td>0.029383</td>\n",
       "      <td>0.026946</td>\n",
       "      <td>0.028448</td>\n",
       "      <td>0.027151</td>\n",
       "      <td>0.025694</td>\n",
       "      <td>0.029551</td>\n",
       "      <td>0.013356</td>\n",
       "      <td>0.068382</td>\n",
       "      <td>0.037043</td>\n",
       "      <td>0.038211</td>\n",
       "      <td>0.029545</td>\n",
       "      <td>0.032964</td>\n",
       "      <td>-0.141909</td>\n",
       "      <td>-0.202780</td>\n",
       "      <td>-0.246010</td>\n",
       "      <td>-0.786102</td>\n",
       "      <td>1.000000</td>\n",
       "    </tr>\n",
       "  </tbody>\n",
       "</table>\n",
       "</div>"
      ],
      "text/plain": [
       "                  label     level  n_artists   n_songs  n_songs_play  \\\n",
       "label          1.000000  0.086944  -0.056433 -0.050845     -0.075502   \n",
       "level          0.086944  1.000000   0.482443  0.418714      0.401203   \n",
       "n_artists     -0.056433  0.482443   1.000000  0.985109      0.968378   \n",
       "n_songs       -0.050845  0.418714   0.985109  1.000000      0.986459   \n",
       "n_songs_play  -0.075502  0.401203   0.968378  0.986459      1.000000   \n",
       "n_thumbs_up   -0.079773  0.384810   0.923555  0.945873      0.946049   \n",
       "n_thumbs_down  0.014619  0.352027   0.861253  0.868927      0.844806   \n",
       "n_Errors       0.044879  0.224363   0.749641  0.785069      0.783777   \n",
       "n_friends     -0.087982  0.353334   0.936474  0.957146      0.938851   \n",
       "n_Rolls        0.115218 -0.057927   0.274780  0.273684      0.211663   \n",
       "n_Help        -0.069355  0.291097   0.903854  0.924606      0.913051   \n",
       "total_sdays   -0.195473  0.001566   0.123020  0.101530      0.075670   \n",
       "n_sessions    -0.059936  0.293053   0.886850  0.903143      0.882522   \n",
       "IPAD          -0.076259  0.017451   0.041433  0.062257      0.064095   \n",
       "IPHONE         0.192379 -0.068159  -0.058682 -0.055498     -0.057853   \n",
       "LINUX         -0.017154  0.043284  -0.027540 -0.038871     -0.044231   \n",
       "MAC           -0.035690 -0.028498  -0.002717 -0.006103     -0.001213   \n",
       "WINDOWS       -0.011385  0.029383   0.026946  0.028448      0.027151   \n",
       "\n",
       "               n_thumbs_up  n_thumbs_down  n_Errors  n_friends   n_Rolls  \\\n",
       "label            -0.079773       0.014619  0.044879  -0.087982  0.115218   \n",
       "level             0.384810       0.352027  0.224363   0.353334 -0.057927   \n",
       "n_artists         0.923555       0.861253  0.749641   0.936474  0.274780   \n",
       "n_songs           0.945873       0.868927  0.785069   0.957146  0.273684   \n",
       "n_songs_play      0.946049       0.844806  0.783777   0.938851  0.211663   \n",
       "n_thumbs_up       1.000000       0.801103  0.704128   0.909460  0.181003   \n",
       "n_thumbs_down     0.801103       1.000000  0.648103   0.824784  0.325390   \n",
       "n_Errors          0.704128       0.648103  1.000000   0.739405  0.145541   \n",
       "n_friends         0.909460       0.824784  0.739405   1.000000  0.234975   \n",
       "n_Rolls           0.181003       0.325390  0.145541   0.234975  1.000000   \n",
       "n_Help            0.864857       0.790113  0.716695   0.886181  0.206464   \n",
       "total_sdays       0.087582       0.008404 -0.055177   0.077084  0.010053   \n",
       "n_sessions        0.901227       0.818220  0.661789   0.871843  0.450299   \n",
       "IPAD              0.041311       0.067898  0.132542   0.054188  0.003820   \n",
       "IPHONE           -0.029091      -0.065465 -0.055268  -0.064148 -0.015228   \n",
       "LINUX            -0.028194      -0.048390 -0.034543  -0.054657 -0.034497   \n",
       "MAC              -0.012883       0.002984 -0.016867  -0.032560 -0.016646   \n",
       "WINDOWS           0.025694       0.029551  0.013356   0.068382  0.037043   \n",
       "\n",
       "                 n_Help  total_sdays  n_sessions      IPAD    IPHONE  \\\n",
       "label         -0.069355    -0.195473   -0.059936 -0.076259  0.192379   \n",
       "level          0.291097     0.001566    0.293053  0.017451 -0.068159   \n",
       "n_artists      0.903854     0.123020    0.886850  0.041433 -0.058682   \n",
       "n_songs        0.924606     0.101530    0.903143  0.062257 -0.055498   \n",
       "n_songs_play   0.913051     0.075670    0.882522  0.064095 -0.057853   \n",
       "n_thumbs_up    0.864857     0.087582    0.901227  0.041311 -0.029091   \n",
       "n_thumbs_down  0.790113     0.008404    0.818220  0.067898 -0.065465   \n",
       "n_Errors       0.716695    -0.055177    0.661789  0.132542 -0.055268   \n",
       "n_friends      0.886181     0.077084    0.871843  0.054188 -0.064148   \n",
       "n_Rolls        0.206464     0.010053    0.450299  0.003820 -0.015228   \n",
       "n_Help         1.000000     0.017395    0.812296  0.064056 -0.050770   \n",
       "total_sdays    0.017395     1.000000    0.127806 -0.027584 -0.007417   \n",
       "n_sessions     0.812296     0.127806    1.000000  0.050615 -0.023574   \n",
       "IPAD           0.064056    -0.027584    0.050615  1.000000 -0.029295   \n",
       "IPHONE        -0.050770    -0.007417   -0.023574 -0.029295  1.000000   \n",
       "LINUX         -0.054052     0.021510   -0.032550 -0.035540 -0.050785   \n",
       "MAC           -0.012642    -0.029730   -0.023298 -0.113565 -0.162278   \n",
       "WINDOWS        0.038211     0.029545    0.032964 -0.141909 -0.202780   \n",
       "\n",
       "                  LINUX       MAC   WINDOWS  \n",
       "label         -0.017154 -0.035690 -0.011385  \n",
       "level          0.043284 -0.028498  0.029383  \n",
       "n_artists     -0.027540 -0.002717  0.026946  \n",
       "n_songs       -0.038871 -0.006103  0.028448  \n",
       "n_songs_play  -0.044231 -0.001213  0.027151  \n",
       "n_thumbs_up   -0.028194 -0.012883  0.025694  \n",
       "n_thumbs_down -0.048390  0.002984  0.029551  \n",
       "n_Errors      -0.034543 -0.016867  0.013356  \n",
       "n_friends     -0.054657 -0.032560  0.068382  \n",
       "n_Rolls       -0.034497 -0.016646  0.037043  \n",
       "n_Help        -0.054052 -0.012642  0.038211  \n",
       "total_sdays    0.021510 -0.029730  0.029545  \n",
       "n_sessions    -0.032550 -0.023298  0.032964  \n",
       "IPAD          -0.035540 -0.113565 -0.141909  \n",
       "IPHONE        -0.050785 -0.162278 -0.202780  \n",
       "LINUX          1.000000 -0.196873 -0.246010  \n",
       "MAC           -0.196873  1.000000 -0.786102  \n",
       "WINDOWS       -0.246010 -0.786102  1.000000  "
      ]
     },
     "execution_count": 82,
     "metadata": {},
     "output_type": "execute_result"
    }
   ],
   "source": [
    "# Let's calculate the correlation matrix to see if there are \n",
    "# correlation between features\n",
    "corr = final_features.toPandas().corr()\n",
    "corr"
   ]
  },
  {
   "cell_type": "code",
   "execution_count": 83,
   "metadata": {},
   "outputs": [
    {
     "data": {
      "image/png": "[encoded data removed]",
      "text/plain": [
       "<Figure size 432x288 with 2 Axes>"
      ]
     },
     "metadata": {
      "needs_background": "light"
     },
     "output_type": "display_data"
    }
   ],
   "source": [
    "# Let's plot a heatmap with the correlation of the variables\n",
    "# we can see there are some correlated features, such as number of songs and the number of artist, \n",
    "# that are related, the number of songs added to the playlist\n",
    "sns.heatmap(corr, xticklabels=corr.columns, yticklabels=corr.columns,  cmap=\"Blues\");\n",
    "plt.title('Features Heatmap')\n",
    "plt.savefig('Heatmap.png')"
   ]
  },
  {
   "cell_type": "code",
   "execution_count": 101,
   "metadata": {},
   "outputs": [
    {
     "data": {
      "text/plain": [
       "DataFrame[userId: string, label: int, level: int, n_artists: int, n_songs: double, n_songs_play: double, n_thumbs_up: bigint, n_thumbs_down: bigint, n_Errors: bigint, n_friends: bigint, n_Rolls: bigint, n_Help: bigint, total_sdays: double, n_sessions: bigint, IPAD: bigint, IPHONE: bigint, LINUX: bigint, MAC: bigint, WINDOWS: bigint, NumFeatures: vector]"
      ]
     },
     "execution_count": 101,
     "metadata": {},
     "output_type": "execute_result"
    }
   ],
   "source": [
    "# First we have to vectorize our features with a VectorAssembler\n",
    "# because SparkML requires a vector of features\n",
    "assembler = VectorAssembler(inputCols=columns_features[1:], outputCol=\"NumFeatures\")\n",
    "# we assure that we don't have null values \n",
    "df = assembler.setHandleInvalid(\"skip\").transform(numerical_features)\n",
    "df"
   ]
  },
  {
   "cell_type": "code",
   "execution_count": 103,
   "metadata": {},
   "outputs": [
    {
     "data": {
      "text/plain": [
       "DataFrame[userId: string, label: int, level: int, n_artists: int, n_songs: double, n_songs_play: double, n_thumbs_up: bigint, n_thumbs_down: bigint, n_Errors: bigint, n_friends: bigint, n_Rolls: bigint, n_Help: bigint, total_sdays: double, n_sessions: bigint, IPAD: bigint, IPHONE: bigint, LINUX: bigint, MAC: bigint, WINDOWS: bigint, NumFeatures: vector, features: vector]"
      ]
     },
     "execution_count": 103,
     "metadata": {},
     "output_type": "execute_result"
    }
   ],
   "source": [
    "# The second step is to standardize the features, to avoid that a feature that has higher values,\n",
    "# dominates the rest of features\n",
    "# To do that we use the StandardScaler method (scaling the standard deviation) \n",
    "scaler = StandardScaler(inputCol=\"NumFeatures\", outputCol=\"features\", withStd=True)\n",
    "scalerModel = scaler.fit(df)\n",
    "df = scalerModel.transform(df)\n",
    "df"
   ]
  },
  {
   "cell_type": "code",
   "execution_count": 104,
   "metadata": {},
   "outputs": [],
   "source": [
    "# We eliminate NumFeatures column as we don't need it anymore\n",
    "df = df.drop('NumFeatures')"
   ]
  },
  {
   "cell_type": "code",
   "execution_count": 105,
   "metadata": {},
   "outputs": [
    {
     "data": {
      "text/plain": [
       "[Row(userId='232', label=0, level=1, n_artists=1280, n_songs=2325.0, n_songs_play=61.0, n_thumbs_up=97, n_thumbs_down=17, n_Errors=1, n_friends=43, n_Rolls=38, n_Help=21, total_sdays=107.00724537037037, n_sessions=23, IPAD=0, IPHONE=0, LINUX=0, MAC=1, WINDOWS=0, features=DenseVector([0.0, 2.3202, 1.9555, 1.4334, 1.5251, 1.127, 1.0928, 0.5429, 1.597, 1.4318, 2.4066, 2.4474, 1.5073, 0.0, 0.0, 0.0, 2.0725, 0.0])),\n",
       " Row(userId='234', label=1, level=1, n_artists=1173, n_songs=2021.0, n_songs_play=51.0, n_thumbs_up=91, n_thumbs_down=22, n_Errors=2, n_friends=17, n_Rolls=30, n_Help=7, total_sdays=36.27628472222222, n_sessions=26, IPAD=0, IPHONE=0, LINUX=0, MAC=0, WINDOWS=1, features=DenseVector([2.4881, 2.3202, 1.7921, 1.246, 1.2751, 1.0573, 1.4142, 1.0858, 0.6314, 1.1303, 0.8022, 0.8297, 1.7039, 0.0, 0.0, 0.0, 0.0, 1.9964]))]"
      ]
     },
     "execution_count": 105,
     "metadata": {},
     "output_type": "execute_result"
    }
   ],
   "source": [
    "df.take(2)"
   ]
  },
  {
   "cell_type": "code",
   "execution_count": 106,
   "metadata": {},
   "outputs": [],
   "source": [
    "df_final = df.select('label','features')"
   ]
  },
  {
   "cell_type": "code",
   "execution_count": 107,
   "metadata": {},
   "outputs": [
    {
     "name": "stdout",
     "output_type": "stream",
     "text": [
      "+-----+-----+\n",
      "|label|count|\n",
      "+-----+-----+\n",
      "|    1|   37|\n",
      "|    0|  147|\n",
      "+-----+-----+\n",
      "\n"
     ]
    }
   ],
   "source": [
    "# Let's check the proportion of churn/not churn users on the final dataset\n",
    "df_final.groupby(\"label\").count().show()"
   ]
  },
  {
   "cell_type": "code",
   "execution_count": 108,
   "metadata": {},
   "outputs": [],
   "source": [
    "# Split dataset into train and test 70% vs 30%\n",
    "train, test = df_final.randomSplit([0.7, 0.3], seed = 42)\n",
    "#train, test, validation = df_final.randomSplit([0.6, 0.2, 0.2], seed = 42)"
   ]
  },
  {
   "cell_type": "code",
   "execution_count": null,
   "metadata": {},
   "outputs": [],
   "source": [
    "train.count()"
   ]
  },
  {
   "cell_type": "code",
   "execution_count": null,
   "metadata": {},
   "outputs": [],
   "source": [
    "test.count()"
   ]
  },
  {
   "cell_type": "code",
   "execution_count": 109,
   "metadata": {},
   "outputs": [
    {
     "name": "stdout",
     "output_type": "stream",
     "text": [
      "+-----+-----+\n",
      "|label|count|\n",
      "+-----+-----+\n",
      "|    1|   25|\n",
      "|    0|   96|\n",
      "+-----+-----+\n",
      "\n"
     ]
    }
   ],
   "source": [
    "# Let's check if we have both labels (0/1)\n",
    "train.groupby(\"label\").count().show()"
   ]
  },
  {
   "cell_type": "code",
   "execution_count": 110,
   "metadata": {},
   "outputs": [
    {
     "name": "stdout",
     "output_type": "stream",
     "text": [
      "+-----+-----+\n",
      "|label|count|\n",
      "+-----+-----+\n",
      "|    1|   12|\n",
      "|    0|   51|\n",
      "+-----+-----+\n",
      "\n"
     ]
    }
   ],
   "source": [
    "# Let's check if we have both label (0/1)\n",
    "test.groupby(\"label\").count().show()"
   ]
  },
  {
   "cell_type": "code",
   "execution_count": 129,
   "metadata": {},
   "outputs": [
    {
     "data": {
      "text/plain": [
       "['label', 'features']"
      ]
     },
     "execution_count": 129,
     "metadata": {},
     "output_type": "execute_result"
    }
   ],
   "source": [
    "df_final.columns"
   ]
  },
  {
   "cell_type": "code",
   "execution_count": 126,
   "metadata": {},
   "outputs": [
    {
     "data": {
      "text/plain": [
       "['label', 'features']"
      ]
     },
     "execution_count": 126,
     "metadata": {},
     "output_type": "execute_result"
    }
   ],
   "source": [
    "test.columns"
   ]
  },
  {
   "cell_type": "code",
   "execution_count": 127,
   "metadata": {},
   "outputs": [
    {
     "data": {
      "text/plain": [
       "['label', 'features']"
      ]
     },
     "execution_count": 127,
     "metadata": {},
     "output_type": "execute_result"
    }
   ],
   "source": [
    "train.columns"
   ]
  },
  {
   "cell_type": "markdown",
   "metadata": {},
   "source": [
    "# Let's prepare the ML models"
   ]
  },
  {
   "cell_type": "code",
   "execution_count": 112,
   "metadata": {},
   "outputs": [],
   "source": [
    "clf_LR = LogisticRegression(maxIter=10, regParam=0.0)\n",
    "clf_DT = DecisionTreeClassifier(seed=5)\n",
    "clf_GBT = GBTClassifier(maxDepth=5, maxIter = 10, seed=42)\n",
    "clf_RF = RandomForestClassifier(seed=5)\n",
    "clf_SVM = LinearSVC(maxIter=10, regParam=0.01)"
   ]
  },
  {
   "cell_type": "code",
   "execution_count": 113,
   "metadata": {},
   "outputs": [
    {
     "name": "stdout",
     "output_type": "stream",
     "text": [
      "Logistic Regression:\n",
      "\n",
      "[[51  0]\n",
      " [ 0 12]]\n",
      "\n",
      "\n",
      "              precision    recall  f1-score   support\n",
      "\n",
      "           0       1.00      1.00      1.00        51\n",
      "           1       1.00      1.00      1.00        12\n",
      "\n",
      "    accuracy                           1.00        63\n",
      "   macro avg       1.00      1.00      1.00        63\n",
      "weighted avg       1.00      1.00      1.00        63\n",
      "\n",
      "CPU times: user 4.02 s, sys: 2.69 s, total: 6.71 s\n",
      "Wall time: 3min 47s\n"
     ]
    }
   ],
   "source": [
    "%%time\n",
    "############## LOGISTIC REGRESSION ##############\n",
    "# Train the model\n",
    "LR_model = clf_LR.fit(train)\n",
    "# Test the model\n",
    "prediction_LR = LR_model.transform(test)\n",
    "\n",
    "# Let's prepare the confusion matrix\n",
    "# and cast the results to Pandas \n",
    "# in order to use sklearn metrics (confussion matrix and classification report)\n",
    "y_true = prediction_LR.select(\"label\").toPandas()\n",
    "y_pred = prediction_LR.select(\"prediction\").toPandas()\n",
    "\n",
    "conf_matrix_LR = confusion_matrix(y_true, y_pred)\n",
    "clas_rep_LR = classification_report(y_true, y_pred)\n",
    "\n",
    "print(\"Logistic Regression:\\n\")\n",
    "print(conf_matrix_LR)\n",
    "print(\"\\n\")\n",
    "print(clas_rep_LR)"
   ]
  },
  {
   "cell_type": "code",
   "execution_count": 114,
   "metadata": {},
   "outputs": [
    {
     "name": "stdout",
     "output_type": "stream",
     "text": [
      "Decision Trees:\n",
      "\n",
      "[[51  0]\n",
      " [ 0 12]]\n",
      "\n",
      "\n",
      "              precision    recall  f1-score   support\n",
      "\n",
      "           0       1.00      1.00      1.00        51\n",
      "           1       1.00      1.00      1.00        12\n",
      "\n",
      "    accuracy                           1.00        63\n",
      "   macro avg       1.00      1.00      1.00        63\n",
      "weighted avg       1.00      1.00      1.00        63\n",
      "\n",
      "CPU times: user 4.14 s, sys: 3.43 s, total: 7.57 s\n",
      "Wall time: 4min 14s\n"
     ]
    }
   ],
   "source": [
    "%%time\n",
    "############## DECISION TREES ##############\n",
    "# Train the model\n",
    "DT_model = clf_DT.fit(train)\n",
    "# Test the model\n",
    "prediction_DT = DT_model.transform(test)\n",
    "\n",
    "# Let's prepare the confusion matrix\n",
    "# and cast the results to Pandas \n",
    "# in order to use sklearn metrics (confussion matrix and classification report)\n",
    "y_true = prediction_DT.select(\"label\").toPandas()\n",
    "y_pred = prediction_DT.select(\"prediction\").toPandas()\n",
    "\n",
    "conf_matrix_DT = confusion_matrix(y_true, y_pred)\n",
    "clas_rep_DT = classification_report(y_true, y_pred)\n",
    "\n",
    "print(\"Decision Trees:\\n\")\n",
    "print(conf_matrix_DT)\n",
    "print(\"\\n\")\n",
    "print(clas_rep_DT)"
   ]
  },
  {
   "cell_type": "code",
   "execution_count": 115,
   "metadata": {},
   "outputs": [
    {
     "name": "stdout",
     "output_type": "stream",
     "text": [
      "Gradient Boosted Tree:\n",
      "\n",
      "[[51  0]\n",
      " [ 0 12]]\n",
      "\n",
      "\n",
      "              precision    recall  f1-score   support\n",
      "\n",
      "           0       1.00      1.00      1.00        51\n",
      "           1       1.00      1.00      1.00        12\n",
      "\n",
      "    accuracy                           1.00        63\n",
      "   macro avg       1.00      1.00      1.00        63\n",
      "weighted avg       1.00      1.00      1.00        63\n",
      "\n",
      "CPU times: user 4.81 s, sys: 3.43 s, total: 8.24 s\n",
      "Wall time: 3min 59s\n"
     ]
    }
   ],
   "source": [
    "%%time\n",
    "############## GRADIENT BOOSTED TREE ##############\n",
    "# Train the model\n",
    "GBT_model = clf_GBT.fit(train)\n",
    "# Test the model\n",
    "prediction_GBT = GBT_model.transform(test)\n",
    "\n",
    "# Let's prepare the confusion matrix\n",
    "# and cast the results to Pandas \n",
    "# in order to use sklearn metrics (confussion matrix and classification report)\n",
    "y_true = prediction_GBT.select(\"label\").toPandas()\n",
    "y_pred = prediction_GBT.select(\"prediction\").toPandas()\n",
    "\n",
    "conf_matrix_GBT = confusion_matrix(y_true, y_pred)\n",
    "clas_rep_GBT = classification_report(y_true, y_pred)\n",
    "\n",
    "print(\"Gradient Boosted Tree:\\n\")\n",
    "print(conf_matrix_GBT)\n",
    "print(\"\\n\")\n",
    "print(clas_rep_GBT)"
   ]
  },
  {
   "cell_type": "code",
   "execution_count": 116,
   "metadata": {},
   "outputs": [
    {
     "name": "stdout",
     "output_type": "stream",
     "text": [
      "Random Forest:\n",
      "\n",
      "[[50  1]\n",
      " [ 0 12]]\n",
      "\n",
      "\n",
      "              precision    recall  f1-score   support\n",
      "\n",
      "           0       1.00      0.98      0.99        51\n",
      "           1       0.92      1.00      0.96        12\n",
      "\n",
      "    accuracy                           0.98        63\n",
      "   macro avg       0.96      0.99      0.98        63\n",
      "weighted avg       0.99      0.98      0.98        63\n",
      "\n",
      "CPU times: user 4.7 s, sys: 3.62 s, total: 8.32 s\n",
      "Wall time: 4min 26s\n"
     ]
    }
   ],
   "source": [
    "%%time\n",
    "############## RANDOM FOREST ##############\n",
    "# Train the model\n",
    "RF_model = clf_RF.fit(train)\n",
    "# Test the model\n",
    "prediction_RF = RF_model.transform(test)\n",
    "\n",
    "# Let's prepare the confusion matrix\n",
    "# and cast the results to Pandas \n",
    "# in order to use sklearn metrics (confussion matrix and classification report)\n",
    "y_true = prediction_RF.select(\"label\").toPandas()\n",
    "y_pred = prediction_RF.select(\"prediction\").toPandas()\n",
    "\n",
    "conf_matrix_RF = confusion_matrix(y_true, y_pred)\n",
    "clas_rep_RF = classification_report(y_true, y_pred)\n",
    "\n",
    "print(\"Random Forest:\\n\")\n",
    "print(conf_matrix_RF)\n",
    "print(\"\\n\")\n",
    "print(clas_rep_RF)"
   ]
  },
  {
   "cell_type": "code",
   "execution_count": 117,
   "metadata": {},
   "outputs": [
    {
     "name": "stdout",
     "output_type": "stream",
     "text": [
      "Support Vector Machine:\n",
      "\n",
      "[[51  0]\n",
      " [ 0 12]]\n",
      "\n",
      "\n",
      "              precision    recall  f1-score   support\n",
      "\n",
      "           0       1.00      1.00      1.00        51\n",
      "           1       1.00      1.00      1.00        12\n",
      "\n",
      "    accuracy                           1.00        63\n",
      "   macro avg       1.00      1.00      1.00        63\n",
      "weighted avg       1.00      1.00      1.00        63\n",
      "\n",
      "CPU times: user 4.71 s, sys: 3.67 s, total: 8.38 s\n",
      "Wall time: 4min 1s\n"
     ]
    }
   ],
   "source": [
    "%%time\n",
    "############## SUPPORT VECTOR MACHINE ##############\n",
    "# Train the model\n",
    "SVM_model = clf_SVM.fit(train)\n",
    "# Test the model\n",
    "prediction_SVM = SVM_model.transform(test)\n",
    "\n",
    "# Let's prepare the confusion matrix\n",
    "# and cast the results to Pandas \n",
    "# in order to use sklearn metrics (confussion matrix and classification report)\n",
    "y_true = prediction_SVM.select(\"label\").toPandas()\n",
    "y_pred = prediction_SVM.select(\"prediction\").toPandas()\n",
    "\n",
    "conf_matrix_SVM = confusion_matrix(y_true, y_pred)\n",
    "clas_rep_SVM = classification_report(y_true, y_pred)\n",
    "\n",
    "print(\"Support Vector Machine:\\n\")\n",
    "print(conf_matrix_SVM)\n",
    "print(\"\\n\")\n",
    "print(clas_rep_SVM)"
   ]
  },
  {
   "cell_type": "code",
   "execution_count": 125,
   "metadata": {},
   "outputs": [
    {
     "data": {
      "text/plain": [
       "['userId',\n",
       " 'label',\n",
       " 'level',\n",
       " 'n_artists',\n",
       " 'n_songs',\n",
       " 'n_songs_play',\n",
       " 'n_thumbs_up',\n",
       " 'n_thumbs_down',\n",
       " 'n_Errors',\n",
       " 'n_friends',\n",
       " 'n_Rolls',\n",
       " 'n_Help',\n",
       " 'total_sdays',\n",
       " 'n_sessions',\n",
       " 'IPAD',\n",
       " 'IPHONE',\n",
       " 'LINUX',\n",
       " 'MAC',\n",
       " 'WINDOWS']"
      ]
     },
     "execution_count": 125,
     "metadata": {},
     "output_type": "execute_result"
    }
   ],
   "source": [
    "final_features.columns"
   ]
  },
  {
   "cell_type": "code",
   "execution_count": 134,
   "metadata": {},
   "outputs": [
    {
     "data": {
      "text/plain": [
       "[0, 2, 3, 4, 5, 6, 7, 8, 9, 10, 11, 12, 16, 17]"
      ]
     },
     "execution_count": 134,
     "metadata": {},
     "output_type": "execute_result"
    }
   ],
   "source": [
    "feat_imp_ind   = RF_model.featureImportances.indices.tolist()\n",
    "feat_imp_ind  "
   ]
  },
  {
   "cell_type": "code",
   "execution_count": 132,
   "metadata": {},
   "outputs": [
    {
     "ename": "IndexError",
     "evalue": "list index out of range",
     "output_type": "error",
     "traceback": [
      "\u001b[0;31m---------------------------------------------------------------------------\u001b[0m",
      "\u001b[0;31mIndexError\u001b[0m                                Traceback (most recent call last)",
      "\u001b[0;32m<ipython-input-132-5bc7dcec38a1>\u001b[0m in \u001b[0;36m<module>\u001b[0;34m()\u001b[0m\n\u001b[1;32m      5\u001b[0m \u001b[0;31m# and we get the feature names, from the original final_features except the label (churn)\u001b[0m\u001b[0;34m\u001b[0m\u001b[0;34m\u001b[0m\u001b[0;34m\u001b[0m\u001b[0m\n\u001b[1;32m      6\u001b[0m \u001b[0mfeatures_without_label\u001b[0m \u001b[0;34m=\u001b[0m \u001b[0mfinal_features\u001b[0m\u001b[0;34m.\u001b[0m\u001b[0mcolumns\u001b[0m\u001b[0;34m[\u001b[0m\u001b[0;36m2\u001b[0m\u001b[0;34m:\u001b[0m\u001b[0;34m]\u001b[0m\u001b[0;34m\u001b[0m\u001b[0;34m\u001b[0m\u001b[0m\n\u001b[0;32m----> 7\u001b[0;31m \u001b[0mfeat_imp_key\u001b[0m   \u001b[0;34m=\u001b[0m \u001b[0;34m[\u001b[0m\u001b[0mfeatures_without_label\u001b[0m\u001b[0;34m[\u001b[0m\u001b[0mind\u001b[0m\u001b[0;34m]\u001b[0m \u001b[0;32mfor\u001b[0m \u001b[0mind\u001b[0m \u001b[0;32min\u001b[0m \u001b[0mfeat_imp_ind\u001b[0m\u001b[0;34m]\u001b[0m\u001b[0;34m\u001b[0m\u001b[0;34m\u001b[0m\u001b[0m\n\u001b[0m\u001b[1;32m      8\u001b[0m \u001b[0;31m# after that we get the weight, that is, the importance value and convert them to a list\u001b[0m\u001b[0;34m\u001b[0m\u001b[0;34m\u001b[0m\u001b[0;34m\u001b[0m\u001b[0m\n\u001b[1;32m      9\u001b[0m \u001b[0mfeat_imp_value\u001b[0m \u001b[0;34m=\u001b[0m \u001b[0mRF_model\u001b[0m\u001b[0;34m.\u001b[0m\u001b[0mfeatureImportances\u001b[0m\u001b[0;34m.\u001b[0m\u001b[0mvalues\u001b[0m\u001b[0;34m.\u001b[0m\u001b[0mtolist\u001b[0m\u001b[0;34m(\u001b[0m\u001b[0;34m)\u001b[0m\u001b[0;34m\u001b[0m\u001b[0;34m\u001b[0m\u001b[0m\n",
      "\u001b[0;32m<ipython-input-132-5bc7dcec38a1>\u001b[0m in \u001b[0;36m<listcomp>\u001b[0;34m(.0)\u001b[0m\n\u001b[1;32m      5\u001b[0m \u001b[0;31m# and we get the feature names, from the original final_features except the label (churn)\u001b[0m\u001b[0;34m\u001b[0m\u001b[0;34m\u001b[0m\u001b[0;34m\u001b[0m\u001b[0m\n\u001b[1;32m      6\u001b[0m \u001b[0mfeatures_without_label\u001b[0m \u001b[0;34m=\u001b[0m \u001b[0mfinal_features\u001b[0m\u001b[0;34m.\u001b[0m\u001b[0mcolumns\u001b[0m\u001b[0;34m[\u001b[0m\u001b[0;36m2\u001b[0m\u001b[0;34m:\u001b[0m\u001b[0;34m]\u001b[0m\u001b[0;34m\u001b[0m\u001b[0;34m\u001b[0m\u001b[0m\n\u001b[0;32m----> 7\u001b[0;31m \u001b[0mfeat_imp_key\u001b[0m   \u001b[0;34m=\u001b[0m \u001b[0;34m[\u001b[0m\u001b[0mfeatures_without_label\u001b[0m\u001b[0;34m[\u001b[0m\u001b[0mind\u001b[0m\u001b[0;34m]\u001b[0m \u001b[0;32mfor\u001b[0m \u001b[0mind\u001b[0m \u001b[0;32min\u001b[0m \u001b[0mfeat_imp_ind\u001b[0m\u001b[0;34m]\u001b[0m\u001b[0;34m\u001b[0m\u001b[0;34m\u001b[0m\u001b[0m\n\u001b[0m\u001b[1;32m      8\u001b[0m \u001b[0;31m# after that we get the weight, that is, the importance value and convert them to a list\u001b[0m\u001b[0;34m\u001b[0m\u001b[0;34m\u001b[0m\u001b[0;34m\u001b[0m\u001b[0m\n\u001b[1;32m      9\u001b[0m \u001b[0mfeat_imp_value\u001b[0m \u001b[0;34m=\u001b[0m \u001b[0mRF_model\u001b[0m\u001b[0;34m.\u001b[0m\u001b[0mfeatureImportances\u001b[0m\u001b[0;34m.\u001b[0m\u001b[0mvalues\u001b[0m\u001b[0;34m.\u001b[0m\u001b[0mtolist\u001b[0m\u001b[0;34m(\u001b[0m\u001b[0;34m)\u001b[0m\u001b[0;34m\u001b[0m\u001b[0;34m\u001b[0m\u001b[0m\n",
      "\u001b[0;31mIndexError\u001b[0m: list index out of range"
     ]
    }
   ],
   "source": [
    "# Random Forest model has the best F1-score\n",
    "# Let's see the importance feature of this model\n",
    "# to do that, first we get the indices of the feature importances and convert them to a list\n",
    "feat_imp_ind   = RF_model.featureImportances.indices.tolist()\n",
    "# and we get the feature names, from the original final_features except the label (churn)\n",
    "features_without_label = final_features.columns[1:]\n",
    "feat_imp_key   = [features_without_label[ind] for ind in feat_imp_ind]\n",
    "# after that we get the weight, that is, the importance value and convert them to a list\n",
    "feat_imp_value = RF_model.featureImportances.values.tolist()\n",
    "# next we get all together in a dataframe, to be able to display it with a nice sns barplot\n",
    "feat_df        = pd.DataFrame(list(zip(features_without_label,feat_imp_value)),columns=['Feature','Importance']).sort_values('Importance',ascending=False)\n",
    "# prepare the graphical details\n",
    "plt.figure(figsize=(6,6))\n",
    "plt.title(\"Feature Importance on Random Forest model\")\n",
    "sns.barplot(x='Importance', y='Feature', data=feat_df);\n",
    "plt.savefig('Feature_Importance_RF.png')"
   ]
  },
  {
   "cell_type": "code",
   "execution_count": 119,
   "metadata": {},
   "outputs": [
    {
     "data": {
      "image/png": "[encoded data removed]",
      "text/plain": [
       "<Figure size 432x432 with 1 Axes>"
      ]
     },
     "metadata": {
      "needs_background": "light"
     },
     "output_type": "display_data"
    }
   ],
   "source": [
    "# Gradient Boosted Trees model has the best F1-score\n",
    "# Let's see the importance feature of this model\n",
    "# to do that, first we get the indices of the feature importances and convert them to a list\n",
    "feat_imp_ind   = GBT_model.featureImportances.indices.tolist()\n",
    "# and we get the feature names, from the original final_features except the label (churn)\n",
    "features_without_label = final_features.columns[1:]\n",
    "feat_imp_key   = [features_without_label[ind] for ind in feat_imp_ind]\n",
    "# after that we get the weight, that is, the importance value and convert them to a list\n",
    "feat_imp_value = GBT_model.featureImportances.values.tolist()\n",
    "# next we get all together in a dataframe, to be able to display it with a nice sns barplot\n",
    "feat_df        = pd.DataFrame(list(zip(features_without_label,feat_imp_value)),columns=['Feature','Importance']).sort_values('Importance',ascending=False)\n",
    "# prepare the graphical details\n",
    "plt.figure(figsize=(6,6))\n",
    "plt.title(\"Feature Importance on Gradient Boosted Trees model\")\n",
    "sns.barplot(x='Importance', y='Feature', data=feat_df);\n",
    "plt.savefig('Feature_Importance_GBT.png')"
   ]
  },
  {
   "cell_type": "code",
   "execution_count": 120,
   "metadata": {},
   "outputs": [],
   "source": [
    "# Hyperparameter tuning"
   ]
  },
  {
   "cell_type": "code",
   "execution_count": 121,
   "metadata": {},
   "outputs": [
    {
     "name": "stdout",
     "output_type": "stream",
     "text": [
      "CrossValidatorModel_846c5b9f1a06\n",
      "Accuracy: 1.0\n",
      "CPU times: user 34.9 s, sys: 25.8 s, total: 1min\n",
      "Wall time: 22min 58s\n"
     ]
    }
   ],
   "source": [
    "%%time\n",
    "# Now I am going to fine-tune the Random Forest model\n",
    "# as it is the one with the highest F1-Score\n",
    "# Inspiration in https://gist.github.com/colbyford/7758088502211daa90dbc1b51c408762\n",
    "\n",
    "# Create the initial RF Model\n",
    "\n",
    "rf = RandomForestClassifier(featuresCol=\"features\", labelCol=\"label\", maxDepth=2)\n",
    "\n",
    "# Prepare the parameters to find the best combination\n",
    "rf_param_grid = ParamGridBuilder() \\\n",
    "    .addGrid(rf.numTrees,[15, 20, 25]) \\\n",
    "    .addGrid(rf.maxBins,[2, 4]) \\\n",
    "    .addGrid(rf.maxDepth,[2, 4]) \\\n",
    "    .build()\n",
    "\n",
    "# Evaluate the model\n",
    "rfevaluator = BinaryClassificationEvaluator(rawPredictionCol=\"rawPrediction\")\n",
    "\n",
    "# Create 3-fold CrossValidator\n",
    "rfcv = CrossValidator(estimator =rf,\n",
    "                      estimatorParamMaps = rf_param_grid,\n",
    "                      evaluator = rfevaluator,\n",
    "                      numFolds = 3)\n",
    "\n",
    "# Run Cross Validations\n",
    "rfcvModel = rfcv.fit(train)\n",
    "print(rfcvModel)\n",
    "\n",
    "# Use test set here so we can measure the accuracy of our model on new data\n",
    "rfpredictions = rfcvModel.transform(test)\n",
    "\n",
    "# Evaluate best model\n",
    "print('Accuracy:', rfevaluator.evaluate(rfpredictions))"
   ]
  },
  {
   "cell_type": "code",
   "execution_count": 122,
   "metadata": {},
   "outputs": [],
   "source": [
    "best_model = rfcvModel.bestModel\n",
    "#best_model = best_model.stages[2]\n",
    "best_model.write().overwrite().save(\"Best_Random_Forest\")"
   ]
  },
  {
   "cell_type": "code",
   "execution_count": 123,
   "metadata": {},
   "outputs": [],
   "source": [
    "best_model_pred = best_model.transform(test)"
   ]
  },
  {
   "cell_type": "code",
   "execution_count": 124,
   "metadata": {},
   "outputs": [
    {
     "name": "stdout",
     "output_type": "stream",
     "text": [
      "Best Random Forest Trees:\n",
      "\n",
      "[[51  0]\n",
      " [ 0 12]]\n",
      "\n",
      "\n",
      "              precision    recall  f1-score   support\n",
      "\n",
      "           0       1.00      1.00      1.00        51\n",
      "           1       1.00      1.00      1.00        12\n",
      "\n",
      "    accuracy                           1.00        63\n",
      "   macro avg       1.00      1.00      1.00        63\n",
      "weighted avg       1.00      1.00      1.00        63\n",
      "\n"
     ]
    }
   ],
   "source": [
    "y_true_best = best_model_pred.select(\"label\").toPandas()\n",
    "y_pred_best = best_model_pred.select(\"prediction\").toPandas()\n",
    "\n",
    "conf_matrix_RF_best = confusion_matrix(y_true_best, y_pred_best)\n",
    "clas_rep_RF_best = classification_report(y_true_best, y_pred_best)\n",
    "\n",
    "print(\"Best Random Forest Trees:\\n\")\n",
    "print(conf_matrix_RF_best)\n",
    "print(\"\\n\")\n",
    "print(clas_rep_RF_best)"
   ]
  },
  {
   "cell_type": "code",
   "execution_count": null,
   "metadata": {},
   "outputs": [],
   "source": []
  },
  {
   "cell_type": "code",
   "execution_count": null,
   "metadata": {},
   "outputs": [],
   "source": []
  },
  {
   "cell_type": "code",
   "execution_count": null,
   "metadata": {},
   "outputs": [],
   "source": []
  }
 ],
 "metadata": {
  "kernelspec": {
   "display_name": "Python 3.7 with Spark",
   "language": "python3",
   "name": "python37"
  },
  "language_info": {
   "codemirror_mode": {
    "name": "ipython",
    "version": 3
   },
   "file_extension": ".py",
   "mimetype": "text/x-python",
   "name": "python",
   "nbconvert_exporter": "python",
   "pygments_lexer": "ipython3",
   "version": "3.7.10"
  }
 },
 "nbformat": 4,
 "nbformat_minor": 1
}
