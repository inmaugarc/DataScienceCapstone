{
 "cells": [
  {
   "cell_type": "markdown",
   "metadata": {},
   "source": [
    "# Sparkify Project Workspace\n",
    "This workspace contains a tiny subset (128MB) of the full dataset available (12GB). Feel free to use this workspace to build your project, or to explore a smaller subset with Spark before deploying your cluster on the cloud. Instructions for setting up your Spark cluster is included in the last lesson of the Extracurricular Spark Course content.\n",
    "\n",
    "You can follow the steps below to guide your data analysis and model building portion of this project."
   ]
  },
  {
   "cell_type": "code",
   "execution_count": 1,
   "metadata": {},
   "outputs": [],
   "source": [
    "# import standard libraries\n",
    "import numpy as np\n",
    "import pandas as pd\n",
    "import matplotlib.pyplot as plt\n",
    "import seaborn as sns\n",
    "\n",
    "import plotly.plotly as py\n",
    "import plotly.graph_objs as go\n",
    "\n",
    "import datetime\n",
    "from time import time\n",
    "%matplotlib inline\n",
    "import re\n",
    "\n",
    "#import pyspark libraries\n",
    "import pyspark\n",
    "from pyspark import SparkConf\n",
    "\n",
    "# import sql Spark libraries\n",
    "from pyspark.sql import SparkSession, Window\n",
    "from pyspark.sql.functions import udf\n",
    "from pyspark.sql.types import StringType\n",
    "from pyspark.sql.types import IntegerType\n",
    "from pyspark.sql.functions import sum as Fsum\n",
    "from pyspark.sql.functions import min as Fmin\n",
    "from pyspark.sql.functions import max as Fmax\n",
    "from pyspark.sql.functions import avg, col, regexp_replace, concat, count, desc, asc, explode, lit, split, stddev, udf, lower, isnan, when, rank, from_unixtime\n",
    "\n",
    "# import ml Spark libraries\n",
    "from pyspark.ml import Pipeline\n",
    "from pyspark.ml.feature import MinMaxScaler, VectorAssembler\n",
    "from pyspark.ml.classification import LogisticRegression, RandomForestClassifier, GBTClassifier\n",
    "from pyspark.ml.evaluation import BinaryClassificationEvaluator, MulticlassClassificationEvaluator\n",
    "from pyspark.ml.tuning import CrossValidator, ParamGridBuilder"
   ]
  },
  {
   "cell_type": "code",
   "execution_count": 2,
   "metadata": {},
   "outputs": [],
   "source": [
    "# create a Spark session\n",
    "spark = SparkSession \\\n",
    "    .builder \\\n",
    "    .appName(\"My Sparkify app\") \\\n",
    "    .getOrCreate()"
   ]
  },
  {
   "cell_type": "code",
   "execution_count": 3,
   "metadata": {},
   "outputs": [
    {
     "data": {
      "text/plain": [
       "[('spark.app.name', 'My Sparkify app'),\n",
       " ('spark.app.id', 'local-1615742784990'),\n",
       " ('spark.rdd.compress', 'True'),\n",
       " ('spark.serializer.objectStreamReset', '100'),\n",
       " ('spark.master', 'local[*]'),\n",
       " ('spark.executor.id', 'driver'),\n",
       " ('spark.submit.deployMode', 'client'),\n",
       " ('spark.driver.host', '914a6dbfa26b'),\n",
       " ('spark.ui.showConsoleProgress', 'true'),\n",
       " ('spark.driver.port', '32885')]"
      ]
     },
     "execution_count": 3,
     "metadata": {},
     "output_type": "execute_result"
    }
   ],
   "source": [
    "spark.sparkContext.getConf().getAll()"
   ]
  },
  {
   "cell_type": "code",
   "execution_count": 4,
   "metadata": {},
   "outputs": [
    {
     "data": {
      "text/html": [
       "\n",
       "            <div>\n",
       "                <p><b>SparkSession - in-memory</b></p>\n",
       "                \n",
       "        <div>\n",
       "            <p><b>SparkContext</b></p>\n",
       "\n",
       "            <p><a href=\"http://914a6dbfa26b:4040\">Spark UI</a></p>\n",
       "\n",
       "            <dl>\n",
       "              <dt>Version</dt>\n",
       "                <dd><code>v2.4.3</code></dd>\n",
       "              <dt>Master</dt>\n",
       "                <dd><code>local[*]</code></dd>\n",
       "              <dt>AppName</dt>\n",
       "                <dd><code>My Sparkify app</code></dd>\n",
       "            </dl>\n",
       "        </div>\n",
       "        \n",
       "            </div>\n",
       "        "
      ],
      "text/plain": [
       "<pyspark.sql.session.SparkSession at 0x7f1409c2fba8>"
      ]
     },
     "execution_count": 4,
     "metadata": {},
     "output_type": "execute_result"
    }
   ],
   "source": [
    "spark"
   ]
  },
  {
   "cell_type": "markdown",
   "metadata": {},
   "source": [
    "# Load and Clean Dataset\n",
    "In this workspace, the mini-dataset file is `mini_sparkify_event_data.json`. Load and clean the dataset, checking for invalid or missing data - for example, records without userids or sessionids. "
   ]
  },
  {
   "cell_type": "code",
   "execution_count": 5,
   "metadata": {},
   "outputs": [],
   "source": [
    "# import mini-dataset file\n",
    "file = \"./mini_sparkify_event_data.json\"\n",
    "df = spark.read.json(file)"
   ]
  },
  {
   "cell_type": "code",
   "execution_count": 6,
   "metadata": {},
   "outputs": [
    {
     "data": {
      "text/plain": [
       "DataFrame[artist: string, auth: string, firstName: string, gender: string, itemInSession: bigint, lastName: string, length: double, level: string, location: string, method: string, page: string, registration: bigint, sessionId: bigint, song: string, status: bigint, ts: bigint, userAgent: string, userId: string]"
      ]
     },
     "execution_count": 6,
     "metadata": {},
     "output_type": "execute_result"
    }
   ],
   "source": [
    "# Let's check the dataset\n",
    "df.persist()"
   ]
  },
  {
   "cell_type": "code",
   "execution_count": 7,
   "metadata": {},
   "outputs": [
    {
     "data": {
      "text/plain": [
       "286500"
      ]
     },
     "execution_count": 7,
     "metadata": {},
     "output_type": "execute_result"
    }
   ],
   "source": [
    "# Let's calculate the number of rows the file has --> 286.500 rows\n",
    "df.count()"
   ]
  },
  {
   "cell_type": "markdown",
   "metadata": {},
   "source": [
    "Now, let's prepare some functions that we will use later"
   ]
  },
  {
   "cell_type": "code",
   "execution_count": 8,
   "metadata": {},
   "outputs": [],
   "source": [
    "# Let's build a function to count the nulls/missing/empty values\n",
    "def count_null_col(df,column):\n",
    "    '''\n",
    "    Function that counts the nulls or missing values that exist in a column\n",
    "    Input:  \n",
    "            df: dataset where we want to count null/missing/empty values\n",
    "            column: column of the dataset we want to count null/missing/empty values\n",
    "    Output: \n",
    "            n_missing: it returns the number of missing values\n",
    "    '''\n",
    "    missing = df.filter(((df[column].isNull()) | isnan(df[column])) | (df[column] == \"\"))\n",
    "    n_missing = missing.count()\n",
    "    \n",
    "    return n_missing"
   ]
  },
  {
   "cell_type": "code",
   "execution_count": 9,
   "metadata": {},
   "outputs": [],
   "source": [
    "# Let's build a function to count the nulls/missing/empty values of every column of the dataset\n",
    "def count_null_df(df):\n",
    "    '''\n",
    "    Function that counts the nulls or missing values that exist in a dataset\n",
    "    Input:  \n",
    "            df: dataset where we want to count null/missing/empty values\n",
    "    Output: \n",
    "            missing: it returns a dictionary with the number of missing values of every column\n",
    "            in case the column has nulls/missing/empty values\n",
    "    '''   \n",
    "    missing = {}\n",
    "    for col in df.columns:\n",
    "        n_missing = count_null_col(df,col)\n",
    "        if n_missing > 0:\n",
    "            missing.update({col: n_missing})\n",
    "    \n",
    "    return missing      "
   ]
  },
  {
   "cell_type": "code",
   "execution_count": 10,
   "metadata": {},
   "outputs": [],
   "source": [
    "# Let's build a function to count if the categorical and numerical columns of the dataset\n",
    "def cat_or_num(df):\n",
    "    '''\n",
    "    Function that clasifies the kind of columns (categorical or numerical) that exist in a dataset\n",
    "    Input:  \n",
    "            df: dataset where we want to clasify columns\n",
    "    Output: \n",
    "            num_cols,cat:cols: it returns a dictionary with the category of every column\n",
    "    \n",
    "    '''   \n",
    "    cat_cols = []\n",
    "    num_cols = []\n",
    "\n",
    "    for coltype in df.schema:\n",
    "        ctype = str(coltype.dataType)\n",
    "        if ctype == \"StringType\":\n",
    "            cat_cols.append(coltype.name)\n",
    "\n",
    "        elif ctype == \"LongType\" or ctype == \"DoubleType\":\n",
    "            num_cols.append(coltype.name)\n",
    "            \n",
    "    return cat_cols, num_cols"
   ]
  },
  {
   "cell_type": "code",
   "execution_count": 11,
   "metadata": {},
   "outputs": [],
   "source": [
    "# get information about the cols and features\n",
    "def show_cols_info(df):\n",
    "    '''\n",
    "    Function that shows the summary of the information of the columns of the datasets\n",
    "    Input:  \n",
    "            df: dataset we want to show information \n",
    "    Output: \n",
    "            none: it prints a summary and the main values of every column\n",
    "    \n",
    "    '''     \n",
    "\n",
    "    for column in df.columns:\n",
    "        # show a summary of the important information of the column\n",
    "        df.describe([column]).show()\n",
    "        # show the different values of the field\n",
    "        df.select([column]).distinct().show()\n",
    "    "
   ]
  },
  {
   "cell_type": "code",
   "execution_count": 12,
   "metadata": {},
   "outputs": [
    {
     "name": "stdout",
     "output_type": "stream",
     "text": [
      "These are the columns with nulls/missing/empty values: {'artist': 58392, 'firstName': 8346, 'gender': 8346, 'lastName': 8346, 'length': 58392, 'location': 8346, 'registration': 8346, 'song': 58392, 'userAgent': 8346, 'userId': 8346}\n",
      "\n"
     ]
    }
   ],
   "source": [
    "missing = count_null_df(df)\n",
    "print(\"These are the columns with nulls/missing/empty values: {}\\n\".format(missing))"
   ]
  },
  {
   "cell_type": "code",
   "execution_count": 13,
   "metadata": {},
   "outputs": [
    {
     "name": "stdout",
     "output_type": "stream",
     "text": [
      "+-------+------------------+\n",
      "|summary|            artist|\n",
      "+-------+------------------+\n",
      "|  count|            228108|\n",
      "|   mean| 551.0852017937219|\n",
      "| stddev|1217.7693079161374|\n",
      "|    min|               !!!|\n",
      "|    max| ÃÂlafur Arnalds|\n",
      "+-------+------------------+\n",
      "\n",
      "+--------------------+\n",
      "|              artist|\n",
      "+--------------------+\n",
      "|      The Black Keys|\n",
      "|         Silverstein|\n",
      "|           Kate Nash|\n",
      "|        Yann Tiersen|\n",
      "|    Jane's Addiction|\n",
      "|          Tim Hughes|\n",
      "|          Carl Craig|\n",
      "|Dashboard Confess...|\n",
      "|Yonder Mountain S...|\n",
      "|           Los Lobos|\n",
      "|Pete Rock & C.L. ...|\n",
      "|        Ziggy Marley|\n",
      "|      Jarabe De Palo|\n",
      "|               Rufio|\n",
      "|WC And The Maad C...|\n",
      "|      Jorge Gonzalez|\n",
      "|                Silk|\n",
      "|  The Watts Prophets|\n",
      "|            La Shica|\n",
      "|        Generation X|\n",
      "+--------------------+\n",
      "only showing top 20 rows\n",
      "\n",
      "+-------+----------+\n",
      "|summary|      auth|\n",
      "+-------+----------+\n",
      "|  count|    286500|\n",
      "|   mean|      null|\n",
      "| stddev|      null|\n",
      "|    min| Cancelled|\n",
      "|    max|Logged Out|\n",
      "+-------+----------+\n",
      "\n",
      "+----------+\n",
      "|      auth|\n",
      "+----------+\n",
      "|Logged Out|\n",
      "| Cancelled|\n",
      "|     Guest|\n",
      "| Logged In|\n",
      "+----------+\n",
      "\n",
      "+-------+---------+\n",
      "|summary|firstName|\n",
      "+-------+---------+\n",
      "|  count|   278154|\n",
      "|   mean|     null|\n",
      "| stddev|     null|\n",
      "|    min| Adelaida|\n",
      "|    max|   Zyonna|\n",
      "+-------+---------+\n",
      "\n",
      "+----------+\n",
      "| firstName|\n",
      "+----------+\n",
      "|    Maddox|\n",
      "|    Karter|\n",
      "|     Lucas|\n",
      "|     Grace|\n",
      "|  Antonina|\n",
      "|   Lorelei|\n",
      "|   Adriana|\n",
      "|  Isabella|\n",
      "|     James|\n",
      "|    Brooke|\n",
      "|  Benjamin|\n",
      "|  Giovanni|\n",
      "|     Davis|\n",
      "|    Nathan|\n",
      "|   Antonio|\n",
      "| Christian|\n",
      "|     Brisa|\n",
      "|Alexandria|\n",
      "|   Spencer|\n",
      "|    Jordan|\n",
      "+----------+\n",
      "only showing top 20 rows\n",
      "\n",
      "+-------+------+\n",
      "|summary|gender|\n",
      "+-------+------+\n",
      "|  count|278154|\n",
      "|   mean|  null|\n",
      "| stddev|  null|\n",
      "|    min|     F|\n",
      "|    max|     M|\n",
      "+-------+------+\n",
      "\n",
      "+------+\n",
      "|gender|\n",
      "+------+\n",
      "|     F|\n",
      "|  null|\n",
      "|     M|\n",
      "+------+\n",
      "\n",
      "+-------+------------------+\n",
      "|summary|     itemInSession|\n",
      "+-------+------------------+\n",
      "|  count|            286500|\n",
      "|   mean|114.41421291448516|\n",
      "| stddev|129.76726201140994|\n",
      "|    min|                 0|\n",
      "|    max|              1321|\n",
      "+-------+------------------+\n",
      "\n",
      "+-------------+\n",
      "|itemInSession|\n",
      "+-------------+\n",
      "|           26|\n",
      "|           29|\n",
      "|          474|\n",
      "|          964|\n",
      "|           65|\n",
      "|          191|\n",
      "|          418|\n",
      "|          541|\n",
      "|          558|\n",
      "|         1010|\n",
      "|         1224|\n",
      "|         1258|\n",
      "|         1277|\n",
      "|          222|\n",
      "|          270|\n",
      "|          293|\n",
      "|          730|\n",
      "|          938|\n",
      "|         1127|\n",
      "|         1145|\n",
      "+-------------+\n",
      "only showing top 20 rows\n",
      "\n",
      "+-------+--------+\n",
      "|summary|lastName|\n",
      "+-------+--------+\n",
      "|  count|  278154|\n",
      "|   mean|    null|\n",
      "| stddev|    null|\n",
      "|    min|   Adams|\n",
      "|    max|  Wright|\n",
      "+-------+--------+\n",
      "\n",
      "+--------+\n",
      "|lastName|\n",
      "+--------+\n",
      "|Harrison|\n",
      "|Thornton|\n",
      "|    Pena|\n",
      "|   Jones|\n",
      "|  Santos|\n",
      "|   Knapp|\n",
      "|  Walton|\n",
      "| Sanchez|\n",
      "|Franklin|\n",
      "|  Henson|\n",
      "| Aguilar|\n",
      "| Schmidt|\n",
      "|  Nguyen|\n",
      "|Calderon|\n",
      "|  Farley|\n",
      "|   Floyd|\n",
      "|    Wolf|\n",
      "|Phillips|\n",
      "|  Barnes|\n",
      "| Spencer|\n",
      "+--------+\n",
      "only showing top 20 rows\n",
      "\n",
      "+-------+-----------------+\n",
      "|summary|           length|\n",
      "+-------+-----------------+\n",
      "|  count|           228108|\n",
      "|   mean|249.1171819778458|\n",
      "| stddev|99.23517921058361|\n",
      "|    min|          0.78322|\n",
      "|    max|       3024.66567|\n",
      "+-------+-----------------+\n",
      "\n",
      "+---------+\n",
      "|   length|\n",
      "+---------+\n",
      "|200.75057|\n",
      "|317.30893|\n",
      "|260.28363|\n",
      "|241.94567|\n",
      "|262.79138|\n",
      "|216.47628|\n",
      "|361.66485|\n",
      "|231.94077|\n",
      "|375.03955|\n",
      "|213.75955|\n",
      "|429.16526|\n",
      "|381.77914|\n",
      "|347.81995|\n",
      "|227.83955|\n",
      "|356.20526|\n",
      "|401.76281|\n",
      "|387.16036|\n",
      "|216.97261|\n",
      "|170.97098|\n",
      "|174.23628|\n",
      "+---------+\n",
      "only showing top 20 rows\n",
      "\n",
      "+-------+------+\n",
      "|summary| level|\n",
      "+-------+------+\n",
      "|  count|286500|\n",
      "|   mean|  null|\n",
      "| stddev|  null|\n",
      "|    min|  free|\n",
      "|    max|  paid|\n",
      "+-------+------+\n",
      "\n",
      "+-----+\n",
      "|level|\n",
      "+-----+\n",
      "| free|\n",
      "| paid|\n",
      "+-----+\n",
      "\n",
      "+-------+-----------------+\n",
      "|summary|         location|\n",
      "+-------+-----------------+\n",
      "|  count|           278154|\n",
      "|   mean|             null|\n",
      "| stddev|             null|\n",
      "|    min|       Albany, OR|\n",
      "|    max|Winston-Salem, NC|\n",
      "+-------+-----------------+\n",
      "\n",
      "+--------------------+\n",
      "|            location|\n",
      "+--------------------+\n",
      "|     Gainesville, FL|\n",
      "|Atlantic City-Ham...|\n",
      "|Deltona-Daytona B...|\n",
      "|San Diego-Carlsba...|\n",
      "|Cleveland-Elyria, OH|\n",
      "|Kingsport-Bristol...|\n",
      "|New Haven-Milford...|\n",
      "|Birmingham-Hoover...|\n",
      "|  Corpus Christi, TX|\n",
      "|         Dubuque, IA|\n",
      "|Las Vegas-Henders...|\n",
      "|Indianapolis-Carm...|\n",
      "|Seattle-Tacoma-Be...|\n",
      "|          Albany, OR|\n",
      "|   Winston-Salem, NC|\n",
      "|     Bakersfield, CA|\n",
      "|Los Angeles-Long ...|\n",
      "|Minneapolis-St. P...|\n",
      "|San Francisco-Oak...|\n",
      "|Phoenix-Mesa-Scot...|\n",
      "+--------------------+\n",
      "only showing top 20 rows\n",
      "\n",
      "+-------+------+\n",
      "|summary|method|\n",
      "+-------+------+\n",
      "|  count|286500|\n",
      "|   mean|  null|\n",
      "| stddev|  null|\n",
      "|    min|   GET|\n",
      "|    max|   PUT|\n",
      "+-------+------+\n",
      "\n",
      "+------+\n",
      "|method|\n",
      "+------+\n",
      "|   PUT|\n",
      "|   GET|\n",
      "+------+\n",
      "\n",
      "+-------+-------+\n",
      "|summary|   page|\n",
      "+-------+-------+\n",
      "|  count| 286500|\n",
      "|   mean|   null|\n",
      "| stddev|   null|\n",
      "|    min|  About|\n",
      "|    max|Upgrade|\n",
      "+-------+-------+\n",
      "\n",
      "+--------------------+\n",
      "|                page|\n",
      "+--------------------+\n",
      "|              Cancel|\n",
      "|    Submit Downgrade|\n",
      "|         Thumbs Down|\n",
      "|                Home|\n",
      "|           Downgrade|\n",
      "|         Roll Advert|\n",
      "|              Logout|\n",
      "|       Save Settings|\n",
      "|Cancellation Conf...|\n",
      "|               About|\n",
      "| Submit Registration|\n",
      "|            Settings|\n",
      "|               Login|\n",
      "|            Register|\n",
      "|     Add to Playlist|\n",
      "|          Add Friend|\n",
      "|            NextSong|\n",
      "|           Thumbs Up|\n",
      "|                Help|\n",
      "|             Upgrade|\n",
      "+--------------------+\n",
      "only showing top 20 rows\n",
      "\n",
      "+-------+--------------------+\n",
      "|summary|        registration|\n",
      "+-------+--------------------+\n",
      "|  count|              278154|\n",
      "|   mean|1.535358834084427...|\n",
      "| stddev| 3.291321616327586E9|\n",
      "|    min|       1521380675000|\n",
      "|    max|       1543247354000|\n",
      "+-------+--------------------+\n",
      "\n",
      "+-------------+\n",
      "| registration|\n",
      "+-------------+\n",
      "|1529027541000|\n",
      "|1533192032000|\n",
      "|1537779419000|\n",
      "|1534627466000|\n",
      "|1535389443000|\n",
      "|1536642109000|\n",
      "|1537167593000|\n",
      "|1536854322000|\n",
      "|1533908361000|\n",
      "|1536817381000|\n",
      "|1536663902000|\n",
      "|1537672236000|\n",
      "|1536956945000|\n",
      "|1537611935000|\n",
      "|1537751138000|\n",
      "|1533532298000|\n",
      "|1537057938000|\n",
      "|1537964483000|\n",
      "|1528772084000|\n",
      "|1537440271000|\n",
      "+-------------+\n",
      "only showing top 20 rows\n",
      "\n",
      "+-------+-----------------+\n",
      "|summary|        sessionId|\n",
      "+-------+-----------------+\n",
      "|  count|           286500|\n",
      "|   mean|1041.526554973822|\n",
      "| stddev|726.7762634630741|\n",
      "|    min|                1|\n",
      "|    max|             2474|\n",
      "+-------+-----------------+\n",
      "\n",
      "+---------+\n",
      "|sessionId|\n",
      "+---------+\n",
      "|       29|\n",
      "|       26|\n",
      "|      474|\n",
      "|      964|\n",
      "|     1697|\n",
      "|     1806|\n",
      "|     2040|\n",
      "|     1950|\n",
      "|     2214|\n",
      "|      418|\n",
      "|       65|\n",
      "|      541|\n",
      "|      558|\n",
      "|     1010|\n",
      "|     1224|\n",
      "|     1277|\n",
      "|     1258|\n",
      "|     1360|\n",
      "|     1840|\n",
      "|     2173|\n",
      "+---------+\n",
      "only showing top 20 rows\n",
      "\n",
      "+-------+--------------------+\n",
      "|summary|                song|\n",
      "+-------+--------------------+\n",
      "|  count|              228108|\n",
      "|   mean|            Infinity|\n",
      "| stddev|                 NaN|\n",
      "|    min|\u001c",
      "ÃÂg ÃÂtti Gr...|\n",
      "|    max|ÃÂau hafa slopp...|\n",
      "+-------+--------------------+\n",
      "\n",
      "+--------------------+\n",
      "|                song|\n",
      "+--------------------+\n",
      "|Never Gonna Be Al...|\n",
      "|         TULENLIEKKI|\n",
      "|      Underwaterboys|\n",
      "|Saor (Free)/News ...|\n",
      "|               New E|\n",
      "|The Geeks Were Right|\n",
      "|              Heaven|\n",
      "|      Call Me Manana|\n",
      "|             Push It|\n",
      "|Cool Monsoon (Wea...|\n",
      "|The Fun Lovin' Cr...|\n",
      "|Turn Your Lights ...|\n",
      "|          Growing Up|\n",
      "|          Positivity|\n",
      "|         Miracle Man|\n",
      "|        I'm The Drug|\n",
      "|I've Just Seen A ...|\n",
      "|            Anna May|\n",
      "|All The Things Sh...|\n",
      "|    Blue Suede Shoes|\n",
      "+--------------------+\n",
      "only showing top 20 rows\n",
      "\n",
      "+-------+------------------+\n",
      "|summary|            status|\n",
      "+-------+------------------+\n",
      "|  count|            286500|\n",
      "|   mean|210.05459685863875|\n",
      "| stddev| 31.50507848842214|\n",
      "|    min|               200|\n",
      "|    max|               404|\n",
      "+-------+------------------+\n",
      "\n",
      "+------+\n",
      "|status|\n",
      "+------+\n",
      "|   307|\n",
      "|   404|\n",
      "|   200|\n",
      "+------+\n",
      "\n",
      "+-------+--------------------+\n",
      "|summary|                  ts|\n",
      "+-------+--------------------+\n",
      "|  count|              286500|\n",
      "|   mean|1.540956889810483...|\n",
      "| stddev|1.5075439608226302E9|\n",
      "|    min|       1538352117000|\n",
      "|    max|       1543799476000|\n",
      "+-------+--------------------+\n",
      "\n",
      "+-------------+\n",
      "|           ts|\n",
      "+-------------+\n",
      "|1538360520000|\n",
      "|1538368903000|\n",
      "|1538380099000|\n",
      "|1538380879000|\n",
      "|1538390386000|\n",
      "|1538390440000|\n",
      "|1538399222000|\n",
      "|1538402692000|\n",
      "|1538405492000|\n",
      "|1538411816000|\n",
      "|1538420258000|\n",
      "|1538422643000|\n",
      "|1538423103000|\n",
      "|1538428266000|\n",
      "|1538433192000|\n",
      "|1538435390000|\n",
      "|1538439836000|\n",
      "|1538453678000|\n",
      "|1538471202000|\n",
      "|1538494626000|\n",
      "+-------------+\n",
      "only showing top 20 rows\n",
      "\n",
      "+-------+--------------------+\n",
      "|summary|           userAgent|\n",
      "+-------+--------------------+\n",
      "|  count|              278154|\n",
      "|   mean|                null|\n",
      "| stddev|                null|\n",
      "|    min|\"Mozilla/5.0 (Mac...|\n",
      "|    max|Mozilla/5.0 (comp...|\n",
      "+-------+--------------------+\n",
      "\n",
      "+--------------------+\n",
      "|           userAgent|\n",
      "+--------------------+\n",
      "|\"Mozilla/5.0 (Mac...|\n",
      "|\"Mozilla/5.0 (Win...|\n",
      "|Mozilla/5.0 (X11;...|\n",
      "|\"Mozilla/5.0 (Mac...|\n",
      "|\"Mozilla/5.0 (Mac...|\n",
      "|Mozilla/5.0 (Maci...|\n",
      "|Mozilla/5.0 (Wind...|\n",
      "|Mozilla/5.0 (Wind...|\n",
      "|Mozilla/5.0 (comp...|\n",
      "|\"Mozilla/5.0 (Win...|\n",
      "|Mozilla/5.0 (Maci...|\n",
      "|\"Mozilla/5.0 (Win...|\n",
      "|                null|\n",
      "|\"Mozilla/5.0 (iPh...|\n",
      "|\"Mozilla/5.0 (Win...|\n",
      "|Mozilla/5.0 (Wind...|\n",
      "|Mozilla/5.0 (comp...|\n",
      "|Mozilla/5.0 (comp...|\n",
      "|\"Mozilla/5.0 (Mac...|\n",
      "|\"Mozilla/5.0 (Mac...|\n",
      "+--------------------+\n",
      "only showing top 20 rows\n",
      "\n",
      "+-------+-----------------+\n",
      "|summary|           userId|\n",
      "+-------+-----------------+\n",
      "|  count|           286500|\n",
      "|   mean|59682.02278593872|\n",
      "| stddev|109091.9499991047|\n",
      "|    min|                 |\n",
      "|    max|               99|\n",
      "+-------+-----------------+\n",
      "\n",
      "+------+\n",
      "|userId|\n",
      "+------+\n",
      "|100010|\n",
      "|200002|\n",
      "|   125|\n",
      "|    51|\n",
      "|   124|\n",
      "|     7|\n",
      "|    54|\n",
      "|    15|\n",
      "|   155|\n",
      "|   132|\n",
      "|   154|\n",
      "|100014|\n",
      "|   101|\n",
      "|    11|\n",
      "|   138|\n",
      "|300017|\n",
      "|    29|\n",
      "|    69|\n",
      "|100021|\n",
      "|    42|\n",
      "+------+\n",
      "only showing top 20 rows\n",
      "\n"
     ]
    }
   ],
   "source": [
    "show_cols_info(df)"
   ]
  },
  {
   "cell_type": "markdown",
   "metadata": {},
   "source": [
    "# Drop Rows with Missing Values\n",
    "As you'll see, it turns out there are no missing values in session column, but there are values that are empty string. Also there are userID values that are empty strings. Let's detect and delete them"
   ]
  },
  {
   "cell_type": "code",
   "execution_count": 14,
   "metadata": {},
   "outputs": [],
   "source": [
    "df_valid = df.dropna(how = \"any\", subset = [\"userId\", \"sessionId\"])"
   ]
  },
  {
   "cell_type": "code",
   "execution_count": 15,
   "metadata": {},
   "outputs": [
    {
     "data": {
      "text/plain": [
       "286500"
      ]
     },
     "execution_count": 15,
     "metadata": {},
     "output_type": "execute_result"
    }
   ],
   "source": [
    "df_valid.count()"
   ]
  },
  {
   "cell_type": "code",
   "execution_count": 16,
   "metadata": {},
   "outputs": [
    {
     "name": "stdout",
     "output_type": "stream",
     "text": [
      "+------+\n",
      "|userId|\n",
      "+------+\n",
      "|      |\n",
      "|    10|\n",
      "|   100|\n",
      "|100001|\n",
      "|100002|\n",
      "|100003|\n",
      "|100004|\n",
      "|100005|\n",
      "|100006|\n",
      "|100007|\n",
      "|100008|\n",
      "|100009|\n",
      "|100010|\n",
      "|100011|\n",
      "|100012|\n",
      "|100013|\n",
      "|100014|\n",
      "|100015|\n",
      "|100016|\n",
      "|100017|\n",
      "+------+\n",
      "only showing top 20 rows\n",
      "\n"
     ]
    }
   ],
   "source": [
    "df.select(\"userId\").dropDuplicates().sort(\"userId\").show()"
   ]
  },
  {
   "cell_type": "code",
   "execution_count": 17,
   "metadata": {},
   "outputs": [],
   "source": [
    "df_valid = df_valid.filter(df_valid[\"userId\"] != \"\")"
   ]
  },
  {
   "cell_type": "markdown",
   "metadata": {},
   "source": [
    "#### Let's count the number of records after remove the empty strings from userId field"
   ]
  },
  {
   "cell_type": "code",
   "execution_count": 18,
   "metadata": {},
   "outputs": [
    {
     "data": {
      "text/plain": [
       "278154"
      ]
     },
     "execution_count": 18,
     "metadata": {},
     "output_type": "execute_result"
    }
   ],
   "source": [
    "df_valid.count()"
   ]
  },
  {
   "cell_type": "code",
   "execution_count": 19,
   "metadata": {},
   "outputs": [
    {
     "name": "stdout",
     "output_type": "stream",
     "text": [
      "+------+\n",
      "|userId|\n",
      "+------+\n",
      "|    10|\n",
      "|   100|\n",
      "|100001|\n",
      "|100002|\n",
      "|100003|\n",
      "|100004|\n",
      "|100005|\n",
      "|100006|\n",
      "|100007|\n",
      "|100008|\n",
      "|100009|\n",
      "|100010|\n",
      "|100011|\n",
      "|100012|\n",
      "|100013|\n",
      "|100014|\n",
      "|100015|\n",
      "|100016|\n",
      "|100017|\n",
      "|100018|\n",
      "+------+\n",
      "only showing top 20 rows\n",
      "\n"
     ]
    }
   ],
   "source": [
    "df_valid.select(\"userId\").dropDuplicates().sort(\"userId\").show()"
   ]
  },
  {
   "cell_type": "markdown",
   "metadata": {},
   "source": [
    "# Exploratory Data Analysis\n",
    "When you're working with the full dataset, perform EDA by loading a small subset of the data and doing basic manipulations within Spark. In this workspace, you are already provided a small subset of data you can explore.\n",
    "\n",
    "### Define Churn\n",
    "\n",
    "Once you've done some preliminary analysis, create a column `Churn` to use as the label for your model. I suggest using the `Cancellation Confirmation` events to define your churn, which happen for both paid and free users. As a bonus task, you can also look into the `Downgrade` events.\n",
    "\n",
    "### Explore Data\n",
    "Once you've defined churn, perform some exploratory data analysis to observe the behavior for users who stayed vs users who churned. You can start by exploring aggregates on these two groups of users, observing how much of a specific action they experienced per a certain time unit or number of songs played."
   ]
  },
  {
   "cell_type": "markdown",
   "metadata": {},
   "source": [
    "For this usecase, I am going to define Churn as the Cancellation Confirmation event appears\n",
    "And now, let's start with the EDA phase:"
   ]
  },
  {
   "cell_type": "code",
   "execution_count": 20,
   "metadata": {},
   "outputs": [
    {
     "data": {
      "text/plain": [
       "DataFrame[summary: string, artist: string, auth: string, firstName: string, gender: string, itemInSession: string, lastName: string, length: string, level: string, location: string, method: string, page: string, registration: string, sessionId: string, song: string, status: string, ts: string, userAgent: string, userId: string]"
      ]
     },
     "execution_count": 20,
     "metadata": {},
     "output_type": "execute_result"
    }
   ],
   "source": [
    "# Let's take an overview of the mini dataset file -->  18 fields \n",
    "df_valid.describe()"
   ]
  },
  {
   "cell_type": "code",
   "execution_count": 21,
   "metadata": {},
   "outputs": [
    {
     "name": "stdout",
     "output_type": "stream",
     "text": [
      "root\n",
      " |-- artist: string (nullable = true)\n",
      " |-- auth: string (nullable = true)\n",
      " |-- firstName: string (nullable = true)\n",
      " |-- gender: string (nullable = true)\n",
      " |-- itemInSession: long (nullable = true)\n",
      " |-- lastName: string (nullable = true)\n",
      " |-- length: double (nullable = true)\n",
      " |-- level: string (nullable = true)\n",
      " |-- location: string (nullable = true)\n",
      " |-- method: string (nullable = true)\n",
      " |-- page: string (nullable = true)\n",
      " |-- registration: long (nullable = true)\n",
      " |-- sessionId: long (nullable = true)\n",
      " |-- song: string (nullable = true)\n",
      " |-- status: long (nullable = true)\n",
      " |-- ts: long (nullable = true)\n",
      " |-- userAgent: string (nullable = true)\n",
      " |-- userId: string (nullable = true)\n",
      "\n"
     ]
    }
   ],
   "source": [
    "# Let's take a overview of the schema of the dataset file\n",
    "df_valid.printSchema()"
   ]
  },
  {
   "cell_type": "raw",
   "metadata": {},
   "source": [
    " Explanations of the fields:\n",
    " \n",
    " |-- artist: singer of the song\n",
    " |-- auth: method of accessing sparkify          (values: Logged In/Cancelled)\n",
    " |-- firstName: first name of the client\n",
    " |-- gender: gender of the client\n",
    " |-- itemInSession: item count in a session\n",
    " |-- lastName: last name of the client\n",
    " |-- length: lenght of the song\n",
    " |-- level: account contract type                (values: free/paid)\n",
    " |-- location: main location of the client\n",
    " |-- method: method for accessing sparkify (put,get, etc..)   (values: PUT/GET)\n",
    " |-- page: page where the user is\n",
    " |-- registration: time of the registration (unix timestamp)\n",
    " |-- sessionId: identification of the session\n",
    " |-- song: song the client has listened\n",
    " |-- status: status of the accessing method (http status) (values: 307/404/200)\n",
    " |-- ts: information about the time of the user event (unix timestamp)\n",
    " |-- userAgent: browser the user has accessed to sparkify with\n",
    " |-- userId: identification for the client"
   ]
  },
  {
   "cell_type": "code",
   "execution_count": 22,
   "metadata": {},
   "outputs": [],
   "source": [
    "# Let's categorize the columns, depending on their type\n",
    "cat_cols,num_cols = cat_or_num(df)"
   ]
  },
  {
   "cell_type": "code",
   "execution_count": 23,
   "metadata": {},
   "outputs": [
    {
     "name": "stdout",
     "output_type": "stream",
     "text": [
      "The categorical columns are: ['artist', 'auth', 'firstName', 'gender', 'lastName', 'level', 'location', 'method', 'page', 'song', 'userAgent', 'userId']\n"
     ]
    }
   ],
   "source": [
    "print (\"The categorical columns are: {}\".format(cat_cols))"
   ]
  },
  {
   "cell_type": "code",
   "execution_count": 24,
   "metadata": {},
   "outputs": [
    {
     "name": "stdout",
     "output_type": "stream",
     "text": [
      "The numerical columns are: ['itemInSession', 'length', 'registration', 'sessionId', 'status', 'ts']\n"
     ]
    }
   ],
   "source": [
    "print (\"The numerical columns are: {}\".format(num_cols))"
   ]
  },
  {
   "cell_type": "code",
   "execution_count": 25,
   "metadata": {},
   "outputs": [
    {
     "data": {
      "text/plain": [
       "278154"
      ]
     },
     "execution_count": 25,
     "metadata": {},
     "output_type": "execute_result"
    }
   ],
   "source": [
    "# Let's see how many registries the file has --> we have 278.154 records\n",
    "df_valid.count()"
   ]
  },
  {
   "cell_type": "code",
   "execution_count": 26,
   "metadata": {},
   "outputs": [
    {
     "data": {
      "text/plain": [
       "Row(artist='Martha Tilston', auth='Logged In', firstName='Colin', gender='M', itemInSession=50, lastName='Freeman', length=277.89016, level='paid', location='Bakersfield, CA', method='PUT', page='NextSong', registration=1538173362000, sessionId=29, song='Rockpools', status=200, ts=1538352117000, userAgent='Mozilla/5.0 (Windows NT 6.1; WOW64; rv:31.0) Gecko/20100101 Firefox/31.0', userId='30')"
      ]
     },
     "execution_count": 26,
     "metadata": {},
     "output_type": "execute_result"
    }
   ],
   "source": [
    "# Let's take a look at the first lines of the file, to see what they look like\n",
    "df_valid.head()"
   ]
  },
  {
   "cell_type": "code",
   "execution_count": 27,
   "metadata": {},
   "outputs": [
    {
     "name": "stdout",
     "output_type": "stream",
     "text": [
      "+--------------+---------+---------+------+-------------+--------+---------+-----+---------------+------+--------+-------------+---------+---------+------+-------------+--------------------+------+\n",
      "|        artist|     auth|firstName|gender|itemInSession|lastName|   length|level|       location|method|    page| registration|sessionId|     song|status|           ts|           userAgent|userId|\n",
      "+--------------+---------+---------+------+-------------+--------+---------+-----+---------------+------+--------+-------------+---------+---------+------+-------------+--------------------+------+\n",
      "|Martha Tilston|Logged In|    Colin|     M|           50| Freeman|277.89016| paid|Bakersfield, CA|   PUT|NextSong|1538173362000|       29|Rockpools|   200|1538352117000|Mozilla/5.0 (Wind...|    30|\n",
      "+--------------+---------+---------+------+-------------+--------+---------+-----+---------------+------+--------+-------------+---------+---------+------+-------------+--------------------+------+\n",
      "only showing top 1 row\n",
      "\n"
     ]
    }
   ],
   "source": [
    "# Let's see just one row\n",
    "df_valid.show(n=1)"
   ]
  },
  {
   "cell_type": "code",
   "execution_count": 28,
   "metadata": {},
   "outputs": [
    {
     "data": {
      "text/plain": [
       "[Row(artist='Martha Tilston', auth='Logged In', firstName='Colin', gender='M', itemInSession=50, lastName='Freeman', length=277.89016, level='paid', location='Bakersfield, CA', method='PUT', page='NextSong', registration=1538173362000, sessionId=29, song='Rockpools', status=200, ts=1538352117000, userAgent='Mozilla/5.0 (Windows NT 6.1; WOW64; rv:31.0) Gecko/20100101 Firefox/31.0', userId='30'),\n",
       " Row(artist='Five Iron Frenzy', auth='Logged In', firstName='Micah', gender='M', itemInSession=79, lastName='Long', length=236.09424, level='free', location='Boston-Cambridge-Newton, MA-NH', method='PUT', page='NextSong', registration=1538331630000, sessionId=8, song='Canada', status=200, ts=1538352180000, userAgent='\"Mozilla/5.0 (Windows NT 6.1; WOW64) AppleWebKit/537.36 (KHTML, like Gecko) Chrome/37.0.2062.103 Safari/537.36\"', userId='9'),\n",
       " Row(artist='Adam Lambert', auth='Logged In', firstName='Colin', gender='M', itemInSession=51, lastName='Freeman', length=282.8273, level='paid', location='Bakersfield, CA', method='PUT', page='NextSong', registration=1538173362000, sessionId=29, song='Time For Miracles', status=200, ts=1538352394000, userAgent='Mozilla/5.0 (Windows NT 6.1; WOW64; rv:31.0) Gecko/20100101 Firefox/31.0', userId='30'),\n",
       " Row(artist='Enigma', auth='Logged In', firstName='Micah', gender='M', itemInSession=80, lastName='Long', length=262.71302, level='free', location='Boston-Cambridge-Newton, MA-NH', method='PUT', page='NextSong', registration=1538331630000, sessionId=8, song='Knocking On Forbidden Doors', status=200, ts=1538352416000, userAgent='\"Mozilla/5.0 (Windows NT 6.1; WOW64) AppleWebKit/537.36 (KHTML, like Gecko) Chrome/37.0.2062.103 Safari/537.36\"', userId='9'),\n",
       " Row(artist='Daft Punk', auth='Logged In', firstName='Colin', gender='M', itemInSession=52, lastName='Freeman', length=223.60771, level='paid', location='Bakersfield, CA', method='PUT', page='NextSong', registration=1538173362000, sessionId=29, song='Harder Better Faster Stronger', status=200, ts=1538352676000, userAgent='Mozilla/5.0 (Windows NT 6.1; WOW64; rv:31.0) Gecko/20100101 Firefox/31.0', userId='30')]"
      ]
     },
     "execution_count": 28,
     "metadata": {},
     "output_type": "execute_result"
    }
   ],
   "source": [
    "df_valid.take(5)"
   ]
  },
  {
   "cell_type": "code",
   "execution_count": 29,
   "metadata": {},
   "outputs": [
    {
     "name": "stdout",
     "output_type": "stream",
     "text": [
      "+-------+-----------------+------+---------+------+------------------+--------+-----------------+------+--------+------+------+--------------------+------------------+--------+------------------+--------------------+---------+-----------------+\n",
      "|summary|           artist|  auth|firstName|gender|     itemInSession|lastName|           length| level|location|method|  page|        registration|         sessionId|    song|            status|                  ts|userAgent|           userId|\n",
      "+-------+-----------------+------+---------+------+------------------+--------+-----------------+------+--------+------+------+--------------------+------------------+--------+------------------+--------------------+---------+-----------------+\n",
      "|  count|           228108|278154|   278154|278154|            278154|  278154|           228108|278154|  278154|278154|278154|              278154|            278154|  228108|            278154|              278154|   278154|           278154|\n",
      "|   mean|551.0852017937219|  null|     null|  null|114.89918174824018|    null|249.1171819778458|  null|    null|  null|  null|1.535358834084427...|1042.5616241362698|Infinity|209.10321620397335|1.540958915431871...|     null|59682.02278593872|\n",
      "+-------+-----------------+------+---------+------+------------------+--------+-----------------+------+--------+------+------+--------------------+------------------+--------+------------------+--------------------+---------+-----------------+\n",
      "only showing top 2 rows\n",
      "\n"
     ]
    }
   ],
   "source": [
    "# Let's have an statistic overview of the dataset --> but with this view it is difficult to see...\n",
    "df_valid.describe().show(n=2)"
   ]
  },
  {
   "cell_type": "code",
   "execution_count": 30,
   "metadata": {},
   "outputs": [
    {
     "name": "stdout",
     "output_type": "stream",
     "text": [
      "+-------+------------------+\n",
      "|summary|            artist|\n",
      "+-------+------------------+\n",
      "|  count|            228108|\n",
      "|   mean| 551.0852017937219|\n",
      "| stddev|1217.7693079161374|\n",
      "|    min|               !!!|\n",
      "|    max| ÃÂlafur Arnalds|\n",
      "+-------+------------------+\n",
      "\n"
     ]
    }
   ],
   "source": [
    "# Let's better go field by field \n",
    "df_valid.describe('artist').show()"
   ]
  },
  {
   "cell_type": "code",
   "execution_count": 31,
   "metadata": {},
   "outputs": [
    {
     "name": "stdout",
     "output_type": "stream",
     "text": [
      "+-------+---------+\n",
      "|summary|     auth|\n",
      "+-------+---------+\n",
      "|  count|   278154|\n",
      "|   mean|     null|\n",
      "| stddev|     null|\n",
      "|    min|Cancelled|\n",
      "|    max|Logged In|\n",
      "+-------+---------+\n",
      "\n"
     ]
    }
   ],
   "source": [
    "df_valid.describe('auth').show()"
   ]
  },
  {
   "cell_type": "code",
   "execution_count": 32,
   "metadata": {},
   "outputs": [
    {
     "data": {
      "text/plain": [
       "[Row(auth='Cancelled'), Row(auth='Logged In')]"
      ]
     },
     "execution_count": 32,
     "metadata": {},
     "output_type": "execute_result"
    }
   ],
   "source": [
    "# We have two values for auth = Logged In or Cancelled\n",
    "df_valid.select('auth').distinct().collect()"
   ]
  },
  {
   "cell_type": "code",
   "execution_count": 33,
   "metadata": {},
   "outputs": [
    {
     "name": "stdout",
     "output_type": "stream",
     "text": [
      "+-------+---------+\n",
      "|summary|firstName|\n",
      "+-------+---------+\n",
      "|  count|   278154|\n",
      "|   mean|     null|\n",
      "| stddev|     null|\n",
      "|    min| Adelaida|\n",
      "|    max|   Zyonna|\n",
      "+-------+---------+\n",
      "\n"
     ]
    }
   ],
   "source": [
    "df_valid.describe('firstName').show()"
   ]
  },
  {
   "cell_type": "code",
   "execution_count": 34,
   "metadata": {},
   "outputs": [
    {
     "name": "stdout",
     "output_type": "stream",
     "text": [
      "+-------+------+\n",
      "|summary|gender|\n",
      "+-------+------+\n",
      "|  count|278154|\n",
      "|   mean|  null|\n",
      "| stddev|  null|\n",
      "|    min|     F|\n",
      "|    max|     M|\n",
      "+-------+------+\n",
      "\n"
     ]
    }
   ],
   "source": [
    "df_valid.describe('gender').show()"
   ]
  },
  {
   "cell_type": "code",
   "execution_count": 35,
   "metadata": {},
   "outputs": [
    {
     "data": {
      "text/plain": [
       "[Row(gender='F'), Row(gender='M')]"
      ]
     },
     "execution_count": 35,
     "metadata": {},
     "output_type": "execute_result"
    }
   ],
   "source": [
    "df_valid.select('gender').distinct().collect()"
   ]
  },
  {
   "cell_type": "code",
   "execution_count": 36,
   "metadata": {},
   "outputs": [
    {
     "name": "stdout",
     "output_type": "stream",
     "text": [
      "+-------+------------------+\n",
      "|summary|     itemInSession|\n",
      "+-------+------------------+\n",
      "|  count|            278154|\n",
      "|   mean|114.89918174824018|\n",
      "| stddev|  129.851729399489|\n",
      "|    min|                 0|\n",
      "|    max|              1321|\n",
      "+-------+------------------+\n",
      "\n"
     ]
    }
   ],
   "source": [
    "df_valid.describe('itemInSession').show()"
   ]
  },
  {
   "cell_type": "code",
   "execution_count": 37,
   "metadata": {},
   "outputs": [
    {
     "name": "stdout",
     "output_type": "stream",
     "text": [
      "+-------+--------+\n",
      "|summary|lastName|\n",
      "+-------+--------+\n",
      "|  count|  278154|\n",
      "|   mean|    null|\n",
      "| stddev|    null|\n",
      "|    min|   Adams|\n",
      "|    max|  Wright|\n",
      "+-------+--------+\n",
      "\n"
     ]
    }
   ],
   "source": [
    "df_valid.describe('lastName').show()"
   ]
  },
  {
   "cell_type": "code",
   "execution_count": 38,
   "metadata": {},
   "outputs": [
    {
     "name": "stdout",
     "output_type": "stream",
     "text": [
      "+-------+-----------------+\n",
      "|summary|           length|\n",
      "+-------+-----------------+\n",
      "|  count|           228108|\n",
      "|   mean|249.1171819778458|\n",
      "| stddev|99.23517921058361|\n",
      "|    min|          0.78322|\n",
      "|    max|       3024.66567|\n",
      "+-------+-----------------+\n",
      "\n"
     ]
    }
   ],
   "source": [
    "df_valid.describe('length').show()"
   ]
  },
  {
   "cell_type": "code",
   "execution_count": 39,
   "metadata": {},
   "outputs": [
    {
     "name": "stdout",
     "output_type": "stream",
     "text": [
      "+-------+------+\n",
      "|summary| level|\n",
      "+-------+------+\n",
      "|  count|278154|\n",
      "|   mean|  null|\n",
      "| stddev|  null|\n",
      "|    min|  free|\n",
      "|    max|  paid|\n",
      "+-------+------+\n",
      "\n"
     ]
    }
   ],
   "source": [
    "df_valid.describe('level').show()"
   ]
  },
  {
   "cell_type": "code",
   "execution_count": 40,
   "metadata": {},
   "outputs": [
    {
     "data": {
      "text/plain": [
       "[Row(level='free'), Row(level='paid')]"
      ]
     },
     "execution_count": 40,
     "metadata": {},
     "output_type": "execute_result"
    }
   ],
   "source": [
    "df_valid.select('level').distinct().collect() #--> two values: free or paid "
   ]
  },
  {
   "cell_type": "code",
   "execution_count": 41,
   "metadata": {},
   "outputs": [
    {
     "name": "stdout",
     "output_type": "stream",
     "text": [
      "+-------+-----------------+\n",
      "|summary|         location|\n",
      "+-------+-----------------+\n",
      "|  count|           278154|\n",
      "|   mean|             null|\n",
      "| stddev|             null|\n",
      "|    min|       Albany, OR|\n",
      "|    max|Winston-Salem, NC|\n",
      "+-------+-----------------+\n",
      "\n"
     ]
    }
   ],
   "source": [
    "df_valid.describe('location').show()"
   ]
  },
  {
   "cell_type": "code",
   "execution_count": 42,
   "metadata": {},
   "outputs": [
    {
     "data": {
      "text/plain": [
       "[Row(location='Gainesville, FL'),\n",
       " Row(location='Atlantic City-Hammonton, NJ'),\n",
       " Row(location='Deltona-Daytona Beach-Ormond Beach, FL'),\n",
       " Row(location='San Diego-Carlsbad, CA'),\n",
       " Row(location='Cleveland-Elyria, OH'),\n",
       " Row(location='Kingsport-Bristol-Bristol, TN-VA'),\n",
       " Row(location='New Haven-Milford, CT'),\n",
       " Row(location='Birmingham-Hoover, AL'),\n",
       " Row(location='Corpus Christi, TX'),\n",
       " Row(location='Dubuque, IA'),\n",
       " Row(location='Las Vegas-Henderson-Paradise, NV'),\n",
       " Row(location='Indianapolis-Carmel-Anderson, IN'),\n",
       " Row(location='Seattle-Tacoma-Bellevue, WA'),\n",
       " Row(location='Albany, OR'),\n",
       " Row(location='Winston-Salem, NC'),\n",
       " Row(location='Bakersfield, CA'),\n",
       " Row(location='Los Angeles-Long Beach-Anaheim, CA'),\n",
       " Row(location='Minneapolis-St. Paul-Bloomington, MN-WI'),\n",
       " Row(location='San Francisco-Oakland-Hayward, CA'),\n",
       " Row(location='Phoenix-Mesa-Scottsdale, AZ'),\n",
       " Row(location='Allentown-Bethlehem-Easton, PA-NJ'),\n",
       " Row(location='Miami-Fort Lauderdale-West Palm Beach, FL'),\n",
       " Row(location='Selma, AL'),\n",
       " Row(location='Dayton, OH'),\n",
       " Row(location='San Jose-Sunnyvale-Santa Clara, CA'),\n",
       " Row(location='Bridgeport-Stamford-Norwalk, CT'),\n",
       " Row(location='Price, UT'),\n",
       " Row(location='Providence-Warwick, RI-MA'),\n",
       " Row(location='Columbus, GA-AL'),\n",
       " Row(location='Greenville-Anderson-Mauldin, SC'),\n",
       " Row(location='Logan, UT-ID'),\n",
       " Row(location='Myrtle Beach-Conway-North Myrtle Beach, SC-NC'),\n",
       " Row(location='Buffalo-Cheektowaga-Niagara Falls, NY'),\n",
       " Row(location='Cookeville, TN'),\n",
       " Row(location='New Philadelphia-Dover, OH'),\n",
       " Row(location='Anchorage, AK'),\n",
       " Row(location='New York-Newark-Jersey City, NY-NJ-PA'),\n",
       " Row(location='St. Louis, MO-IL'),\n",
       " Row(location='Jackson, MS'),\n",
       " Row(location='Orlando-Kissimmee-Sanford, FL'),\n",
       " Row(location='McAllen-Edinburg-Mission, TX'),\n",
       " Row(location='Oxnard-Thousand Oaks-Ventura, CA'),\n",
       " Row(location='Memphis, TN-MS-AR'),\n",
       " Row(location='San Antonio-New Braunfels, TX'),\n",
       " Row(location='Troy, AL'),\n",
       " Row(location='Duluth, MN-WI'),\n",
       " Row(location='Danville, VA'),\n",
       " Row(location='Washington-Arlington-Alexandria, DC-VA-MD-WV'),\n",
       " Row(location='Manchester-Nashua, NH'),\n",
       " Row(location='Greensboro-High Point, NC'),\n",
       " Row(location='Sterling, IL'),\n",
       " Row(location='Napa, CA'),\n",
       " Row(location='Monroe, LA'),\n",
       " Row(location='Louisville/Jefferson County, KY-IN'),\n",
       " Row(location='Syracuse, NY'),\n",
       " Row(location='Little Rock-North Little Rock-Conway, AR'),\n",
       " Row(location='Austin-Round Rock, TX'),\n",
       " Row(location='Kansas City, MO-KS'),\n",
       " Row(location='Cincinnati, OH-KY-IN'),\n",
       " Row(location='Bozeman, MT'),\n",
       " Row(location='Truckee-Grass Valley, CA'),\n",
       " Row(location='Boston-Cambridge-Newton, MA-NH'),\n",
       " Row(location='Philadelphia-Camden-Wilmington, PA-NJ-DE-MD'),\n",
       " Row(location='Atlanta-Sandy Springs-Roswell, GA'),\n",
       " Row(location='Pittsburgh, PA'),\n",
       " Row(location='Chicago-Naperville-Elgin, IL-IN-WI'),\n",
       " Row(location='Dallas-Fort Worth-Arlington, TX'),\n",
       " Row(location='North Wilkesboro, NC'),\n",
       " Row(location='Oklahoma City, OK'),\n",
       " Row(location='Albany-Schenectady-Troy, NY'),\n",
       " Row(location='Quincy, IL-MO'),\n",
       " Row(location='Pontiac, IL'),\n",
       " Row(location='Jacksonville, FL'),\n",
       " Row(location='Fairbanks, AK'),\n",
       " Row(location='Houston-The Woodlands-Sugar Land, TX'),\n",
       " Row(location='Montgomery, AL'),\n",
       " Row(location='Hartford-West Hartford-East Hartford, CT'),\n",
       " Row(location='Port St. Lucie, FL'),\n",
       " Row(location='Omaha-Council Bluffs, NE-IA'),\n",
       " Row(location='Charlotte-Concord-Gastonia, NC-SC'),\n",
       " Row(location='Baltimore-Columbia-Towson, MD'),\n",
       " Row(location='Raleigh, NC'),\n",
       " Row(location='Sacramento--Roseville--Arden-Arcade, CA'),\n",
       " Row(location='Laurel, MS'),\n",
       " Row(location='Lexington-Fayette, KY'),\n",
       " Row(location='Tampa-St. Petersburg-Clearwater, FL'),\n",
       " Row(location='London, KY'),\n",
       " Row(location='Tallahassee, FL'),\n",
       " Row(location='Roanoke, VA'),\n",
       " Row(location='Virginia Beach-Norfolk-Newport News, VA-NC'),\n",
       " Row(location='Riverside-San Bernardino-Ontario, CA'),\n",
       " Row(location='Concord, NH'),\n",
       " Row(location='Stockton-Lodi, CA'),\n",
       " Row(location='Boulder, CO'),\n",
       " Row(location='Milwaukee-Waukesha-West Allis, WI'),\n",
       " Row(location='Detroit-Warren-Dearborn, MI'),\n",
       " Row(location='Billings, MT'),\n",
       " Row(location='Alexandria, LA'),\n",
       " Row(location='Salinas, CA'),\n",
       " Row(location='Ionia, MI'),\n",
       " Row(location='Morgantown, WV'),\n",
       " Row(location='Vineland-Bridgeton, NJ'),\n",
       " Row(location='Jacksonville, NC'),\n",
       " Row(location='Spokane-Spokane Valley, WA'),\n",
       " Row(location='Scranton--Wilkes-Barre--Hazleton, PA'),\n",
       " Row(location='Kankakee, IL'),\n",
       " Row(location='Portland-Vancouver-Hillsboro, OR-WA'),\n",
       " Row(location='Denver-Aurora-Lakewood, CO'),\n",
       " Row(location='Flint, MI'),\n",
       " Row(location='Santa Maria-Santa Barbara, CA'),\n",
       " Row(location='Muncie, IN'),\n",
       " Row(location='Colorado Springs, CO'),\n",
       " Row(location='Wilson, NC'),\n",
       " Row(location='Hagerstown-Martinsburg, MD-WV')]"
      ]
     },
     "execution_count": 42,
     "metadata": {},
     "output_type": "execute_result"
    }
   ],
   "source": [
    "# Let's see the different locations, it is a string composed by two parts separated by a comma: \n",
    "# the first one is the name of the location, the second one after the comma is the abbreviation of the location\n",
    "# for an easier management of this information, we will use the second part\n",
    "\n",
    "df_valid.select('location').distinct().collect()"
   ]
  },
  {
   "cell_type": "code",
   "execution_count": 43,
   "metadata": {},
   "outputs": [
    {
     "data": {
      "text/plain": [
       "[Row(short_location=' CA'),\n",
       " Row(short_location=' MA-NH'),\n",
       " Row(short_location=' CA'),\n",
       " Row(short_location=' MA-NH'),\n",
       " Row(short_location=' CA'),\n",
       " Row(short_location=' MA-NH'),\n",
       " Row(short_location=' MA-NH'),\n",
       " Row(short_location=' CA'),\n",
       " Row(short_location=' CA'),\n",
       " Row(short_location=' CA'),\n",
       " Row(short_location=' MA-NH'),\n",
       " Row(short_location=' MA-NH'),\n",
       " Row(short_location=' CA'),\n",
       " Row(short_location=' MA-NH'),\n",
       " Row(short_location=' MA-NH'),\n",
       " Row(short_location=' CA'),\n",
       " Row(short_location=' MA-NH'),\n",
       " Row(short_location=' FL'),\n",
       " Row(short_location=' CA'),\n",
       " Row(short_location=' MA-NH'),\n",
       " Row(short_location=' FL'),\n",
       " Row(short_location=' CA'),\n",
       " Row(short_location=' WA'),\n",
       " Row(short_location=' MA-NH'),\n",
       " Row(short_location=' FL'),\n",
       " Row(short_location=' CA'),\n",
       " Row(short_location=' WA'),\n",
       " Row(short_location=' MA-NH'),\n",
       " Row(short_location=' FL'),\n",
       " Row(short_location=' CA'),\n",
       " Row(short_location=' WA'),\n",
       " Row(short_location=' MA-NH'),\n",
       " Row(short_location=' CA'),\n",
       " Row(short_location=' FL'),\n",
       " Row(short_location=' WA'),\n",
       " Row(short_location=' WA'),\n",
       " Row(short_location=' CA'),\n",
       " Row(short_location=' MA-NH'),\n",
       " Row(short_location=' CA'),\n",
       " Row(short_location=' WA'),\n",
       " Row(short_location=' FL'),\n",
       " Row(short_location=' MA-NH'),\n",
       " Row(short_location=' FL'),\n",
       " Row(short_location=' WA'),\n",
       " Row(short_location=' WA'),\n",
       " Row(short_location=' CA'),\n",
       " Row(short_location=' MA-NH'),\n",
       " Row(short_location=' MA-NH'),\n",
       " Row(short_location=' FL'),\n",
       " Row(short_location=' CA'),\n",
       " Row(short_location=' MA-NH'),\n",
       " Row(short_location=' MA-NH'),\n",
       " Row(short_location=' MA-NH'),\n",
       " Row(short_location=' MA-NH'),\n",
       " Row(short_location=' FL'),\n",
       " Row(short_location=' CA'),\n",
       " Row(short_location=' FL'),\n",
       " Row(short_location=' MA-NH'),\n",
       " Row(short_location=' MA-NH'),\n",
       " Row(short_location=' CA'),\n",
       " Row(short_location=' FL'),\n",
       " Row(short_location=' MA-NH'),\n",
       " Row(short_location=' FL'),\n",
       " Row(short_location=' MA-NH'),\n",
       " Row(short_location=' CA'),\n",
       " Row(short_location=' FL'),\n",
       " Row(short_location=' CA'),\n",
       " Row(short_location=' CA'),\n",
       " Row(short_location=' FL'),\n",
       " Row(short_location=' MA-NH'),\n",
       " Row(short_location=' MD'),\n",
       " Row(short_location=' MD'),\n",
       " Row(short_location=' MD'),\n",
       " Row(short_location=' CA'),\n",
       " Row(short_location=' FL'),\n",
       " Row(short_location=' FL'),\n",
       " Row(short_location=' FL'),\n",
       " Row(short_location=' MD'),\n",
       " Row(short_location=' CA'),\n",
       " Row(short_location=' MA-NH'),\n",
       " Row(short_location=' MD'),\n",
       " Row(short_location=' FL'),\n",
       " Row(short_location=' FL'),\n",
       " Row(short_location=' MD'),\n",
       " Row(short_location=' MA-NH'),\n",
       " Row(short_location=' MA-NH'),\n",
       " Row(short_location=' CA'),\n",
       " Row(short_location=' MD'),\n",
       " Row(short_location=' FL'),\n",
       " Row(short_location=' MA-NH'),\n",
       " Row(short_location=' CA'),\n",
       " Row(short_location=' MD'),\n",
       " Row(short_location=' FL'),\n",
       " Row(short_location=' MA-NH'),\n",
       " Row(short_location=' CA'),\n",
       " Row(short_location=' CA'),\n",
       " Row(short_location=' MD'),\n",
       " Row(short_location=' MA-NH'),\n",
       " Row(short_location=' FL'),\n",
       " Row(short_location=' FL'),\n",
       " Row(short_location=' CA'),\n",
       " Row(short_location=' CA'),\n",
       " Row(short_location=' MD'),\n",
       " Row(short_location=' MA-NH'),\n",
       " Row(short_location=' FL'),\n",
       " Row(short_location=' FL'),\n",
       " Row(short_location=' MD'),\n",
       " Row(short_location=' MA-NH'),\n",
       " Row(short_location=' CA'),\n",
       " Row(short_location=' MD'),\n",
       " Row(short_location=' CA'),\n",
       " Row(short_location=' CO'),\n",
       " Row(short_location=' MA-NH'),\n",
       " Row(short_location=' MA-NH'),\n",
       " Row(short_location=' CA'),\n",
       " Row(short_location=' MA-NH'),\n",
       " Row(short_location=' CO'),\n",
       " Row(short_location=' MA-NH'),\n",
       " Row(short_location=' CO'),\n",
       " Row(short_location=' CA'),\n",
       " Row(short_location=' TX'),\n",
       " Row(short_location=' TX'),\n",
       " Row(short_location=' MA-NH'),\n",
       " Row(short_location=' MA-NH'),\n",
       " Row(short_location=' CO'),\n",
       " Row(short_location=' CA'),\n",
       " Row(short_location=' TX'),\n",
       " Row(short_location=' CO'),\n",
       " Row(short_location=' TX'),\n",
       " Row(short_location=' CO'),\n",
       " Row(short_location=' MD'),\n",
       " Row(short_location=' TX'),\n",
       " Row(short_location=' CO'),\n",
       " Row(short_location=' MD'),\n",
       " Row(short_location=' TX'),\n",
       " Row(short_location=' CO'),\n",
       " Row(short_location=' MA-NH'),\n",
       " Row(short_location=' MA-NH'),\n",
       " Row(short_location=' MA-NH'),\n",
       " Row(short_location=' GA-AL'),\n",
       " Row(short_location=' GA-AL'),\n",
       " Row(short_location=' MD'),\n",
       " Row(short_location=' CO'),\n",
       " Row(short_location=' MA-NH'),\n",
       " Row(short_location=' MA-NH'),\n",
       " Row(short_location=' TX'),\n",
       " Row(short_location=' MD'),\n",
       " Row(short_location=' CO'),\n",
       " Row(short_location=' GA-AL'),\n",
       " Row(short_location=' TX'),\n",
       " Row(short_location=' TX'),\n",
       " Row(short_location=' MD'),\n",
       " Row(short_location=' CO'),\n",
       " Row(short_location=' CA'),\n",
       " Row(short_location=' TX'),\n",
       " Row(short_location=' CA'),\n",
       " Row(short_location=' GA-AL'),\n",
       " Row(short_location=' MD'),\n",
       " Row(short_location=' CA'),\n",
       " Row(short_location=' GA-AL'),\n",
       " Row(short_location=' GA-AL'),\n",
       " Row(short_location=' CO'),\n",
       " Row(short_location=' TX'),\n",
       " Row(short_location=' MD'),\n",
       " Row(short_location=' CA'),\n",
       " Row(short_location=' GA-AL'),\n",
       " Row(short_location=' GA-AL'),\n",
       " Row(short_location=' CO'),\n",
       " Row(short_location=' CO'),\n",
       " Row(short_location=' TX'),\n",
       " Row(short_location=' MD'),\n",
       " Row(short_location=' CA'),\n",
       " Row(short_location=' CO'),\n",
       " Row(short_location=' TX'),\n",
       " Row(short_location=' TX'),\n",
       " Row(short_location=' CA'),\n",
       " Row(short_location=' CO'),\n",
       " Row(short_location=' TX'),\n",
       " Row(short_location=' CA'),\n",
       " Row(short_location=' MD'),\n",
       " Row(short_location=' CO'),\n",
       " Row(short_location=' TX'),\n",
       " Row(short_location=' TX'),\n",
       " Row(short_location=' MD'),\n",
       " Row(short_location=' TX'),\n",
       " Row(short_location=' TX'),\n",
       " Row(short_location=' TX'),\n",
       " Row(short_location=' TX'),\n",
       " Row(short_location=' TX'),\n",
       " Row(short_location=' CO'),\n",
       " Row(short_location=' CO'),\n",
       " Row(short_location=' TX'),\n",
       " Row(short_location=' TX'),\n",
       " Row(short_location=' CO'),\n",
       " Row(short_location=' TX'),\n",
       " Row(short_location=' TX'),\n",
       " Row(short_location=' CO'),\n",
       " Row(short_location=' TX'),\n",
       " Row(short_location=' TX'),\n",
       " Row(short_location=' TX'),\n",
       " Row(short_location=' CO'),\n",
       " Row(short_location=' TX'),\n",
       " Row(short_location=' CO'),\n",
       " Row(short_location=' CO'),\n",
       " Row(short_location=' TX'),\n",
       " Row(short_location=' CO'),\n",
       " Row(short_location=' TX'),\n",
       " Row(short_location=' TX'),\n",
       " Row(short_location=' TX'),\n",
       " Row(short_location=' TX'),\n",
       " Row(short_location=' CO'),\n",
       " Row(short_location=' TX'),\n",
       " Row(short_location=' TX'),\n",
       " Row(short_location=' TX'),\n",
       " Row(short_location=' CO'),\n",
       " Row(short_location=' TX'),\n",
       " Row(short_location=' TX'),\n",
       " Row(short_location=' TX'),\n",
       " Row(short_location=' CO'),\n",
       " Row(short_location=' TX'),\n",
       " Row(short_location=' CO'),\n",
       " Row(short_location=' CO'),\n",
       " Row(short_location=' TX'),\n",
       " Row(short_location=' TX'),\n",
       " Row(short_location=' CO'),\n",
       " Row(short_location=' TX'),\n",
       " Row(short_location=' CO'),\n",
       " Row(short_location=' TX'),\n",
       " Row(short_location=' TX'),\n",
       " Row(short_location=' CO'),\n",
       " Row(short_location=' CO'),\n",
       " Row(short_location=' TX'),\n",
       " Row(short_location=' AZ'),\n",
       " Row(short_location=' CO'),\n",
       " Row(short_location=' CO'),\n",
       " Row(short_location=' TX'),\n",
       " Row(short_location=' AZ'),\n",
       " Row(short_location=' CO'),\n",
       " Row(short_location=' AZ'),\n",
       " Row(short_location=' TX'),\n",
       " Row(short_location=' CO'),\n",
       " Row(short_location=' AZ'),\n",
       " Row(short_location=' TX'),\n",
       " Row(short_location=' AZ'),\n",
       " Row(short_location=' TX'),\n",
       " Row(short_location=' AZ'),\n",
       " Row(short_location=' CO'),\n",
       " Row(short_location=' TX'),\n",
       " Row(short_location=' AZ'),\n",
       " Row(short_location=' AZ'),\n",
       " Row(short_location=' TX'),\n",
       " Row(short_location=' TX'),\n",
       " Row(short_location=' CO'),\n",
       " Row(short_location=' TX'),\n",
       " Row(short_location=' AZ'),\n",
       " Row(short_location=' CO'),\n",
       " Row(short_location=' FL'),\n",
       " Row(short_location=' FL'),\n",
       " Row(short_location=' TX'),\n",
       " Row(short_location=' FL'),\n",
       " Row(short_location=' TX'),\n",
       " Row(short_location=' CO'),\n",
       " Row(short_location=' FL'),\n",
       " Row(short_location=' TX'),\n",
       " Row(short_location=' CO'),\n",
       " Row(short_location=' AZ'),\n",
       " Row(short_location=' FL'),\n",
       " Row(short_location=' FL'),\n",
       " Row(short_location=' FL'),\n",
       " Row(short_location=' TX'),\n",
       " Row(short_location=' AZ'),\n",
       " Row(short_location=' AZ'),\n",
       " Row(short_location=' FL'),\n",
       " Row(short_location=' CO'),\n",
       " Row(short_location=' AZ'),\n",
       " Row(short_location=' TX'),\n",
       " Row(short_location=' TX'),\n",
       " Row(short_location=' FL'),\n",
       " Row(short_location=' AZ'),\n",
       " Row(short_location=' TX'),\n",
       " Row(short_location=' CO'),\n",
       " Row(short_location=' CO'),\n",
       " Row(short_location=' FL'),\n",
       " Row(short_location=' AZ'),\n",
       " Row(short_location=' TX'),\n",
       " Row(short_location=' FL'),\n",
       " Row(short_location=' AZ'),\n",
       " Row(short_location=' AZ'),\n",
       " Row(short_location=' AZ'),\n",
       " Row(short_location=' TX'),\n",
       " Row(short_location=' FL'),\n",
       " Row(short_location=' AZ'),\n",
       " Row(short_location=' TX'),\n",
       " Row(short_location=' AZ'),\n",
       " Row(short_location=' AZ'),\n",
       " Row(short_location=' FL'),\n",
       " Row(short_location=' FL'),\n",
       " Row(short_location=' TX'),\n",
       " Row(short_location=' FL'),\n",
       " Row(short_location=' TX'),\n",
       " Row(short_location=' AZ'),\n",
       " Row(short_location=' FL'),\n",
       " Row(short_location=' TX'),\n",
       " Row(short_location=' TX'),\n",
       " Row(short_location=' AZ'),\n",
       " Row(short_location=' FL'),\n",
       " Row(short_location=' NY-NJ-PA'),\n",
       " Row(short_location=' NY-NJ-PA'),\n",
       " Row(short_location=' TX'),\n",
       " Row(short_location=' AZ'),\n",
       " Row(short_location=' PA-NJ-DE-MD'),\n",
       " Row(short_location=' NY-NJ-PA'),\n",
       " Row(short_location=' TX'),\n",
       " Row(short_location=' AZ'),\n",
       " Row(short_location=' FL'),\n",
       " Row(short_location=' NY-NJ-PA'),\n",
       " Row(short_location=' TX'),\n",
       " Row(short_location=' AZ'),\n",
       " Row(short_location=' FL'),\n",
       " Row(short_location=' PA-NJ-DE-MD'),\n",
       " Row(short_location=' NY-NJ-PA'),\n",
       " Row(short_location=' AZ'),\n",
       " Row(short_location=' AZ'),\n",
       " Row(short_location=' PA-NJ-DE-MD'),\n",
       " Row(short_location=' GA'),\n",
       " Row(short_location=' FL'),\n",
       " Row(short_location=' PA-NJ-DE-MD'),\n",
       " Row(short_location=' PA-NJ-DE-MD'),\n",
       " Row(short_location=' NY-NJ-PA'),\n",
       " Row(short_location=' TX'),\n",
       " Row(short_location=' TX'),\n",
       " Row(short_location=' FL'),\n",
       " Row(short_location=' NY-NJ-PA'),\n",
       " Row(short_location=' PA-NJ-DE-MD'),\n",
       " Row(short_location=' GA'),\n",
       " Row(short_location=' TX'),\n",
       " Row(short_location=' AZ'),\n",
       " Row(short_location=' AZ'),\n",
       " Row(short_location=' FL'),\n",
       " Row(short_location=' NY-NJ-PA'),\n",
       " Row(short_location=' PA-NJ-DE-MD'),\n",
       " Row(short_location=' PA-NJ-DE-MD'),\n",
       " Row(short_location=' PA-NJ-DE-MD'),\n",
       " Row(short_location=' TX'),\n",
       " Row(short_location=' AZ'),\n",
       " Row(short_location=' GA'),\n",
       " Row(short_location=' GA'),\n",
       " Row(short_location=' NY-NJ-PA'),\n",
       " Row(short_location=' NY-NJ-PA'),\n",
       " Row(short_location=' FL'),\n",
       " Row(short_location=' NY-NJ-PA'),\n",
       " Row(short_location=' NY-NJ-PA'),\n",
       " Row(short_location=' TX'),\n",
       " Row(short_location=' TX'),\n",
       " Row(short_location=' AZ'),\n",
       " Row(short_location=' AZ'),\n",
       " Row(short_location=' FL'),\n",
       " Row(short_location=' NY-NJ-PA'),\n",
       " Row(short_location=' NY-NJ-PA'),\n",
       " Row(short_location=' TX'),\n",
       " Row(short_location=' AZ'),\n",
       " Row(short_location=' NY-NJ-PA'),\n",
       " Row(short_location=' TX'),\n",
       " Row(short_location=' TX'),\n",
       " Row(short_location=' FL'),\n",
       " Row(short_location=' NY-NJ-PA'),\n",
       " Row(short_location=' AZ'),\n",
       " Row(short_location=' NY-NJ-PA'),\n",
       " Row(short_location=' FL'),\n",
       " Row(short_location=' AZ'),\n",
       " Row(short_location=' NY-NJ-PA'),\n",
       " Row(short_location=' FL'),\n",
       " Row(short_location=' AZ'),\n",
       " Row(short_location=' NY-NJ-PA'),\n",
       " Row(short_location=' NY-NJ-PA'),\n",
       " Row(short_location=' AZ'),\n",
       " Row(short_location=' FL'),\n",
       " Row(short_location=' NY-NJ-PA'),\n",
       " Row(short_location=' AZ'),\n",
       " Row(short_location=' FL'),\n",
       " Row(short_location=' NY-NJ-PA'),\n",
       " Row(short_location=' NY-NJ-PA'),\n",
       " Row(short_location=' FL'),\n",
       " Row(short_location=' AZ'),\n",
       " Row(short_location=' FL'),\n",
       " Row(short_location=' CA'),\n",
       " Row(short_location=' CA'),\n",
       " Row(short_location=' NY-NJ-PA'),\n",
       " Row(short_location=' CA'),\n",
       " Row(short_location=' AZ'),\n",
       " Row(short_location=' AZ'),\n",
       " Row(short_location=' FL'),\n",
       " Row(short_location=' NY-NJ-PA'),\n",
       " Row(short_location=' FL'),\n",
       " Row(short_location=' AZ'),\n",
       " Row(short_location=' CA'),\n",
       " Row(short_location=' NY-NJ-PA'),\n",
       " Row(short_location=' CA'),\n",
       " Row(short_location=' IL-MO'),\n",
       " Row(short_location=' FL'),\n",
       " Row(short_location=' AZ'),\n",
       " Row(short_location=' NY-NJ-PA'),\n",
       " Row(short_location=' IL-MO'),\n",
       " Row(short_location=' CA'),\n",
       " Row(short_location=' FL'),\n",
       " Row(short_location=' NY-NJ-PA'),\n",
       " Row(short_location=' CA'),\n",
       " Row(short_location=' AZ'),\n",
       " Row(short_location=' FL'),\n",
       " Row(short_location=' NY-NJ-PA'),\n",
       " Row(short_location=' CA'),\n",
       " Row(short_location=' AZ'),\n",
       " Row(short_location=' CA'),\n",
       " Row(short_location=' FL'),\n",
       " Row(short_location=' AZ'),\n",
       " Row(short_location=' AZ'),\n",
       " Row(short_location=' FL'),\n",
       " Row(short_location=' FL'),\n",
       " Row(short_location=' NY-NJ-PA'),\n",
       " Row(short_location=' IL-MO'),\n",
       " Row(short_location=' CA'),\n",
       " Row(short_location=' OH'),\n",
       " Row(short_location=' OH'),\n",
       " Row(short_location=' AZ'),\n",
       " Row(short_location=' FL'),\n",
       " Row(short_location=' NY-NJ-PA'),\n",
       " Row(short_location=' CA'),\n",
       " Row(short_location=' OH'),\n",
       " Row(short_location=' IL-MO'),\n",
       " Row(short_location=' FL'),\n",
       " Row(short_location=' CA'),\n",
       " Row(short_location=' CA'),\n",
       " Row(short_location=' AZ'),\n",
       " Row(short_location=' IL-MO'),\n",
       " Row(short_location=' NY-NJ-PA'),\n",
       " Row(short_location=' AZ'),\n",
       " Row(short_location=' CA'),\n",
       " Row(short_location=' OH'),\n",
       " Row(short_location=' IL-MO'),\n",
       " Row(short_location=' OH'),\n",
       " Row(short_location=' OH'),\n",
       " Row(short_location=' FL'),\n",
       " Row(short_location=' AZ'),\n",
       " Row(short_location=' NY-NJ-PA'),\n",
       " Row(short_location=' IL-MO'),\n",
       " Row(short_location=' IL-MO'),\n",
       " Row(short_location=' CA'),\n",
       " Row(short_location=' CA'),\n",
       " Row(short_location=' FL'),\n",
       " Row(short_location=' AZ'),\n",
       " Row(short_location=' NY-NJ-PA'),\n",
       " Row(short_location=' NY-NJ-PA'),\n",
       " Row(short_location=' AZ'),\n",
       " Row(short_location=' FL'),\n",
       " Row(short_location=' CA'),\n",
       " Row(short_location=' NY-NJ-PA'),\n",
       " Row(short_location=' AZ'),\n",
       " Row(short_location=' FL'),\n",
       " Row(short_location=' IL-MO'),\n",
       " Row(short_location=' CA'),\n",
       " Row(short_location=' NY-NJ-PA'),\n",
       " Row(short_location=' IL-MO'),\n",
       " Row(short_location=' AZ'),\n",
       " Row(short_location=' AZ'),\n",
       " Row(short_location=' NY-NJ-PA'),\n",
       " Row(short_location=' CA'),\n",
       " Row(short_location=' FL'),\n",
       " Row(short_location=' NY-NJ-PA'),\n",
       " Row(short_location=' IL-MO'),\n",
       " Row(short_location=' AZ'),\n",
       " Row(short_location=' CA'),\n",
       " Row(short_location=' FL'),\n",
       " Row(short_location=' IL-MO'),\n",
       " Row(short_location=' NY-NJ-PA'),\n",
       " Row(short_location=' AZ'),\n",
       " Row(short_location=' NY-NJ-PA'),\n",
       " Row(short_location=' CA'),\n",
       " Row(short_location=' CA'),\n",
       " Row(short_location=' FL'),\n",
       " Row(short_location=' AZ'),\n",
       " Row(short_location=' CA'),\n",
       " Row(short_location=' NY-NJ-PA'),\n",
       " Row(short_location=' NY-NJ-PA'),\n",
       " Row(short_location=' IL-MO'),\n",
       " Row(short_location=' CA'),\n",
       " Row(short_location=' FL'),\n",
       " Row(short_location=' AZ'),\n",
       " Row(short_location=' IL-MO'),\n",
       " Row(short_location=' FL'),\n",
       " Row(short_location=' FL'),\n",
       " Row(short_location=' CA'),\n",
       " Row(short_location=' CA'),\n",
       " Row(short_location=' AZ'),\n",
       " Row(short_location=' NY-NJ-PA'),\n",
       " Row(short_location=' IL-MO'),\n",
       " Row(short_location=' NY-NJ-PA'),\n",
       " Row(short_location=' FL'),\n",
       " Row(short_location=' FL'),\n",
       " Row(short_location=' CA'),\n",
       " Row(short_location=' CA'),\n",
       " Row(short_location=' AZ'),\n",
       " Row(short_location=' FL'),\n",
       " Row(short_location=' IL-MO'),\n",
       " Row(short_location=' AZ'),\n",
       " Row(short_location=' FL'),\n",
       " Row(short_location=' CA'),\n",
       " Row(short_location=' IL-MO'),\n",
       " Row(short_location=' FL'),\n",
       " Row(short_location=' CA'),\n",
       " Row(short_location=' FL'),\n",
       " Row(short_location=' NY-NJ-PA'),\n",
       " Row(short_location=' IL-MO'),\n",
       " Row(short_location=' AZ'),\n",
       " Row(short_location=' IL-MO'),\n",
       " Row(short_location=' CA'),\n",
       " Row(short_location=' CA'),\n",
       " Row(short_location=' NY-NJ-PA'),\n",
       " Row(short_location=' AZ'),\n",
       " Row(short_location=' AZ'),\n",
       " Row(short_location=' NY-NJ-PA'),\n",
       " Row(short_location=' NY-NJ-PA'),\n",
       " Row(short_location=' NY-NJ-PA'),\n",
       " Row(short_location=' CA'),\n",
       " Row(short_location=' NY-NJ-PA'),\n",
       " Row(short_location=' FL'),\n",
       " Row(short_location=' AZ'),\n",
       " Row(short_location=' NY-NJ-PA'),\n",
       " Row(short_location=' CA'),\n",
       " Row(short_location=' FL'),\n",
       " Row(short_location=' FL'),\n",
       " Row(short_location=' AZ'),\n",
       " Row(short_location=' NY-NJ-PA'),\n",
       " Row(short_location=' FL'),\n",
       " Row(short_location=' CA'),\n",
       " Row(short_location=' AZ'),\n",
       " Row(short_location=' AZ'),\n",
       " Row(short_location=' NY-NJ-PA'),\n",
       " Row(short_location=' NY-NJ-PA'),\n",
       " Row(short_location=' FL'),\n",
       " Row(short_location=' AZ'),\n",
       " Row(short_location=' NY-NJ-PA'),\n",
       " Row(short_location=' AZ'),\n",
       " Row(short_location=' FL'),\n",
       " Row(short_location=' NY-NJ-PA'),\n",
       " Row(short_location=' CA'),\n",
       " Row(short_location=' AZ'),\n",
       " Row(short_location=' FL'),\n",
       " Row(short_location=' NY-NJ-PA'),\n",
       " Row(short_location=' CA'),\n",
       " Row(short_location=' FL'),\n",
       " Row(short_location=' AZ'),\n",
       " Row(short_location=' NY-NJ-PA'),\n",
       " Row(short_location=' CA'),\n",
       " Row(short_location=' FL'),\n",
       " Row(short_location=' AZ'),\n",
       " Row(short_location=' NY-NJ-PA'),\n",
       " Row(short_location=' CA'),\n",
       " Row(short_location=' FL'),\n",
       " Row(short_location=' NY-NJ-PA'),\n",
       " Row(short_location=' FL'),\n",
       " Row(short_location=' CA'),\n",
       " Row(short_location=' AZ'),\n",
       " Row(short_location=' CA'),\n",
       " Row(short_location=' NY-NJ-PA'),\n",
       " Row(short_location=' FL'),\n",
       " Row(short_location=' FL'),\n",
       " Row(short_location=' NY-NJ-PA'),\n",
       " Row(short_location=' CA'),\n",
       " Row(short_location=' AZ'),\n",
       " Row(short_location=' NY-NJ-PA'),\n",
       " Row(short_location=' FL'),\n",
       " Row(short_location=' FL'),\n",
       " Row(short_location=' AZ'),\n",
       " Row(short_location=' TN-VA'),\n",
       " Row(short_location=' NY-NJ-PA'),\n",
       " Row(short_location=' NY-NJ-PA'),\n",
       " Row(short_location=' FL'),\n",
       " Row(short_location=' CA'),\n",
       " Row(short_location=' NY-NJ-PA'),\n",
       " Row(short_location=' FL'),\n",
       " Row(short_location=' AZ'),\n",
       " Row(short_location=' CA'),\n",
       " Row(short_location=' TN-VA'),\n",
       " Row(short_location=' NY-NJ-PA'),\n",
       " Row(short_location=' CA'),\n",
       " Row(short_location=' CA'),\n",
       " Row(short_location=' FL'),\n",
       " Row(short_location=' FL'),\n",
       " Row(short_location=' FL'),\n",
       " Row(short_location=' FL'),\n",
       " Row(short_location=' NY-NJ-PA'),\n",
       " Row(short_location=' AZ'),\n",
       " Row(short_location=' FL'),\n",
       " Row(short_location=' TN-VA'),\n",
       " Row(short_location=' CA'),\n",
       " Row(short_location=' CA'),\n",
       " Row(short_location=' AZ'),\n",
       " Row(short_location=' TN-VA'),\n",
       " Row(short_location=' NY-NJ-PA'),\n",
       " Row(short_location=' FL'),\n",
       " Row(short_location=' CA'),\n",
       " Row(short_location=' TN-VA'),\n",
       " Row(short_location=' FL'),\n",
       " Row(short_location=' TN-VA'),\n",
       " Row(short_location=' NY-NJ-PA'),\n",
       " Row(short_location=' CA'),\n",
       " Row(short_location=' FL'),\n",
       " Row(short_location=' AZ'),\n",
       " Row(short_location=' FL'),\n",
       " Row(short_location=' FL'),\n",
       " Row(short_location=' NY-NJ-PA'),\n",
       " Row(short_location=' CA'),\n",
       " Row(short_location=' AZ'),\n",
       " Row(short_location=' NY-NJ-PA'),\n",
       " Row(short_location=' TN-VA'),\n",
       " Row(short_location=' CA'),\n",
       " Row(short_location=' AZ'),\n",
       " Row(short_location=' NY-NJ-PA'),\n",
       " Row(short_location=' TN-VA'),\n",
       " Row(short_location=' FL'),\n",
       " Row(short_location=' CA'),\n",
       " Row(short_location=' CA'),\n",
       " Row(short_location=' AZ'),\n",
       " Row(short_location=' NY-NJ-PA'),\n",
       " Row(short_location=' TN-VA'),\n",
       " Row(short_location=' FL'),\n",
       " Row(short_location=' CA'),\n",
       " Row(short_location=' NY-NJ-PA'),\n",
       " Row(short_location=' FL'),\n",
       " Row(short_location=' AZ'),\n",
       " Row(short_location=' TN-VA'),\n",
       " Row(short_location=' FL'),\n",
       " Row(short_location=' CA'),\n",
       " Row(short_location=' AZ'),\n",
       " Row(short_location=' TN-VA'),\n",
       " Row(short_location=' NY-NJ-PA'),\n",
       " Row(short_location=' NY-NJ-PA'),\n",
       " Row(short_location=' FL'),\n",
       " Row(short_location=' AZ'),\n",
       " Row(short_location=' CA'),\n",
       " Row(short_location=' NY-NJ-PA'),\n",
       " Row(short_location=' CA'),\n",
       " Row(short_location=' TN-VA'),\n",
       " Row(short_location=' NY-NJ-PA'),\n",
       " Row(short_location=' FL'),\n",
       " Row(short_location=' FL'),\n",
       " Row(short_location=' FL'),\n",
       " Row(short_location=' FL'),\n",
       " Row(short_location=' NY-NJ-PA'),\n",
       " Row(short_location=' FL'),\n",
       " Row(short_location=' CA'),\n",
       " Row(short_location=' AZ'),\n",
       " Row(short_location=' FL'),\n",
       " Row(short_location=' NY-NJ-PA'),\n",
       " Row(short_location=' FL'),\n",
       " Row(short_location=' CA'),\n",
       " Row(short_location=' TN-VA'),\n",
       " Row(short_location=' NY-NJ-PA'),\n",
       " Row(short_location=' AZ'),\n",
       " Row(short_location=' NY-NJ-PA'),\n",
       " Row(short_location=' NY-NJ-PA'),\n",
       " Row(short_location=' CA'),\n",
       " Row(short_location=' FL'),\n",
       " Row(short_location=' TN-VA'),\n",
       " Row(short_location=' NY-NJ-PA'),\n",
       " Row(short_location=' AZ'),\n",
       " Row(short_location=' AZ'),\n",
       " Row(short_location=' SC-NC'),\n",
       " Row(short_location=' FL'),\n",
       " Row(short_location=' NY-NJ-PA'),\n",
       " Row(short_location=' CA'),\n",
       " Row(short_location=' SC-NC'),\n",
       " Row(short_location=' TN-VA'),\n",
       " Row(short_location=' FL'),\n",
       " Row(short_location=' FL'),\n",
       " Row(short_location=' AZ'),\n",
       " Row(short_location=' AZ'),\n",
       " Row(short_location=' AZ'),\n",
       " Row(short_location=' CA'),\n",
       " Row(short_location=' TN-VA'),\n",
       " Row(short_location=' SC-NC'),\n",
       " Row(short_location=' NY-NJ-PA'),\n",
       " Row(short_location=' NY-NJ-PA'),\n",
       " Row(short_location=' FL'),\n",
       " Row(short_location=' CA'),\n",
       " Row(short_location=' AZ'),\n",
       " Row(short_location=' SC-NC'),\n",
       " Row(short_location=' TN-VA'),\n",
       " Row(short_location=' NY-NJ-PA'),\n",
       " Row(short_location=' CA'),\n",
       " Row(short_location=' FL'),\n",
       " Row(short_location=' TN-VA'),\n",
       " Row(short_location=' NY-NJ-PA'),\n",
       " Row(short_location=' AZ'),\n",
       " Row(short_location=' TN-VA'),\n",
       " Row(short_location=' NY-NJ-PA'),\n",
       " Row(short_location=' NY-NJ-PA'),\n",
       " Row(short_location=' SC-NC'),\n",
       " Row(short_location=' SC-NC'),\n",
       " Row(short_location=' AZ'),\n",
       " Row(short_location=' CA'),\n",
       " Row(short_location=' SC-NC'),\n",
       " Row(short_location=' SC-NC'),\n",
       " Row(short_location=' TN-VA'),\n",
       " Row(short_location=' NY-NJ-PA'),\n",
       " Row(short_location=' CO'),\n",
       " Row(short_location=' NY-NJ-PA'),\n",
       " Row(short_location=' AZ'),\n",
       " Row(short_location=' SC-NC'),\n",
       " Row(short_location=' TN-VA'),\n",
       " Row(short_location=' NY-NJ-PA'),\n",
       " Row(short_location=' TN-VA'),\n",
       " Row(short_location=' WV'),\n",
       " Row(short_location=' AZ'),\n",
       " Row(short_location=' CA'),\n",
       " Row(short_location=' WV'),\n",
       " Row(short_location=' SC-NC'),\n",
       " Row(short_location=' SC-NC'),\n",
       " Row(short_location=' WV'),\n",
       " Row(short_location=' CO'),\n",
       " Row(short_location=' CA'),\n",
       " Row(short_location=' TN-VA'),\n",
       " Row(short_location=' TN-VA'),\n",
       " Row(short_location=' NY-NJ-PA'),\n",
       " Row(short_location=' AZ'),\n",
       " Row(short_location=' CA'),\n",
       " Row(short_location=' AZ'),\n",
       " Row(short_location=' CA'),\n",
       " Row(short_location=' SC-NC'),\n",
       " Row(short_location=' WV'),\n",
       " Row(short_location=' TN-VA'),\n",
       " Row(short_location=' NY-NJ-PA'),\n",
       " Row(short_location=' CO'),\n",
       " Row(short_location=' TN-VA'),\n",
       " Row(short_location=' TN-VA'),\n",
       " Row(short_location=' TN-VA'),\n",
       " Row(short_location=' SC-NC'),\n",
       " Row(short_location=' TN-VA'),\n",
       " Row(short_location=' CA'),\n",
       " Row(short_location=' CA'),\n",
       " Row(short_location=' WV'),\n",
       " Row(short_location=' NY-NJ-PA'),\n",
       " Row(short_location=' CO'),\n",
       " Row(short_location=' CA'),\n",
       " Row(short_location=' AZ'),\n",
       " Row(short_location=' CA'),\n",
       " Row(short_location=' TN-VA'),\n",
       " Row(short_location=' TN-VA'),\n",
       " Row(short_location=' NY-NJ-PA'),\n",
       " Row(short_location=' CO'),\n",
       " Row(short_location=' CO'),\n",
       " Row(short_location=' SC-NC'),\n",
       " Row(short_location=' SC-NC'),\n",
       " Row(short_location=' GA-AL'),\n",
       " Row(short_location=' GA-AL'),\n",
       " Row(short_location=' WV'),\n",
       " Row(short_location=' AZ'),\n",
       " Row(short_location=' CA'),\n",
       " Row(short_location=' TN-VA'),\n",
       " Row(short_location=' NY-NJ-PA'),\n",
       " Row(short_location=' CO'),\n",
       " Row(short_location=' GA-AL'),\n",
       " Row(short_location=' AZ'),\n",
       " Row(short_location=' AZ'),\n",
       " Row(short_location=' TN-VA'),\n",
       " Row(short_location=' WV'),\n",
       " Row(short_location=' SC-NC'),\n",
       " Row(short_location=' SC-NC'),\n",
       " Row(short_location=' NY-NJ-PA'),\n",
       " Row(short_location=' AZ'),\n",
       " Row(short_location=' NY-NJ-PA'),\n",
       " Row(short_location=' TN-VA'),\n",
       " Row(short_location=' WV'),\n",
       " Row(short_location=' CO'),\n",
       " Row(short_location=' SC-NC'),\n",
       " Row(short_location=' SC-NC'),\n",
       " Row(short_location=' WV'),\n",
       " Row(short_location=' TN-VA'),\n",
       " Row(short_location=' AZ'),\n",
       " Row(short_location=' SC-NC'),\n",
       " Row(short_location=' MN-WI'),\n",
       " Row(short_location=' NY-NJ-PA'),\n",
       " Row(short_location=' NY-NJ-PA'),\n",
       " Row(short_location=' MN-WI'),\n",
       " Row(short_location=' MN-WI'),\n",
       " Row(short_location=' TN-VA'),\n",
       " Row(short_location=' SC-NC'),\n",
       " Row(short_location=' WV'),\n",
       " Row(short_location=' AZ'),\n",
       " Row(short_location=' CO'),\n",
       " Row(short_location=' NY-NJ-PA'),\n",
       " Row(short_location=' MN-WI'),\n",
       " Row(short_location=' WV'),\n",
       " Row(short_location=' WV'),\n",
       " Row(short_location=' TN-VA'),\n",
       " Row(short_location=' SC-NC'),\n",
       " Row(short_location=' SC-NC'),\n",
       " Row(short_location=' AZ'),\n",
       " Row(short_location=' CO'),\n",
       " Row(short_location=' NY-NJ-PA'),\n",
       " Row(short_location=' MN-WI'),\n",
       " Row(short_location=' CO'),\n",
       " Row(short_location=' TN-VA'),\n",
       " Row(short_location=' NY-NJ-PA'),\n",
       " Row(short_location=' NY-NJ-PA'),\n",
       " Row(short_location=' SC-NC'),\n",
       " Row(short_location=' WV'),\n",
       " Row(short_location=' MN-WI'),\n",
       " Row(short_location=' CO'),\n",
       " Row(short_location=' NY-NJ-PA'),\n",
       " Row(short_location=' NY-NJ-PA'),\n",
       " Row(short_location=' SC-NC'),\n",
       " Row(short_location=' WV'),\n",
       " Row(short_location=' MN-WI'),\n",
       " Row(short_location=' TN-VA'),\n",
       " Row(short_location=' CO'),\n",
       " Row(short_location=' NY-NJ-PA'),\n",
       " Row(short_location=' MN-WI'),\n",
       " Row(short_location=' SC-NC'),\n",
       " Row(short_location=' AZ'),\n",
       " Row(short_location=' SC-NC'),\n",
       " Row(short_location=' WV'),\n",
       " Row(short_location=' TN-VA'),\n",
       " Row(short_location=' CO'),\n",
       " Row(short_location=' NY-NJ-PA'),\n",
       " Row(short_location=' NY-NJ-PA'),\n",
       " Row(short_location=' AZ'),\n",
       " Row(short_location=' AZ'),\n",
       " Row(short_location=' NY-NJ-PA'),\n",
       " Row(short_location=' MN-WI'),\n",
       " Row(short_location=' SC-NC'),\n",
       " Row(short_location=' MN-WI'),\n",
       " Row(short_location=' WV'),\n",
       " Row(short_location=' CO'),\n",
       " Row(short_location=' NY-NJ-PA'),\n",
       " Row(short_location=' AZ'),\n",
       " Row(short_location=' TN-VA'),\n",
       " Row(short_location=' TN-VA'),\n",
       " Row(short_location=' MN-WI'),\n",
       " Row(short_location=' MN-WI'),\n",
       " Row(short_location=' NY-NJ-PA'),\n",
       " Row(short_location=' SC-NC'),\n",
       " Row(short_location=' SC-NC'),\n",
       " Row(short_location=' CO'),\n",
       " Row(short_location=' NY-NJ-PA'),\n",
       " Row(short_location=' NY-NJ-PA'),\n",
       " Row(short_location=' AZ'),\n",
       " Row(short_location=' AZ'),\n",
       " Row(short_location=' AZ'),\n",
       " Row(short_location=' AZ'),\n",
       " Row(short_location=' AZ'),\n",
       " Row(short_location=' TN-VA'),\n",
       " Row(short_location=' TN-VA'),\n",
       " Row(short_location=' MN-WI'),\n",
       " Row(short_location=' MN-WI'),\n",
       " Row(short_location=' NY-NJ-PA'),\n",
       " Row(short_location=' NY-NJ-PA'),\n",
       " Row(short_location=' CO'),\n",
       " Row(short_location=' NY-NJ-PA'),\n",
       " Row(short_location=' NY-NJ-PA'),\n",
       " Row(short_location=' NY-NJ-PA'),\n",
       " Row(short_location=' NY-NJ-PA'),\n",
       " Row(short_location=' TN-VA'),\n",
       " Row(short_location=' AZ'),\n",
       " Row(short_location=' MN-WI'),\n",
       " Row(short_location=' MN-WI'),\n",
       " Row(short_location=' SC-NC'),\n",
       " Row(short_location=' CO'),\n",
       " Row(short_location=' CO'),\n",
       " Row(short_location=' OK'),\n",
       " Row(short_location=' WV'),\n",
       " Row(short_location=' AZ'),\n",
       " Row(short_location=' NY-NJ-PA'),\n",
       " Row(short_location=' NY-NJ-PA'),\n",
       " Row(short_location=' TN-VA'),\n",
       " Row(short_location=' MN-WI'),\n",
       " Row(short_location=' CO'),\n",
       " Row(short_location=' TN-VA'),\n",
       " Row(short_location=' TN-VA'),\n",
       " Row(short_location=' AZ'),\n",
       " Row(short_location=' AZ'),\n",
       " Row(short_location=' SC-NC'),\n",
       " Row(short_location=' NY-NJ-PA'),\n",
       " Row(short_location=' NY-NJ-PA'),\n",
       " Row(short_location=' MN-WI'),\n",
       " Row(short_location=' WV'),\n",
       " Row(short_location=' CO'),\n",
       " Row(short_location=' TN-VA'),\n",
       " Row(short_location=' OK'),\n",
       " Row(short_location=' CO'),\n",
       " Row(short_location=' OK'),\n",
       " Row(short_location=' OK'),\n",
       " Row(short_location=' TN-VA'),\n",
       " Row(short_location=' NY-NJ-PA'),\n",
       " Row(short_location=' AZ'),\n",
       " Row(short_location=' NY-NJ-PA'),\n",
       " Row(short_location=' SC-NC'),\n",
       " Row(short_location=' WV'),\n",
       " Row(short_location=' CO'),\n",
       " Row(short_location=' MN-WI'),\n",
       " Row(short_location=' OK'),\n",
       " Row(short_location=' MN-WI'),\n",
       " Row(short_location=' NY-NJ-PA'),\n",
       " Row(short_location=' TN-VA'),\n",
       " Row(short_location=' NY-NJ-PA'),\n",
       " Row(short_location=' AZ'),\n",
       " Row(short_location=' NY-NJ-PA'),\n",
       " Row(short_location=' SC-NC'),\n",
       " Row(short_location=' WV'),\n",
       " Row(short_location=' CO'),\n",
       " Row(short_location=' MN-WI'),\n",
       " Row(short_location=' TN-VA'),\n",
       " Row(short_location=' OK'),\n",
       " Row(short_location=' AZ'),\n",
       " Row(short_location=' WV'),\n",
       " Row(short_location=' NY-NJ-PA'),\n",
       " Row(short_location=' MN-WI'),\n",
       " Row(short_location=' MN-WI'),\n",
       " Row(short_location=' NY-NJ-PA'),\n",
       " Row(short_location=' CO'),\n",
       " Row(short_location=' SC-NC'),\n",
       " Row(short_location=' OK'),\n",
       " Row(short_location=' MN-WI'),\n",
       " Row(short_location=' NY-NJ-PA'),\n",
       " Row(short_location=' SC-NC'),\n",
       " Row(short_location=' WV'),\n",
       " Row(short_location=' CO'),\n",
       " Row(short_location=' TN-VA'),\n",
       " Row(short_location=' NY-NJ-PA'),\n",
       " Row(short_location=' OK'),\n",
       " Row(short_location=' NY-NJ-PA'),\n",
       " Row(short_location=' MN-WI'),\n",
       " Row(short_location=' NY-NJ-PA'),\n",
       " Row(short_location=' WV'),\n",
       " Row(short_location=' AZ'),\n",
       " Row(short_location=' SC-NC'),\n",
       " Row(short_location=' SC-NC'),\n",
       " Row(short_location=' TN-VA'),\n",
       " Row(short_location=' CO'),\n",
       " Row(short_location=' OK'),\n",
       " Row(short_location=' NY-NJ-PA'),\n",
       " Row(short_location=' NY-NJ-PA'),\n",
       " Row(short_location=' NY-NJ-PA'),\n",
       " Row(short_location=' NY-NJ-PA'),\n",
       " Row(short_location=' SC-NC'),\n",
       " Row(short_location=' WV'),\n",
       " Row(short_location=' MN-WI'),\n",
       " Row(short_location=' MN-WI'),\n",
       " Row(short_location=' AZ'),\n",
       " Row(short_location=' NY-NJ-PA'),\n",
       " Row(short_location=' CO'),\n",
       " Row(short_location=' TN-VA'),\n",
       " Row(short_location=' NY-NJ-PA'),\n",
       " Row(short_location=' OK'),\n",
       " Row(short_location=' AZ'),\n",
       " Row(short_location=' MN-WI'),\n",
       " Row(short_location=' NY-NJ-PA'),\n",
       " Row(short_location=' WV'),\n",
       " Row(short_location=' CO'),\n",
       " Row(short_location=' OK'),\n",
       " Row(short_location=' SC-NC'),\n",
       " Row(short_location=' TN-VA'),\n",
       " Row(short_location=' AZ'),\n",
       " Row(short_location=' NY-NJ-PA'),\n",
       " Row(short_location=' MN-WI'),\n",
       " Row(short_location=' NY-NJ-PA'),\n",
       " Row(short_location=' CO'),\n",
       " Row(short_location=' WV'),\n",
       " Row(short_location=' OK'),\n",
       " Row(short_location=' AZ'),\n",
       " Row(short_location=' TN-VA'),\n",
       " Row(short_location=' NY-NJ-PA'),\n",
       " Row(short_location=' WV'),\n",
       " Row(short_location=' CO'),\n",
       " Row(short_location=' MN-WI'),\n",
       " Row(short_location=' MN-WI'),\n",
       " Row(short_location=' SC-NC'),\n",
       " Row(short_location=' WA'),\n",
       " Row(short_location=' CO'),\n",
       " Row(short_location=' OK'),\n",
       " Row(short_location=' AZ'),\n",
       " Row(short_location=' SC-NC'),\n",
       " Row(short_location=' SC-NC'),\n",
       " Row(short_location=' WV'),\n",
       " Row(short_location=' NY-NJ-PA'),\n",
       " Row(short_location=' NY-NJ-PA'),\n",
       " Row(short_location=' NY-NJ-PA'),\n",
       " Row(short_location=' MN-WI'),\n",
       " Row(short_location=' TN-VA'),\n",
       " Row(short_location=' CO'),\n",
       " Row(short_location=' CO'),\n",
       " Row(short_location=' WV'),\n",
       " Row(short_location=' MN-WI'),\n",
       " Row(short_location=' OK'),\n",
       " Row(short_location=' WA'),\n",
       " Row(short_location=' OK'),\n",
       " Row(short_location=' AZ'),\n",
       " Row(short_location=' TN-VA'),\n",
       " Row(short_location=' SC-NC'),\n",
       " Row(short_location=' SC-NC'),\n",
       " ...]"
      ]
     },
     "execution_count": 43,
     "metadata": {},
     "output_type": "execute_result"
    }
   ],
   "source": [
    "# Prepare the data for a better visualization of the location column\n",
    "# The location column has the form: Name,Short_Name, eg: 'Lexington-Fayette, KY'\n",
    "# so we'll get the column location and split it by comma and then get the second part\n",
    "df_valid = df_valid.withColumn(\"short_location\", split(col(\"location\"),',').getItem(1))\n",
    "df_valid.select(\"short_location\").collect()"
   ]
  },
  {
   "cell_type": "code",
   "execution_count": 45,
   "metadata": {},
   "outputs": [
    {
     "name": "stdout",
     "output_type": "stream",
     "text": [
      "+-------+------+\n",
      "|summary|method|\n",
      "+-------+------+\n",
      "|  count|278154|\n",
      "|   mean|  null|\n",
      "| stddev|  null|\n",
      "|    min|   GET|\n",
      "|    max|   PUT|\n",
      "+-------+------+\n",
      "\n"
     ]
    }
   ],
   "source": [
    "df_valid.describe('method').show()"
   ]
  },
  {
   "cell_type": "code",
   "execution_count": 46,
   "metadata": {},
   "outputs": [
    {
     "data": {
      "text/plain": [
       "[Row(method='PUT'), Row(method='GET')]"
      ]
     },
     "execution_count": 46,
     "metadata": {},
     "output_type": "execute_result"
    }
   ],
   "source": [
    "df_valid.select('method').distinct().collect() # there are two methods: PUT/GET"
   ]
  },
  {
   "cell_type": "code",
   "execution_count": 47,
   "metadata": {},
   "outputs": [
    {
     "name": "stdout",
     "output_type": "stream",
     "text": [
      "+-------+-------+\n",
      "|summary|   page|\n",
      "+-------+-------+\n",
      "|  count| 278154|\n",
      "|   mean|   null|\n",
      "| stddev|   null|\n",
      "|    min|  About|\n",
      "|    max|Upgrade|\n",
      "+-------+-------+\n",
      "\n"
     ]
    }
   ],
   "source": [
    "df_valid.describe('page').show()"
   ]
  },
  {
   "cell_type": "code",
   "execution_count": 48,
   "metadata": {},
   "outputs": [
    {
     "data": {
      "text/plain": [
       "[Row(page='Cancel'),\n",
       " Row(page='Submit Downgrade'),\n",
       " Row(page='Thumbs Down'),\n",
       " Row(page='Home'),\n",
       " Row(page='Downgrade'),\n",
       " Row(page='Roll Advert'),\n",
       " Row(page='Logout'),\n",
       " Row(page='Save Settings'),\n",
       " Row(page='Cancellation Confirmation'),\n",
       " Row(page='About'),\n",
       " Row(page='Settings'),\n",
       " Row(page='Add to Playlist'),\n",
       " Row(page='Add Friend'),\n",
       " Row(page='NextSong'),\n",
       " Row(page='Thumbs Up'),\n",
       " Row(page='Help'),\n",
       " Row(page='Upgrade'),\n",
       " Row(page='Error'),\n",
       " Row(page='Submit Upgrade')]"
      ]
     },
     "execution_count": 48,
     "metadata": {},
     "output_type": "execute_result"
    }
   ],
   "source": [
    "df_valid.select('page').distinct().collect() # there are 19 different pages"
   ]
  },
  {
   "cell_type": "code",
   "execution_count": 49,
   "metadata": {},
   "outputs": [
    {
     "name": "stdout",
     "output_type": "stream",
     "text": [
      "+-------+--------------------+\n",
      "|summary|        registration|\n",
      "+-------+--------------------+\n",
      "|  count|              278154|\n",
      "|   mean|1.535358834084427...|\n",
      "| stddev| 3.291321616327586E9|\n",
      "|    min|       1521380675000|\n",
      "|    max|       1543247354000|\n",
      "+-------+--------------------+\n",
      "\n"
     ]
    }
   ],
   "source": [
    "df_valid.describe('registration').show()"
   ]
  },
  {
   "cell_type": "code",
   "execution_count": 50,
   "metadata": {},
   "outputs": [
    {
     "name": "stdout",
     "output_type": "stream",
     "text": [
      "+-------+------------------+\n",
      "|summary|         sessionId|\n",
      "+-------+------------------+\n",
      "|  count|            278154|\n",
      "|   mean|1042.5616241362698|\n",
      "| stddev| 726.5010362219813|\n",
      "|    min|                 1|\n",
      "|    max|              2474|\n",
      "+-------+------------------+\n",
      "\n"
     ]
    }
   ],
   "source": [
    "df_valid.describe('sessionId').show()"
   ]
  },
  {
   "cell_type": "code",
   "execution_count": 51,
   "metadata": {},
   "outputs": [
    {
     "name": "stdout",
     "output_type": "stream",
     "text": [
      "+-------+--------------------+\n",
      "|summary|                song|\n",
      "+-------+--------------------+\n",
      "|  count|              228108|\n",
      "|   mean|            Infinity|\n",
      "| stddev|                 NaN|\n",
      "|    min|\u001c",
      "ÃÂg ÃÂtti Gr...|\n",
      "|    max|ÃÂau hafa slopp...|\n",
      "+-------+--------------------+\n",
      "\n"
     ]
    }
   ],
   "source": [
    "df_valid.describe('song').show()"
   ]
  },
  {
   "cell_type": "code",
   "execution_count": 52,
   "metadata": {},
   "outputs": [
    {
     "name": "stdout",
     "output_type": "stream",
     "text": [
      "+-------+------------------+\n",
      "|summary|            status|\n",
      "+-------+------------------+\n",
      "|  count|            278154|\n",
      "|   mean|209.10321620397335|\n",
      "| stddev|30.151388851328214|\n",
      "|    min|               200|\n",
      "|    max|               404|\n",
      "+-------+------------------+\n",
      "\n"
     ]
    }
   ],
   "source": [
    "df_valid.describe('status').show()"
   ]
  },
  {
   "cell_type": "code",
   "execution_count": 53,
   "metadata": {},
   "outputs": [
    {
     "data": {
      "text/plain": [
       "[Row(status=307), Row(status=404), Row(status=200)]"
      ]
     },
     "execution_count": 53,
     "metadata": {},
     "output_type": "execute_result"
    }
   ],
   "source": [
    "df_valid.select('status').distinct().collect() # there are 3 possible status"
   ]
  },
  {
   "cell_type": "code",
   "execution_count": 54,
   "metadata": {},
   "outputs": [
    {
     "name": "stdout",
     "output_type": "stream",
     "text": [
      "+-------+--------------------+\n",
      "|summary|                  ts|\n",
      "+-------+--------------------+\n",
      "|  count|              278154|\n",
      "|   mean|1.540958915431871...|\n",
      "| stddev|1.5068287123306298E9|\n",
      "|    min|       1538352117000|\n",
      "|    max|       1543799476000|\n",
      "+-------+--------------------+\n",
      "\n"
     ]
    }
   ],
   "source": [
    "df_valid.describe('ts').show()"
   ]
  },
  {
   "cell_type": "code",
   "execution_count": 55,
   "metadata": {},
   "outputs": [
    {
     "name": "stdout",
     "output_type": "stream",
     "text": [
      "+-------+--------------------+\n",
      "|summary|           userAgent|\n",
      "+-------+--------------------+\n",
      "|  count|              278154|\n",
      "|   mean|                null|\n",
      "| stddev|                null|\n",
      "|    min|\"Mozilla/5.0 (Mac...|\n",
      "|    max|Mozilla/5.0 (comp...|\n",
      "+-------+--------------------+\n",
      "\n"
     ]
    }
   ],
   "source": [
    "df_valid.describe('userAgent').show()"
   ]
  },
  {
   "cell_type": "code",
   "execution_count": 56,
   "metadata": {},
   "outputs": [
    {
     "name": "stdout",
     "output_type": "stream",
     "text": [
      "+-------+-----------------+\n",
      "|summary|           userId|\n",
      "+-------+-----------------+\n",
      "|  count|           278154|\n",
      "|   mean|59682.02278593872|\n",
      "| stddev|109091.9499991047|\n",
      "|    min|               10|\n",
      "|    max|               99|\n",
      "+-------+-----------------+\n",
      "\n"
     ]
    }
   ],
   "source": [
    "df_valid.describe('userId').show()"
   ]
  },
  {
   "cell_type": "code",
   "execution_count": 57,
   "metadata": {},
   "outputs": [
    {
     "name": "stdout",
     "output_type": "stream",
     "text": [
      "+------+\n",
      "|userID|\n",
      "+------+\n",
      "|    30|\n",
      "|     9|\n",
      "|    30|\n",
      "|     9|\n",
      "|    30|\n",
      "|     9|\n",
      "|     9|\n",
      "|    30|\n",
      "|    30|\n",
      "|    30|\n",
      "|     9|\n",
      "|     9|\n",
      "|    30|\n",
      "|     9|\n",
      "|     9|\n",
      "|    30|\n",
      "|     9|\n",
      "|    74|\n",
      "|    30|\n",
      "|     9|\n",
      "+------+\n",
      "only showing top 20 rows\n",
      "\n"
     ]
    }
   ],
   "source": [
    "df_valid.select(\"userID\").show()"
   ]
  },
  {
   "cell_type": "code",
   "execution_count": 58,
   "metadata": {},
   "outputs": [
    {
     "data": {
      "text/plain": [
       "225"
      ]
     },
     "execution_count": 58,
     "metadata": {},
     "output_type": "execute_result"
    }
   ],
   "source": [
    "# Let's see how many distinct users are in this dataset --> 225\n",
    "df_valid.select(\"userId\").distinct().count()"
   ]
  },
  {
   "cell_type": "code",
   "execution_count": 59,
   "metadata": {},
   "outputs": [
    {
     "name": "stdout",
     "output_type": "stream",
     "text": [
      "+--------------------+\n",
      "|                page|\n",
      "+--------------------+\n",
      "|               About|\n",
      "|          Add Friend|\n",
      "|     Add to Playlist|\n",
      "|              Cancel|\n",
      "|Cancellation Conf...|\n",
      "|           Downgrade|\n",
      "|               Error|\n",
      "|                Help|\n",
      "|                Home|\n",
      "|              Logout|\n",
      "|            NextSong|\n",
      "|         Roll Advert|\n",
      "|       Save Settings|\n",
      "|            Settings|\n",
      "|    Submit Downgrade|\n",
      "|      Submit Upgrade|\n",
      "|         Thumbs Down|\n",
      "|           Thumbs Up|\n",
      "|             Upgrade|\n",
      "+--------------------+\n",
      "\n"
     ]
    }
   ],
   "source": [
    "# And let's see how many different pages are --> 19\n",
    "df_valid.select(\"page\").dropDuplicates().sort(\"page\").show()"
   ]
  },
  {
   "cell_type": "code",
   "execution_count": 60,
   "metadata": {},
   "outputs": [
    {
     "data": {
      "text/plain": [
       "Row(UserId='30', firstname='Colin', page='NextSong', song='Rockpools')"
      ]
     },
     "execution_count": 60,
     "metadata": {},
     "output_type": "execute_result"
    }
   ],
   "source": [
    "# Let's see an example of row in the dataset, for instance let's see userid= 30\n",
    "df_valid.select([\"UserId\", \"firstname\", \"page\", \"song\"]).where(df_valid.userId==\"30\").collect()[0]"
   ]
  },
  {
   "cell_type": "code",
   "execution_count": 61,
   "metadata": {},
   "outputs": [],
   "source": [
    "# Now we are going to add two new columns derived from ts field:\n",
    "# We would like to know the hour and datetime in UTF timestamp\n",
    "# for that we prepare a lambda function\n",
    "get_date       = udf(lambda x: datetime.datetime.fromtimestamp(x / 1000.0).strftime(\"%Y-%m-%d %H:%M:%S\"))\n",
    "get_month      = udf(lambda x: datetime.datetime.fromtimestamp(x / 1000.0). month)\n",
    "get_day        = udf(lambda x: datetime.datetime.fromtimestamp(x / 1000.0). day)\n",
    "get_hour       = udf(lambda x: datetime.datetime.fromtimestamp(x / 1000.0). hour)"
   ]
  },
  {
   "cell_type": "code",
   "execution_count": 62,
   "metadata": {},
   "outputs": [],
   "source": [
    "# we apply the lambda function to convert the ts into hour and data\n",
    "# we apply also the lambda function to convert the registration field into a new field \"registration_time\" with the timestamp \n",
    "df_valid = df_valid.withColumn(\"registration_time\", get_date(df_valid.registration))\n",
    "df_valid = df_valid.withColumn(\"date\", get_date(df_valid.ts))\n",
    "df_valid = df_valid.withColumn(\"month\", get_month(df_valid.ts))\n",
    "df_valid = df_valid.withColumn(\"day_of_month\", get_day(df_valid.ts))\n",
    "df_valid = df_valid.withColumn(\"hour\", get_hour(df_valid.ts))"
   ]
  },
  {
   "cell_type": "code",
   "execution_count": 63,
   "metadata": {},
   "outputs": [
    {
     "name": "stdout",
     "output_type": "stream",
     "text": [
      "+------------+\n",
      "|day_of_month|\n",
      "+------------+\n",
      "|           1|\n",
      "|           1|\n",
      "|           1|\n",
      "|           1|\n",
      "|           1|\n",
      "+------------+\n",
      "only showing top 5 rows\n",
      "\n"
     ]
    }
   ],
   "source": [
    "df_valid.select('day_of_month').show(5)"
   ]
  },
  {
   "cell_type": "code",
   "execution_count": 64,
   "metadata": {},
   "outputs": [
    {
     "name": "stdout",
     "output_type": "stream",
     "text": [
      "+----+\n",
      "|hour|\n",
      "+----+\n",
      "|   0|\n",
      "|   0|\n",
      "|   0|\n",
      "|   0|\n",
      "|   0|\n",
      "+----+\n",
      "only showing top 5 rows\n",
      "\n"
     ]
    }
   ],
   "source": [
    "df_valid.select('hour').show(5)"
   ]
  },
  {
   "cell_type": "code",
   "execution_count": 65,
   "metadata": {},
   "outputs": [
    {
     "name": "stdout",
     "output_type": "stream",
     "text": [
      "+-------------+\n",
      "| registration|\n",
      "+-------------+\n",
      "|1538173362000|\n",
      "|1538331630000|\n",
      "|1538173362000|\n",
      "|1538331630000|\n",
      "|1538173362000|\n",
      "+-------------+\n",
      "only showing top 5 rows\n",
      "\n"
     ]
    }
   ],
   "source": [
    "# let's check if it worked, this is the registration field ...\n",
    "df_valid.select('registration').show(5)"
   ]
  },
  {
   "cell_type": "code",
   "execution_count": 66,
   "metadata": {},
   "outputs": [
    {
     "name": "stdout",
     "output_type": "stream",
     "text": [
      "+-------------------+\n",
      "|  registration_time|\n",
      "+-------------------+\n",
      "|2018-09-28 22:22:42|\n",
      "|2018-09-30 18:20:30|\n",
      "|2018-09-28 22:22:42|\n",
      "|2018-09-30 18:20:30|\n",
      "|2018-09-28 22:22:42|\n",
      "+-------------------+\n",
      "only showing top 5 rows\n",
      "\n"
     ]
    }
   ],
   "source": [
    "# and this is the new registration_time field\n",
    "df_valid.select('registration_time').show(5)"
   ]
  },
  {
   "cell_type": "markdown",
   "metadata": {},
   "source": [
    "#### Question: How many days/months does our dataset contain?"
   ]
  },
  {
   "cell_type": "code",
   "execution_count": 67,
   "metadata": {},
   "outputs": [
    {
     "data": {
      "text/plain": [
       "['2018-10-01 00:01:57']"
      ]
     },
     "execution_count": 67,
     "metadata": {},
     "output_type": "execute_result"
    }
   ],
   "source": [
    "# We have a dataset with an initial date = 2018-10-01\n",
    "day_from = list(df_valid.select('date').sort(\"date\").collect()[0])\n",
    "day_from "
   ]
  },
  {
   "cell_type": "code",
   "execution_count": 68,
   "metadata": {},
   "outputs": [
    {
     "data": {
      "text/plain": [
       "['2018-12-03 01:11:16']"
      ]
     },
     "execution_count": 68,
     "metadata": {},
     "output_type": "execute_result"
    }
   ],
   "source": [
    "# We have a dataset with an end date = 2018-12-03\n",
    "day_to = list(df_valid.select('date').sort(\"date\").collect()[-1])\n",
    "day_to"
   ]
  },
  {
   "cell_type": "markdown",
   "metadata": {},
   "source": [
    "#### We have a dataset with an initial date = 2018-10-01 and an end date = 2018-12-03\n",
    "#### So we have a dataset of aprox 2 months information "
   ]
  },
  {
   "cell_type": "code",
   "execution_count": 69,
   "metadata": {},
   "outputs": [
    {
     "data": {
      "text/plain": [
       "[Row(gender='F'), Row(gender='M')]"
      ]
     },
     "execution_count": 69,
     "metadata": {},
     "output_type": "execute_result"
    }
   ],
   "source": [
    "df_valid.select('gender').distinct().collect()"
   ]
  },
  {
   "cell_type": "code",
   "execution_count": 70,
   "metadata": {},
   "outputs": [
    {
     "name": "stdout",
     "output_type": "stream",
     "text": [
      "+--------------+-----+\n",
      "|short_location|count|\n",
      "+--------------+-----+\n",
      "|         NE-IA|    1|\n",
      "|         PA-NJ|    1|\n",
      "|            WA|    4|\n",
      "|   DC-VA-MD-WV|    4|\n",
      "|            AL|    4|\n",
      "|            MI|    5|\n",
      "|         MN-WI|    3|\n",
      "|      IL-IN-WI|    6|\n",
      "|         MD-WV|    1|\n",
      "|            NH|    2|\n",
      "|            AK|    2|\n",
      "|            AR|    1|\n",
      "|            AZ|    7|\n",
      "|         MA-NH|    5|\n",
      "|            WV|    1|\n",
      "|      TN-MS-AR|    1|\n",
      "|         MO-IL|    6|\n",
      "|            TN|    1|\n",
      "|            NY|    5|\n",
      "|            MD|    2|\n",
      "+--------------+-----+\n",
      "only showing top 20 rows\n",
      "\n"
     ]
    }
   ],
   "source": [
    "df_valid.select('userId','short_location').distinct().groupby('short_location').count().show()"
   ]
  },
  {
   "cell_type": "markdown",
   "metadata": {},
   "source": [
    "#### Question: How is the proportion between Males and Females in our musical streaming service ? "
   ]
  },
  {
   "cell_type": "code",
   "execution_count": 71,
   "metadata": {},
   "outputs": [
    {
     "name": "stdout",
     "output_type": "stream",
     "text": [
      "+------+-----+\n",
      "|gender|count|\n",
      "+------+-----+\n",
      "|     F|  104|\n",
      "|     M|  121|\n",
      "+------+-----+\n",
      "\n"
     ]
    }
   ],
   "source": [
    "ngender = df_valid.select('gender','userId').distinct().groupby('gender').count().show()"
   ]
  },
  {
   "cell_type": "markdown",
   "metadata": {},
   "source": [
    "#### Our datasets contains 104 records corresponding to female clients and 121 corresponding to male clients\n"
   ]
  },
  {
   "cell_type": "markdown",
   "metadata": {},
   "source": [
    "#### Question: What about the level of the users? Is there a difference between male and female subscriptors?\n"
   ]
  },
  {
   "cell_type": "code",
   "execution_count": 72,
   "metadata": {},
   "outputs": [
    {
     "data": {
      "text/html": [
       "<div>\n",
       "<style scoped>\n",
       "    .dataframe tbody tr th:only-of-type {\n",
       "        vertical-align: middle;\n",
       "    }\n",
       "\n",
       "    .dataframe tbody tr th {\n",
       "        vertical-align: top;\n",
       "    }\n",
       "\n",
       "    .dataframe thead th {\n",
       "        text-align: right;\n",
       "    }\n",
       "</style>\n",
       "<table border=\"1\" class=\"dataframe\">\n",
       "  <thead>\n",
       "    <tr style=\"text-align: right;\">\n",
       "      <th></th>\n",
       "      <th>gender</th>\n",
       "      <th>level</th>\n",
       "      <th>count</th>\n",
       "    </tr>\n",
       "  </thead>\n",
       "  <tbody>\n",
       "    <tr>\n",
       "      <th>0</th>\n",
       "      <td>M</td>\n",
       "      <td>free</td>\n",
       "      <td>26049</td>\n",
       "    </tr>\n",
       "    <tr>\n",
       "      <th>1</th>\n",
       "      <td>F</td>\n",
       "      <td>free</td>\n",
       "      <td>29672</td>\n",
       "    </tr>\n",
       "    <tr>\n",
       "      <th>3</th>\n",
       "      <td>M</td>\n",
       "      <td>paid</td>\n",
       "      <td>97527</td>\n",
       "    </tr>\n",
       "    <tr>\n",
       "      <th>2</th>\n",
       "      <td>F</td>\n",
       "      <td>paid</td>\n",
       "      <td>124906</td>\n",
       "    </tr>\n",
       "  </tbody>\n",
       "</table>\n",
       "</div>"
      ],
      "text/plain": [
       "  gender level   count\n",
       "0      M  free   26049\n",
       "1      F  free   29672\n",
       "3      M  paid   97527\n",
       "2      F  paid  124906"
      ]
     },
     "execution_count": 72,
     "metadata": {},
     "output_type": "execute_result"
    }
   ],
   "source": [
    "# Now let's check the users by leven of account and gender\n",
    "df_gender_level = df_valid.select('userId','gender','level').groupby('gender','level').count().toPandas().sort_values(by='count')\n",
    "df_gender_level.head()"
   ]
  },
  {
   "cell_type": "markdown",
   "metadata": {},
   "source": [
    "#### For both free and paid services, the number of women is sligthly higher"
   ]
  },
  {
   "cell_type": "code",
   "execution_count": 73,
   "metadata": {},
   "outputs": [
    {
     "data": {
      "image/png": "[encoded data removed]",
      "text/plain": [
       "<matplotlib.figure.Figure at 0x7f13f8a69828>"
      ]
     },
     "metadata": {
      "needs_background": "light"
     },
     "output_type": "display_data"
    }
   ],
   "source": [
    "sns.barplot(x='level', y='count',hue='gender', data=df_gender_level);\n",
    "plt.xlabel('Account level')\n",
    "plt.ylabel('Number of Users')\n",
    "plt.title('Level Account by Gender')\n",
    "plt.legend(title='Gender', loc='best');\n",
    "plt.savefig('Level_Account_by_Gender.png')"
   ]
  },
  {
   "cell_type": "markdown",
   "metadata": {},
   "source": [
    "This graphic shows that there are more users with a paid account. \n",
    "And most users are women."
   ]
  },
  {
   "cell_type": "markdown",
   "metadata": {},
   "source": [
    "#### Question: What about the location of the users? Does this feature affects on the level of service?"
   ]
  },
  {
   "cell_type": "code",
   "execution_count": 74,
   "metadata": {},
   "outputs": [
    {
     "data": {
      "image/png": "[encoded data removed]",
      "text/plain": [
       "<matplotlib.figure.Figure at 0x7f13fcef0518>"
      ]
     },
     "metadata": {
      "needs_background": "light"
     },
     "output_type": "display_data"
    }
   ],
   "source": [
    "df_location_level = df_valid.select('userId','short_location','level').groupby('short_location','level').count().toPandas().sort_values(by='count')\n",
    "fig = plt.figure(figsize=(15,6))\n",
    "plt.ylabel('Number of Users')\n",
    "ax = fig.gca()\n",
    "df_location_level.pivot(index='short_location', columns='level', values='count').plot(kind='bar', ax=ax)\n",
    "plt.title('Users and Account types by Location')\n",
    "plt.savefig('df_location_level.png')"
   ]
  },
  {
   "cell_type": "markdown",
   "metadata": {},
   "source": [
    "The previous graphic shows there are more users (also with paid accounts) in California (CA), New York (NY) and Texas (TX)"
   ]
  },
  {
   "cell_type": "markdown",
   "metadata": {},
   "source": [
    "#### Question: What about the UserAgent? Is there a difference between subscriptors?"
   ]
  },
  {
   "cell_type": "code",
   "execution_count": 75,
   "metadata": {},
   "outputs": [
    {
     "name": "stdout",
     "output_type": "stream",
     "text": [
      "+--------------------+-----+\n",
      "|           userAgent|count|\n",
      "+--------------------+-----+\n",
      "|\"Mozilla/5.0 (Mac...|    1|\n",
      "|\"Mozilla/5.0 (Win...|    4|\n",
      "|Mozilla/5.0 (X11;...|    1|\n",
      "|\"Mozilla/5.0 (Mac...|   16|\n",
      "|\"Mozilla/5.0 (Mac...|    2|\n",
      "|Mozilla/5.0 (Maci...|    2|\n",
      "|Mozilla/5.0 (Wind...|    1|\n",
      "|Mozilla/5.0 (Wind...|    4|\n",
      "|Mozilla/5.0 (comp...|    3|\n",
      "|\"Mozilla/5.0 (Win...|    7|\n",
      "|Mozilla/5.0 (Maci...|    9|\n",
      "|\"Mozilla/5.0 (Win...|    1|\n",
      "|\"Mozilla/5.0 (iPh...|    1|\n",
      "|\"Mozilla/5.0 (Win...|   10|\n",
      "|Mozilla/5.0 (Wind...|   18|\n",
      "|Mozilla/5.0 (comp...|    1|\n",
      "|Mozilla/5.0 (comp...|    1|\n",
      "|\"Mozilla/5.0 (Mac...|    1|\n",
      "|\"Mozilla/5.0 (Mac...|    1|\n",
      "|\"Mozilla/5.0 (Win...|    3|\n",
      "+--------------------+-----+\n",
      "only showing top 20 rows\n",
      "\n"
     ]
    }
   ],
   "source": [
    "# Now let's see the different browsers the users login, that indicates different Operating Systems from users\n",
    "nos = df_valid.select('userAgent','userId').distinct().groupby('userAgent').count().show()"
   ]
  },
  {
   "cell_type": "code",
   "execution_count": 76,
   "metadata": {},
   "outputs": [
    {
     "data": {
      "text/html": [
       "<div>\n",
       "<style scoped>\n",
       "    .dataframe tbody tr th:only-of-type {\n",
       "        vertical-align: middle;\n",
       "    }\n",
       "\n",
       "    .dataframe tbody tr th {\n",
       "        vertical-align: top;\n",
       "    }\n",
       "\n",
       "    .dataframe thead th {\n",
       "        text-align: right;\n",
       "    }\n",
       "</style>\n",
       "<table border=\"1\" class=\"dataframe\">\n",
       "  <thead>\n",
       "    <tr style=\"text-align: right;\">\n",
       "      <th></th>\n",
       "      <th>userAgent</th>\n",
       "      <th>level</th>\n",
       "      <th>count</th>\n",
       "    </tr>\n",
       "  </thead>\n",
       "  <tbody>\n",
       "    <tr>\n",
       "      <th>75</th>\n",
       "      <td>\"Mozilla/5.0 (Macintosh; Intel Mac OS X 10_9_2...</td>\n",
       "      <td>free</td>\n",
       "      <td>5</td>\n",
       "    </tr>\n",
       "    <tr>\n",
       "      <th>87</th>\n",
       "      <td>Mozilla/5.0 (X11; Ubuntu; Linux i686; rv:31.0)...</td>\n",
       "      <td>free</td>\n",
       "      <td>25</td>\n",
       "    </tr>\n",
       "    <tr>\n",
       "      <th>65</th>\n",
       "      <td>Mozilla/5.0 (Macintosh; Intel Mac OS X 10.8; r...</td>\n",
       "      <td>free</td>\n",
       "      <td>35</td>\n",
       "    </tr>\n",
       "    <tr>\n",
       "      <th>94</th>\n",
       "      <td>Mozilla/5.0 (X11; Ubuntu; Linux i686; rv:31.0)...</td>\n",
       "      <td>paid</td>\n",
       "      <td>37</td>\n",
       "    </tr>\n",
       "    <tr>\n",
       "      <th>100</th>\n",
       "      <td>Mozilla/5.0 (Windows NT 6.1; WOW64; rv:24.0) G...</td>\n",
       "      <td>free</td>\n",
       "      <td>62</td>\n",
       "    </tr>\n",
       "  </tbody>\n",
       "</table>\n",
       "</div>"
      ],
      "text/plain": [
       "                                             userAgent level  count\n",
       "75   \"Mozilla/5.0 (Macintosh; Intel Mac OS X 10_9_2...  free      5\n",
       "87   Mozilla/5.0 (X11; Ubuntu; Linux i686; rv:31.0)...  free     25\n",
       "65   Mozilla/5.0 (Macintosh; Intel Mac OS X 10.8; r...  free     35\n",
       "94   Mozilla/5.0 (X11; Ubuntu; Linux i686; rv:31.0)...  paid     37\n",
       "100  Mozilla/5.0 (Windows NT 6.1; WOW64; rv:24.0) G...  free     62"
      ]
     },
     "execution_count": 76,
     "metadata": {},
     "output_type": "execute_result"
    }
   ],
   "source": [
    "df_os_level = df_valid.select('userId','userAgent','level').groupby('userAgent','level').count().toPandas().sort_values(by='count')\n",
    "df_os_level.head()"
   ]
  },
  {
   "cell_type": "code",
   "execution_count": 78,
   "metadata": {},
   "outputs": [],
   "source": [
    "# Maybe it's interesting augment our dataset with the device the users utilize our Sparkify service\n",
    "# let's map the operating system, through the Browser\n",
    "\n",
    "map = {'macintosh':'MAC', 'iphone':'IPHONE','ipad':'IPAD',\n",
    "           'x11':'LINUX','compatible':'WINDOWS',\n",
    "           'windows nt 5.0':'WINDOWS','windows nt 5.1':'WINDOWS',\n",
    "          'windows nt 6.1':'WINDOWS', 'windows nt 6.0':'WINDOWS',\n",
    "          'windows nt 6.2':'WINDOWS'}\n",
    "\n",
    "classify_os = udf(lambda x: map[re.findall('\\(([^\\)]*)\\)', x)[0].split(';')[0].lower()])\n",
    "\n",
    "df_valid = df_valid.withColumn('OS', classify_os(df_valid.userAgent))\n",
    "#df_valid.select('OS').distinct().show(5)"
   ]
  },
  {
   "cell_type": "code",
   "execution_count": 79,
   "metadata": {},
   "outputs": [],
   "source": [
    "#df_os_level = df_valid.select('userId','OS','level').groupby('OS','level').count().toPandas().sort_values(by='count')\n",
    "#fig = plt.figure(figsize=(15,6))\n",
    "#plt.ylabel('Number of Users')\n",
    "#ax = fig.gca()\n",
    "#df_os_level.pivot(index='OS', columns='level', values='count').plot(kind='bar', ax=ax)\n",
    "#plt.savefig('df_os_level.png')"
   ]
  },
  {
   "cell_type": "code",
   "execution_count": 80,
   "metadata": {},
   "outputs": [],
   "source": [
    "songs_in_hour = df_valid.filter(df_valid.page == \"NextSong\").groupby(df_valid.hour).count().orderBy(df_valid.hour.cast(\"float\"))"
   ]
  },
  {
   "cell_type": "code",
   "execution_count": 81,
   "metadata": {},
   "outputs": [
    {
     "name": "stdout",
     "output_type": "stream",
     "text": [
      "+----+-----+\n",
      "|hour|count|\n",
      "+----+-----+\n",
      "|   0| 9062|\n",
      "|   1| 8388|\n",
      "|   2| 8336|\n",
      "|   3| 8355|\n",
      "|   4| 8147|\n",
      "|   5| 8178|\n",
      "|   6| 8054|\n",
      "|   7| 8091|\n",
      "|   8| 8253|\n",
      "|   9| 8498|\n",
      "|  10| 8882|\n",
      "|  11| 8830|\n",
      "|  12| 9326|\n",
      "|  13| 9644|\n",
      "|  14|10494|\n",
      "|  15|11354|\n",
      "|  16|11636|\n",
      "|  17|11460|\n",
      "|  18|11124|\n",
      "|  19|10930|\n",
      "+----+-----+\n",
      "only showing top 20 rows\n",
      "\n"
     ]
    }
   ],
   "source": [
    "songs_in_hour.show()"
   ]
  },
  {
   "cell_type": "code",
   "execution_count": 82,
   "metadata": {},
   "outputs": [],
   "source": [
    "songs_in_hour_pd = songs_in_hour.toPandas()\n",
    "songs_in_hour_pd.hour = pd.to_numeric(songs_in_hour_pd.hour)"
   ]
  },
  {
   "cell_type": "code",
   "execution_count": 83,
   "metadata": {},
   "outputs": [
    {
     "data": {
      "image/png": "[encoded data removed]",
      "text/plain": [
       "<matplotlib.figure.Figure at 0x7f13fab210b8>"
      ]
     },
     "metadata": {
      "needs_background": "light"
     },
     "output_type": "display_data"
    }
   ],
   "source": [
    "plt.scatter(songs_in_hour_pd[\"hour\"], songs_in_hour_pd[\"count\"])\n",
    "plt.xlim(-1, 24);\n",
    "plt.ylim(0, 1.2 * max(songs_in_hour_pd[\"count\"]))\n",
    "plt.xlabel(\"Hour\")\n",
    "plt.ylabel(\"Songs played\");"
   ]
  },
  {
   "cell_type": "code",
   "execution_count": 84,
   "metadata": {},
   "outputs": [
    {
     "data": {
      "image/png": "[encoded data removed]",
      "text/plain": [
       "<matplotlib.figure.Figure at 0x7f13faaad908>"
      ]
     },
     "metadata": {
      "needs_background": "light"
     },
     "output_type": "display_data"
    }
   ],
   "source": [
    "sns.set_color_codes(\"pastel\")\n",
    "plt.figure(figsize=(10,5))\n",
    "sns.barplot(x='hour', y='count', data=songs_in_hour_pd, color=\"b\")\n",
    "plt.title('Number of Songs listened by hour')\n",
    "plt.ylabel('count');\n",
    "plt.savefig('df_number_songs_by_hour.png')"
   ]
  },
  {
   "cell_type": "code",
   "execution_count": 85,
   "metadata": {},
   "outputs": [],
   "source": [
    "# Now let's see if there are days when people listen more songs\n",
    "songs_in_days = df_valid.filter(df_valid.page == \"NextSong\").groupby(df_valid.day_of_month).count().orderBy(df_valid.day_of_month.cast(\"float\"))"
   ]
  },
  {
   "cell_type": "code",
   "execution_count": 86,
   "metadata": {},
   "outputs": [],
   "source": [
    "songs_in_days_pd = songs_in_days.toPandas()\n",
    "songs_in_days_pd.day_of_month = pd.to_numeric(songs_in_days_pd.day_of_month)"
   ]
  },
  {
   "cell_type": "code",
   "execution_count": 87,
   "metadata": {},
   "outputs": [
    {
     "data": {
      "image/png": "[encoded data removed]",
      "text/plain": [
       "<matplotlib.figure.Figure at 0x7f13fa9fee48>"
      ]
     },
     "metadata": {
      "needs_background": "light"
     },
     "output_type": "display_data"
    }
   ],
   "source": [
    "sns.set_color_codes(\"pastel\")\n",
    "plt.figure(figsize=(10,5))\n",
    "sns.barplot(x='day_of_month', y='count', data=songs_in_days_pd, color=\"g\")\n",
    "plt.title('Number of Songs listened by day of month')\n",
    "plt.ylabel('count');\n",
    "plt.savefig('df_number_songs_by_day_of_month.png')"
   ]
  },
  {
   "cell_type": "markdown",
   "metadata": {},
   "source": [
    "# Users Downgrade Their Accounts\n",
    "\n",
    "To find when users downgrade their accounts, let's use a window function and cumulative sum to distinguish each user's data as either pre or post downgrade events and then flag those log entries"
   ]
  },
  {
   "cell_type": "markdown",
   "metadata": {},
   "source": [
    "### Now let's calculate the users who downgrade the service, that is, the users that downgraded or cancellate the service"
   ]
  },
  {
   "cell_type": "code",
   "execution_count": 88,
   "metadata": {},
   "outputs": [],
   "source": [
    "flag_downgrade_event = udf(lambda x: 1 if x == \"Submit Downgrade\" else 0, IntegerType())"
   ]
  },
  {
   "cell_type": "code",
   "execution_count": 89,
   "metadata": {
    "scrolled": false
   },
   "outputs": [
    {
     "name": "stdout",
     "output_type": "stream",
     "text": [
      "+------+---------+-------------+----------------+-----+\n",
      "|userId|firstname|           ts|            page|level|\n",
      "+------+---------+-------------+----------------+-----+\n",
      "|    54|    Alexi|1538354749000|       Downgrade| paid|\n",
      "|    95|    Faigy|1538373286000|       Downgrade| paid|\n",
      "|    95|    Faigy|1538392612000|       Downgrade| paid|\n",
      "|   131|     Kael|1538393618000|       Downgrade| paid|\n",
      "|   131|     Kael|1538393619000|Submit Downgrade| paid|\n",
      "+------+---------+-------------+----------------+-----+\n",
      "only showing top 5 rows\n",
      "\n"
     ]
    }
   ],
   "source": [
    "df_valid.select([\"userId\", \"firstname\", \"ts\", \"page\", \"level\"]).where((df_valid.page == \"Downgrade\") | (df_valid.page == \"Cancellation Confirmation\") | (df_valid.page == \"Submit Downgrade\") ).sort(\"ts\").show(5)"
   ]
  },
  {
   "cell_type": "code",
   "execution_count": 90,
   "metadata": {},
   "outputs": [],
   "source": [
    "df_valid = df_valid.withColumn(\"downgraded\", flag_downgrade_event(\"page\"))"
   ]
  },
  {
   "cell_type": "code",
   "execution_count": 91,
   "metadata": {},
   "outputs": [
    {
     "name": "stdout",
     "output_type": "stream",
     "text": [
      "+----------+\n",
      "|downgraded|\n",
      "+----------+\n",
      "|         0|\n",
      "|         0|\n",
      "|         0|\n",
      "|         0|\n",
      "|         0|\n",
      "+----------+\n",
      "only showing top 5 rows\n",
      "\n"
     ]
    }
   ],
   "source": [
    "df_valid.select('downgraded').show(5)"
   ]
  },
  {
   "cell_type": "code",
   "execution_count": 92,
   "metadata": {},
   "outputs": [
    {
     "data": {
      "text/html": [
       "<div>\n",
       "<style scoped>\n",
       "    .dataframe tbody tr th:only-of-type {\n",
       "        vertical-align: middle;\n",
       "    }\n",
       "\n",
       "    .dataframe tbody tr th {\n",
       "        vertical-align: top;\n",
       "    }\n",
       "\n",
       "    .dataframe thead th {\n",
       "        text-align: right;\n",
       "    }\n",
       "</style>\n",
       "<table border=\"1\" class=\"dataframe\">\n",
       "  <thead>\n",
       "    <tr style=\"text-align: right;\">\n",
       "      <th></th>\n",
       "      <th>gender</th>\n",
       "      <th>downgraded</th>\n",
       "      <th>count</th>\n",
       "    </tr>\n",
       "  </thead>\n",
       "  <tbody>\n",
       "    <tr>\n",
       "      <th>0</th>\n",
       "      <td>M</td>\n",
       "      <td>1</td>\n",
       "      <td>21</td>\n",
       "    </tr>\n",
       "    <tr>\n",
       "      <th>2</th>\n",
       "      <td>F</td>\n",
       "      <td>1</td>\n",
       "      <td>28</td>\n",
       "    </tr>\n",
       "    <tr>\n",
       "      <th>1</th>\n",
       "      <td>F</td>\n",
       "      <td>0</td>\n",
       "      <td>104</td>\n",
       "    </tr>\n",
       "    <tr>\n",
       "      <th>3</th>\n",
       "      <td>M</td>\n",
       "      <td>0</td>\n",
       "      <td>121</td>\n",
       "    </tr>\n",
       "  </tbody>\n",
       "</table>\n",
       "</div>"
      ],
      "text/plain": [
       "  gender  downgraded  count\n",
       "0      M           1     21\n",
       "2      F           1     28\n",
       "1      F           0    104\n",
       "3      M           0    121"
      ]
     },
     "execution_count": 92,
     "metadata": {},
     "output_type": "execute_result"
    }
   ],
   "source": [
    "df_downgrade = df_valid.select('userId','gender','downgraded').distinct().groupby('gender','downgraded').count().toPandas().sort_values(by='count')\n",
    "df_downgrade.head()"
   ]
  },
  {
   "cell_type": "code",
   "execution_count": 93,
   "metadata": {},
   "outputs": [
    {
     "data": {
      "image/png": "[encoded data removed]",
      "text/plain": [
       "<matplotlib.figure.Figure at 0x7f13fa873b70>"
      ]
     },
     "metadata": {
      "needs_background": "light"
     },
     "output_type": "display_data"
    }
   ],
   "source": [
    "sns.barplot(x='gender', y='count',hue='downgraded', data=df_downgrade);\n",
    "plt.xlabel('Gender')\n",
    "plt.ylabel('Number of Users')\n",
    "plt.title('Gender by Downgrade')\n",
    "plt.legend(title='Downgraded', loc='best');\n",
    "plt.savefig('Gender_by_Downgrade.png')"
   ]
  },
  {
   "cell_type": "markdown",
   "metadata": {},
   "source": [
    "#### Women are slightly more likely to downgrade than men"
   ]
  },
  {
   "cell_type": "code",
   "execution_count": 118,
   "metadata": {},
   "outputs": [
    {
     "data": {
      "text/html": [
       "<div>\n",
       "<style scoped>\n",
       "    .dataframe tbody tr th:only-of-type {\n",
       "        vertical-align: middle;\n",
       "    }\n",
       "\n",
       "    .dataframe tbody tr th {\n",
       "        vertical-align: top;\n",
       "    }\n",
       "\n",
       "    .dataframe thead th {\n",
       "        text-align: right;\n",
       "    }\n",
       "</style>\n",
       "<table border=\"1\" class=\"dataframe\">\n",
       "  <thead>\n",
       "    <tr style=\"text-align: right;\">\n",
       "      <th></th>\n",
       "      <th>level</th>\n",
       "      <th>downgraded</th>\n",
       "      <th>count</th>\n",
       "    </tr>\n",
       "  </thead>\n",
       "  <tbody>\n",
       "    <tr>\n",
       "      <th>2</th>\n",
       "      <td>paid</td>\n",
       "      <td>1</td>\n",
       "      <td>49</td>\n",
       "    </tr>\n",
       "    <tr>\n",
       "      <th>0</th>\n",
       "      <td>paid</td>\n",
       "      <td>0</td>\n",
       "      <td>165</td>\n",
       "    </tr>\n",
       "    <tr>\n",
       "      <th>1</th>\n",
       "      <td>free</td>\n",
       "      <td>0</td>\n",
       "      <td>195</td>\n",
       "    </tr>\n",
       "  </tbody>\n",
       "</table>\n",
       "</div>"
      ],
      "text/plain": [
       "  level  downgraded  count\n",
       "2  paid           1     49\n",
       "0  paid           0    165\n",
       "1  free           0    195"
      ]
     },
     "execution_count": 118,
     "metadata": {},
     "output_type": "execute_result"
    }
   ],
   "source": [
    "df_downgrade_level = df_valid.select('userId','level','downgraded').distinct().groupby('level','downgraded').count().toPandas().sort_values(by='count')\n",
    "df_downgrade_level.head()"
   ]
  },
  {
   "cell_type": "code",
   "execution_count": 119,
   "metadata": {},
   "outputs": [
    {
     "data": {
      "image/png": "[encoded data removed]",
      "text/plain": [
       "<matplotlib.figure.Figure at 0x7f13fa514da0>"
      ]
     },
     "metadata": {
      "needs_background": "light"
     },
     "output_type": "display_data"
    }
   ],
   "source": [
    "sns.barplot(x='level', y='count',hue='downgraded', data=df_downgrade_level);\n",
    "plt.xlabel('Level')\n",
    "plt.ylabel('Number of Users')\n",
    "plt.title('Level Account by Downgrade')\n",
    "plt.legend(title='Downgraded', loc='best');\n",
    "plt.savefig('Level_by_Downgrade.png')"
   ]
  },
  {
   "cell_type": "markdown",
   "metadata": {},
   "source": [
    "# Now let's calculate the users who churn, that is, the users that confirmed cancellation"
   ]
  },
  {
   "cell_type": "code",
   "execution_count": 95,
   "metadata": {},
   "outputs": [],
   "source": [
    "flag_churn_event = udf(lambda x: 1 if x == \"Cancellation Confirmation\" else 0, IntegerType())\n",
    "df_valid = df_valid.withColumn(\"churn\", flag_churn_event(df_valid.page))"
   ]
  },
  {
   "cell_type": "code",
   "execution_count": 96,
   "metadata": {
    "scrolled": true
   },
   "outputs": [
    {
     "name": "stdout",
     "output_type": "stream",
     "text": [
      "+-----+\n",
      "|churn|\n",
      "+-----+\n",
      "|    0|\n",
      "|    0|\n",
      "|    0|\n",
      "|    0|\n",
      "|    0|\n",
      "+-----+\n",
      "only showing top 5 rows\n",
      "\n"
     ]
    }
   ],
   "source": [
    "df_valid.select('churn').show(5)"
   ]
  },
  {
   "cell_type": "code",
   "execution_count": 136,
   "metadata": {},
   "outputs": [
    {
     "data": {
      "text/plain": [
       "52"
      ]
     },
     "execution_count": 136,
     "metadata": {},
     "output_type": "execute_result"
    }
   ],
   "source": [
    "# Let's count the number of user cancellations (churns) --> there are 52 users who have cancel the service\n",
    "df_valid.select([\"userId\", \"firstname\", \"ts\", \"page\", \"level\", \"phase\"]).where(df_valid.churn == 1).sort(\"ts\").count()"
   ]
  },
  {
   "cell_type": "code",
   "execution_count": null,
   "metadata": {},
   "outputs": [],
   "source": []
  },
  {
   "cell_type": "code",
   "execution_count": 131,
   "metadata": {},
   "outputs": [],
   "source": [
    "# Let's drop the UserId duplicates and then count the users who churned\n",
    "# And prepare the data to be plotted with a sns, so we need to convert to a Pandas Dataframe\n",
    "total_churn = df_valid.dropDuplicates(['userId','churn']).groupby(['churn']).count().toPandas()"
   ]
  },
  {
   "cell_type": "code",
   "execution_count": 132,
   "metadata": {},
   "outputs": [
    {
     "data": {
      "image/png": "[encoded data removed]",
      "text/plain": [
       "<matplotlib.figure.Figure at 0x7f13fa19dd68>"
      ]
     },
     "metadata": {
      "needs_background": "light"
     },
     "output_type": "display_data"
    }
   ],
   "source": [
    "sns.barplot(x='churn', y='count', data=total_churn);\n",
    "plt.xlabel('Churn')\n",
    "plt.ylabel('Number of Users')\n",
    "plt.title('The number of Users who churned')\n",
    "plt.legend(title='Churn', loc='best');\n",
    "plt.savefig('Users_who_churned.png')"
   ]
  },
  {
   "cell_type": "code",
   "execution_count": null,
   "metadata": {},
   "outputs": [],
   "source": []
  },
  {
   "cell_type": "code",
   "execution_count": 97,
   "metadata": {},
   "outputs": [
    {
     "name": "stdout",
     "output_type": "stream",
     "text": [
      "+------+-----+-----+\n",
      "|gender|churn|count|\n",
      "+------+-----+-----+\n",
      "|     M|    1|   32|\n",
      "|     F|    0|  104|\n",
      "|     F|    1|   20|\n",
      "|     M|    0|  121|\n",
      "+------+-----+-----+\n",
      "\n"
     ]
    }
   ],
   "source": [
    "df_valid.select('userId','gender','churn').distinct().groupby('gender','churn').count().show()"
   ]
  },
  {
   "cell_type": "code",
   "execution_count": 98,
   "metadata": {},
   "outputs": [],
   "source": [
    "df_churn_gender = df_valid.select('userId','gender','churn').groupby('gender','churn').count().toPandas().sort_values(by='count')"
   ]
  },
  {
   "cell_type": "code",
   "execution_count": 99,
   "metadata": {},
   "outputs": [
    {
     "data": {
      "text/html": [
       "<div>\n",
       "<style scoped>\n",
       "    .dataframe tbody tr th:only-of-type {\n",
       "        vertical-align: middle;\n",
       "    }\n",
       "\n",
       "    .dataframe tbody tr th {\n",
       "        vertical-align: top;\n",
       "    }\n",
       "\n",
       "    .dataframe thead th {\n",
       "        text-align: right;\n",
       "    }\n",
       "</style>\n",
       "<table border=\"1\" class=\"dataframe\">\n",
       "  <thead>\n",
       "    <tr style=\"text-align: right;\">\n",
       "      <th></th>\n",
       "      <th>gender</th>\n",
       "      <th>churn</th>\n",
       "      <th>count</th>\n",
       "    </tr>\n",
       "  </thead>\n",
       "  <tbody>\n",
       "    <tr>\n",
       "      <th>2</th>\n",
       "      <td>F</td>\n",
       "      <td>1</td>\n",
       "      <td>20</td>\n",
       "    </tr>\n",
       "    <tr>\n",
       "      <th>0</th>\n",
       "      <td>M</td>\n",
       "      <td>1</td>\n",
       "      <td>32</td>\n",
       "    </tr>\n",
       "    <tr>\n",
       "      <th>3</th>\n",
       "      <td>M</td>\n",
       "      <td>0</td>\n",
       "      <td>123544</td>\n",
       "    </tr>\n",
       "    <tr>\n",
       "      <th>1</th>\n",
       "      <td>F</td>\n",
       "      <td>0</td>\n",
       "      <td>154558</td>\n",
       "    </tr>\n",
       "  </tbody>\n",
       "</table>\n",
       "</div>"
      ],
      "text/plain": [
       "  gender  churn   count\n",
       "2      F      1      20\n",
       "0      M      1      32\n",
       "3      M      0  123544\n",
       "1      F      0  154558"
      ]
     },
     "execution_count": 99,
     "metadata": {},
     "output_type": "execute_result"
    }
   ],
   "source": [
    "df_churn_gender "
   ]
  },
  {
   "cell_type": "code",
   "execution_count": 124,
   "metadata": {},
   "outputs": [
    {
     "data": {
      "image/png": "[encoded data removed]",
      "text/plain": [
       "<matplotlib.figure.Figure at 0x7f13fa4b1ba8>"
      ]
     },
     "metadata": {
      "needs_background": "light"
     },
     "output_type": "display_data"
    }
   ],
   "source": [
    "sns.barplot(x='gender', y='count',hue='churn', data=df_churn_gender);\n",
    "plt.xlabel('Gender')\n",
    "plt.ylabel('Number of Users')\n",
    "plt.title('Gender by Churn')\n",
    "plt.legend(title='Churn', loc='best');\n",
    "plt.savefig('Gender by Churn.png')"
   ]
  },
  {
   "cell_type": "code",
   "execution_count": 133,
   "metadata": {},
   "outputs": [
    {
     "data": {
      "image/png": "[encoded data removed]",
      "text/plain": [
       "<matplotlib.figure.Figure at 0x7f13fa1786d8>"
      ]
     },
     "metadata": {
      "needs_background": "light"
     },
     "output_type": "display_data"
    }
   ],
   "source": [
    "sessionId_total_churn = df_valid.dropDuplicates(['userId','churn', 'sessionId']).groupby(['userId','churn']).count().toPandas()\n",
    "#churn_df = df_valid.select('userId', 'churn', 'sessionId').distinct().groupBy(['userId', 'churn']).count().toPandas()\n",
    "\n",
    "# compare two groups of users\n",
    "g = sns.FacetGrid(sessionId_total_churn, col=\"churn\", sharey=False)\n",
    "g.map(plt.hist, \"count\");"
   ]
  },
  {
   "cell_type": "code",
   "execution_count": 128,
   "metadata": {},
   "outputs": [
    {
     "data": {
      "text/plain": [
       "<matplotlib.axes._subplots.AxesSubplot at 0x7f13fa693ba8>"
      ]
     },
     "execution_count": 128,
     "metadata": {},
     "output_type": "execute_result"
    },
    {
     "data": {
      "image/png": "[encoded data removed]",
      "text/plain": [
       "<matplotlib.figure.Figure at 0x7f13fa32d668>"
      ]
     },
     "metadata": {
      "needs_background": "light"
     },
     "output_type": "display_data"
    }
   ],
   "source": [
    "df_count_ = df_valid.select('userId','level','churn').groupby('level','churn').count().toPandas().sort_values(by='count')\n",
    "fig = plt.figure(figsize=(6,6))\n",
    "ax = fig.gca()\n",
    "#plt.rcParams[\"font.size\"] = \"12\"\n",
    "df_count_.pivot(index='churn', columns='level', values='count').plot(kind='bar', ax=ax)\n",
    "# plt.savefig('df_churnl_level.png')"
   ]
  },
  {
   "cell_type": "code",
   "execution_count": 106,
   "metadata": {},
   "outputs": [],
   "source": [
    "from pyspark.sql import Window"
   ]
  },
  {
   "cell_type": "code",
   "execution_count": 107,
   "metadata": {},
   "outputs": [],
   "source": [
    "windowval = Window.partitionBy(\"userId\").orderBy(desc(\"ts\")).rangeBetween(Window.unboundedPreceding, 0)"
   ]
  },
  {
   "cell_type": "code",
   "execution_count": 108,
   "metadata": {},
   "outputs": [],
   "source": [
    "df_valid = df_valid.withColumn(\"phase\", Fsum(\"downgraded\").over(windowval))"
   ]
  },
  {
   "cell_type": "code",
   "execution_count": 141,
   "metadata": {},
   "outputs": [
    {
     "data": {
      "text/plain": [
       "Row(userId='131', firstname='Kael', ts=1538384355000, page='NextSong', level='free', phase=2)"
      ]
     },
     "execution_count": 141,
     "metadata": {},
     "output_type": "execute_result"
    }
   ],
   "source": [
    "df_valid.select([\"userId\", \"firstname\", \"ts\", \"page\", \"level\", \"phase\"]).where(df_valid.userId == \"131\").sort(\"ts\").collect()[0]"
   ]
  },
  {
   "cell_type": "code",
   "execution_count": 137,
   "metadata": {},
   "outputs": [
    {
     "data": {
      "text/plain": [
       "Row(userId='100011', firstname='Sebastian', ts=1538417085000, page='Cancellation Confirmation', level='free', phase=0)"
      ]
     },
     "execution_count": 137,
     "metadata": {},
     "output_type": "execute_result"
    }
   ],
   "source": [
    "# Let's see more information about the 52 users who churned\n",
    "df_valid.select([\"userId\", \"firstname\", \"ts\", \"page\", \"level\", \"phase\"]).where(df_valid.churn == 1).sort(\"ts\").collect()[0]"
   ]
  },
  {
   "cell_type": "code",
   "execution_count": 138,
   "metadata": {},
   "outputs": [],
   "source": [
    "avg_time_user = df_valid.agg({\"itemInSession\": \"max\"}).collect()[0]"
   ]
  },
  {
   "cell_type": "code",
   "execution_count": 139,
   "metadata": {},
   "outputs": [
    {
     "data": {
      "text/plain": [
       "Row(max(itemInSession)=1321)"
      ]
     },
     "execution_count": 139,
     "metadata": {},
     "output_type": "execute_result"
    }
   ],
   "source": [
    "avg_time_user"
   ]
  },
  {
   "cell_type": "code",
   "execution_count": 142,
   "metadata": {},
   "outputs": [],
   "source": [
    "#### Question: Is there a difference in time between the users who churned and who did not churn? "
   ]
  },
  {
   "cell_type": "code",
   "execution_count": 140,
   "metadata": {},
   "outputs": [],
   "source": [
    "member_time = df_valid.select('userId','registration','ts','churn')"
   ]
  },
  {
   "cell_type": "code",
   "execution_count": null,
   "metadata": {},
   "outputs": [],
   "source": [
    "member_time"
   ]
  },
  {
   "cell_type": "code",
   "execution_count": 149,
   "metadata": {},
   "outputs": [
    {
     "data": {
      "image/png": "[encoded data removed]",
      "text/plain": [
       "<matplotlib.figure.Figure at 0x7f13f98ff8d0>"
      ]
     },
     "metadata": {
      "needs_background": "light"
     },
     "output_type": "display_data"
    }
   ],
   "source": [
    "#### Question: Is there a difference in the location between the users who churned and who did not churn? \n",
    "state_df = df_valid.dropDuplicates(['userId', 'short_location']).groupby(['short_location', 'churn']).count().toPandas()\n",
    "\n",
    "fig = plt.figure(figsize=(28,6))\n",
    "ax = sns.barplot(x='short_location', y='count', hue='churn', data=state_df);\n",
    "plt.xlabel('State of the User')\n",
    "plt.ylabel('count')\n",
    "plt.title('Number of Users by state');\n",
    "plt.legend(title='churn', loc='best');\n"
   ]
  },
  {
   "cell_type": "code",
   "execution_count": 116,
   "metadata": {},
   "outputs": [
    {
     "ename": "TypeError",
     "evalue": "'Column' object is not callable",
     "output_type": "error",
     "traceback": [
      "\u001b[0;31m---------------------------------------------------------------------------\u001b[0m",
      "\u001b[0;31mTypeError\u001b[0m                                 Traceback (most recent call last)",
      "\u001b[0;32m<ipython-input-116-cdc819ed3ecd>\u001b[0m in \u001b[0;36m<module>\u001b[0;34m()\u001b[0m\n\u001b[0;32m----> 1\u001b[0;31m \u001b[0mdf_valid\u001b[0m\u001b[0;34m[\u001b[0m\u001b[0;34m'song'\u001b[0m\u001b[0;34m]\u001b[0m\u001b[0;34m.\u001b[0m\u001b[0mmean\u001b[0m\u001b[0;34m(\u001b[0m\u001b[0;34m)\u001b[0m\u001b[0;34m\u001b[0m\u001b[0m\n\u001b[0m",
      "\u001b[0;31mTypeError\u001b[0m: 'Column' object is not callable"
     ]
    }
   ],
   "source": [
    "df_valid['song'].mean()"
   ]
  },
  {
   "cell_type": "code",
   "execution_count": null,
   "metadata": {},
   "outputs": [],
   "source": [
    "print(\"The average person listens {:.4f} songs, 99% of people have {} level, and the most played song ever is {}.\".format(df_valid['song'].mean(),df_valid['level'].quantile(0.99), df_valid['song'].max()))"
   ]
  },
  {
   "cell_type": "code",
   "execution_count": null,
   "metadata": {},
   "outputs": [],
   "source": []
  },
  {
   "cell_type": "code",
   "execution_count": null,
   "metadata": {},
   "outputs": [],
   "source": []
  },
  {
   "cell_type": "code",
   "execution_count": null,
   "metadata": {},
   "outputs": [],
   "source": []
  },
  {
   "cell_type": "code",
   "execution_count": null,
   "metadata": {},
   "outputs": [],
   "source": []
  },
  {
   "cell_type": "code",
   "execution_count": null,
   "metadata": {},
   "outputs": [],
   "source": []
  },
  {
   "cell_type": "markdown",
   "metadata": {},
   "source": [
    "# Feature Engineering\n",
    "Once you've familiarized yourself with the data, build out the features you find promising to train your model on. To work with the full dataset, you can follow the following steps.\n",
    "- Write a script to extract the necessary features from the smaller subset of data\n",
    "- Ensure that your script is scalable, using the best practices discussed in Lesson 3\n",
    "- Try your script on the full data set, debugging your script if necessary\n",
    "\n",
    "If you are working in the classroom workspace, you can just extract features based on the small subset of data contained here. Be sure to transfer over this work to the larger dataset when you work on your Spark cluster."
   ]
  },
  {
   "cell_type": "code",
   "execution_count": null,
   "metadata": {},
   "outputs": [],
   "source": [
    "# Let's remember the fields of our datset\n",
    "# There are some fields that we can transform from categorical to numerical: e.g: gender, level\n",
    "df_valid.printSchema()"
   ]
  },
  {
   "cell_type": "code",
   "execution_count": null,
   "metadata": {},
   "outputs": [],
   "source": [
    "# Let's change gender into a numerical,binary field (0/1)\n",
    "gender = df_valid.select(['userId', 'gender']).dropDuplicates(['userId']).replace(['F', 'M'], ['0', '1'], 'gender')\n",
    "df_gender = gender.withColumn('gender', gender.gender.cast('int'))\n",
    "df_gender.show(3)"
   ]
  },
  {
   "cell_type": "code",
   "execution_count": null,
   "metadata": {},
   "outputs": [],
   "source": [
    "# Let's change level into a numerical,binary field (0/1)\n",
    "level = df_valid.select(['userId', 'level']).dropDuplicates(['userId']).replace(['free', 'paid'], ['0', '1'], 'level')\n",
    "df_level = level.withColumn('level', level.level.cast('int'))\n",
    "df_level.show(3)"
   ]
  },
  {
   "cell_type": "code",
   "execution_count": null,
   "metadata": {},
   "outputs": [],
   "source": [
    "# Let's change churn into a numerical,binary field (0/1)\n",
    "churn = df_valid.select(['userId','churn']).dropDuplicates(['userId'])\n",
    "df_churn = churn.withColumn('churn', churn.churn.cast('int'))\n",
    "df_churn.show(5) "
   ]
  },
  {
   "cell_type": "code",
   "execution_count": null,
   "metadata": {},
   "outputs": [],
   "source": []
  },
  {
   "cell_type": "code",
   "execution_count": null,
   "metadata": {},
   "outputs": [],
   "source": []
  },
  {
   "cell_type": "markdown",
   "metadata": {},
   "source": [
    "# Modeling\n",
    "Split the full dataset into train, test, and validation sets. Test out several of the machine learning methods you learned. Evaluate the accuracy of the various models, tuning parameters as necessary. Determine your winning model based on test accuracy and report results on the validation set. Since the churned users are a fairly small subset, I suggest using F1 score as the metric to optimize."
   ]
  },
  {
   "cell_type": "code",
   "execution_count": null,
   "metadata": {},
   "outputs": [],
   "source": []
  },
  {
   "cell_type": "markdown",
   "metadata": {},
   "source": [
    "# Final Steps\n",
    "Clean up your code, adding comments and renaming variables to make the code easier to read and maintain. Refer to the Spark Project Overview page and Data Scientist Capstone Project Rubric to make sure you are including all components of the capstone project and meet all expectations. Remember, this includes thorough documentation in a README file in a Github repository, as well as a web app or blog post."
   ]
  },
  {
   "cell_type": "code",
   "execution_count": null,
   "metadata": {},
   "outputs": [],
   "source": []
  }
 ],
 "metadata": {
  "kernelspec": {
   "display_name": "Python 3",
   "language": "python",
   "name": "python3"
  },
  "language_info": {
   "codemirror_mode": {
    "name": "ipython",
    "version": 3
   },
   "file_extension": ".py",
   "mimetype": "text/x-python",
   "name": "python",
   "nbconvert_exporter": "python",
   "pygments_lexer": "ipython3",
   "version": "3.6.3"
  }
 },
 "nbformat": 4,
 "nbformat_minor": 2
}
