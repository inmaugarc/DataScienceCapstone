{
 "cells": [
  {
   "cell_type": "markdown",
   "metadata": {},
   "source": [
    "# Sparkify Project Workspace\n",
    "This workspace contains a tiny subset (128MB) of the full dataset available (12GB). Feel free to use this workspace to build your project, or to explore a smaller subset with Spark before deploying your cluster on the cloud. Instructions for setting up your Spark cluster is included in the last lesson of the Extracurricular Spark Course content.\n",
    "\n",
    "You can follow the steps below to guide your data analysis and model building portion of this project."
   ]
  },
  {
   "cell_type": "code",
   "execution_count": 1,
   "metadata": {},
   "outputs": [],
   "source": [
    "# import standard libraries\n",
    "import numpy as np\n",
    "import pandas as pd\n",
    "import matplotlib.pyplot as plt\n",
    "import seaborn as sns\n",
    "\n",
    "import plotly.plotly as py\n",
    "import plotly.graph_objs as go\n",
    "\n",
    "import datetime\n",
    "from time import time\n",
    "%matplotlib inline\n",
    "import re\n",
    "\n",
    "#import pyspark libraries\n",
    "import pyspark\n",
    "from pyspark import SparkConf\n",
    "\n",
    "# import sql Spark libraries\n",
    "from pyspark.sql import SparkSession, Window\n",
    "from pyspark.sql.types import StringType, IntegerType,DataType\n",
    "from pyspark.sql.functions import udf\n",
    "from pyspark.sql.functions import date_format\n",
    "from pyspark.sql.functions import sum as Fsum\n",
    "from pyspark.sql.functions import min as Fmin\n",
    "from pyspark.sql.functions import max as Fmax\n",
    "from pyspark.sql.functions import avg, col, min, max, regexp_replace, concat, count, desc, asc, explode, lit, split, stddev, udf, lower, isnan, when, rank, from_unixtime\n",
    "\n",
    "# import ml Spark libraries\n",
    "from pyspark.ml import Pipeline\n",
    "from pyspark.ml.feature import StandardScaler, MinMaxScaler, VectorAssembler\n",
    "from pyspark.ml.classification import LogisticRegression, RandomForestClassifier, GBTClassifier, DecisionTreeClassifier, LinearSVC\n",
    "from pyspark.ml.evaluation import BinaryClassificationEvaluator, MulticlassClassificationEvaluator\n",
    "from pyspark.ml.tuning import CrossValidator, ParamGridBuilder\n",
    "from pyspark.ml.regression import LinearRegression\n",
    "from pyspark.ml.clustering import KMeans\n",
    "from pyspark.mllib.evaluation import BinaryClassificationMetrics\n",
    "\n",
    "# import sklearn ml metrics libraries for metrics calculation\n",
    "from sklearn.metrics import confusion_matrix, f1_score, classification_report"
   ]
  },
  {
   "cell_type": "code",
   "execution_count": 2,
   "metadata": {},
   "outputs": [],
   "source": [
    "# create a Spark session\n",
    "spark = SparkSession \\\n",
    "    .builder \\\n",
    "    .appName(\"My Sparkify app\") \\\n",
    "    .getOrCreate()"
   ]
  },
  {
   "cell_type": "code",
   "execution_count": 3,
   "metadata": {},
   "outputs": [
    {
     "data": {
      "text/plain": [
       "[('spark.rdd.compress', 'True'),\n",
       " ('spark.serializer.objectStreamReset', '100'),\n",
       " ('spark.master', 'local[*]'),\n",
       " ('spark.executor.id', 'driver'),\n",
       " ('spark.submit.deployMode', 'client'),\n",
       " ('spark.driver.port', '38115'),\n",
       " ('spark.app.id', 'local-1617139540693'),\n",
       " ('spark.driver.host', '5488a941163e'),\n",
       " ('spark.ui.showConsoleProgress', 'true'),\n",
       " ('spark.app.name', 'My Sparkify app')]"
      ]
     },
     "execution_count": 3,
     "metadata": {},
     "output_type": "execute_result"
    }
   ],
   "source": [
    "# get the Spark context\n",
    "spark.sparkContext.getConf().getAll()"
   ]
  },
  {
   "cell_type": "code",
   "execution_count": 4,
   "metadata": {},
   "outputs": [
    {
     "data": {
      "text/html": [
       "\n",
       "            <div>\n",
       "                <p><b>SparkSession - in-memory</b></p>\n",
       "                \n",
       "        <div>\n",
       "            <p><b>SparkContext</b></p>\n",
       "\n",
       "            <p><a href=\"http://5488a941163e:4040\">Spark UI</a></p>\n",
       "\n",
       "            <dl>\n",
       "              <dt>Version</dt>\n",
       "                <dd><code>v2.4.3</code></dd>\n",
       "              <dt>Master</dt>\n",
       "                <dd><code>local[*]</code></dd>\n",
       "              <dt>AppName</dt>\n",
       "                <dd><code>My Sparkify app</code></dd>\n",
       "            </dl>\n",
       "        </div>\n",
       "        \n",
       "            </div>\n",
       "        "
      ],
      "text/plain": [
       "<pyspark.sql.session.SparkSession at 0x7fd8e1232cf8>"
      ]
     },
     "execution_count": 4,
     "metadata": {},
     "output_type": "execute_result"
    }
   ],
   "source": [
    "spark"
   ]
  },
  {
   "cell_type": "markdown",
   "metadata": {},
   "source": [
    "# Load and Clean Dataset\n",
    "In this workspace, the mini-dataset file is `mini_sparkify_event_data.json`. Load and clean the dataset, checking for invalid or missing data - for example, records without userids or sessionids. "
   ]
  },
  {
   "cell_type": "code",
   "execution_count": 5,
   "metadata": {},
   "outputs": [],
   "source": [
    "# import mini-dataset file\n",
    "file = \"./mini_sparkify_event_data.json\"\n",
    "df = spark.read.json(file)"
   ]
  },
  {
   "cell_type": "code",
   "execution_count": 6,
   "metadata": {},
   "outputs": [
    {
     "data": {
      "text/plain": [
       "DataFrame[artist: string, auth: string, firstName: string, gender: string, itemInSession: bigint, lastName: string, length: double, level: string, location: string, method: string, page: string, registration: bigint, sessionId: bigint, song: string, status: bigint, ts: bigint, userAgent: string, userId: string]"
      ]
     },
     "execution_count": 6,
     "metadata": {},
     "output_type": "execute_result"
    }
   ],
   "source": [
    "# Let's check the dataset\n",
    "df.persist()"
   ]
  },
  {
   "cell_type": "markdown",
   "metadata": {},
   "source": [
    "Now, let's prepare some functions that we will use later"
   ]
  },
  {
   "cell_type": "code",
   "execution_count": 7,
   "metadata": {},
   "outputs": [],
   "source": [
    "# Let's build a function to count the nulls/missing/empty values\n",
    "def count_null_col(df,column):\n",
    "    '''\n",
    "    Function that counts the nulls or missing values that exist in a column\n",
    "    Input:  \n",
    "            df: dataset where we want to count null/missing/empty values\n",
    "            column: column of the dataset we want to count null/missing/empty values\n",
    "    Output: \n",
    "            n_missing: it returns the number of missing values\n",
    "    '''\n",
    "    missing = df.filter(((df[column].isNull()) | isnan(df[column])) | (df[column] == \"\"))\n",
    "    n_missing = missing.count()\n",
    "    \n",
    "    return n_missing"
   ]
  },
  {
   "cell_type": "code",
   "execution_count": 8,
   "metadata": {},
   "outputs": [],
   "source": [
    "# Let's build a function to count the nulls/missing/empty values of every column of the dataset\n",
    "def count_null_df(df):\n",
    "    '''\n",
    "    Function that counts the nulls or missing values that exist in a dataset\n",
    "    Input:  \n",
    "            df: dataset where we want to count null/missing/empty values\n",
    "    Output: \n",
    "            missing: it returns a dictionary with the number of missing values of every column\n",
    "            in case the column has nulls/missing/empty values\n",
    "    '''   \n",
    "    missing = {}\n",
    "    for col in df.columns:\n",
    "        n_missing = count_null_col(df,col)\n",
    "        if n_missing > 0:\n",
    "            missing.update({col: n_missing})\n",
    "    \n",
    "    return missing      "
   ]
  },
  {
   "cell_type": "code",
   "execution_count": 9,
   "metadata": {},
   "outputs": [],
   "source": [
    "# Let's build a function to count if the categorical and numerical columns of the dataset\n",
    "def cat_or_num(df):\n",
    "    '''\n",
    "    Function that clasifies the kind of columns (categorical or numerical) that exist in a dataset\n",
    "    Input:  \n",
    "            df: dataset where we want to clasify columns\n",
    "    Output: \n",
    "            num_cols,cat:cols: it returns a dictionary with the category of every column\n",
    "    \n",
    "    '''   \n",
    "    cat_cols = []\n",
    "    num_cols = []\n",
    "\n",
    "    for coltype in df.schema:\n",
    "        ctype = str(coltype.dataType)\n",
    "        if ctype == \"StringType\":\n",
    "            cat_cols.append(coltype.name)\n",
    "\n",
    "        elif ctype == \"LongType\" or ctype == \"DoubleType\":\n",
    "            num_cols.append(coltype.name)\n",
    "            \n",
    "    return cat_cols, num_cols"
   ]
  },
  {
   "cell_type": "code",
   "execution_count": 10,
   "metadata": {},
   "outputs": [],
   "source": [
    "# get information about the cols and features\n",
    "def show_cols_info(df):\n",
    "    '''\n",
    "    Function that shows the summary of the information of the columns of the datasets\n",
    "    Input:  \n",
    "            df: dataset we want to show information \n",
    "    Output: \n",
    "            none: it prints a summary and the main values of every column\n",
    "    \n",
    "    '''     \n",
    "\n",
    "    for column in df.columns:\n",
    "        # show a summary of the important information of the column\n",
    "        df.describe([column]).show()\n",
    "        # show the different values of the field\n",
    "        df.select([column]).distinct().show()\n",
    "    "
   ]
  },
  {
   "cell_type": "code",
   "execution_count": 11,
   "metadata": {},
   "outputs": [
    {
     "name": "stdout",
     "output_type": "stream",
     "text": [
      "These are the columns with nulls/missing/empty values: {'artist': 58392, 'firstName': 8346, 'gender': 8346, 'lastName': 8346, 'length': 58392, 'location': 8346, 'registration': 8346, 'song': 58392, 'userAgent': 8346, 'userId': 8346}\n",
      "\n"
     ]
    }
   ],
   "source": [
    "# Let's see how many missing values there are in the dataset\n",
    "missing = count_null_df(df)\n",
    "print(\"These are the columns with nulls/missing/empty values: {}\\n\".format(missing))"
   ]
  },
  {
   "cell_type": "markdown",
   "metadata": {},
   "source": [
    "# Drop Rows with Missing Values\n",
    "As you'll see, it turns out there are no missing values in session column, but there are values that are empty string. Also there are userID values that are empty strings. Let's detect and delete them as these rows are not useful"
   ]
  },
  {
   "cell_type": "code",
   "execution_count": 12,
   "metadata": {},
   "outputs": [],
   "source": [
    "df_valid = df.dropna(how = \"any\", subset = [\"userId\", \"sessionId\"])"
   ]
  },
  {
   "cell_type": "code",
   "execution_count": 13,
   "metadata": {},
   "outputs": [
    {
     "data": {
      "text/plain": [
       "286500"
      ]
     },
     "execution_count": 13,
     "metadata": {},
     "output_type": "execute_result"
    }
   ],
   "source": [
    "df_valid.count()"
   ]
  },
  {
   "cell_type": "code",
   "execution_count": 14,
   "metadata": {},
   "outputs": [
    {
     "name": "stdout",
     "output_type": "stream",
     "text": [
      "+------+\n",
      "|userId|\n",
      "+------+\n",
      "|      |\n",
      "|    10|\n",
      "|   100|\n",
      "|100001|\n",
      "|100002|\n",
      "|100003|\n",
      "|100004|\n",
      "|100005|\n",
      "|100006|\n",
      "|100007|\n",
      "|100008|\n",
      "|100009|\n",
      "|100010|\n",
      "|100011|\n",
      "|100012|\n",
      "|100013|\n",
      "|100014|\n",
      "|100015|\n",
      "|100016|\n",
      "|100017|\n",
      "+------+\n",
      "only showing top 20 rows\n",
      "\n"
     ]
    }
   ],
   "source": [
    "# Let's get the unique records of UserId\n",
    "df.select(\"userId\").dropDuplicates().sort(\"userId\").show()"
   ]
  },
  {
   "cell_type": "code",
   "execution_count": 15,
   "metadata": {},
   "outputs": [],
   "source": [
    "# After viewing the previous query, we can see there are some users with empty UserId\n",
    "# Let's eliminate them"
   ]
  },
  {
   "cell_type": "code",
   "execution_count": 16,
   "metadata": {},
   "outputs": [],
   "source": [
    "df_valid = df_valid.filter(df_valid[\"userId\"] != \"\")"
   ]
  },
  {
   "cell_type": "markdown",
   "metadata": {},
   "source": [
    "#### Let's count the number of records after remove the empty strings from userId field\n"
   ]
  },
  {
   "cell_type": "code",
   "execution_count": 17,
   "metadata": {},
   "outputs": [
    {
     "data": {
      "text/plain": [
       "278154"
      ]
     },
     "execution_count": 17,
     "metadata": {},
     "output_type": "execute_result"
    }
   ],
   "source": [
    "df_valid.count()"
   ]
  },
  {
   "cell_type": "code",
   "execution_count": 18,
   "metadata": {},
   "outputs": [
    {
     "name": "stdout",
     "output_type": "stream",
     "text": [
      "+------+\n",
      "|userId|\n",
      "+------+\n",
      "|    10|\n",
      "|   100|\n",
      "|100001|\n",
      "|100002|\n",
      "|100003|\n",
      "|100004|\n",
      "|100005|\n",
      "|100006|\n",
      "|100007|\n",
      "|100008|\n",
      "|100009|\n",
      "|100010|\n",
      "|100011|\n",
      "|100012|\n",
      "|100013|\n",
      "|100014|\n",
      "|100015|\n",
      "|100016|\n",
      "|100017|\n",
      "|100018|\n",
      "+------+\n",
      "only showing top 20 rows\n",
      "\n"
     ]
    }
   ],
   "source": [
    "# And check again if there are no empty field in userId column\n",
    "df_valid.select(\"userId\").dropDuplicates().sort(\"userId\").show()"
   ]
  },
  {
   "cell_type": "markdown",
   "metadata": {},
   "source": [
    "# Exploratory Data Analysis\n",
    "When you're working with the full dataset, perform EDA by loading a small subset of the data and doing basic manipulations within Spark. In this workspace, you are already provided a small subset of data you can explore.\n",
    "\n",
    "### Define Churn\n",
    "\n",
    "Once you've done some preliminary analysis, create a column `Churn` to use as the label for your model. I suggest using the `Cancellation Confirmation` events to define your churn, which happen for both paid and free users. As a bonus task, you can also look into the `Downgrade` events.\n",
    "\n",
    "### Explore Data\n",
    "Once you've defined churn, perform some exploratory data analysis to observe the behavior for users who stayed vs users who churned. You can start by exploring aggregates on these two groups of users, observing how much of a specific action they experienced per a certain time unit or number of songs played."
   ]
  },
  {
   "cell_type": "markdown",
   "metadata": {},
   "source": [
    "For this usecase, I am going to define Churn as the Cancellation Confirmation event appears\n",
    "And now, let's start with the EDA phase:"
   ]
  },
  {
   "cell_type": "code",
   "execution_count": 19,
   "metadata": {},
   "outputs": [
    {
     "data": {
      "text/plain": [
       "DataFrame[summary: string, artist: string, auth: string, firstName: string, gender: string, itemInSession: string, lastName: string, length: string, level: string, location: string, method: string, page: string, registration: string, sessionId: string, song: string, status: string, ts: string, userAgent: string, userId: string]"
      ]
     },
     "execution_count": 19,
     "metadata": {},
     "output_type": "execute_result"
    }
   ],
   "source": [
    "# Let's take an overview of the mini dataset file -->  18 fields \n",
    "df_valid.describe()"
   ]
  },
  {
   "cell_type": "code",
   "execution_count": 20,
   "metadata": {},
   "outputs": [
    {
     "name": "stdout",
     "output_type": "stream",
     "text": [
      "root\n",
      " |-- artist: string (nullable = true)\n",
      " |-- auth: string (nullable = true)\n",
      " |-- firstName: string (nullable = true)\n",
      " |-- gender: string (nullable = true)\n",
      " |-- itemInSession: long (nullable = true)\n",
      " |-- lastName: string (nullable = true)\n",
      " |-- length: double (nullable = true)\n",
      " |-- level: string (nullable = true)\n",
      " |-- location: string (nullable = true)\n",
      " |-- method: string (nullable = true)\n",
      " |-- page: string (nullable = true)\n",
      " |-- registration: long (nullable = true)\n",
      " |-- sessionId: long (nullable = true)\n",
      " |-- song: string (nullable = true)\n",
      " |-- status: long (nullable = true)\n",
      " |-- ts: long (nullable = true)\n",
      " |-- userAgent: string (nullable = true)\n",
      " |-- userId: string (nullable = true)\n",
      "\n"
     ]
    }
   ],
   "source": [
    "# Let's take a overview of the schema of the dataset file\n",
    "df_valid.printSchema()"
   ]
  },
  {
   "cell_type": "markdown",
   "metadata": {},
   "source": [
    "Explanations of the fields:\n",
    " \n",
    " |-- artist: singer of the song\n",
    " |-- auth: method of accessing sparkify          (values: Logged In/Cancelled)\n",
    " |-- firstName: first name of the client\n",
    " |-- gender: gender of the client                (values: M/F)\n",
    " |-- itemInSession: item count in a session\n",
    " |-- lastName: last name of the client\n",
    " |-- length: lenght of the song\n",
    " |-- level: account contract type                (values: free/paid)\n",
    " |-- location: main location of the client\n",
    " |-- method: method for accessing sparkify (put, get, etc..)   (values: PUT/GET)\n",
    " |-- page: page the user visits\n",
    " |-- registration: time of the registration (unix timestamp)\n",
    " |-- sessionId: identification of the session\n",
    " |-- song: song the client has listened\n",
    " |-- status: status of the accessing method (http status) (values: 307/404/200)\n",
    " |-- ts: information about the time of the user event (unix timestamp)\n",
    " |-- userAgent: browser the user has accessed to sparkify with\n",
    " |-- userId: identification for the client"
   ]
  },
  {
   "cell_type": "code",
   "execution_count": 21,
   "metadata": {},
   "outputs": [],
   "source": [
    "# Let's categorize the columns, depending on their type (categorical or numerical)\n",
    "cat_cols,num_cols = cat_or_num(df)"
   ]
  },
  {
   "cell_type": "code",
   "execution_count": 22,
   "metadata": {},
   "outputs": [
    {
     "name": "stdout",
     "output_type": "stream",
     "text": [
      "The categorical columns are: ['artist', 'auth', 'firstName', 'gender', 'lastName', 'level', 'location', 'method', 'page', 'song', 'userAgent', 'userId']\n"
     ]
    }
   ],
   "source": [
    "print (\"The categorical columns are: {}\".format(cat_cols))"
   ]
  },
  {
   "cell_type": "code",
   "execution_count": 23,
   "metadata": {},
   "outputs": [
    {
     "name": "stdout",
     "output_type": "stream",
     "text": [
      "The numerical columns are: ['itemInSession', 'length', 'registration', 'sessionId', 'status', 'ts']\n"
     ]
    }
   ],
   "source": [
    "print (\"The numerical columns are: {}\".format(num_cols))"
   ]
  },
  {
   "cell_type": "code",
   "execution_count": 24,
   "metadata": {},
   "outputs": [
    {
     "data": {
      "text/plain": [
       "278154"
      ]
     },
     "execution_count": 24,
     "metadata": {},
     "output_type": "execute_result"
    }
   ],
   "source": [
    "# Let's see how many registries the file has --> we have 278.154 records\n",
    "df_valid.count()"
   ]
  },
  {
   "cell_type": "code",
   "execution_count": 25,
   "metadata": {},
   "outputs": [
    {
     "data": {
      "text/plain": [
       "[Row(artist='Martha Tilston', auth='Logged In', firstName='Colin', gender='M', itemInSession=50, lastName='Freeman', length=277.89016, level='paid', location='Bakersfield, CA', method='PUT', page='NextSong', registration=1538173362000, sessionId=29, song='Rockpools', status=200, ts=1538352117000, userAgent='Mozilla/5.0 (Windows NT 6.1; WOW64; rv:31.0) Gecko/20100101 Firefox/31.0', userId='30'),\n",
       " Row(artist='Five Iron Frenzy', auth='Logged In', firstName='Micah', gender='M', itemInSession=79, lastName='Long', length=236.09424, level='free', location='Boston-Cambridge-Newton, MA-NH', method='PUT', page='NextSong', registration=1538331630000, sessionId=8, song='Canada', status=200, ts=1538352180000, userAgent='\"Mozilla/5.0 (Windows NT 6.1; WOW64) AppleWebKit/537.36 (KHTML, like Gecko) Chrome/37.0.2062.103 Safari/537.36\"', userId='9')]"
      ]
     },
     "execution_count": 25,
     "metadata": {},
     "output_type": "execute_result"
    }
   ],
   "source": [
    "# Let's take a look at the first lines of the file, to see what they look like\n",
    "df_valid.head(2)"
   ]
  },
  {
   "cell_type": "code",
   "execution_count": 26,
   "metadata": {},
   "outputs": [
    {
     "name": "stdout",
     "output_type": "stream",
     "text": [
      "+--------------+---------+---------+------+-------------+--------+---------+-----+---------------+------+--------+-------------+---------+---------+------+-------------+--------------------+------+\n",
      "|        artist|     auth|firstName|gender|itemInSession|lastName|   length|level|       location|method|    page| registration|sessionId|     song|status|           ts|           userAgent|userId|\n",
      "+--------------+---------+---------+------+-------------+--------+---------+-----+---------------+------+--------+-------------+---------+---------+------+-------------+--------------------+------+\n",
      "|Martha Tilston|Logged In|    Colin|     M|           50| Freeman|277.89016| paid|Bakersfield, CA|   PUT|NextSong|1538173362000|       29|Rockpools|   200|1538352117000|Mozilla/5.0 (Wind...|    30|\n",
      "+--------------+---------+---------+------+-------------+--------+---------+-----+---------------+------+--------+-------------+---------+---------+------+-------------+--------------------+------+\n",
      "only showing top 1 row\n",
      "\n"
     ]
    }
   ],
   "source": [
    "# Let's see just one row\n",
    "df_valid.show(n=1)"
   ]
  },
  {
   "cell_type": "code",
   "execution_count": 27,
   "metadata": {},
   "outputs": [
    {
     "data": {
      "text/plain": [
       "[Row(artist='Martha Tilston', auth='Logged In', firstName='Colin', gender='M', itemInSession=50, lastName='Freeman', length=277.89016, level='paid', location='Bakersfield, CA', method='PUT', page='NextSong', registration=1538173362000, sessionId=29, song='Rockpools', status=200, ts=1538352117000, userAgent='Mozilla/5.0 (Windows NT 6.1; WOW64; rv:31.0) Gecko/20100101 Firefox/31.0', userId='30'),\n",
       " Row(artist='Five Iron Frenzy', auth='Logged In', firstName='Micah', gender='M', itemInSession=79, lastName='Long', length=236.09424, level='free', location='Boston-Cambridge-Newton, MA-NH', method='PUT', page='NextSong', registration=1538331630000, sessionId=8, song='Canada', status=200, ts=1538352180000, userAgent='\"Mozilla/5.0 (Windows NT 6.1; WOW64) AppleWebKit/537.36 (KHTML, like Gecko) Chrome/37.0.2062.103 Safari/537.36\"', userId='9'),\n",
       " Row(artist='Adam Lambert', auth='Logged In', firstName='Colin', gender='M', itemInSession=51, lastName='Freeman', length=282.8273, level='paid', location='Bakersfield, CA', method='PUT', page='NextSong', registration=1538173362000, sessionId=29, song='Time For Miracles', status=200, ts=1538352394000, userAgent='Mozilla/5.0 (Windows NT 6.1; WOW64; rv:31.0) Gecko/20100101 Firefox/31.0', userId='30'),\n",
       " Row(artist='Enigma', auth='Logged In', firstName='Micah', gender='M', itemInSession=80, lastName='Long', length=262.71302, level='free', location='Boston-Cambridge-Newton, MA-NH', method='PUT', page='NextSong', registration=1538331630000, sessionId=8, song='Knocking On Forbidden Doors', status=200, ts=1538352416000, userAgent='\"Mozilla/5.0 (Windows NT 6.1; WOW64) AppleWebKit/537.36 (KHTML, like Gecko) Chrome/37.0.2062.103 Safari/537.36\"', userId='9'),\n",
       " Row(artist='Daft Punk', auth='Logged In', firstName='Colin', gender='M', itemInSession=52, lastName='Freeman', length=223.60771, level='paid', location='Bakersfield, CA', method='PUT', page='NextSong', registration=1538173362000, sessionId=29, song='Harder Better Faster Stronger', status=200, ts=1538352676000, userAgent='Mozilla/5.0 (Windows NT 6.1; WOW64; rv:31.0) Gecko/20100101 Firefox/31.0', userId='30')]"
      ]
     },
     "execution_count": 27,
     "metadata": {},
     "output_type": "execute_result"
    }
   ],
   "source": [
    "df_valid.take(5)"
   ]
  },
  {
   "cell_type": "code",
   "execution_count": 28,
   "metadata": {},
   "outputs": [
    {
     "name": "stdout",
     "output_type": "stream",
     "text": [
      "+-------+-----------------+------+---------+------+------------------+--------+-----------------+------+--------+------+------+--------------------+------------------+--------+------------------+--------------------+---------+-----------------+\n",
      "|summary|           artist|  auth|firstName|gender|     itemInSession|lastName|           length| level|location|method|  page|        registration|         sessionId|    song|            status|                  ts|userAgent|           userId|\n",
      "+-------+-----------------+------+---------+------+------------------+--------+-----------------+------+--------+------+------+--------------------+------------------+--------+------------------+--------------------+---------+-----------------+\n",
      "|  count|           228108|278154|   278154|278154|            278154|  278154|           228108|278154|  278154|278154|278154|              278154|            278154|  228108|            278154|              278154|   278154|           278154|\n",
      "|   mean|551.0852017937219|  null|     null|  null|114.89918174824018|    null|249.1171819778458|  null|    null|  null|  null|1.535358834084427...|1042.5616241362698|Infinity|209.10321620397335|1.540958915431871...|     null|59682.02278593872|\n",
      "+-------+-----------------+------+---------+------+------------------+--------+-----------------+------+--------+------+------+--------------------+------------------+--------+------------------+--------------------+---------+-----------------+\n",
      "only showing top 2 rows\n",
      "\n"
     ]
    }
   ],
   "source": [
    "# Let's have an statistic overview of the dataset --> but with this view it is difficult to see...\n",
    "df_valid.describe().show(n=2)"
   ]
  },
  {
   "cell_type": "code",
   "execution_count": 29,
   "metadata": {},
   "outputs": [
    {
     "name": "stdout",
     "output_type": "stream",
     "text": [
      "+-------+------------------+\n",
      "|summary|            artist|\n",
      "+-------+------------------+\n",
      "|  count|            228108|\n",
      "|   mean| 551.0852017937219|\n",
      "| stddev|1217.7693079161374|\n",
      "|    min|               !!!|\n",
      "|    max| ÃÂlafur Arnalds|\n",
      "+-------+------------------+\n",
      "\n"
     ]
    }
   ],
   "source": [
    "# Let's better go field by field \n",
    "df_valid.describe('artist').show()"
   ]
  },
  {
   "cell_type": "code",
   "execution_count": 30,
   "metadata": {},
   "outputs": [
    {
     "name": "stdout",
     "output_type": "stream",
     "text": [
      "+-------+---------+\n",
      "|summary|     auth|\n",
      "+-------+---------+\n",
      "|  count|   278154|\n",
      "|   mean|     null|\n",
      "| stddev|     null|\n",
      "|    min|Cancelled|\n",
      "|    max|Logged In|\n",
      "+-------+---------+\n",
      "\n"
     ]
    }
   ],
   "source": [
    "df_valid.describe('auth').show()"
   ]
  },
  {
   "cell_type": "code",
   "execution_count": 31,
   "metadata": {},
   "outputs": [
    {
     "data": {
      "text/plain": [
       "[Row(auth='Cancelled'), Row(auth='Logged In')]"
      ]
     },
     "execution_count": 31,
     "metadata": {},
     "output_type": "execute_result"
    }
   ],
   "source": [
    "# We have two values for auth = Logged In or Cancelled\n",
    "df_valid.select('auth').distinct().collect()"
   ]
  },
  {
   "cell_type": "code",
   "execution_count": 32,
   "metadata": {},
   "outputs": [
    {
     "name": "stdout",
     "output_type": "stream",
     "text": [
      "+-------+---------+\n",
      "|summary|firstName|\n",
      "+-------+---------+\n",
      "|  count|   278154|\n",
      "|   mean|     null|\n",
      "| stddev|     null|\n",
      "|    min| Adelaida|\n",
      "|    max|   Zyonna|\n",
      "+-------+---------+\n",
      "\n"
     ]
    }
   ],
   "source": [
    "df_valid.describe('firstName').show()"
   ]
  },
  {
   "cell_type": "code",
   "execution_count": 33,
   "metadata": {},
   "outputs": [
    {
     "name": "stdout",
     "output_type": "stream",
     "text": [
      "+-------+------+\n",
      "|summary|gender|\n",
      "+-------+------+\n",
      "|  count|278154|\n",
      "|   mean|  null|\n",
      "| stddev|  null|\n",
      "|    min|     F|\n",
      "|    max|     M|\n",
      "+-------+------+\n",
      "\n"
     ]
    }
   ],
   "source": [
    "df_valid.describe('gender').show()"
   ]
  },
  {
   "cell_type": "code",
   "execution_count": 34,
   "metadata": {},
   "outputs": [
    {
     "data": {
      "text/plain": [
       "[Row(gender='F'), Row(gender='M')]"
      ]
     },
     "execution_count": 34,
     "metadata": {},
     "output_type": "execute_result"
    }
   ],
   "source": [
    "df_valid.select('gender').distinct().collect()"
   ]
  },
  {
   "cell_type": "code",
   "execution_count": 35,
   "metadata": {},
   "outputs": [
    {
     "name": "stdout",
     "output_type": "stream",
     "text": [
      "+-------+------------------+\n",
      "|summary|     itemInSession|\n",
      "+-------+------------------+\n",
      "|  count|            278154|\n",
      "|   mean|114.89918174824018|\n",
      "| stddev|  129.851729399489|\n",
      "|    min|                 0|\n",
      "|    max|              1321|\n",
      "+-------+------------------+\n",
      "\n"
     ]
    }
   ],
   "source": [
    "df_valid.describe('itemInSession').show()"
   ]
  },
  {
   "cell_type": "code",
   "execution_count": 36,
   "metadata": {},
   "outputs": [
    {
     "name": "stdout",
     "output_type": "stream",
     "text": [
      "+-------+--------+\n",
      "|summary|lastName|\n",
      "+-------+--------+\n",
      "|  count|  278154|\n",
      "|   mean|    null|\n",
      "| stddev|    null|\n",
      "|    min|   Adams|\n",
      "|    max|  Wright|\n",
      "+-------+--------+\n",
      "\n"
     ]
    }
   ],
   "source": [
    "df_valid.describe('lastName').show()"
   ]
  },
  {
   "cell_type": "code",
   "execution_count": 37,
   "metadata": {},
   "outputs": [
    {
     "name": "stdout",
     "output_type": "stream",
     "text": [
      "+-------+-----------------+\n",
      "|summary|           length|\n",
      "+-------+-----------------+\n",
      "|  count|           228108|\n",
      "|   mean|249.1171819778458|\n",
      "| stddev|99.23517921058361|\n",
      "|    min|          0.78322|\n",
      "|    max|       3024.66567|\n",
      "+-------+-----------------+\n",
      "\n"
     ]
    }
   ],
   "source": [
    "df_valid.describe('length').show()"
   ]
  },
  {
   "cell_type": "code",
   "execution_count": 38,
   "metadata": {},
   "outputs": [
    {
     "name": "stdout",
     "output_type": "stream",
     "text": [
      "+-------+------+\n",
      "|summary| level|\n",
      "+-------+------+\n",
      "|  count|278154|\n",
      "|   mean|  null|\n",
      "| stddev|  null|\n",
      "|    min|  free|\n",
      "|    max|  paid|\n",
      "+-------+------+\n",
      "\n"
     ]
    }
   ],
   "source": [
    "df_valid.describe('level').show()"
   ]
  },
  {
   "cell_type": "code",
   "execution_count": 39,
   "metadata": {},
   "outputs": [
    {
     "data": {
      "text/plain": [
       "[Row(level='free'), Row(level='paid')]"
      ]
     },
     "execution_count": 39,
     "metadata": {},
     "output_type": "execute_result"
    }
   ],
   "source": [
    "df_valid.select('level').distinct().collect() #--> two values: free or paid "
   ]
  },
  {
   "cell_type": "code",
   "execution_count": 40,
   "metadata": {},
   "outputs": [
    {
     "name": "stdout",
     "output_type": "stream",
     "text": [
      "+-------+-----------------+\n",
      "|summary|         location|\n",
      "+-------+-----------------+\n",
      "|  count|           278154|\n",
      "|   mean|             null|\n",
      "| stddev|             null|\n",
      "|    min|       Albany, OR|\n",
      "|    max|Winston-Salem, NC|\n",
      "+-------+-----------------+\n",
      "\n"
     ]
    }
   ],
   "source": [
    "df_valid.describe('location').show()"
   ]
  },
  {
   "cell_type": "code",
   "execution_count": 41,
   "metadata": {},
   "outputs": [
    {
     "data": {
      "text/plain": [
       "[Row(location='Gainesville, FL'),\n",
       " Row(location='Atlantic City-Hammonton, NJ'),\n",
       " Row(location='Deltona-Daytona Beach-Ormond Beach, FL'),\n",
       " Row(location='San Diego-Carlsbad, CA'),\n",
       " Row(location='Cleveland-Elyria, OH'),\n",
       " Row(location='Kingsport-Bristol-Bristol, TN-VA'),\n",
       " Row(location='New Haven-Milford, CT'),\n",
       " Row(location='Birmingham-Hoover, AL'),\n",
       " Row(location='Corpus Christi, TX'),\n",
       " Row(location='Dubuque, IA'),\n",
       " Row(location='Las Vegas-Henderson-Paradise, NV'),\n",
       " Row(location='Indianapolis-Carmel-Anderson, IN'),\n",
       " Row(location='Seattle-Tacoma-Bellevue, WA'),\n",
       " Row(location='Albany, OR'),\n",
       " Row(location='Winston-Salem, NC'),\n",
       " Row(location='Bakersfield, CA'),\n",
       " Row(location='Los Angeles-Long Beach-Anaheim, CA'),\n",
       " Row(location='Minneapolis-St. Paul-Bloomington, MN-WI'),\n",
       " Row(location='San Francisco-Oakland-Hayward, CA'),\n",
       " Row(location='Phoenix-Mesa-Scottsdale, AZ'),\n",
       " Row(location='Allentown-Bethlehem-Easton, PA-NJ'),\n",
       " Row(location='Miami-Fort Lauderdale-West Palm Beach, FL'),\n",
       " Row(location='Selma, AL'),\n",
       " Row(location='Dayton, OH'),\n",
       " Row(location='San Jose-Sunnyvale-Santa Clara, CA'),\n",
       " Row(location='Bridgeport-Stamford-Norwalk, CT'),\n",
       " Row(location='Price, UT'),\n",
       " Row(location='Providence-Warwick, RI-MA'),\n",
       " Row(location='Columbus, GA-AL'),\n",
       " Row(location='Greenville-Anderson-Mauldin, SC'),\n",
       " Row(location='Logan, UT-ID'),\n",
       " Row(location='Myrtle Beach-Conway-North Myrtle Beach, SC-NC'),\n",
       " Row(location='Buffalo-Cheektowaga-Niagara Falls, NY'),\n",
       " Row(location='Cookeville, TN'),\n",
       " Row(location='New Philadelphia-Dover, OH'),\n",
       " Row(location='Anchorage, AK'),\n",
       " Row(location='New York-Newark-Jersey City, NY-NJ-PA'),\n",
       " Row(location='St. Louis, MO-IL'),\n",
       " Row(location='Jackson, MS'),\n",
       " Row(location='Orlando-Kissimmee-Sanford, FL'),\n",
       " Row(location='McAllen-Edinburg-Mission, TX'),\n",
       " Row(location='Oxnard-Thousand Oaks-Ventura, CA'),\n",
       " Row(location='Memphis, TN-MS-AR'),\n",
       " Row(location='San Antonio-New Braunfels, TX'),\n",
       " Row(location='Troy, AL'),\n",
       " Row(location='Duluth, MN-WI'),\n",
       " Row(location='Danville, VA'),\n",
       " Row(location='Washington-Arlington-Alexandria, DC-VA-MD-WV'),\n",
       " Row(location='Manchester-Nashua, NH'),\n",
       " Row(location='Greensboro-High Point, NC'),\n",
       " Row(location='Sterling, IL'),\n",
       " Row(location='Napa, CA'),\n",
       " Row(location='Monroe, LA'),\n",
       " Row(location='Louisville/Jefferson County, KY-IN'),\n",
       " Row(location='Syracuse, NY'),\n",
       " Row(location='Little Rock-North Little Rock-Conway, AR'),\n",
       " Row(location='Austin-Round Rock, TX'),\n",
       " Row(location='Kansas City, MO-KS'),\n",
       " Row(location='Cincinnati, OH-KY-IN'),\n",
       " Row(location='Bozeman, MT'),\n",
       " Row(location='Truckee-Grass Valley, CA'),\n",
       " Row(location='Boston-Cambridge-Newton, MA-NH'),\n",
       " Row(location='Philadelphia-Camden-Wilmington, PA-NJ-DE-MD'),\n",
       " Row(location='Atlanta-Sandy Springs-Roswell, GA'),\n",
       " Row(location='Pittsburgh, PA'),\n",
       " Row(location='Chicago-Naperville-Elgin, IL-IN-WI'),\n",
       " Row(location='Dallas-Fort Worth-Arlington, TX'),\n",
       " Row(location='North Wilkesboro, NC'),\n",
       " Row(location='Oklahoma City, OK'),\n",
       " Row(location='Albany-Schenectady-Troy, NY'),\n",
       " Row(location='Quincy, IL-MO'),\n",
       " Row(location='Pontiac, IL'),\n",
       " Row(location='Jacksonville, FL'),\n",
       " Row(location='Fairbanks, AK'),\n",
       " Row(location='Houston-The Woodlands-Sugar Land, TX'),\n",
       " Row(location='Montgomery, AL'),\n",
       " Row(location='Hartford-West Hartford-East Hartford, CT'),\n",
       " Row(location='Port St. Lucie, FL'),\n",
       " Row(location='Omaha-Council Bluffs, NE-IA'),\n",
       " Row(location='Charlotte-Concord-Gastonia, NC-SC'),\n",
       " Row(location='Baltimore-Columbia-Towson, MD'),\n",
       " Row(location='Raleigh, NC'),\n",
       " Row(location='Sacramento--Roseville--Arden-Arcade, CA'),\n",
       " Row(location='Laurel, MS'),\n",
       " Row(location='Lexington-Fayette, KY'),\n",
       " Row(location='Tampa-St. Petersburg-Clearwater, FL'),\n",
       " Row(location='London, KY'),\n",
       " Row(location='Tallahassee, FL'),\n",
       " Row(location='Roanoke, VA'),\n",
       " Row(location='Virginia Beach-Norfolk-Newport News, VA-NC'),\n",
       " Row(location='Riverside-San Bernardino-Ontario, CA'),\n",
       " Row(location='Concord, NH'),\n",
       " Row(location='Stockton-Lodi, CA'),\n",
       " Row(location='Boulder, CO'),\n",
       " Row(location='Milwaukee-Waukesha-West Allis, WI'),\n",
       " Row(location='Detroit-Warren-Dearborn, MI'),\n",
       " Row(location='Billings, MT'),\n",
       " Row(location='Alexandria, LA'),\n",
       " Row(location='Salinas, CA'),\n",
       " Row(location='Ionia, MI'),\n",
       " Row(location='Morgantown, WV'),\n",
       " Row(location='Vineland-Bridgeton, NJ'),\n",
       " Row(location='Jacksonville, NC'),\n",
       " Row(location='Spokane-Spokane Valley, WA'),\n",
       " Row(location='Scranton--Wilkes-Barre--Hazleton, PA'),\n",
       " Row(location='Kankakee, IL'),\n",
       " Row(location='Portland-Vancouver-Hillsboro, OR-WA'),\n",
       " Row(location='Denver-Aurora-Lakewood, CO'),\n",
       " Row(location='Flint, MI'),\n",
       " Row(location='Santa Maria-Santa Barbara, CA'),\n",
       " Row(location='Muncie, IN'),\n",
       " Row(location='Colorado Springs, CO'),\n",
       " Row(location='Wilson, NC'),\n",
       " Row(location='Hagerstown-Martinsburg, MD-WV')]"
      ]
     },
     "execution_count": 41,
     "metadata": {},
     "output_type": "execute_result"
    }
   ],
   "source": [
    "# Let's see the different locations, it is a string composed by two parts separated by a comma: \n",
    "# the first one is the name of the location, the second one after the comma is the abbreviation of the location\n",
    "# for an easier management of this information, we will use the second part\n",
    "\n",
    "df_valid.select('location').distinct().collect()"
   ]
  },
  {
   "cell_type": "code",
   "execution_count": 42,
   "metadata": {},
   "outputs": [
    {
     "data": {
      "text/plain": [
       "[Row(state=' CA'),\n",
       " Row(state=' MA-NH'),\n",
       " Row(state=' CA'),\n",
       " Row(state=' MA-NH'),\n",
       " Row(state=' CA'),\n",
       " Row(state=' MA-NH'),\n",
       " Row(state=' MA-NH'),\n",
       " Row(state=' CA'),\n",
       " Row(state=' CA'),\n",
       " Row(state=' CA'),\n",
       " Row(state=' MA-NH'),\n",
       " Row(state=' MA-NH'),\n",
       " Row(state=' CA'),\n",
       " Row(state=' MA-NH'),\n",
       " Row(state=' MA-NH'),\n",
       " Row(state=' CA'),\n",
       " Row(state=' MA-NH'),\n",
       " Row(state=' FL'),\n",
       " Row(state=' CA'),\n",
       " Row(state=' MA-NH'),\n",
       " Row(state=' FL'),\n",
       " Row(state=' CA'),\n",
       " Row(state=' WA'),\n",
       " Row(state=' MA-NH'),\n",
       " Row(state=' FL'),\n",
       " Row(state=' CA'),\n",
       " Row(state=' WA'),\n",
       " Row(state=' MA-NH'),\n",
       " Row(state=' FL'),\n",
       " Row(state=' CA'),\n",
       " Row(state=' WA'),\n",
       " Row(state=' MA-NH'),\n",
       " Row(state=' CA'),\n",
       " Row(state=' FL'),\n",
       " Row(state=' WA'),\n",
       " Row(state=' WA'),\n",
       " Row(state=' CA'),\n",
       " Row(state=' MA-NH'),\n",
       " Row(state=' CA'),\n",
       " Row(state=' WA'),\n",
       " Row(state=' FL'),\n",
       " Row(state=' MA-NH'),\n",
       " Row(state=' FL'),\n",
       " Row(state=' WA'),\n",
       " Row(state=' WA'),\n",
       " Row(state=' CA'),\n",
       " Row(state=' MA-NH'),\n",
       " Row(state=' MA-NH'),\n",
       " Row(state=' FL'),\n",
       " Row(state=' CA'),\n",
       " Row(state=' MA-NH'),\n",
       " Row(state=' MA-NH'),\n",
       " Row(state=' MA-NH'),\n",
       " Row(state=' MA-NH'),\n",
       " Row(state=' FL'),\n",
       " Row(state=' CA'),\n",
       " Row(state=' FL'),\n",
       " Row(state=' MA-NH'),\n",
       " Row(state=' MA-NH'),\n",
       " Row(state=' CA'),\n",
       " Row(state=' FL'),\n",
       " Row(state=' MA-NH'),\n",
       " Row(state=' FL'),\n",
       " Row(state=' MA-NH'),\n",
       " Row(state=' CA'),\n",
       " Row(state=' FL'),\n",
       " Row(state=' CA'),\n",
       " Row(state=' CA'),\n",
       " Row(state=' FL'),\n",
       " Row(state=' MA-NH'),\n",
       " Row(state=' MD'),\n",
       " Row(state=' MD'),\n",
       " Row(state=' MD'),\n",
       " Row(state=' CA'),\n",
       " Row(state=' FL'),\n",
       " Row(state=' FL'),\n",
       " Row(state=' FL'),\n",
       " Row(state=' MD'),\n",
       " Row(state=' CA'),\n",
       " Row(state=' MA-NH'),\n",
       " Row(state=' MD'),\n",
       " Row(state=' FL'),\n",
       " Row(state=' FL'),\n",
       " Row(state=' MD'),\n",
       " Row(state=' MA-NH'),\n",
       " Row(state=' MA-NH'),\n",
       " Row(state=' CA'),\n",
       " Row(state=' MD'),\n",
       " Row(state=' FL'),\n",
       " Row(state=' MA-NH'),\n",
       " Row(state=' CA'),\n",
       " Row(state=' MD'),\n",
       " Row(state=' FL'),\n",
       " Row(state=' MA-NH'),\n",
       " Row(state=' CA'),\n",
       " Row(state=' CA'),\n",
       " Row(state=' MD'),\n",
       " Row(state=' MA-NH'),\n",
       " Row(state=' FL'),\n",
       " Row(state=' FL'),\n",
       " Row(state=' CA'),\n",
       " Row(state=' CA'),\n",
       " Row(state=' MD'),\n",
       " Row(state=' MA-NH'),\n",
       " Row(state=' FL'),\n",
       " Row(state=' FL'),\n",
       " Row(state=' MD'),\n",
       " Row(state=' MA-NH'),\n",
       " Row(state=' CA'),\n",
       " Row(state=' MD'),\n",
       " Row(state=' CA'),\n",
       " Row(state=' CO'),\n",
       " Row(state=' MA-NH'),\n",
       " Row(state=' MA-NH'),\n",
       " Row(state=' CA'),\n",
       " Row(state=' MA-NH'),\n",
       " Row(state=' CO'),\n",
       " Row(state=' MA-NH'),\n",
       " Row(state=' CO'),\n",
       " Row(state=' CA'),\n",
       " Row(state=' TX'),\n",
       " Row(state=' TX'),\n",
       " Row(state=' MA-NH'),\n",
       " Row(state=' MA-NH'),\n",
       " Row(state=' CO'),\n",
       " Row(state=' CA'),\n",
       " Row(state=' TX'),\n",
       " Row(state=' CO'),\n",
       " Row(state=' TX'),\n",
       " Row(state=' CO'),\n",
       " Row(state=' MD'),\n",
       " Row(state=' TX'),\n",
       " Row(state=' CO'),\n",
       " Row(state=' MD'),\n",
       " Row(state=' TX'),\n",
       " Row(state=' CO'),\n",
       " Row(state=' MA-NH'),\n",
       " Row(state=' MA-NH'),\n",
       " Row(state=' MA-NH'),\n",
       " Row(state=' GA-AL'),\n",
       " Row(state=' GA-AL'),\n",
       " Row(state=' MD'),\n",
       " Row(state=' CO'),\n",
       " Row(state=' MA-NH'),\n",
       " Row(state=' MA-NH'),\n",
       " Row(state=' TX'),\n",
       " Row(state=' MD'),\n",
       " Row(state=' CO'),\n",
       " Row(state=' GA-AL'),\n",
       " Row(state=' TX'),\n",
       " Row(state=' TX'),\n",
       " Row(state=' MD'),\n",
       " Row(state=' CO'),\n",
       " Row(state=' CA'),\n",
       " Row(state=' TX'),\n",
       " Row(state=' CA'),\n",
       " Row(state=' GA-AL'),\n",
       " Row(state=' MD'),\n",
       " Row(state=' CA'),\n",
       " Row(state=' GA-AL'),\n",
       " Row(state=' GA-AL'),\n",
       " Row(state=' CO'),\n",
       " Row(state=' TX'),\n",
       " Row(state=' MD'),\n",
       " Row(state=' CA'),\n",
       " Row(state=' GA-AL'),\n",
       " Row(state=' GA-AL'),\n",
       " Row(state=' CO'),\n",
       " Row(state=' CO'),\n",
       " Row(state=' TX'),\n",
       " Row(state=' MD'),\n",
       " Row(state=' CA'),\n",
       " Row(state=' CO'),\n",
       " Row(state=' TX'),\n",
       " Row(state=' TX'),\n",
       " Row(state=' CA'),\n",
       " Row(state=' CO'),\n",
       " Row(state=' TX'),\n",
       " Row(state=' CA'),\n",
       " Row(state=' MD'),\n",
       " Row(state=' CO'),\n",
       " Row(state=' TX'),\n",
       " Row(state=' TX'),\n",
       " Row(state=' MD'),\n",
       " Row(state=' TX'),\n",
       " Row(state=' TX'),\n",
       " Row(state=' TX'),\n",
       " Row(state=' TX'),\n",
       " Row(state=' TX'),\n",
       " Row(state=' CO'),\n",
       " Row(state=' CO'),\n",
       " Row(state=' TX'),\n",
       " Row(state=' TX'),\n",
       " Row(state=' CO'),\n",
       " Row(state=' TX'),\n",
       " Row(state=' TX'),\n",
       " Row(state=' CO'),\n",
       " Row(state=' TX'),\n",
       " Row(state=' TX'),\n",
       " Row(state=' TX'),\n",
       " Row(state=' CO'),\n",
       " Row(state=' TX'),\n",
       " Row(state=' CO'),\n",
       " Row(state=' CO'),\n",
       " Row(state=' TX'),\n",
       " Row(state=' CO'),\n",
       " Row(state=' TX'),\n",
       " Row(state=' TX'),\n",
       " Row(state=' TX'),\n",
       " Row(state=' TX'),\n",
       " Row(state=' CO'),\n",
       " Row(state=' TX'),\n",
       " Row(state=' TX'),\n",
       " Row(state=' TX'),\n",
       " Row(state=' CO'),\n",
       " Row(state=' TX'),\n",
       " Row(state=' TX'),\n",
       " Row(state=' TX'),\n",
       " Row(state=' CO'),\n",
       " Row(state=' TX'),\n",
       " Row(state=' CO'),\n",
       " Row(state=' CO'),\n",
       " Row(state=' TX'),\n",
       " Row(state=' TX'),\n",
       " Row(state=' CO'),\n",
       " Row(state=' TX'),\n",
       " Row(state=' CO'),\n",
       " Row(state=' TX'),\n",
       " Row(state=' TX'),\n",
       " Row(state=' CO'),\n",
       " Row(state=' CO'),\n",
       " Row(state=' TX'),\n",
       " Row(state=' AZ'),\n",
       " Row(state=' CO'),\n",
       " Row(state=' CO'),\n",
       " Row(state=' TX'),\n",
       " Row(state=' AZ'),\n",
       " Row(state=' CO'),\n",
       " Row(state=' AZ'),\n",
       " Row(state=' TX'),\n",
       " Row(state=' CO'),\n",
       " Row(state=' AZ'),\n",
       " Row(state=' TX'),\n",
       " Row(state=' AZ'),\n",
       " Row(state=' TX'),\n",
       " Row(state=' AZ'),\n",
       " Row(state=' CO'),\n",
       " Row(state=' TX'),\n",
       " Row(state=' AZ'),\n",
       " Row(state=' AZ'),\n",
       " Row(state=' TX'),\n",
       " Row(state=' TX'),\n",
       " Row(state=' CO'),\n",
       " Row(state=' TX'),\n",
       " Row(state=' AZ'),\n",
       " Row(state=' CO'),\n",
       " Row(state=' FL'),\n",
       " Row(state=' FL'),\n",
       " Row(state=' TX'),\n",
       " Row(state=' FL'),\n",
       " Row(state=' TX'),\n",
       " Row(state=' CO'),\n",
       " Row(state=' FL'),\n",
       " Row(state=' TX'),\n",
       " Row(state=' CO'),\n",
       " Row(state=' AZ'),\n",
       " Row(state=' FL'),\n",
       " Row(state=' FL'),\n",
       " Row(state=' FL'),\n",
       " Row(state=' TX'),\n",
       " Row(state=' AZ'),\n",
       " Row(state=' AZ'),\n",
       " Row(state=' FL'),\n",
       " Row(state=' CO'),\n",
       " Row(state=' AZ'),\n",
       " Row(state=' TX'),\n",
       " Row(state=' TX'),\n",
       " Row(state=' FL'),\n",
       " Row(state=' AZ'),\n",
       " Row(state=' TX'),\n",
       " Row(state=' CO'),\n",
       " Row(state=' CO'),\n",
       " Row(state=' FL'),\n",
       " Row(state=' AZ'),\n",
       " Row(state=' TX'),\n",
       " Row(state=' FL'),\n",
       " Row(state=' AZ'),\n",
       " Row(state=' AZ'),\n",
       " Row(state=' AZ'),\n",
       " Row(state=' TX'),\n",
       " Row(state=' FL'),\n",
       " Row(state=' AZ'),\n",
       " Row(state=' TX'),\n",
       " Row(state=' AZ'),\n",
       " Row(state=' AZ'),\n",
       " Row(state=' FL'),\n",
       " Row(state=' FL'),\n",
       " Row(state=' TX'),\n",
       " Row(state=' FL'),\n",
       " Row(state=' TX'),\n",
       " Row(state=' AZ'),\n",
       " Row(state=' FL'),\n",
       " Row(state=' TX'),\n",
       " Row(state=' TX'),\n",
       " Row(state=' AZ'),\n",
       " Row(state=' FL'),\n",
       " Row(state=' NY-NJ-PA'),\n",
       " Row(state=' NY-NJ-PA'),\n",
       " Row(state=' TX'),\n",
       " Row(state=' AZ'),\n",
       " Row(state=' PA-NJ-DE-MD'),\n",
       " Row(state=' NY-NJ-PA'),\n",
       " Row(state=' TX'),\n",
       " Row(state=' AZ'),\n",
       " Row(state=' FL'),\n",
       " Row(state=' NY-NJ-PA'),\n",
       " Row(state=' TX'),\n",
       " Row(state=' AZ'),\n",
       " Row(state=' FL'),\n",
       " Row(state=' PA-NJ-DE-MD'),\n",
       " Row(state=' NY-NJ-PA'),\n",
       " Row(state=' AZ'),\n",
       " Row(state=' AZ'),\n",
       " Row(state=' PA-NJ-DE-MD'),\n",
       " Row(state=' GA'),\n",
       " Row(state=' FL'),\n",
       " Row(state=' PA-NJ-DE-MD'),\n",
       " Row(state=' PA-NJ-DE-MD'),\n",
       " Row(state=' NY-NJ-PA'),\n",
       " Row(state=' TX'),\n",
       " Row(state=' TX'),\n",
       " Row(state=' FL'),\n",
       " Row(state=' NY-NJ-PA'),\n",
       " Row(state=' PA-NJ-DE-MD'),\n",
       " Row(state=' GA'),\n",
       " Row(state=' TX'),\n",
       " Row(state=' AZ'),\n",
       " Row(state=' AZ'),\n",
       " Row(state=' FL'),\n",
       " Row(state=' NY-NJ-PA'),\n",
       " Row(state=' PA-NJ-DE-MD'),\n",
       " Row(state=' PA-NJ-DE-MD'),\n",
       " Row(state=' PA-NJ-DE-MD'),\n",
       " Row(state=' TX'),\n",
       " Row(state=' AZ'),\n",
       " Row(state=' GA'),\n",
       " Row(state=' GA'),\n",
       " Row(state=' NY-NJ-PA'),\n",
       " Row(state=' NY-NJ-PA'),\n",
       " Row(state=' FL'),\n",
       " Row(state=' NY-NJ-PA'),\n",
       " Row(state=' NY-NJ-PA'),\n",
       " Row(state=' TX'),\n",
       " Row(state=' TX'),\n",
       " Row(state=' AZ'),\n",
       " Row(state=' AZ'),\n",
       " Row(state=' FL'),\n",
       " Row(state=' NY-NJ-PA'),\n",
       " Row(state=' NY-NJ-PA'),\n",
       " Row(state=' TX'),\n",
       " Row(state=' AZ'),\n",
       " Row(state=' NY-NJ-PA'),\n",
       " Row(state=' TX'),\n",
       " Row(state=' TX'),\n",
       " Row(state=' FL'),\n",
       " Row(state=' NY-NJ-PA'),\n",
       " Row(state=' AZ'),\n",
       " Row(state=' NY-NJ-PA'),\n",
       " Row(state=' FL'),\n",
       " Row(state=' AZ'),\n",
       " Row(state=' NY-NJ-PA'),\n",
       " Row(state=' FL'),\n",
       " Row(state=' AZ'),\n",
       " Row(state=' NY-NJ-PA'),\n",
       " Row(state=' NY-NJ-PA'),\n",
       " Row(state=' AZ'),\n",
       " Row(state=' FL'),\n",
       " Row(state=' NY-NJ-PA'),\n",
       " Row(state=' AZ'),\n",
       " Row(state=' FL'),\n",
       " Row(state=' NY-NJ-PA'),\n",
       " Row(state=' NY-NJ-PA'),\n",
       " Row(state=' FL'),\n",
       " Row(state=' AZ'),\n",
       " Row(state=' FL'),\n",
       " Row(state=' CA'),\n",
       " Row(state=' CA'),\n",
       " Row(state=' NY-NJ-PA'),\n",
       " Row(state=' CA'),\n",
       " Row(state=' AZ'),\n",
       " Row(state=' AZ'),\n",
       " Row(state=' FL'),\n",
       " Row(state=' NY-NJ-PA'),\n",
       " Row(state=' FL'),\n",
       " Row(state=' AZ'),\n",
       " Row(state=' CA'),\n",
       " Row(state=' NY-NJ-PA'),\n",
       " Row(state=' CA'),\n",
       " Row(state=' IL-MO'),\n",
       " Row(state=' FL'),\n",
       " Row(state=' AZ'),\n",
       " Row(state=' NY-NJ-PA'),\n",
       " Row(state=' IL-MO'),\n",
       " Row(state=' CA'),\n",
       " Row(state=' FL'),\n",
       " Row(state=' NY-NJ-PA'),\n",
       " Row(state=' CA'),\n",
       " Row(state=' AZ'),\n",
       " Row(state=' FL'),\n",
       " Row(state=' NY-NJ-PA'),\n",
       " Row(state=' CA'),\n",
       " Row(state=' AZ'),\n",
       " Row(state=' CA'),\n",
       " Row(state=' FL'),\n",
       " Row(state=' AZ'),\n",
       " Row(state=' AZ'),\n",
       " Row(state=' FL'),\n",
       " Row(state=' FL'),\n",
       " Row(state=' NY-NJ-PA'),\n",
       " Row(state=' IL-MO'),\n",
       " Row(state=' CA'),\n",
       " Row(state=' OH'),\n",
       " Row(state=' OH'),\n",
       " Row(state=' AZ'),\n",
       " Row(state=' FL'),\n",
       " Row(state=' NY-NJ-PA'),\n",
       " Row(state=' CA'),\n",
       " Row(state=' OH'),\n",
       " Row(state=' IL-MO'),\n",
       " Row(state=' FL'),\n",
       " Row(state=' CA'),\n",
       " Row(state=' CA'),\n",
       " Row(state=' AZ'),\n",
       " Row(state=' IL-MO'),\n",
       " Row(state=' NY-NJ-PA'),\n",
       " Row(state=' AZ'),\n",
       " Row(state=' CA'),\n",
       " Row(state=' OH'),\n",
       " Row(state=' IL-MO'),\n",
       " Row(state=' OH'),\n",
       " Row(state=' OH'),\n",
       " Row(state=' FL'),\n",
       " Row(state=' AZ'),\n",
       " Row(state=' NY-NJ-PA'),\n",
       " Row(state=' IL-MO'),\n",
       " Row(state=' IL-MO'),\n",
       " Row(state=' CA'),\n",
       " Row(state=' CA'),\n",
       " Row(state=' FL'),\n",
       " Row(state=' AZ'),\n",
       " Row(state=' NY-NJ-PA'),\n",
       " Row(state=' NY-NJ-PA'),\n",
       " Row(state=' AZ'),\n",
       " Row(state=' FL'),\n",
       " Row(state=' CA'),\n",
       " Row(state=' NY-NJ-PA'),\n",
       " Row(state=' AZ'),\n",
       " Row(state=' FL'),\n",
       " Row(state=' IL-MO'),\n",
       " Row(state=' CA'),\n",
       " Row(state=' NY-NJ-PA'),\n",
       " Row(state=' IL-MO'),\n",
       " Row(state=' AZ'),\n",
       " Row(state=' AZ'),\n",
       " Row(state=' NY-NJ-PA'),\n",
       " Row(state=' CA'),\n",
       " Row(state=' FL'),\n",
       " Row(state=' NY-NJ-PA'),\n",
       " Row(state=' IL-MO'),\n",
       " Row(state=' AZ'),\n",
       " Row(state=' CA'),\n",
       " Row(state=' FL'),\n",
       " Row(state=' IL-MO'),\n",
       " Row(state=' NY-NJ-PA'),\n",
       " Row(state=' AZ'),\n",
       " Row(state=' NY-NJ-PA'),\n",
       " Row(state=' CA'),\n",
       " Row(state=' CA'),\n",
       " Row(state=' FL'),\n",
       " Row(state=' AZ'),\n",
       " Row(state=' CA'),\n",
       " Row(state=' NY-NJ-PA'),\n",
       " Row(state=' NY-NJ-PA'),\n",
       " Row(state=' IL-MO'),\n",
       " Row(state=' CA'),\n",
       " Row(state=' FL'),\n",
       " Row(state=' AZ'),\n",
       " Row(state=' IL-MO'),\n",
       " Row(state=' FL'),\n",
       " Row(state=' FL'),\n",
       " Row(state=' CA'),\n",
       " Row(state=' CA'),\n",
       " Row(state=' AZ'),\n",
       " Row(state=' NY-NJ-PA'),\n",
       " Row(state=' IL-MO'),\n",
       " Row(state=' NY-NJ-PA'),\n",
       " Row(state=' FL'),\n",
       " Row(state=' FL'),\n",
       " Row(state=' CA'),\n",
       " Row(state=' CA'),\n",
       " Row(state=' AZ'),\n",
       " Row(state=' FL'),\n",
       " Row(state=' IL-MO'),\n",
       " Row(state=' AZ'),\n",
       " Row(state=' FL'),\n",
       " Row(state=' CA'),\n",
       " Row(state=' IL-MO'),\n",
       " Row(state=' FL'),\n",
       " Row(state=' CA'),\n",
       " Row(state=' FL'),\n",
       " Row(state=' NY-NJ-PA'),\n",
       " Row(state=' IL-MO'),\n",
       " Row(state=' AZ'),\n",
       " Row(state=' IL-MO'),\n",
       " Row(state=' CA'),\n",
       " Row(state=' CA'),\n",
       " Row(state=' NY-NJ-PA'),\n",
       " Row(state=' AZ'),\n",
       " Row(state=' AZ'),\n",
       " Row(state=' NY-NJ-PA'),\n",
       " Row(state=' NY-NJ-PA'),\n",
       " Row(state=' NY-NJ-PA'),\n",
       " Row(state=' CA'),\n",
       " Row(state=' NY-NJ-PA'),\n",
       " Row(state=' FL'),\n",
       " Row(state=' AZ'),\n",
       " Row(state=' NY-NJ-PA'),\n",
       " Row(state=' CA'),\n",
       " Row(state=' FL'),\n",
       " Row(state=' FL'),\n",
       " Row(state=' AZ'),\n",
       " Row(state=' NY-NJ-PA'),\n",
       " Row(state=' FL'),\n",
       " Row(state=' CA'),\n",
       " Row(state=' AZ'),\n",
       " Row(state=' AZ'),\n",
       " Row(state=' NY-NJ-PA'),\n",
       " Row(state=' NY-NJ-PA'),\n",
       " Row(state=' FL'),\n",
       " Row(state=' AZ'),\n",
       " Row(state=' NY-NJ-PA'),\n",
       " Row(state=' AZ'),\n",
       " Row(state=' FL'),\n",
       " Row(state=' NY-NJ-PA'),\n",
       " Row(state=' CA'),\n",
       " Row(state=' AZ'),\n",
       " Row(state=' FL'),\n",
       " Row(state=' NY-NJ-PA'),\n",
       " Row(state=' CA'),\n",
       " Row(state=' FL'),\n",
       " Row(state=' AZ'),\n",
       " Row(state=' NY-NJ-PA'),\n",
       " Row(state=' CA'),\n",
       " Row(state=' FL'),\n",
       " Row(state=' AZ'),\n",
       " Row(state=' NY-NJ-PA'),\n",
       " Row(state=' CA'),\n",
       " Row(state=' FL'),\n",
       " Row(state=' NY-NJ-PA'),\n",
       " Row(state=' FL'),\n",
       " Row(state=' CA'),\n",
       " Row(state=' AZ'),\n",
       " Row(state=' CA'),\n",
       " Row(state=' NY-NJ-PA'),\n",
       " Row(state=' FL'),\n",
       " Row(state=' FL'),\n",
       " Row(state=' NY-NJ-PA'),\n",
       " Row(state=' CA'),\n",
       " Row(state=' AZ'),\n",
       " Row(state=' NY-NJ-PA'),\n",
       " Row(state=' FL'),\n",
       " Row(state=' FL'),\n",
       " Row(state=' AZ'),\n",
       " Row(state=' TN-VA'),\n",
       " Row(state=' NY-NJ-PA'),\n",
       " Row(state=' NY-NJ-PA'),\n",
       " Row(state=' FL'),\n",
       " Row(state=' CA'),\n",
       " Row(state=' NY-NJ-PA'),\n",
       " Row(state=' FL'),\n",
       " Row(state=' AZ'),\n",
       " Row(state=' CA'),\n",
       " Row(state=' TN-VA'),\n",
       " Row(state=' NY-NJ-PA'),\n",
       " Row(state=' CA'),\n",
       " Row(state=' CA'),\n",
       " Row(state=' FL'),\n",
       " Row(state=' FL'),\n",
       " Row(state=' FL'),\n",
       " Row(state=' FL'),\n",
       " Row(state=' NY-NJ-PA'),\n",
       " Row(state=' AZ'),\n",
       " Row(state=' FL'),\n",
       " Row(state=' TN-VA'),\n",
       " Row(state=' CA'),\n",
       " Row(state=' CA'),\n",
       " Row(state=' AZ'),\n",
       " Row(state=' TN-VA'),\n",
       " Row(state=' NY-NJ-PA'),\n",
       " Row(state=' FL'),\n",
       " Row(state=' CA'),\n",
       " Row(state=' TN-VA'),\n",
       " Row(state=' FL'),\n",
       " Row(state=' TN-VA'),\n",
       " Row(state=' NY-NJ-PA'),\n",
       " Row(state=' CA'),\n",
       " Row(state=' FL'),\n",
       " Row(state=' AZ'),\n",
       " Row(state=' FL'),\n",
       " Row(state=' FL'),\n",
       " Row(state=' NY-NJ-PA'),\n",
       " Row(state=' CA'),\n",
       " Row(state=' AZ'),\n",
       " Row(state=' NY-NJ-PA'),\n",
       " Row(state=' TN-VA'),\n",
       " Row(state=' CA'),\n",
       " Row(state=' AZ'),\n",
       " Row(state=' NY-NJ-PA'),\n",
       " Row(state=' TN-VA'),\n",
       " Row(state=' FL'),\n",
       " Row(state=' CA'),\n",
       " Row(state=' CA'),\n",
       " Row(state=' AZ'),\n",
       " Row(state=' NY-NJ-PA'),\n",
       " Row(state=' TN-VA'),\n",
       " Row(state=' FL'),\n",
       " Row(state=' CA'),\n",
       " Row(state=' NY-NJ-PA'),\n",
       " Row(state=' FL'),\n",
       " Row(state=' AZ'),\n",
       " Row(state=' TN-VA'),\n",
       " Row(state=' FL'),\n",
       " Row(state=' CA'),\n",
       " Row(state=' AZ'),\n",
       " Row(state=' TN-VA'),\n",
       " Row(state=' NY-NJ-PA'),\n",
       " Row(state=' NY-NJ-PA'),\n",
       " Row(state=' FL'),\n",
       " Row(state=' AZ'),\n",
       " Row(state=' CA'),\n",
       " Row(state=' NY-NJ-PA'),\n",
       " Row(state=' CA'),\n",
       " Row(state=' TN-VA'),\n",
       " Row(state=' NY-NJ-PA'),\n",
       " Row(state=' FL'),\n",
       " Row(state=' FL'),\n",
       " Row(state=' FL'),\n",
       " Row(state=' FL'),\n",
       " Row(state=' NY-NJ-PA'),\n",
       " Row(state=' FL'),\n",
       " Row(state=' CA'),\n",
       " Row(state=' AZ'),\n",
       " Row(state=' FL'),\n",
       " Row(state=' NY-NJ-PA'),\n",
       " Row(state=' FL'),\n",
       " Row(state=' CA'),\n",
       " Row(state=' TN-VA'),\n",
       " Row(state=' NY-NJ-PA'),\n",
       " Row(state=' AZ'),\n",
       " Row(state=' NY-NJ-PA'),\n",
       " Row(state=' NY-NJ-PA'),\n",
       " Row(state=' CA'),\n",
       " Row(state=' FL'),\n",
       " Row(state=' TN-VA'),\n",
       " Row(state=' NY-NJ-PA'),\n",
       " Row(state=' AZ'),\n",
       " Row(state=' AZ'),\n",
       " Row(state=' SC-NC'),\n",
       " Row(state=' FL'),\n",
       " Row(state=' NY-NJ-PA'),\n",
       " Row(state=' CA'),\n",
       " Row(state=' SC-NC'),\n",
       " Row(state=' TN-VA'),\n",
       " Row(state=' FL'),\n",
       " Row(state=' FL'),\n",
       " Row(state=' AZ'),\n",
       " Row(state=' AZ'),\n",
       " Row(state=' AZ'),\n",
       " Row(state=' CA'),\n",
       " Row(state=' TN-VA'),\n",
       " Row(state=' SC-NC'),\n",
       " Row(state=' NY-NJ-PA'),\n",
       " Row(state=' NY-NJ-PA'),\n",
       " Row(state=' FL'),\n",
       " Row(state=' CA'),\n",
       " Row(state=' AZ'),\n",
       " Row(state=' SC-NC'),\n",
       " Row(state=' TN-VA'),\n",
       " Row(state=' NY-NJ-PA'),\n",
       " Row(state=' CA'),\n",
       " Row(state=' FL'),\n",
       " Row(state=' TN-VA'),\n",
       " Row(state=' NY-NJ-PA'),\n",
       " Row(state=' AZ'),\n",
       " Row(state=' TN-VA'),\n",
       " Row(state=' NY-NJ-PA'),\n",
       " Row(state=' NY-NJ-PA'),\n",
       " Row(state=' SC-NC'),\n",
       " Row(state=' SC-NC'),\n",
       " Row(state=' AZ'),\n",
       " Row(state=' CA'),\n",
       " Row(state=' SC-NC'),\n",
       " Row(state=' SC-NC'),\n",
       " Row(state=' TN-VA'),\n",
       " Row(state=' NY-NJ-PA'),\n",
       " Row(state=' CO'),\n",
       " Row(state=' NY-NJ-PA'),\n",
       " Row(state=' AZ'),\n",
       " Row(state=' SC-NC'),\n",
       " Row(state=' TN-VA'),\n",
       " Row(state=' NY-NJ-PA'),\n",
       " Row(state=' TN-VA'),\n",
       " Row(state=' WV'),\n",
       " Row(state=' AZ'),\n",
       " Row(state=' CA'),\n",
       " Row(state=' WV'),\n",
       " Row(state=' SC-NC'),\n",
       " Row(state=' SC-NC'),\n",
       " Row(state=' WV'),\n",
       " Row(state=' CO'),\n",
       " Row(state=' CA'),\n",
       " Row(state=' TN-VA'),\n",
       " Row(state=' TN-VA'),\n",
       " Row(state=' NY-NJ-PA'),\n",
       " Row(state=' AZ'),\n",
       " Row(state=' CA'),\n",
       " Row(state=' AZ'),\n",
       " Row(state=' CA'),\n",
       " Row(state=' SC-NC'),\n",
       " Row(state=' WV'),\n",
       " Row(state=' TN-VA'),\n",
       " Row(state=' NY-NJ-PA'),\n",
       " Row(state=' CO'),\n",
       " Row(state=' TN-VA'),\n",
       " Row(state=' TN-VA'),\n",
       " Row(state=' TN-VA'),\n",
       " Row(state=' SC-NC'),\n",
       " Row(state=' TN-VA'),\n",
       " Row(state=' CA'),\n",
       " Row(state=' CA'),\n",
       " Row(state=' WV'),\n",
       " Row(state=' NY-NJ-PA'),\n",
       " Row(state=' CO'),\n",
       " Row(state=' CA'),\n",
       " Row(state=' AZ'),\n",
       " Row(state=' CA'),\n",
       " Row(state=' TN-VA'),\n",
       " Row(state=' TN-VA'),\n",
       " Row(state=' NY-NJ-PA'),\n",
       " Row(state=' CO'),\n",
       " Row(state=' CO'),\n",
       " Row(state=' SC-NC'),\n",
       " Row(state=' SC-NC'),\n",
       " Row(state=' GA-AL'),\n",
       " Row(state=' GA-AL'),\n",
       " Row(state=' WV'),\n",
       " Row(state=' AZ'),\n",
       " Row(state=' CA'),\n",
       " Row(state=' TN-VA'),\n",
       " Row(state=' NY-NJ-PA'),\n",
       " Row(state=' CO'),\n",
       " Row(state=' GA-AL'),\n",
       " Row(state=' AZ'),\n",
       " Row(state=' AZ'),\n",
       " Row(state=' TN-VA'),\n",
       " Row(state=' WV'),\n",
       " Row(state=' SC-NC'),\n",
       " Row(state=' SC-NC'),\n",
       " Row(state=' NY-NJ-PA'),\n",
       " Row(state=' AZ'),\n",
       " Row(state=' NY-NJ-PA'),\n",
       " Row(state=' TN-VA'),\n",
       " Row(state=' WV'),\n",
       " Row(state=' CO'),\n",
       " Row(state=' SC-NC'),\n",
       " Row(state=' SC-NC'),\n",
       " Row(state=' WV'),\n",
       " Row(state=' TN-VA'),\n",
       " Row(state=' AZ'),\n",
       " Row(state=' SC-NC'),\n",
       " Row(state=' MN-WI'),\n",
       " Row(state=' NY-NJ-PA'),\n",
       " Row(state=' NY-NJ-PA'),\n",
       " Row(state=' MN-WI'),\n",
       " Row(state=' MN-WI'),\n",
       " Row(state=' TN-VA'),\n",
       " Row(state=' SC-NC'),\n",
       " Row(state=' WV'),\n",
       " Row(state=' AZ'),\n",
       " Row(state=' CO'),\n",
       " Row(state=' NY-NJ-PA'),\n",
       " Row(state=' MN-WI'),\n",
       " Row(state=' WV'),\n",
       " Row(state=' WV'),\n",
       " Row(state=' TN-VA'),\n",
       " Row(state=' SC-NC'),\n",
       " Row(state=' SC-NC'),\n",
       " Row(state=' AZ'),\n",
       " Row(state=' CO'),\n",
       " Row(state=' NY-NJ-PA'),\n",
       " Row(state=' MN-WI'),\n",
       " Row(state=' CO'),\n",
       " Row(state=' TN-VA'),\n",
       " Row(state=' NY-NJ-PA'),\n",
       " Row(state=' NY-NJ-PA'),\n",
       " Row(state=' SC-NC'),\n",
       " Row(state=' WV'),\n",
       " Row(state=' MN-WI'),\n",
       " Row(state=' CO'),\n",
       " Row(state=' NY-NJ-PA'),\n",
       " Row(state=' NY-NJ-PA'),\n",
       " Row(state=' SC-NC'),\n",
       " Row(state=' WV'),\n",
       " Row(state=' MN-WI'),\n",
       " Row(state=' TN-VA'),\n",
       " Row(state=' CO'),\n",
       " Row(state=' NY-NJ-PA'),\n",
       " Row(state=' MN-WI'),\n",
       " Row(state=' SC-NC'),\n",
       " Row(state=' AZ'),\n",
       " Row(state=' SC-NC'),\n",
       " Row(state=' WV'),\n",
       " Row(state=' TN-VA'),\n",
       " Row(state=' CO'),\n",
       " Row(state=' NY-NJ-PA'),\n",
       " Row(state=' NY-NJ-PA'),\n",
       " Row(state=' AZ'),\n",
       " Row(state=' AZ'),\n",
       " Row(state=' NY-NJ-PA'),\n",
       " Row(state=' MN-WI'),\n",
       " Row(state=' SC-NC'),\n",
       " Row(state=' MN-WI'),\n",
       " Row(state=' WV'),\n",
       " Row(state=' CO'),\n",
       " Row(state=' NY-NJ-PA'),\n",
       " Row(state=' AZ'),\n",
       " Row(state=' TN-VA'),\n",
       " Row(state=' TN-VA'),\n",
       " Row(state=' MN-WI'),\n",
       " Row(state=' MN-WI'),\n",
       " Row(state=' NY-NJ-PA'),\n",
       " Row(state=' SC-NC'),\n",
       " Row(state=' SC-NC'),\n",
       " Row(state=' CO'),\n",
       " Row(state=' NY-NJ-PA'),\n",
       " Row(state=' NY-NJ-PA'),\n",
       " Row(state=' AZ'),\n",
       " Row(state=' AZ'),\n",
       " Row(state=' AZ'),\n",
       " Row(state=' AZ'),\n",
       " Row(state=' AZ'),\n",
       " Row(state=' TN-VA'),\n",
       " Row(state=' TN-VA'),\n",
       " Row(state=' MN-WI'),\n",
       " Row(state=' MN-WI'),\n",
       " Row(state=' NY-NJ-PA'),\n",
       " Row(state=' NY-NJ-PA'),\n",
       " Row(state=' CO'),\n",
       " Row(state=' NY-NJ-PA'),\n",
       " Row(state=' NY-NJ-PA'),\n",
       " Row(state=' NY-NJ-PA'),\n",
       " Row(state=' NY-NJ-PA'),\n",
       " Row(state=' TN-VA'),\n",
       " Row(state=' AZ'),\n",
       " Row(state=' MN-WI'),\n",
       " Row(state=' MN-WI'),\n",
       " Row(state=' SC-NC'),\n",
       " Row(state=' CO'),\n",
       " Row(state=' CO'),\n",
       " Row(state=' OK'),\n",
       " Row(state=' WV'),\n",
       " Row(state=' AZ'),\n",
       " Row(state=' NY-NJ-PA'),\n",
       " Row(state=' NY-NJ-PA'),\n",
       " Row(state=' TN-VA'),\n",
       " Row(state=' MN-WI'),\n",
       " Row(state=' CO'),\n",
       " Row(state=' TN-VA'),\n",
       " Row(state=' TN-VA'),\n",
       " Row(state=' AZ'),\n",
       " Row(state=' AZ'),\n",
       " Row(state=' SC-NC'),\n",
       " Row(state=' NY-NJ-PA'),\n",
       " Row(state=' NY-NJ-PA'),\n",
       " Row(state=' MN-WI'),\n",
       " Row(state=' WV'),\n",
       " Row(state=' CO'),\n",
       " Row(state=' TN-VA'),\n",
       " Row(state=' OK'),\n",
       " Row(state=' CO'),\n",
       " Row(state=' OK'),\n",
       " Row(state=' OK'),\n",
       " Row(state=' TN-VA'),\n",
       " Row(state=' NY-NJ-PA'),\n",
       " Row(state=' AZ'),\n",
       " Row(state=' NY-NJ-PA'),\n",
       " Row(state=' SC-NC'),\n",
       " Row(state=' WV'),\n",
       " Row(state=' CO'),\n",
       " Row(state=' MN-WI'),\n",
       " Row(state=' OK'),\n",
       " Row(state=' MN-WI'),\n",
       " Row(state=' NY-NJ-PA'),\n",
       " Row(state=' TN-VA'),\n",
       " Row(state=' NY-NJ-PA'),\n",
       " Row(state=' AZ'),\n",
       " Row(state=' NY-NJ-PA'),\n",
       " Row(state=' SC-NC'),\n",
       " Row(state=' WV'),\n",
       " Row(state=' CO'),\n",
       " Row(state=' MN-WI'),\n",
       " Row(state=' TN-VA'),\n",
       " Row(state=' OK'),\n",
       " Row(state=' AZ'),\n",
       " Row(state=' WV'),\n",
       " Row(state=' NY-NJ-PA'),\n",
       " Row(state=' MN-WI'),\n",
       " Row(state=' MN-WI'),\n",
       " Row(state=' NY-NJ-PA'),\n",
       " Row(state=' CO'),\n",
       " Row(state=' SC-NC'),\n",
       " Row(state=' OK'),\n",
       " Row(state=' MN-WI'),\n",
       " Row(state=' NY-NJ-PA'),\n",
       " Row(state=' SC-NC'),\n",
       " Row(state=' WV'),\n",
       " Row(state=' CO'),\n",
       " Row(state=' TN-VA'),\n",
       " Row(state=' NY-NJ-PA'),\n",
       " Row(state=' OK'),\n",
       " Row(state=' NY-NJ-PA'),\n",
       " Row(state=' MN-WI'),\n",
       " Row(state=' NY-NJ-PA'),\n",
       " Row(state=' WV'),\n",
       " Row(state=' AZ'),\n",
       " Row(state=' SC-NC'),\n",
       " Row(state=' SC-NC'),\n",
       " Row(state=' TN-VA'),\n",
       " Row(state=' CO'),\n",
       " Row(state=' OK'),\n",
       " Row(state=' NY-NJ-PA'),\n",
       " Row(state=' NY-NJ-PA'),\n",
       " Row(state=' NY-NJ-PA'),\n",
       " Row(state=' NY-NJ-PA'),\n",
       " Row(state=' SC-NC'),\n",
       " Row(state=' WV'),\n",
       " Row(state=' MN-WI'),\n",
       " Row(state=' MN-WI'),\n",
       " Row(state=' AZ'),\n",
       " Row(state=' NY-NJ-PA'),\n",
       " Row(state=' CO'),\n",
       " Row(state=' TN-VA'),\n",
       " Row(state=' NY-NJ-PA'),\n",
       " Row(state=' OK'),\n",
       " Row(state=' AZ'),\n",
       " Row(state=' MN-WI'),\n",
       " Row(state=' NY-NJ-PA'),\n",
       " Row(state=' WV'),\n",
       " Row(state=' CO'),\n",
       " Row(state=' OK'),\n",
       " Row(state=' SC-NC'),\n",
       " Row(state=' TN-VA'),\n",
       " Row(state=' AZ'),\n",
       " Row(state=' NY-NJ-PA'),\n",
       " Row(state=' MN-WI'),\n",
       " Row(state=' NY-NJ-PA'),\n",
       " Row(state=' CO'),\n",
       " Row(state=' WV'),\n",
       " Row(state=' OK'),\n",
       " Row(state=' AZ'),\n",
       " Row(state=' TN-VA'),\n",
       " Row(state=' NY-NJ-PA'),\n",
       " Row(state=' WV'),\n",
       " Row(state=' CO'),\n",
       " Row(state=' MN-WI'),\n",
       " Row(state=' MN-WI'),\n",
       " Row(state=' SC-NC'),\n",
       " Row(state=' WA'),\n",
       " Row(state=' CO'),\n",
       " Row(state=' OK'),\n",
       " Row(state=' AZ'),\n",
       " Row(state=' SC-NC'),\n",
       " Row(state=' SC-NC'),\n",
       " Row(state=' WV'),\n",
       " Row(state=' NY-NJ-PA'),\n",
       " Row(state=' NY-NJ-PA'),\n",
       " Row(state=' NY-NJ-PA'),\n",
       " Row(state=' MN-WI'),\n",
       " Row(state=' TN-VA'),\n",
       " Row(state=' CO'),\n",
       " Row(state=' CO'),\n",
       " Row(state=' WV'),\n",
       " Row(state=' MN-WI'),\n",
       " Row(state=' OK'),\n",
       " Row(state=' WA'),\n",
       " Row(state=' OK'),\n",
       " Row(state=' AZ'),\n",
       " Row(state=' TN-VA'),\n",
       " Row(state=' SC-NC'),\n",
       " Row(state=' SC-NC'),\n",
       " ...]"
      ]
     },
     "execution_count": 42,
     "metadata": {},
     "output_type": "execute_result"
    }
   ],
   "source": [
    "# Prepare the data for a better visualization of the location column\n",
    "# The location column has the form: Name,Short_Name, eg: 'Lexington-Fayette, KY'\n",
    "# so we'll get the column location and split it by comma and then get the second part\n",
    "# and then we'll take only the first part\n",
    "df_valid = df_valid.withColumn(\"state\", split(col(\"location\"),',').getItem(1))\n",
    "#df_valid = df_valid.withColumn(\"state\", split(col(\"state\"),'-').getItem(1))\n",
    "df_valid.select(\"state\").collect()"
   ]
  },
  {
   "cell_type": "code",
   "execution_count": 43,
   "metadata": {},
   "outputs": [
    {
     "name": "stdout",
     "output_type": "stream",
     "text": [
      "+-------+------+\n",
      "|summary|method|\n",
      "+-------+------+\n",
      "|  count|278154|\n",
      "|   mean|  null|\n",
      "| stddev|  null|\n",
      "|    min|   GET|\n",
      "|    max|   PUT|\n",
      "+-------+------+\n",
      "\n"
     ]
    }
   ],
   "source": [
    "df_valid.describe('method').show()"
   ]
  },
  {
   "cell_type": "code",
   "execution_count": 44,
   "metadata": {},
   "outputs": [
    {
     "data": {
      "text/plain": [
       "[Row(method='PUT'), Row(method='GET')]"
      ]
     },
     "execution_count": 44,
     "metadata": {},
     "output_type": "execute_result"
    }
   ],
   "source": [
    "df_valid.select('method').distinct().collect() # there are two methods: PUT/GET"
   ]
  },
  {
   "cell_type": "code",
   "execution_count": 45,
   "metadata": {},
   "outputs": [
    {
     "name": "stdout",
     "output_type": "stream",
     "text": [
      "+-------+-------+\n",
      "|summary|   page|\n",
      "+-------+-------+\n",
      "|  count| 278154|\n",
      "|   mean|   null|\n",
      "| stddev|   null|\n",
      "|    min|  About|\n",
      "|    max|Upgrade|\n",
      "+-------+-------+\n",
      "\n"
     ]
    }
   ],
   "source": [
    "df_valid.describe('page').show()"
   ]
  },
  {
   "cell_type": "code",
   "execution_count": 46,
   "metadata": {},
   "outputs": [
    {
     "data": {
      "text/plain": [
       "[Row(page='Cancel'),\n",
       " Row(page='Submit Downgrade'),\n",
       " Row(page='Thumbs Down'),\n",
       " Row(page='Home'),\n",
       " Row(page='Downgrade'),\n",
       " Row(page='Roll Advert'),\n",
       " Row(page='Logout'),\n",
       " Row(page='Save Settings'),\n",
       " Row(page='Cancellation Confirmation'),\n",
       " Row(page='About'),\n",
       " Row(page='Settings'),\n",
       " Row(page='Add to Playlist'),\n",
       " Row(page='Add Friend'),\n",
       " Row(page='NextSong'),\n",
       " Row(page='Thumbs Up'),\n",
       " Row(page='Help'),\n",
       " Row(page='Upgrade'),\n",
       " Row(page='Error'),\n",
       " Row(page='Submit Upgrade')]"
      ]
     },
     "execution_count": 46,
     "metadata": {},
     "output_type": "execute_result"
    }
   ],
   "source": [
    "df_valid.select('page').distinct().collect() # there are 19 different pages"
   ]
  },
  {
   "cell_type": "code",
   "execution_count": 47,
   "metadata": {},
   "outputs": [
    {
     "name": "stdout",
     "output_type": "stream",
     "text": [
      "+-------+--------------------+\n",
      "|summary|        registration|\n",
      "+-------+--------------------+\n",
      "|  count|              278154|\n",
      "|   mean|1.535358834084427...|\n",
      "| stddev| 3.291321616327586E9|\n",
      "|    min|       1521380675000|\n",
      "|    max|       1543247354000|\n",
      "+-------+--------------------+\n",
      "\n"
     ]
    }
   ],
   "source": [
    "df_valid.describe('registration').show()"
   ]
  },
  {
   "cell_type": "code",
   "execution_count": 48,
   "metadata": {},
   "outputs": [
    {
     "name": "stdout",
     "output_type": "stream",
     "text": [
      "+-------+------------------+\n",
      "|summary|         sessionId|\n",
      "+-------+------------------+\n",
      "|  count|            278154|\n",
      "|   mean|1042.5616241362698|\n",
      "| stddev| 726.5010362219813|\n",
      "|    min|                 1|\n",
      "|    max|              2474|\n",
      "+-------+------------------+\n",
      "\n"
     ]
    }
   ],
   "source": [
    "df_valid.describe('sessionId').show()"
   ]
  },
  {
   "cell_type": "code",
   "execution_count": 49,
   "metadata": {},
   "outputs": [
    {
     "name": "stdout",
     "output_type": "stream",
     "text": [
      "+-------+--------------------+\n",
      "|summary|                song|\n",
      "+-------+--------------------+\n",
      "|  count|              228108|\n",
      "|   mean|            Infinity|\n",
      "| stddev|                 NaN|\n",
      "|    min|\u001c",
      "ÃÂg ÃÂtti Gr...|\n",
      "|    max|ÃÂau hafa slopp...|\n",
      "+-------+--------------------+\n",
      "\n"
     ]
    }
   ],
   "source": [
    "df_valid.describe('song').show()"
   ]
  },
  {
   "cell_type": "code",
   "execution_count": 50,
   "metadata": {},
   "outputs": [
    {
     "name": "stdout",
     "output_type": "stream",
     "text": [
      "+-------+------------------+\n",
      "|summary|            status|\n",
      "+-------+------------------+\n",
      "|  count|            278154|\n",
      "|   mean|209.10321620397335|\n",
      "| stddev|30.151388851328214|\n",
      "|    min|               200|\n",
      "|    max|               404|\n",
      "+-------+------------------+\n",
      "\n"
     ]
    }
   ],
   "source": [
    "df_valid.describe('status').show()"
   ]
  },
  {
   "cell_type": "code",
   "execution_count": 51,
   "metadata": {},
   "outputs": [
    {
     "data": {
      "text/plain": [
       "[Row(status=307), Row(status=404), Row(status=200)]"
      ]
     },
     "execution_count": 51,
     "metadata": {},
     "output_type": "execute_result"
    }
   ],
   "source": [
    "df_valid.select('status').distinct().collect() # there are 3 possible status"
   ]
  },
  {
   "cell_type": "code",
   "execution_count": 52,
   "metadata": {},
   "outputs": [
    {
     "name": "stdout",
     "output_type": "stream",
     "text": [
      "+-------+--------------------+\n",
      "|summary|                  ts|\n",
      "+-------+--------------------+\n",
      "|  count|              278154|\n",
      "|   mean|1.540958915431871...|\n",
      "| stddev|1.5068287123306298E9|\n",
      "|    min|       1538352117000|\n",
      "|    max|       1543799476000|\n",
      "+-------+--------------------+\n",
      "\n"
     ]
    }
   ],
   "source": [
    "df_valid.describe('ts').show()"
   ]
  },
  {
   "cell_type": "code",
   "execution_count": 53,
   "metadata": {},
   "outputs": [
    {
     "name": "stdout",
     "output_type": "stream",
     "text": [
      "+-------+--------------------+\n",
      "|summary|           userAgent|\n",
      "+-------+--------------------+\n",
      "|  count|              278154|\n",
      "|   mean|                null|\n",
      "| stddev|                null|\n",
      "|    min|\"Mozilla/5.0 (Mac...|\n",
      "|    max|Mozilla/5.0 (comp...|\n",
      "+-------+--------------------+\n",
      "\n"
     ]
    }
   ],
   "source": [
    "df_valid.describe('userAgent').show()"
   ]
  },
  {
   "cell_type": "code",
   "execution_count": 54,
   "metadata": {},
   "outputs": [
    {
     "name": "stdout",
     "output_type": "stream",
     "text": [
      "+-------+-----------------+\n",
      "|summary|           userId|\n",
      "+-------+-----------------+\n",
      "|  count|           278154|\n",
      "|   mean|59682.02278593872|\n",
      "| stddev|109091.9499991047|\n",
      "|    min|               10|\n",
      "|    max|               99|\n",
      "+-------+-----------------+\n",
      "\n"
     ]
    }
   ],
   "source": [
    "df_valid.describe('userId').show()"
   ]
  },
  {
   "cell_type": "code",
   "execution_count": 55,
   "metadata": {},
   "outputs": [
    {
     "name": "stdout",
     "output_type": "stream",
     "text": [
      "+------+\n",
      "|userID|\n",
      "+------+\n",
      "|    30|\n",
      "|     9|\n",
      "|    30|\n",
      "|     9|\n",
      "|    30|\n",
      "|     9|\n",
      "|     9|\n",
      "|    30|\n",
      "|    30|\n",
      "|    30|\n",
      "|     9|\n",
      "|     9|\n",
      "|    30|\n",
      "|     9|\n",
      "|     9|\n",
      "|    30|\n",
      "|     9|\n",
      "|    74|\n",
      "|    30|\n",
      "|     9|\n",
      "+------+\n",
      "only showing top 20 rows\n",
      "\n"
     ]
    }
   ],
   "source": [
    "df_valid.select(\"userID\").show()"
   ]
  },
  {
   "cell_type": "code",
   "execution_count": 56,
   "metadata": {},
   "outputs": [
    {
     "data": {
      "text/plain": [
       "225"
      ]
     },
     "execution_count": 56,
     "metadata": {},
     "output_type": "execute_result"
    }
   ],
   "source": [
    "# Let's see how many distinct users are in this dataset --> 225\n",
    "df_valid.select(\"userId\").distinct().count()"
   ]
  },
  {
   "cell_type": "code",
   "execution_count": 57,
   "metadata": {},
   "outputs": [
    {
     "name": "stdout",
     "output_type": "stream",
     "text": [
      "+--------------------+\n",
      "|                page|\n",
      "+--------------------+\n",
      "|               About|\n",
      "|          Add Friend|\n",
      "|     Add to Playlist|\n",
      "|              Cancel|\n",
      "|Cancellation Conf...|\n",
      "|           Downgrade|\n",
      "|               Error|\n",
      "|                Help|\n",
      "|                Home|\n",
      "|              Logout|\n",
      "|            NextSong|\n",
      "|         Roll Advert|\n",
      "|       Save Settings|\n",
      "|            Settings|\n",
      "|    Submit Downgrade|\n",
      "|      Submit Upgrade|\n",
      "|         Thumbs Down|\n",
      "|           Thumbs Up|\n",
      "|             Upgrade|\n",
      "+--------------------+\n",
      "\n"
     ]
    }
   ],
   "source": [
    "# And let's see how many different pages are --> 19\n",
    "df_valid.select(\"page\").dropDuplicates().sort(\"page\").show()"
   ]
  },
  {
   "cell_type": "code",
   "execution_count": 58,
   "metadata": {},
   "outputs": [
    {
     "data": {
      "text/plain": [
       "Row(UserId='30', firstname='Colin', page='NextSong', song='Rockpools')"
      ]
     },
     "execution_count": 58,
     "metadata": {},
     "output_type": "execute_result"
    }
   ],
   "source": [
    "# Let's see an example of row in the dataset, for instance let's see userid= 30\n",
    "df_valid.select([\"UserId\", \"firstname\", \"page\", \"song\"]).where(df_valid.userId==\"30\").collect()[0]"
   ]
  },
  {
   "cell_type": "code",
   "execution_count": 59,
   "metadata": {},
   "outputs": [],
   "source": [
    "# Now we are going to add two new columns derived from ts field:\n",
    "# We would like to know the hour and datetime in UTF timestamp\n",
    "# for that we prepare a lambda function\n",
    "get_date       = udf(lambda x: datetime.datetime.fromtimestamp(x / 1000.0).strftime(\"%Y-%m-%d %H:%M:%S\"))\n",
    "get_month      = udf(lambda x: datetime.datetime.fromtimestamp(x / 1000.0). month)\n",
    "get_day        = udf(lambda x: datetime.datetime.fromtimestamp(x / 1000.0). day)\n",
    "get_hour       = udf(lambda x: datetime.datetime.fromtimestamp(x / 1000.0). hour)\n",
    "get_weekday    = udf(lambda x: datetime.datetime.fromtimestamp(x / 1000.0).strftime('%w'))"
   ]
  },
  {
   "cell_type": "code",
   "execution_count": 60,
   "metadata": {},
   "outputs": [],
   "source": [
    "# we apply the lambda function to convert the ts into hour and data\n",
    "# we apply also the lambda function to convert the registration field into a new field \"registration_time\" with the timestamp \n",
    "df_valid = df_valid.withColumn(\"registration_time\", get_date(df_valid.registration))\n",
    "df_valid = df_valid.withColumn(\"date\", get_date(df_valid.ts))\n",
    "df_valid = df_valid.withColumn(\"month\", get_month(df_valid.ts))\n",
    "df_valid = df_valid.withColumn(\"day_of_month\", get_day(df_valid.ts))\n",
    "df_valid = df_valid.withColumn(\"hour\", get_hour(df_valid.ts))\n",
    "df_valid = df_valid.withColumn('day_of_week', get_weekday(df_valid.ts))"
   ]
  },
  {
   "cell_type": "code",
   "execution_count": 61,
   "metadata": {},
   "outputs": [],
   "source": [
    "# Let's prepare sparksql \n",
    "# To do that, we need to create a temporary table, where we'll perform the SQL queries\n",
    "df_valid.createOrReplaceTempView(\"Sparkify_sql\")"
   ]
  },
  {
   "cell_type": "code",
   "execution_count": 62,
   "metadata": {},
   "outputs": [
    {
     "name": "stdout",
     "output_type": "stream",
     "text": [
      "+-------------------+-------+\n",
      "|  registration_time|weekday|\n",
      "+-------------------+-------+\n",
      "|2018-09-28 22:22:42|      5|\n",
      "|2018-09-30 18:20:30|      7|\n",
      "|2018-09-28 22:22:42|      5|\n",
      "|2018-09-30 18:20:30|      7|\n",
      "|2018-09-28 22:22:42|      5|\n",
      "|2018-09-30 18:20:30|      7|\n",
      "|2018-09-30 18:20:30|      7|\n",
      "|2018-09-28 22:22:42|      5|\n",
      "|2018-09-28 22:22:42|      5|\n",
      "|2018-09-28 22:22:42|      5|\n",
      "|2018-09-30 18:20:30|      7|\n",
      "|2018-09-30 18:20:30|      7|\n",
      "|2018-09-28 22:22:42|      5|\n",
      "|2018-09-30 18:20:30|      7|\n",
      "|2018-09-30 18:20:30|      7|\n",
      "|2018-09-28 22:22:42|      5|\n",
      "|2018-09-30 18:20:30|      7|\n",
      "|2018-09-19 13:53:39|      3|\n",
      "|2018-09-28 22:22:42|      5|\n",
      "|2018-09-30 18:20:30|      7|\n",
      "+-------------------+-------+\n",
      "only showing top 20 rows\n",
      "\n"
     ]
    }
   ],
   "source": [
    "# Let's prepare the registration_time for human understanding, that is year-month-day hour:minute:second, \n",
    "# And also let's add the weekday\n",
    "df_time = df_valid.select('registration_time', date_format('registration_time', 'u').alias('weekday'))\n",
    "df_time.show()"
   ]
  },
  {
   "cell_type": "code",
   "execution_count": 63,
   "metadata": {},
   "outputs": [],
   "source": [
    "# Now let's calculate how long the user is subscribed to our Sparkify service\n",
    "# To calculate that, we have to substract current date to the registration date\n",
    "\n",
    "def get_days_from_registration(df_valid):\n",
    "    days_from_registration = df_valid.ts - df_valid.registration\n",
    "    days_from_registration = days_from_registration/(1000*3600*24)\n",
    "    \n",
    "    return days_from_registration\n",
    "    \n",
    "    \n",
    "df_valid = df_valid.withColumn(\"subscription_days\", get_days_from_registration(df_valid))"
   ]
  },
  {
   "cell_type": "code",
   "execution_count": 64,
   "metadata": {},
   "outputs": [
    {
     "data": {
      "text/plain": [
       "Row(subscription_days=256.3776736111111)"
      ]
     },
     "execution_count": 64,
     "metadata": {},
     "output_type": "execute_result"
    }
   ],
   "source": [
    "df_valid.select('subscription_days').sort(\"subscription_days\").collect()[-1]"
   ]
  },
  {
   "cell_type": "code",
   "execution_count": 65,
   "metadata": {},
   "outputs": [
    {
     "data": {
      "text/plain": [
       "[Row(userID='30', subscription_days=2.068923611111111),\n",
       " Row(userID='9', subscription_days=0.2378472222222222),\n",
       " Row(userID='30', subscription_days=2.0721296296296297)]"
      ]
     },
     "execution_count": 65,
     "metadata": {},
     "output_type": "execute_result"
    }
   ],
   "source": [
    "df_valid.select('userID', 'subscription_days').take(3)"
   ]
  },
  {
   "cell_type": "markdown",
   "metadata": {},
   "source": [
    "### Now we continue with our Data Exploration! Let's do it just making questions!\n"
   ]
  },
  {
   "cell_type": "code",
   "execution_count": 66,
   "metadata": {},
   "outputs": [],
   "source": [
    "#### Question: How many days/months does our dataset contain?"
   ]
  },
  {
   "cell_type": "code",
   "execution_count": 67,
   "metadata": {},
   "outputs": [
    {
     "data": {
      "text/plain": [
       "['2018-10-01 00:01:57']"
      ]
     },
     "execution_count": 67,
     "metadata": {},
     "output_type": "execute_result"
    }
   ],
   "source": [
    "# We have a dataset with an initial date = 2018-10-01\n",
    "day_from = list(df_valid.select('date').sort(\"date\").collect()[0])\n",
    "day_from "
   ]
  },
  {
   "cell_type": "code",
   "execution_count": 68,
   "metadata": {},
   "outputs": [
    {
     "data": {
      "text/plain": [
       "['2018-12-03 01:11:16']"
      ]
     },
     "execution_count": 68,
     "metadata": {},
     "output_type": "execute_result"
    }
   ],
   "source": [
    "# We have a dataset with an end date = 2018-12-03\n",
    "day_to = list(df_valid.select('date').sort(\"date\").collect()[-1])\n",
    "day_to"
   ]
  },
  {
   "cell_type": "code",
   "execution_count": 69,
   "metadata": {},
   "outputs": [],
   "source": [
    "#### We have a dataset with an initial date = 2018-10-01 and an end date = 2018-12-03\n",
    "#### So we have a dataset of aprox 2 months information "
   ]
  },
  {
   "cell_type": "code",
   "execution_count": 70,
   "metadata": {},
   "outputs": [
    {
     "name": "stdout",
     "output_type": "stream",
     "text": [
      "+------------+-----+\n",
      "|       state|count|\n",
      "+------------+-----+\n",
      "|       NE-IA|    1|\n",
      "|       PA-NJ|    1|\n",
      "|          WA|    4|\n",
      "| DC-VA-MD-WV|    4|\n",
      "|          AL|    4|\n",
      "|          MI|    5|\n",
      "|       MN-WI|    3|\n",
      "|    IL-IN-WI|    6|\n",
      "|       MD-WV|    1|\n",
      "|          NH|    2|\n",
      "|          AK|    2|\n",
      "|          AR|    1|\n",
      "|          AZ|    7|\n",
      "|       MA-NH|    5|\n",
      "|          WV|    1|\n",
      "|    TN-MS-AR|    1|\n",
      "|       MO-IL|    6|\n",
      "|          TN|    1|\n",
      "|          NY|    5|\n",
      "|          MD|    2|\n",
      "+------------+-----+\n",
      "only showing top 20 rows\n",
      "\n"
     ]
    }
   ],
   "source": [
    "# Let's see the states\n",
    "df_valid.select('userId','state').distinct().groupby('state').count().show()"
   ]
  },
  {
   "cell_type": "markdown",
   "metadata": {},
   "source": [
    "#### Question: How is the proportion between Males and Females in our musical streaming service ? \n"
   ]
  },
  {
   "cell_type": "code",
   "execution_count": 71,
   "metadata": {},
   "outputs": [
    {
     "data": {
      "text/html": [
       "<div>\n",
       "<style scoped>\n",
       "    .dataframe tbody tr th:only-of-type {\n",
       "        vertical-align: middle;\n",
       "    }\n",
       "\n",
       "    .dataframe tbody tr th {\n",
       "        vertical-align: top;\n",
       "    }\n",
       "\n",
       "    .dataframe thead th {\n",
       "        text-align: right;\n",
       "    }\n",
       "</style>\n",
       "<table border=\"1\" class=\"dataframe\">\n",
       "  <thead>\n",
       "    <tr style=\"text-align: right;\">\n",
       "      <th></th>\n",
       "      <th>gender</th>\n",
       "      <th>count</th>\n",
       "    </tr>\n",
       "  </thead>\n",
       "  <tbody>\n",
       "    <tr>\n",
       "      <th>0</th>\n",
       "      <td>F</td>\n",
       "      <td>104</td>\n",
       "    </tr>\n",
       "    <tr>\n",
       "      <th>1</th>\n",
       "      <td>M</td>\n",
       "      <td>121</td>\n",
       "    </tr>\n",
       "  </tbody>\n",
       "</table>\n",
       "</div>"
      ],
      "text/plain": [
       "  gender  count\n",
       "0      F    104\n",
       "1      M    121"
      ]
     },
     "execution_count": 71,
     "metadata": {},
     "output_type": "execute_result"
    }
   ],
   "source": [
    "ngender = df_valid.select('gender','userId').distinct().groupby('gender').count().toPandas()\n",
    "ngender.head(5)"
   ]
  },
  {
   "cell_type": "code",
   "execution_count": 72,
   "metadata": {},
   "outputs": [
    {
     "data": {
      "image/png": "[encoded data removed]",
      "text/plain": [
       "<matplotlib.figure.Figure at 0x7fd8d4e214e0>"
      ]
     },
     "metadata": {
      "needs_background": "light"
     },
     "output_type": "display_data"
    }
   ],
   "source": [
    "# Let's plot this proportion with a graphic\n",
    "# and show the percentage above\n",
    "plt.figure(figsize = (7,7))\n",
    "plt.title('Number of Users by Gender & Percentage')\n",
    "ax = sns.barplot(x='gender', y='count',hue='gender', data=ngender);\n",
    "\n",
    "# this code is to calculate the percentage \n",
    "# and present the numbers above the bars and centered in the middle\n",
    "total = ngender.iloc[0]['count'] + ngender.iloc[1]['count']\n",
    "for p in ax.patches:\n",
    "    if p.get_height()>0:\n",
    "        percentage = '{:.1f}%'.format(100 * p.get_height()/total)\n",
    "        x = p.get_x() + p.get_width()/2.6\n",
    "        y = p.get_y() + p.get_height() + 0.7\n",
    "        ax.annotate(percentage, (x, y))\n",
    "\n",
    "plt.xticks(size=12)\n",
    "plt.xlabel('Gender',size=12)\n",
    "plt.yticks(size=12)\n",
    "plt.ylabel('Number of Users', size=12)\n",
    "plt.legend(title='Gender', loc='best');\n",
    "plt.savefig('Users_by_Gender.png')"
   ]
  },
  {
   "cell_type": "markdown",
   "metadata": {},
   "source": [
    "#### Our datasets contains 104 records corresponding to female clients (46.2%) and 121 (53.8%) corresponding to male clients\n"
   ]
  },
  {
   "cell_type": "markdown",
   "metadata": {},
   "source": [
    "#### Question: What about the level of the users? Is there a difference between male and female subscriptors?\n"
   ]
  },
  {
   "cell_type": "code",
   "execution_count": 73,
   "metadata": {},
   "outputs": [
    {
     "data": {
      "text/html": [
       "<div>\n",
       "<style scoped>\n",
       "    .dataframe tbody tr th:only-of-type {\n",
       "        vertical-align: middle;\n",
       "    }\n",
       "\n",
       "    .dataframe tbody tr th {\n",
       "        vertical-align: top;\n",
       "    }\n",
       "\n",
       "    .dataframe thead th {\n",
       "        text-align: right;\n",
       "    }\n",
       "</style>\n",
       "<table border=\"1\" class=\"dataframe\">\n",
       "  <thead>\n",
       "    <tr style=\"text-align: right;\">\n",
       "      <th></th>\n",
       "      <th>gender</th>\n",
       "      <th>level</th>\n",
       "      <th>count</th>\n",
       "    </tr>\n",
       "  </thead>\n",
       "  <tbody>\n",
       "    <tr>\n",
       "      <th>2</th>\n",
       "      <td>F</td>\n",
       "      <td>paid</td>\n",
       "      <td>79</td>\n",
       "    </tr>\n",
       "    <tr>\n",
       "      <th>3</th>\n",
       "      <td>M</td>\n",
       "      <td>paid</td>\n",
       "      <td>86</td>\n",
       "    </tr>\n",
       "    <tr>\n",
       "      <th>1</th>\n",
       "      <td>F</td>\n",
       "      <td>free</td>\n",
       "      <td>89</td>\n",
       "    </tr>\n",
       "    <tr>\n",
       "      <th>0</th>\n",
       "      <td>M</td>\n",
       "      <td>free</td>\n",
       "      <td>106</td>\n",
       "    </tr>\n",
       "  </tbody>\n",
       "</table>\n",
       "</div>"
      ],
      "text/plain": [
       "  gender level  count\n",
       "2      F  paid     79\n",
       "3      M  paid     86\n",
       "1      F  free     89\n",
       "0      M  free    106"
      ]
     },
     "execution_count": 73,
     "metadata": {},
     "output_type": "execute_result"
    }
   ],
   "source": [
    "# Now let's check the users by level of account and gender\n",
    "# As we are going to use some sns plots, we have to convert the datasets to Pandas\n",
    "df_gender_level = df_valid.select('userId','gender','level').distinct().groupby('gender','level').count().toPandas().sort_values(by='count')\n",
    "df_gender_level.head()"
   ]
  },
  {
   "cell_type": "markdown",
   "metadata": {},
   "source": [
    "#### For both free and paid services, the number of men is sligthly higher\n"
   ]
  },
  {
   "cell_type": "code",
   "execution_count": 74,
   "metadata": {},
   "outputs": [
    {
     "data": {
      "image/png": "[encoded data removed]",
      "text/plain": [
       "<matplotlib.figure.Figure at 0x7fd8d45ca748>"
      ]
     },
     "metadata": {
      "needs_background": "light"
     },
     "output_type": "display_data"
    }
   ],
   "source": [
    "plt.figure(figsize = (6,6))\n",
    "ax = sns.barplot(x='level', y='count',hue='gender', data=df_gender_level);\n",
    "\n",
    "plt.title('Number of Users by Gender & Percentage')\n",
    "\n",
    "plt.xlabel('Account level')\n",
    "plt.ylabel('Number of Users')\n",
    "plt.title('Level Account by Gender')\n",
    "plt.legend(title='Gender', loc='best');\n",
    "plt.savefig('Level_Account_by_Gender.png')"
   ]
  },
  {
   "cell_type": "markdown",
   "metadata": {},
   "source": [
    "This graphic shows that there are more users with a paid account. \n",
    "And most users are women."
   ]
  },
  {
   "cell_type": "markdown",
   "metadata": {},
   "source": [
    "#### Question: What about the location of the users? Does this feature affects on the level of service?"
   ]
  },
  {
   "cell_type": "code",
   "execution_count": 75,
   "metadata": {},
   "outputs": [
    {
     "data": {
      "image/png": "[encoded data removed]",
      "text/plain": [
       "<matplotlib.figure.Figure at 0x7fd8d41b94e0>"
      ]
     },
     "metadata": {
      "needs_background": "light"
     },
     "output_type": "display_data"
    }
   ],
   "source": [
    "df_location_level = df_valid.select('userId','state','level').groupby('state','level').count().orderBy(desc('count')).toPandas()\n",
    "fig = plt.figure(figsize=(15,6))\n",
    "plt.ylabel('Number of Users')\n",
    "ax = fig.gca()\n",
    "df_location_level.pivot(index='state', columns='level', values='count').plot(kind='bar', ax=ax)\n",
    "plt.title('Users and Account types by State')\n",
    "plt.savefig('df_state_level.png')"
   ]
  },
  {
   "cell_type": "markdown",
   "metadata": {},
   "source": [
    "The previous graphic shows there are more users (also with paid accounts) in California (CA), New York (NY) and Texas (TX)"
   ]
  },
  {
   "cell_type": "markdown",
   "metadata": {},
   "source": [
    "#### Question: What about the UserAgent? Is there a difference between subscriptors?"
   ]
  },
  {
   "cell_type": "code",
   "execution_count": 76,
   "metadata": {
    "scrolled": true
   },
   "outputs": [
    {
     "data": {
      "text/html": [
       "<div>\n",
       "<style scoped>\n",
       "    .dataframe tbody tr th:only-of-type {\n",
       "        vertical-align: middle;\n",
       "    }\n",
       "\n",
       "    .dataframe tbody tr th {\n",
       "        vertical-align: top;\n",
       "    }\n",
       "\n",
       "    .dataframe thead th {\n",
       "        text-align: right;\n",
       "    }\n",
       "</style>\n",
       "<table border=\"1\" class=\"dataframe\">\n",
       "  <thead>\n",
       "    <tr style=\"text-align: right;\">\n",
       "      <th></th>\n",
       "      <th>userAgent</th>\n",
       "      <th>count</th>\n",
       "    </tr>\n",
       "  </thead>\n",
       "  <tbody>\n",
       "    <tr>\n",
       "      <th>0</th>\n",
       "      <td>\"Mozilla/5.0 (Macintosh; Intel Mac OS X 10_8_5...</td>\n",
       "      <td>1</td>\n",
       "    </tr>\n",
       "    <tr>\n",
       "      <th>26</th>\n",
       "      <td>\"Mozilla/5.0 (Windows NT 6.1) AppleWebKit/537....</td>\n",
       "      <td>1</td>\n",
       "    </tr>\n",
       "    <tr>\n",
       "      <th>25</th>\n",
       "      <td>\"Mozilla/5.0 (Macintosh; Intel Mac OS X 10_7_5...</td>\n",
       "      <td>1</td>\n",
       "    </tr>\n",
       "    <tr>\n",
       "      <th>24</th>\n",
       "      <td>Mozilla/5.0 (Windows NT 6.0; rv:31.0) Gecko/20...</td>\n",
       "      <td>1</td>\n",
       "    </tr>\n",
       "    <tr>\n",
       "      <th>30</th>\n",
       "      <td>Mozilla/5.0 (X11; Linux x86_64; rv:31.0) Gecko...</td>\n",
       "      <td>1</td>\n",
       "    </tr>\n",
       "    <tr>\n",
       "      <th>22</th>\n",
       "      <td>\"Mozilla/5.0 (Macintosh; Intel Mac OS X 10_6_8...</td>\n",
       "      <td>1</td>\n",
       "    </tr>\n",
       "    <tr>\n",
       "      <th>20</th>\n",
       "      <td>\"Mozilla/5.0 (Windows NT 6.2; WOW64) AppleWebK...</td>\n",
       "      <td>1</td>\n",
       "    </tr>\n",
       "    <tr>\n",
       "      <th>18</th>\n",
       "      <td>\"Mozilla/5.0 (Macintosh; Intel Mac OS X 10_9_2...</td>\n",
       "      <td>1</td>\n",
       "    </tr>\n",
       "    <tr>\n",
       "      <th>17</th>\n",
       "      <td>\"Mozilla/5.0 (Macintosh; Intel Mac OS X 10_8_5...</td>\n",
       "      <td>1</td>\n",
       "    </tr>\n",
       "    <tr>\n",
       "      <th>16</th>\n",
       "      <td>Mozilla/5.0 (compatible; MSIE 10.0; Windows NT...</td>\n",
       "      <td>1</td>\n",
       "    </tr>\n",
       "    <tr>\n",
       "      <th>15</th>\n",
       "      <td>Mozilla/5.0 (compatible; MSIE 9.0; Windows NT ...</td>\n",
       "      <td>1</td>\n",
       "    </tr>\n",
       "    <tr>\n",
       "      <th>29</th>\n",
       "      <td>\"Mozilla/5.0 (Macintosh; Intel Mac OS X 10_9_3...</td>\n",
       "      <td>1</td>\n",
       "    </tr>\n",
       "    <tr>\n",
       "      <th>38</th>\n",
       "      <td>\"Mozilla/5.0 (iPad; CPU OS 7_1_1 like Mac OS X...</td>\n",
       "      <td>1</td>\n",
       "    </tr>\n",
       "    <tr>\n",
       "      <th>28</th>\n",
       "      <td>Mozilla/5.0 (Macintosh; Intel Mac OS X 10.6; r...</td>\n",
       "      <td>1</td>\n",
       "    </tr>\n",
       "    <tr>\n",
       "      <th>11</th>\n",
       "      <td>\"Mozilla/5.0 (Windows NT 5.1) AppleWebKit/537....</td>\n",
       "      <td>1</td>\n",
       "    </tr>\n",
       "    <tr>\n",
       "      <th>39</th>\n",
       "      <td>\"Mozilla/5.0 (Macintosh; Intel Mac OS X 10_10)...</td>\n",
       "      <td>1</td>\n",
       "    </tr>\n",
       "    <tr>\n",
       "      <th>41</th>\n",
       "      <td>Mozilla/5.0 (Windows NT 6.2; WOW64; rv:31.0) G...</td>\n",
       "      <td>1</td>\n",
       "    </tr>\n",
       "    <tr>\n",
       "      <th>43</th>\n",
       "      <td>Mozilla/5.0 (Windows NT 6.1; WOW64; rv:24.0) G...</td>\n",
       "      <td>1</td>\n",
       "    </tr>\n",
       "    <tr>\n",
       "      <th>6</th>\n",
       "      <td>Mozilla/5.0 (Windows NT 6.1; WOW64; rv:30.0) G...</td>\n",
       "      <td>1</td>\n",
       "    </tr>\n",
       "    <tr>\n",
       "      <th>45</th>\n",
       "      <td>\"Mozilla/5.0 (Macintosh; Intel Mac OS X 10_9_2...</td>\n",
       "      <td>1</td>\n",
       "    </tr>\n",
       "    <tr>\n",
       "      <th>2</th>\n",
       "      <td>Mozilla/5.0 (X11; Ubuntu; Linux i686; rv:31.0)...</td>\n",
       "      <td>1</td>\n",
       "    </tr>\n",
       "    <tr>\n",
       "      <th>53</th>\n",
       "      <td>Mozilla/5.0 (Macintosh; Intel Mac OS X 10.8; r...</td>\n",
       "      <td>1</td>\n",
       "    </tr>\n",
       "    <tr>\n",
       "      <th>12</th>\n",
       "      <td>\"Mozilla/5.0 (iPhone; CPU iPhone OS 7_1_1 like...</td>\n",
       "      <td>1</td>\n",
       "    </tr>\n",
       "    <tr>\n",
       "      <th>44</th>\n",
       "      <td>Mozilla/5.0 (Windows NT 6.1; WOW64; rv:32.0) G...</td>\n",
       "      <td>2</td>\n",
       "    </tr>\n",
       "    <tr>\n",
       "      <th>33</th>\n",
       "      <td>\"Mozilla/5.0 (Windows NT 6.1; WOW64) AppleWebK...</td>\n",
       "      <td>2</td>\n",
       "    </tr>\n",
       "    <tr>\n",
       "      <th>32</th>\n",
       "      <td>\"Mozilla/5.0 (Macintosh; Intel Mac OS X 10_7_5...</td>\n",
       "      <td>2</td>\n",
       "    </tr>\n",
       "    <tr>\n",
       "      <th>47</th>\n",
       "      <td>\"Mozilla/5.0 (X11; Linux x86_64) AppleWebKit/5...</td>\n",
       "      <td>2</td>\n",
       "    </tr>\n",
       "    <tr>\n",
       "      <th>48</th>\n",
       "      <td>\"Mozilla/5.0 (Macintosh; Intel Mac OS X 10_9_2...</td>\n",
       "      <td>2</td>\n",
       "    </tr>\n",
       "    <tr>\n",
       "      <th>34</th>\n",
       "      <td>\"Mozilla/5.0 (Macintosh; Intel Mac OS X 10_10)...</td>\n",
       "      <td>2</td>\n",
       "    </tr>\n",
       "    <tr>\n",
       "      <th>27</th>\n",
       "      <td>\"Mozilla/5.0 (Windows NT 6.2; WOW64) AppleWebK...</td>\n",
       "      <td>2</td>\n",
       "    </tr>\n",
       "    <tr>\n",
       "      <th>21</th>\n",
       "      <td>\"Mozilla/5.0 (iPad; CPU OS 7_1_2 like Mac OS X...</td>\n",
       "      <td>2</td>\n",
       "    </tr>\n",
       "    <tr>\n",
       "      <th>4</th>\n",
       "      <td>\"Mozilla/5.0 (Macintosh; Intel Mac OS X 10_9_4...</td>\n",
       "      <td>2</td>\n",
       "    </tr>\n",
       "    <tr>\n",
       "      <th>5</th>\n",
       "      <td>Mozilla/5.0 (Macintosh; Intel Mac OS X 10.7; r...</td>\n",
       "      <td>2</td>\n",
       "    </tr>\n",
       "    <tr>\n",
       "      <th>55</th>\n",
       "      <td>Mozilla/5.0 (Windows NT 6.1; rv:31.0) Gecko/20...</td>\n",
       "      <td>3</td>\n",
       "    </tr>\n",
       "    <tr>\n",
       "      <th>19</th>\n",
       "      <td>\"Mozilla/5.0 (Windows NT 6.1; WOW64) AppleWebK...</td>\n",
       "      <td>3</td>\n",
       "    </tr>\n",
       "    <tr>\n",
       "      <th>8</th>\n",
       "      <td>Mozilla/5.0 (compatible; MSIE 9.0; Windows NT ...</td>\n",
       "      <td>3</td>\n",
       "    </tr>\n",
       "    <tr>\n",
       "      <th>1</th>\n",
       "      <td>\"Mozilla/5.0 (Windows NT 5.1) AppleWebKit/537....</td>\n",
       "      <td>4</td>\n",
       "    </tr>\n",
       "    <tr>\n",
       "      <th>51</th>\n",
       "      <td>\"Mozilla/5.0 (iPhone; CPU iPhone OS 7_1 like M...</td>\n",
       "      <td>4</td>\n",
       "    </tr>\n",
       "    <tr>\n",
       "      <th>35</th>\n",
       "      <td>\"Mozilla/5.0 (X11; Linux x86_64) AppleWebKit/5...</td>\n",
       "      <td>4</td>\n",
       "    </tr>\n",
       "    <tr>\n",
       "      <th>36</th>\n",
       "      <td>\"Mozilla/5.0 (Windows NT 6.1) AppleWebKit/537....</td>\n",
       "      <td>4</td>\n",
       "    </tr>\n",
       "    <tr>\n",
       "      <th>37</th>\n",
       "      <td>Mozilla/5.0 (X11; Ubuntu; Linux x86_64; rv:31....</td>\n",
       "      <td>4</td>\n",
       "    </tr>\n",
       "    <tr>\n",
       "      <th>49</th>\n",
       "      <td>\"Mozilla/5.0 (Windows NT 6.1; WOW64) AppleWebK...</td>\n",
       "      <td>4</td>\n",
       "    </tr>\n",
       "    <tr>\n",
       "      <th>7</th>\n",
       "      <td>Mozilla/5.0 (Windows NT 6.3; WOW64; rv:31.0) G...</td>\n",
       "      <td>4</td>\n",
       "    </tr>\n",
       "    <tr>\n",
       "      <th>42</th>\n",
       "      <td>\"Mozilla/5.0 (Windows NT 6.3; WOW64) AppleWebK...</td>\n",
       "      <td>5</td>\n",
       "    </tr>\n",
       "    <tr>\n",
       "      <th>9</th>\n",
       "      <td>\"Mozilla/5.0 (Windows NT 6.3; WOW64) AppleWebK...</td>\n",
       "      <td>7</td>\n",
       "    </tr>\n",
       "    <tr>\n",
       "      <th>50</th>\n",
       "      <td>\"Mozilla/5.0 (Macintosh; Intel Mac OS X 10_9_4...</td>\n",
       "      <td>7</td>\n",
       "    </tr>\n",
       "    <tr>\n",
       "      <th>54</th>\n",
       "      <td>Mozilla/5.0 (Windows NT 6.1; WOW64; Trident/7....</td>\n",
       "      <td>7</td>\n",
       "    </tr>\n",
       "    <tr>\n",
       "      <th>46</th>\n",
       "      <td>\"Mozilla/5.0 (iPhone; CPU iPhone OS 7_1_2 like...</td>\n",
       "      <td>8</td>\n",
       "    </tr>\n",
       "    <tr>\n",
       "      <th>10</th>\n",
       "      <td>Mozilla/5.0 (Macintosh; Intel Mac OS X 10.9; r...</td>\n",
       "      <td>9</td>\n",
       "    </tr>\n",
       "    <tr>\n",
       "      <th>13</th>\n",
       "      <td>\"Mozilla/5.0 (Windows NT 6.1; WOW64) AppleWebK...</td>\n",
       "      <td>10</td>\n",
       "    </tr>\n",
       "    <tr>\n",
       "      <th>31</th>\n",
       "      <td>\"Mozilla/5.0 (Macintosh; Intel Mac OS X 10_9_4...</td>\n",
       "      <td>10</td>\n",
       "    </tr>\n",
       "    <tr>\n",
       "      <th>40</th>\n",
       "      <td>\"Mozilla/5.0 (Macintosh; Intel Mac OS X 10_9_4...</td>\n",
       "      <td>12</td>\n",
       "    </tr>\n",
       "    <tr>\n",
       "      <th>23</th>\n",
       "      <td>\"Mozilla/5.0 (Macintosh; Intel Mac OS X 10_9_4...</td>\n",
       "      <td>12</td>\n",
       "    </tr>\n",
       "    <tr>\n",
       "      <th>3</th>\n",
       "      <td>\"Mozilla/5.0 (Macintosh; Intel Mac OS X 10_9_4...</td>\n",
       "      <td>16</td>\n",
       "    </tr>\n",
       "    <tr>\n",
       "      <th>14</th>\n",
       "      <td>Mozilla/5.0 (Windows NT 6.1; WOW64; rv:31.0) G...</td>\n",
       "      <td>18</td>\n",
       "    </tr>\n",
       "    <tr>\n",
       "      <th>52</th>\n",
       "      <td>\"Mozilla/5.0 (Windows NT 6.1; WOW64) AppleWebK...</td>\n",
       "      <td>24</td>\n",
       "    </tr>\n",
       "  </tbody>\n",
       "</table>\n",
       "</div>"
      ],
      "text/plain": [
       "                                            userAgent  count\n",
       "0   \"Mozilla/5.0 (Macintosh; Intel Mac OS X 10_8_5...      1\n",
       "26  \"Mozilla/5.0 (Windows NT 6.1) AppleWebKit/537....      1\n",
       "25  \"Mozilla/5.0 (Macintosh; Intel Mac OS X 10_7_5...      1\n",
       "24  Mozilla/5.0 (Windows NT 6.0; rv:31.0) Gecko/20...      1\n",
       "30  Mozilla/5.0 (X11; Linux x86_64; rv:31.0) Gecko...      1\n",
       "22  \"Mozilla/5.0 (Macintosh; Intel Mac OS X 10_6_8...      1\n",
       "20  \"Mozilla/5.0 (Windows NT 6.2; WOW64) AppleWebK...      1\n",
       "18  \"Mozilla/5.0 (Macintosh; Intel Mac OS X 10_9_2...      1\n",
       "17  \"Mozilla/5.0 (Macintosh; Intel Mac OS X 10_8_5...      1\n",
       "16  Mozilla/5.0 (compatible; MSIE 10.0; Windows NT...      1\n",
       "15  Mozilla/5.0 (compatible; MSIE 9.0; Windows NT ...      1\n",
       "29  \"Mozilla/5.0 (Macintosh; Intel Mac OS X 10_9_3...      1\n",
       "38  \"Mozilla/5.0 (iPad; CPU OS 7_1_1 like Mac OS X...      1\n",
       "28  Mozilla/5.0 (Macintosh; Intel Mac OS X 10.6; r...      1\n",
       "11  \"Mozilla/5.0 (Windows NT 5.1) AppleWebKit/537....      1\n",
       "39  \"Mozilla/5.0 (Macintosh; Intel Mac OS X 10_10)...      1\n",
       "41  Mozilla/5.0 (Windows NT 6.2; WOW64; rv:31.0) G...      1\n",
       "43  Mozilla/5.0 (Windows NT 6.1; WOW64; rv:24.0) G...      1\n",
       "6   Mozilla/5.0 (Windows NT 6.1; WOW64; rv:30.0) G...      1\n",
       "45  \"Mozilla/5.0 (Macintosh; Intel Mac OS X 10_9_2...      1\n",
       "2   Mozilla/5.0 (X11; Ubuntu; Linux i686; rv:31.0)...      1\n",
       "53  Mozilla/5.0 (Macintosh; Intel Mac OS X 10.8; r...      1\n",
       "12  \"Mozilla/5.0 (iPhone; CPU iPhone OS 7_1_1 like...      1\n",
       "44  Mozilla/5.0 (Windows NT 6.1; WOW64; rv:32.0) G...      2\n",
       "33  \"Mozilla/5.0 (Windows NT 6.1; WOW64) AppleWebK...      2\n",
       "32  \"Mozilla/5.0 (Macintosh; Intel Mac OS X 10_7_5...      2\n",
       "47  \"Mozilla/5.0 (X11; Linux x86_64) AppleWebKit/5...      2\n",
       "48  \"Mozilla/5.0 (Macintosh; Intel Mac OS X 10_9_2...      2\n",
       "34  \"Mozilla/5.0 (Macintosh; Intel Mac OS X 10_10)...      2\n",
       "27  \"Mozilla/5.0 (Windows NT 6.2; WOW64) AppleWebK...      2\n",
       "21  \"Mozilla/5.0 (iPad; CPU OS 7_1_2 like Mac OS X...      2\n",
       "4   \"Mozilla/5.0 (Macintosh; Intel Mac OS X 10_9_4...      2\n",
       "5   Mozilla/5.0 (Macintosh; Intel Mac OS X 10.7; r...      2\n",
       "55  Mozilla/5.0 (Windows NT 6.1; rv:31.0) Gecko/20...      3\n",
       "19  \"Mozilla/5.0 (Windows NT 6.1; WOW64) AppleWebK...      3\n",
       "8   Mozilla/5.0 (compatible; MSIE 9.0; Windows NT ...      3\n",
       "1   \"Mozilla/5.0 (Windows NT 5.1) AppleWebKit/537....      4\n",
       "51  \"Mozilla/5.0 (iPhone; CPU iPhone OS 7_1 like M...      4\n",
       "35  \"Mozilla/5.0 (X11; Linux x86_64) AppleWebKit/5...      4\n",
       "36  \"Mozilla/5.0 (Windows NT 6.1) AppleWebKit/537....      4\n",
       "37  Mozilla/5.0 (X11; Ubuntu; Linux x86_64; rv:31....      4\n",
       "49  \"Mozilla/5.0 (Windows NT 6.1; WOW64) AppleWebK...      4\n",
       "7   Mozilla/5.0 (Windows NT 6.3; WOW64; rv:31.0) G...      4\n",
       "42  \"Mozilla/5.0 (Windows NT 6.3; WOW64) AppleWebK...      5\n",
       "9   \"Mozilla/5.0 (Windows NT 6.3; WOW64) AppleWebK...      7\n",
       "50  \"Mozilla/5.0 (Macintosh; Intel Mac OS X 10_9_4...      7\n",
       "54  Mozilla/5.0 (Windows NT 6.1; WOW64; Trident/7....      7\n",
       "46  \"Mozilla/5.0 (iPhone; CPU iPhone OS 7_1_2 like...      8\n",
       "10  Mozilla/5.0 (Macintosh; Intel Mac OS X 10.9; r...      9\n",
       "13  \"Mozilla/5.0 (Windows NT 6.1; WOW64) AppleWebK...     10\n",
       "31  \"Mozilla/5.0 (Macintosh; Intel Mac OS X 10_9_4...     10\n",
       "40  \"Mozilla/5.0 (Macintosh; Intel Mac OS X 10_9_4...     12\n",
       "23  \"Mozilla/5.0 (Macintosh; Intel Mac OS X 10_9_4...     12\n",
       "3   \"Mozilla/5.0 (Macintosh; Intel Mac OS X 10_9_4...     16\n",
       "14  Mozilla/5.0 (Windows NT 6.1; WOW64; rv:31.0) G...     18\n",
       "52  \"Mozilla/5.0 (Windows NT 6.1; WOW64) AppleWebK...     24"
      ]
     },
     "execution_count": 76,
     "metadata": {},
     "output_type": "execute_result"
    }
   ],
   "source": [
    "# Now let's see the different browsers the users login, that indicates different Operating Systems from users\n",
    "df_os = df_valid.select('userAgent','userId').distinct().groupby('userAgent').count().toPandas().sort_values(by='count')\n",
    "df_os"
   ]
  },
  {
   "cell_type": "code",
   "execution_count": 77,
   "metadata": {},
   "outputs": [
    {
     "data": {
      "text/html": [
       "<div>\n",
       "<style scoped>\n",
       "    .dataframe tbody tr th:only-of-type {\n",
       "        vertical-align: middle;\n",
       "    }\n",
       "\n",
       "    .dataframe tbody tr th {\n",
       "        vertical-align: top;\n",
       "    }\n",
       "\n",
       "    .dataframe thead th {\n",
       "        text-align: right;\n",
       "    }\n",
       "</style>\n",
       "<table border=\"1\" class=\"dataframe\">\n",
       "  <thead>\n",
       "    <tr style=\"text-align: right;\">\n",
       "      <th></th>\n",
       "      <th>userAgent</th>\n",
       "      <th>level</th>\n",
       "      <th>count</th>\n",
       "    </tr>\n",
       "  </thead>\n",
       "  <tbody>\n",
       "    <tr>\n",
       "      <th>75</th>\n",
       "      <td>\"Mozilla/5.0 (Macintosh; Intel Mac OS X 10_9_2...</td>\n",
       "      <td>free</td>\n",
       "      <td>5</td>\n",
       "    </tr>\n",
       "    <tr>\n",
       "      <th>87</th>\n",
       "      <td>Mozilla/5.0 (X11; Ubuntu; Linux i686; rv:31.0)...</td>\n",
       "      <td>free</td>\n",
       "      <td>25</td>\n",
       "    </tr>\n",
       "    <tr>\n",
       "      <th>65</th>\n",
       "      <td>Mozilla/5.0 (Macintosh; Intel Mac OS X 10.8; r...</td>\n",
       "      <td>free</td>\n",
       "      <td>35</td>\n",
       "    </tr>\n",
       "    <tr>\n",
       "      <th>94</th>\n",
       "      <td>Mozilla/5.0 (X11; Ubuntu; Linux i686; rv:31.0)...</td>\n",
       "      <td>paid</td>\n",
       "      <td>37</td>\n",
       "    </tr>\n",
       "    <tr>\n",
       "      <th>100</th>\n",
       "      <td>Mozilla/5.0 (Windows NT 6.1; WOW64; rv:24.0) G...</td>\n",
       "      <td>free</td>\n",
       "      <td>62</td>\n",
       "    </tr>\n",
       "  </tbody>\n",
       "</table>\n",
       "</div>"
      ],
      "text/plain": [
       "                                             userAgent level  count\n",
       "75   \"Mozilla/5.0 (Macintosh; Intel Mac OS X 10_9_2...  free      5\n",
       "87   Mozilla/5.0 (X11; Ubuntu; Linux i686; rv:31.0)...  free     25\n",
       "65   Mozilla/5.0 (Macintosh; Intel Mac OS X 10.8; r...  free     35\n",
       "94   Mozilla/5.0 (X11; Ubuntu; Linux i686; rv:31.0)...  paid     37\n",
       "100  Mozilla/5.0 (Windows NT 6.1; WOW64; rv:24.0) G...  free     62"
      ]
     },
     "execution_count": 77,
     "metadata": {},
     "output_type": "execute_result"
    }
   ],
   "source": [
    "df_userAgent_level = df_valid.select('userId','userAgent','level').groupby('userAgent','level').count().toPandas().sort_values(by='count')\n",
    "df_userAgent_level.head()"
   ]
  },
  {
   "cell_type": "code",
   "execution_count": 78,
   "metadata": {},
   "outputs": [],
   "source": [
    "# Maybe it's interesting augment our dataset with the device the users utilize our Sparkify service\n",
    "# let's map the operating system, through the Browser\n",
    "\n",
    "map = {'macintosh':'MAC', 'iphone':'IPHONE','ipad':'IPAD',\n",
    "       'x11':'LINUX','compatible':'WINDOWS',\n",
    "       'windows nt 5.0':'WINDOWS','windows nt 5.1':'WINDOWS',\n",
    "       'windows nt 6.1':'WINDOWS', 'windows nt 6.0':'WINDOWS',\n",
    "       'windows nt 6.2':'WINDOWS','windows nt 6.3':'WINDOWS'}\n",
    "\n",
    "classify_os = udf(lambda x: map[re.findall('\\(([^\\)]*)\\)', x)[0].split(';')[0].lower()])\n",
    "\n",
    "df_valid = df_valid.withColumn('OS', classify_os(df_valid.userAgent))"
   ]
  },
  {
   "cell_type": "code",
   "execution_count": 79,
   "metadata": {},
   "outputs": [
    {
     "data": {
      "text/html": [
       "<div>\n",
       "<style scoped>\n",
       "    .dataframe tbody tr th:only-of-type {\n",
       "        vertical-align: middle;\n",
       "    }\n",
       "\n",
       "    .dataframe tbody tr th {\n",
       "        vertical-align: top;\n",
       "    }\n",
       "\n",
       "    .dataframe thead th {\n",
       "        text-align: right;\n",
       "    }\n",
       "</style>\n",
       "<table border=\"1\" class=\"dataframe\">\n",
       "  <thead>\n",
       "    <tr style=\"text-align: right;\">\n",
       "      <th></th>\n",
       "      <th>OS</th>\n",
       "      <th>level</th>\n",
       "      <th>count</th>\n",
       "    </tr>\n",
       "  </thead>\n",
       "  <tbody>\n",
       "    <tr>\n",
       "      <th>0</th>\n",
       "      <td>WINDOWS</td>\n",
       "      <td>paid</td>\n",
       "      <td>115495</td>\n",
       "    </tr>\n",
       "    <tr>\n",
       "      <th>1</th>\n",
       "      <td>MAC</td>\n",
       "      <td>paid</td>\n",
       "      <td>82713</td>\n",
       "    </tr>\n",
       "    <tr>\n",
       "      <th>2</th>\n",
       "      <td>WINDOWS</td>\n",
       "      <td>free</td>\n",
       "      <td>28376</td>\n",
       "    </tr>\n",
       "    <tr>\n",
       "      <th>3</th>\n",
       "      <td>MAC</td>\n",
       "      <td>free</td>\n",
       "      <td>20036</td>\n",
       "    </tr>\n",
       "    <tr>\n",
       "      <th>4</th>\n",
       "      <td>IPAD</td>\n",
       "      <td>paid</td>\n",
       "      <td>9701</td>\n",
       "    </tr>\n",
       "    <tr>\n",
       "      <th>5</th>\n",
       "      <td>IPHONE</td>\n",
       "      <td>paid</td>\n",
       "      <td>7268</td>\n",
       "    </tr>\n",
       "    <tr>\n",
       "      <th>6</th>\n",
       "      <td>LINUX</td>\n",
       "      <td>paid</td>\n",
       "      <td>7256</td>\n",
       "    </tr>\n",
       "    <tr>\n",
       "      <th>7</th>\n",
       "      <td>IPHONE</td>\n",
       "      <td>free</td>\n",
       "      <td>3924</td>\n",
       "    </tr>\n",
       "    <tr>\n",
       "      <th>8</th>\n",
       "      <td>LINUX</td>\n",
       "      <td>free</td>\n",
       "      <td>1705</td>\n",
       "    </tr>\n",
       "    <tr>\n",
       "      <th>9</th>\n",
       "      <td>IPAD</td>\n",
       "      <td>free</td>\n",
       "      <td>1680</td>\n",
       "    </tr>\n",
       "  </tbody>\n",
       "</table>\n",
       "</div>"
      ],
      "text/plain": [
       "        OS level   count\n",
       "0  WINDOWS  paid  115495\n",
       "1      MAC  paid   82713\n",
       "2  WINDOWS  free   28376\n",
       "3      MAC  free   20036\n",
       "4     IPAD  paid    9701\n",
       "5   IPHONE  paid    7268\n",
       "6    LINUX  paid    7256\n",
       "7   IPHONE  free    3924\n",
       "8    LINUX  free    1705\n",
       "9     IPAD  free    1680"
      ]
     },
     "execution_count": 79,
     "metadata": {},
     "output_type": "execute_result"
    }
   ],
   "source": [
    "# And now we would like to know the count of OS's connections depending on the subscription level of the users\n",
    "df_os_level = df_valid.select('userId','OS','level').groupby('OS','level').count().orderBy(desc('count')).toPandas()\n",
    "df_os_level.head(15)"
   ]
  },
  {
   "cell_type": "code",
   "execution_count": 80,
   "metadata": {},
   "outputs": [
    {
     "data": {
      "text/html": [
       "<div>\n",
       "<style scoped>\n",
       "    .dataframe tbody tr th:only-of-type {\n",
       "        vertical-align: middle;\n",
       "    }\n",
       "\n",
       "    .dataframe tbody tr th {\n",
       "        vertical-align: top;\n",
       "    }\n",
       "\n",
       "    .dataframe thead th {\n",
       "        text-align: right;\n",
       "    }\n",
       "</style>\n",
       "<table border=\"1\" class=\"dataframe\">\n",
       "  <thead>\n",
       "    <tr style=\"text-align: right;\">\n",
       "      <th></th>\n",
       "      <th>OS</th>\n",
       "      <th>level</th>\n",
       "      <th>count</th>\n",
       "    </tr>\n",
       "  </thead>\n",
       "  <tbody>\n",
       "    <tr>\n",
       "      <th>0</th>\n",
       "      <td>WINDOWS</td>\n",
       "      <td>free</td>\n",
       "      <td>98</td>\n",
       "    </tr>\n",
       "    <tr>\n",
       "      <th>1</th>\n",
       "      <td>WINDOWS</td>\n",
       "      <td>paid</td>\n",
       "      <td>84</td>\n",
       "    </tr>\n",
       "    <tr>\n",
       "      <th>2</th>\n",
       "      <td>MAC</td>\n",
       "      <td>free</td>\n",
       "      <td>74</td>\n",
       "    </tr>\n",
       "    <tr>\n",
       "      <th>3</th>\n",
       "      <td>MAC</td>\n",
       "      <td>paid</td>\n",
       "      <td>60</td>\n",
       "    </tr>\n",
       "    <tr>\n",
       "      <th>4</th>\n",
       "      <td>IPHONE</td>\n",
       "      <td>free</td>\n",
       "      <td>12</td>\n",
       "    </tr>\n",
       "    <tr>\n",
       "      <th>5</th>\n",
       "      <td>LINUX</td>\n",
       "      <td>paid</td>\n",
       "      <td>10</td>\n",
       "    </tr>\n",
       "    <tr>\n",
       "      <th>6</th>\n",
       "      <td>LINUX</td>\n",
       "      <td>free</td>\n",
       "      <td>8</td>\n",
       "    </tr>\n",
       "    <tr>\n",
       "      <th>7</th>\n",
       "      <td>IPHONE</td>\n",
       "      <td>paid</td>\n",
       "      <td>8</td>\n",
       "    </tr>\n",
       "    <tr>\n",
       "      <th>8</th>\n",
       "      <td>IPAD</td>\n",
       "      <td>free</td>\n",
       "      <td>3</td>\n",
       "    </tr>\n",
       "    <tr>\n",
       "      <th>9</th>\n",
       "      <td>IPAD</td>\n",
       "      <td>paid</td>\n",
       "      <td>3</td>\n",
       "    </tr>\n",
       "  </tbody>\n",
       "</table>\n",
       "</div>"
      ],
      "text/plain": [
       "        OS level  count\n",
       "0  WINDOWS  free     98\n",
       "1  WINDOWS  paid     84\n",
       "2      MAC  free     74\n",
       "3      MAC  paid     60\n",
       "4   IPHONE  free     12\n",
       "5    LINUX  paid     10\n",
       "6    LINUX  free      8\n",
       "7   IPHONE  paid      8\n",
       "8     IPAD  free      3\n",
       "9     IPAD  paid      3"
      ]
     },
     "execution_count": 80,
     "metadata": {},
     "output_type": "execute_result"
    }
   ],
   "source": [
    "# But for unique userid's, what is the favourite OS?\n",
    "df_os_level = df_valid.select('userId','OS','level').distinct().groupby('OS','level').count().orderBy(desc('count')).toPandas()\n",
    "df_os_level.head(15)"
   ]
  },
  {
   "cell_type": "markdown",
   "metadata": {},
   "source": [
    "#### In the previous table, we can see that Windows is the favourite Operating Systems for both free and paid subscription\n",
    "#### And on the below table we can confirm by number of distinct users (remember there are 225 users during the time range of this analysis)"
   ]
  },
  {
   "cell_type": "code",
   "execution_count": 81,
   "metadata": {},
   "outputs": [
    {
     "data": {
      "text/html": [
       "<div>\n",
       "<style scoped>\n",
       "    .dataframe tbody tr th:only-of-type {\n",
       "        vertical-align: middle;\n",
       "    }\n",
       "\n",
       "    .dataframe tbody tr th {\n",
       "        vertical-align: top;\n",
       "    }\n",
       "\n",
       "    .dataframe thead th {\n",
       "        text-align: right;\n",
       "    }\n",
       "</style>\n",
       "<table border=\"1\" class=\"dataframe\">\n",
       "  <thead>\n",
       "    <tr style=\"text-align: right;\">\n",
       "      <th></th>\n",
       "      <th>OS</th>\n",
       "      <th>count</th>\n",
       "    </tr>\n",
       "  </thead>\n",
       "  <tbody>\n",
       "    <tr>\n",
       "      <th>0</th>\n",
       "      <td>WINDOWS</td>\n",
       "      <td>111</td>\n",
       "    </tr>\n",
       "    <tr>\n",
       "      <th>1</th>\n",
       "      <td>MAC</td>\n",
       "      <td>86</td>\n",
       "    </tr>\n",
       "    <tr>\n",
       "      <th>2</th>\n",
       "      <td>IPHONE</td>\n",
       "      <td>13</td>\n",
       "    </tr>\n",
       "    <tr>\n",
       "      <th>3</th>\n",
       "      <td>LINUX</td>\n",
       "      <td>12</td>\n",
       "    </tr>\n",
       "    <tr>\n",
       "      <th>4</th>\n",
       "      <td>IPAD</td>\n",
       "      <td>3</td>\n",
       "    </tr>\n",
       "  </tbody>\n",
       "</table>\n",
       "</div>"
      ],
      "text/plain": [
       "        OS  count\n",
       "0  WINDOWS    111\n",
       "1      MAC     86\n",
       "2   IPHONE     13\n",
       "3    LINUX     12\n",
       "4     IPAD      3"
      ]
     },
     "execution_count": 81,
     "metadata": {},
     "output_type": "execute_result"
    }
   ],
   "source": [
    "df_os_test = df_valid.select('userId','OS').distinct().groupby('OS').count().orderBy(desc('count')).toPandas()\n",
    "df_os_test.head(15)"
   ]
  },
  {
   "cell_type": "code",
   "execution_count": 82,
   "metadata": {},
   "outputs": [
    {
     "data": {
      "image/png": "[encoded data removed]",
      "text/plain": [
       "<matplotlib.figure.Figure at 0x7fd8d41022b0>"
      ]
     },
     "metadata": {
      "needs_background": "light"
     },
     "output_type": "display_data"
    }
   ],
   "source": [
    "# level subscription of the user by Operating System\n",
    "level_os = df_valid.dropDuplicates(['userId','OS','level']).groupby(['OS', 'level']).count().orderBy(desc('count')).toPandas()\n",
    "\n",
    "ax = sns.barplot(x='level', y='count',hue='OS', data=level_os);\n",
    "plt.xlabel('Subscription type')\n",
    "plt.ylabel('Number of Users')\n",
    "plt.title('What OS do Clients use by subscription type?')\n",
    "plt.legend(title='OS', loc='best');\n",
    "plt.savefig('df_OS_by_subscription_type.png')"
   ]
  },
  {
   "cell_type": "markdown",
   "metadata": {},
   "source": [
    "#### The above table shows graphically the OS the users connect to our Sparkify service, both for free and paid subscription"
   ]
  },
  {
   "cell_type": "markdown",
   "metadata": {},
   "source": [
    "#### Now let's see the number of songs a users listens to during the day (24 hours)"
   ]
  },
  {
   "cell_type": "code",
   "execution_count": 83,
   "metadata": {},
   "outputs": [],
   "source": [
    "songs_in_hour = df_valid.filter(df_valid.page == \"NextSong\").groupby(df_valid.hour).count().orderBy(df_valid.hour.cast(\"float\"))"
   ]
  },
  {
   "cell_type": "code",
   "execution_count": 84,
   "metadata": {},
   "outputs": [
    {
     "name": "stdout",
     "output_type": "stream",
     "text": [
      "+----+-----+\n",
      "|hour|count|\n",
      "+----+-----+\n",
      "|   0| 9062|\n",
      "|   1| 8388|\n",
      "|   2| 8336|\n",
      "|   3| 8355|\n",
      "|   4| 8147|\n",
      "|   5| 8178|\n",
      "|   6| 8054|\n",
      "|   7| 8091|\n",
      "|   8| 8253|\n",
      "|   9| 8498|\n",
      "|  10| 8882|\n",
      "|  11| 8830|\n",
      "|  12| 9326|\n",
      "|  13| 9644|\n",
      "|  14|10494|\n",
      "|  15|11354|\n",
      "|  16|11636|\n",
      "|  17|11460|\n",
      "|  18|11124|\n",
      "|  19|10930|\n",
      "+----+-----+\n",
      "only showing top 20 rows\n",
      "\n"
     ]
    }
   ],
   "source": [
    "songs_in_hour.show()"
   ]
  },
  {
   "cell_type": "code",
   "execution_count": 85,
   "metadata": {},
   "outputs": [],
   "source": [
    "songs_in_hour_pd = songs_in_hour.toPandas()\n",
    "songs_in_hour_pd.hour = pd.to_numeric(songs_in_hour_pd.hour)"
   ]
  },
  {
   "cell_type": "code",
   "execution_count": 86,
   "metadata": {},
   "outputs": [
    {
     "data": {
      "image/png": "[encoded data removed]",
      "text/plain": [
       "<matplotlib.figure.Figure at 0x7fd8d6401dd8>"
      ]
     },
     "metadata": {
      "needs_background": "light"
     },
     "output_type": "display_data"
    }
   ],
   "source": [
    "plt.scatter(songs_in_hour_pd[\"hour\"], songs_in_hour_pd[\"count\"])\n",
    "plt.xlabel(\"Hour\")\n",
    "plt.ylabel(\"Songs played\");"
   ]
  },
  {
   "cell_type": "code",
   "execution_count": 87,
   "metadata": {},
   "outputs": [
    {
     "data": {
      "image/png": "[encoded data removed]",
      "text/plain": [
       "<matplotlib.figure.Figure at 0x7fd8d656e0f0>"
      ]
     },
     "metadata": {
      "needs_background": "light"
     },
     "output_type": "display_data"
    }
   ],
   "source": [
    "sns.set_color_codes(\"pastel\")\n",
    "plt.figure(figsize=(10,5))\n",
    "sns.barplot(x='hour', y='count', data=songs_in_hour_pd, color=\"b\")\n",
    "plt.title('Number of Songs listened by hour')\n",
    "plt.ylabel('count');\n",
    "plt.savefig('df_number_songs_by_hour.png')"
   ]
  },
  {
   "cell_type": "code",
   "execution_count": 88,
   "metadata": {},
   "outputs": [],
   "source": [
    "# Now let's see if there are days when people listen more songs\n",
    "songs_in_days = df_valid.filter(df_valid.page == \"NextSong\").groupby(df_valid.day_of_month).count().orderBy(df_valid.day_of_month.cast(\"float\"))"
   ]
  },
  {
   "cell_type": "code",
   "execution_count": 89,
   "metadata": {},
   "outputs": [],
   "source": [
    "# Let's calculate how many songs people listen per month\n",
    "songs_in_days_pd = songs_in_days.toPandas()\n",
    "songs_in_days_pd.day_of_month = pd.to_numeric(songs_in_days_pd.day_of_month)"
   ]
  },
  {
   "cell_type": "code",
   "execution_count": 90,
   "metadata": {},
   "outputs": [
    {
     "data": {
      "text/html": [
       "<div>\n",
       "<style scoped>\n",
       "    .dataframe tbody tr th:only-of-type {\n",
       "        vertical-align: middle;\n",
       "    }\n",
       "\n",
       "    .dataframe tbody tr th {\n",
       "        vertical-align: top;\n",
       "    }\n",
       "\n",
       "    .dataframe thead th {\n",
       "        text-align: right;\n",
       "    }\n",
       "</style>\n",
       "<table border=\"1\" class=\"dataframe\">\n",
       "  <thead>\n",
       "    <tr style=\"text-align: right;\">\n",
       "      <th></th>\n",
       "      <th>day_of_month</th>\n",
       "      <th>count</th>\n",
       "    </tr>\n",
       "  </thead>\n",
       "  <tbody>\n",
       "    <tr>\n",
       "      <th>0</th>\n",
       "      <td>1</td>\n",
       "      <td>9187</td>\n",
       "    </tr>\n",
       "    <tr>\n",
       "      <th>1</th>\n",
       "      <td>2</td>\n",
       "      <td>9646</td>\n",
       "    </tr>\n",
       "    <tr>\n",
       "      <th>2</th>\n",
       "      <td>3</td>\n",
       "      <td>6411</td>\n",
       "    </tr>\n",
       "    <tr>\n",
       "      <th>3</th>\n",
       "      <td>4</td>\n",
       "      <td>5729</td>\n",
       "    </tr>\n",
       "    <tr>\n",
       "      <th>4</th>\n",
       "      <td>5</td>\n",
       "      <td>6866</td>\n",
       "    </tr>\n",
       "    <tr>\n",
       "      <th>5</th>\n",
       "      <td>6</td>\n",
       "      <td>6796</td>\n",
       "    </tr>\n",
       "    <tr>\n",
       "      <th>6</th>\n",
       "      <td>7</td>\n",
       "      <td>5917</td>\n",
       "    </tr>\n",
       "    <tr>\n",
       "      <th>7</th>\n",
       "      <td>8</td>\n",
       "      <td>7390</td>\n",
       "    </tr>\n",
       "    <tr>\n",
       "      <th>8</th>\n",
       "      <td>9</td>\n",
       "      <td>9217</td>\n",
       "    </tr>\n",
       "    <tr>\n",
       "      <th>9</th>\n",
       "      <td>10</td>\n",
       "      <td>7791</td>\n",
       "    </tr>\n",
       "    <tr>\n",
       "      <th>10</th>\n",
       "      <td>11</td>\n",
       "      <td>6849</td>\n",
       "    </tr>\n",
       "    <tr>\n",
       "      <th>11</th>\n",
       "      <td>12</td>\n",
       "      <td>7314</td>\n",
       "    </tr>\n",
       "    <tr>\n",
       "      <th>12</th>\n",
       "      <td>13</td>\n",
       "      <td>6465</td>\n",
       "    </tr>\n",
       "    <tr>\n",
       "      <th>13</th>\n",
       "      <td>14</td>\n",
       "      <td>5876</td>\n",
       "    </tr>\n",
       "    <tr>\n",
       "      <th>14</th>\n",
       "      <td>15</td>\n",
       "      <td>8947</td>\n",
       "    </tr>\n",
       "    <tr>\n",
       "      <th>15</th>\n",
       "      <td>16</td>\n",
       "      <td>9056</td>\n",
       "    </tr>\n",
       "    <tr>\n",
       "      <th>16</th>\n",
       "      <td>17</td>\n",
       "      <td>6243</td>\n",
       "    </tr>\n",
       "    <tr>\n",
       "      <th>17</th>\n",
       "      <td>18</td>\n",
       "      <td>6292</td>\n",
       "    </tr>\n",
       "    <tr>\n",
       "      <th>18</th>\n",
       "      <td>19</td>\n",
       "      <td>8389</td>\n",
       "    </tr>\n",
       "    <tr>\n",
       "      <th>19</th>\n",
       "      <td>20</td>\n",
       "      <td>8995</td>\n",
       "    </tr>\n",
       "    <tr>\n",
       "      <th>20</th>\n",
       "      <td>21</td>\n",
       "      <td>7751</td>\n",
       "    </tr>\n",
       "    <tr>\n",
       "      <th>21</th>\n",
       "      <td>22</td>\n",
       "      <td>6577</td>\n",
       "    </tr>\n",
       "    <tr>\n",
       "      <th>22</th>\n",
       "      <td>23</td>\n",
       "      <td>8133</td>\n",
       "    </tr>\n",
       "    <tr>\n",
       "      <th>23</th>\n",
       "      <td>24</td>\n",
       "      <td>6750</td>\n",
       "    </tr>\n",
       "    <tr>\n",
       "      <th>24</th>\n",
       "      <td>25</td>\n",
       "      <td>6430</td>\n",
       "    </tr>\n",
       "    <tr>\n",
       "      <th>25</th>\n",
       "      <td>26</td>\n",
       "      <td>8298</td>\n",
       "    </tr>\n",
       "    <tr>\n",
       "      <th>26</th>\n",
       "      <td>27</td>\n",
       "      <td>7947</td>\n",
       "    </tr>\n",
       "    <tr>\n",
       "      <th>27</th>\n",
       "      <td>28</td>\n",
       "      <td>5567</td>\n",
       "    </tr>\n",
       "    <tr>\n",
       "      <th>28</th>\n",
       "      <td>29</td>\n",
       "      <td>8013</td>\n",
       "    </tr>\n",
       "    <tr>\n",
       "      <th>29</th>\n",
       "      <td>30</td>\n",
       "      <td>9048</td>\n",
       "    </tr>\n",
       "    <tr>\n",
       "      <th>30</th>\n",
       "      <td>31</td>\n",
       "      <td>4218</td>\n",
       "    </tr>\n",
       "  </tbody>\n",
       "</table>\n",
       "</div>"
      ],
      "text/plain": [
       "    day_of_month  count\n",
       "0              1   9187\n",
       "1              2   9646\n",
       "2              3   6411\n",
       "3              4   5729\n",
       "4              5   6866\n",
       "5              6   6796\n",
       "6              7   5917\n",
       "7              8   7390\n",
       "8              9   9217\n",
       "9             10   7791\n",
       "10            11   6849\n",
       "11            12   7314\n",
       "12            13   6465\n",
       "13            14   5876\n",
       "14            15   8947\n",
       "15            16   9056\n",
       "16            17   6243\n",
       "17            18   6292\n",
       "18            19   8389\n",
       "19            20   8995\n",
       "20            21   7751\n",
       "21            22   6577\n",
       "22            23   8133\n",
       "23            24   6750\n",
       "24            25   6430\n",
       "25            26   8298\n",
       "26            27   7947\n",
       "27            28   5567\n",
       "28            29   8013\n",
       "29            30   9048\n",
       "30            31   4218"
      ]
     },
     "execution_count": 90,
     "metadata": {},
     "output_type": "execute_result"
    }
   ],
   "source": [
    "songs_in_days_pd"
   ]
  },
  {
   "cell_type": "code",
   "execution_count": 91,
   "metadata": {},
   "outputs": [
    {
     "data": {
      "image/png": "[encoded data removed]",
      "text/plain": [
       "<matplotlib.figure.Figure at 0x7fd8d62a6668>"
      ]
     },
     "metadata": {
      "needs_background": "light"
     },
     "output_type": "display_data"
    }
   ],
   "source": [
    "# And show these numbers with a nice plot\n",
    "sns.set_color_codes(\"pastel\")\n",
    "plt.figure(figsize=(10,5))\n",
    "sns.barplot(x='day_of_month', y='count', data=songs_in_days_pd, color=\"g\")\n",
    "plt.title('Number of Songs listened by day of month')\n",
    "plt.ylabel('count');\n",
    "plt.savefig('df_number_songs_by_day_of_month.png')"
   ]
  },
  {
   "cell_type": "code",
   "execution_count": 92,
   "metadata": {},
   "outputs": [],
   "source": [
    "#### Question: Is there a day of week when users listen more songs?"
   ]
  },
  {
   "cell_type": "code",
   "execution_count": 93,
   "metadata": {},
   "outputs": [],
   "source": [
    "# Let's prepare the query\n",
    "songs_in_weekdays = df_valid.filter(df_valid.page == \"NextSong\").groupby(df_valid.day_of_week).count().orderBy(df_valid.day_of_week)"
   ]
  },
  {
   "cell_type": "code",
   "execution_count": 94,
   "metadata": {},
   "outputs": [],
   "source": [
    "# and convert it to pandas to display \n",
    "songs_in_weekdays_pd = songs_in_weekdays.toPandas()\n",
    "songs_in_weekdays.day_of_week = pd.to_numeric(songs_in_weekdays_pd.day_of_week)"
   ]
  },
  {
   "cell_type": "code",
   "execution_count": 95,
   "metadata": {},
   "outputs": [
    {
     "name": "stdout",
     "output_type": "stream",
     "text": [
      "+-----------+-----+\n",
      "|day_of_week|count|\n",
      "+-----------+-----+\n",
      "|          0|17370|\n",
      "|          1|35373|\n",
      "|          2|38830|\n",
      "|          3|37675|\n",
      "|          4|36300|\n",
      "|          5|39514|\n",
      "|          6|23046|\n",
      "+-----------+-----+\n",
      "\n"
     ]
    }
   ],
   "source": [
    "songs_in_weekdays.show()"
   ]
  },
  {
   "cell_type": "code",
   "execution_count": 96,
   "metadata": {},
   "outputs": [
    {
     "data": {
      "image/png": "[encoded data removed]",
      "text/plain": [
       "<matplotlib.figure.Figure at 0x7fd8d618bb70>"
      ]
     },
     "metadata": {
      "needs_background": "light"
     },
     "output_type": "display_data"
    }
   ],
   "source": [
    "# And plot with a barplot\n",
    "sns.set_color_codes(\"pastel\")\n",
    "plt.figure(figsize=(10,5))\n",
    "sns.barplot(x='day_of_week', y='count', data=songs_in_weekdays_pd, color=\"y\")\n",
    "plt.title('Number of Songs listened by day of week')\n",
    "plt.ylabel('count');\n",
    "plt.savefig('df_number_songs_by_day_of_week.png')"
   ]
  },
  {
   "cell_type": "markdown",
   "metadata": {},
   "source": [
    "##### It seems that users prefer weekdays to use the service\n"
   ]
  },
  {
   "cell_type": "code",
   "execution_count": 97,
   "metadata": {},
   "outputs": [],
   "source": [
    "#### With the graphic above, we cannot see a behavioural pattern \n"
   ]
  },
  {
   "cell_type": "markdown",
   "metadata": {},
   "source": [
    "# Users Downgrade Their Accounts\n",
    "\n",
    "To find when users downgrade their accounts, let's use a window function and cumulative sum to distinguish each user's data as either pre or post downgrade events and then flag those log entries"
   ]
  },
  {
   "cell_type": "markdown",
   "metadata": {},
   "source": [
    "### Now let's calculate the users who downgrade the service, that is, the users that downgraded or cancellate the service"
   ]
  },
  {
   "cell_type": "code",
   "execution_count": 98,
   "metadata": {},
   "outputs": [],
   "source": [
    "downgrade_select = udf(lambda x: 1 if x == 'Submit Downgrade' else 0, IntegerType())"
   ]
  },
  {
   "cell_type": "code",
   "execution_count": 99,
   "metadata": {},
   "outputs": [],
   "source": [
    "df_valid = df_valid.withColumn('downgrade_select', downgrade_select('page'))"
   ]
  },
  {
   "cell_type": "code",
   "execution_count": 100,
   "metadata": {},
   "outputs": [
    {
     "name": "stdout",
     "output_type": "stream",
     "text": [
      "root\n",
      " |-- artist: string (nullable = true)\n",
      " |-- auth: string (nullable = true)\n",
      " |-- firstName: string (nullable = true)\n",
      " |-- gender: string (nullable = true)\n",
      " |-- itemInSession: long (nullable = true)\n",
      " |-- lastName: string (nullable = true)\n",
      " |-- length: double (nullable = true)\n",
      " |-- level: string (nullable = true)\n",
      " |-- location: string (nullable = true)\n",
      " |-- method: string (nullable = true)\n",
      " |-- page: string (nullable = true)\n",
      " |-- registration: long (nullable = true)\n",
      " |-- sessionId: long (nullable = true)\n",
      " |-- song: string (nullable = true)\n",
      " |-- status: long (nullable = true)\n",
      " |-- ts: long (nullable = true)\n",
      " |-- userAgent: string (nullable = true)\n",
      " |-- userId: string (nullable = true)\n",
      " |-- state: string (nullable = true)\n",
      " |-- registration_time: string (nullable = true)\n",
      " |-- date: string (nullable = true)\n",
      " |-- month: string (nullable = true)\n",
      " |-- day_of_month: string (nullable = true)\n",
      " |-- hour: string (nullable = true)\n",
      " |-- day_of_week: string (nullable = true)\n",
      " |-- subscription_days: double (nullable = true)\n",
      " |-- OS: string (nullable = true)\n",
      " |-- downgrade_select: integer (nullable = true)\n",
      "\n"
     ]
    }
   ],
   "source": [
    "df_valid.printSchema()"
   ]
  },
  {
   "cell_type": "markdown",
   "metadata": {},
   "source": [
    "###### With the previous commands, we get only the time when the user downgraded, \n",
    "###### but we would like to have the information of that user from the beginning"
   ]
  },
  {
   "cell_type": "code",
   "execution_count": 101,
   "metadata": {},
   "outputs": [],
   "source": [
    "# We need to have all information from users that have downgraded Sparkify service\n",
    "# so we need to save an interval of time\n",
    "windowSpec  = Window.partitionBy('userId')\n",
    "\n",
    "df_valid = df_valid.withColumn('will_downgrade', max('downgrade_select').over(windowSpec))"
   ]
  },
  {
   "cell_type": "code",
   "execution_count": 102,
   "metadata": {},
   "outputs": [
    {
     "data": {
      "text/html": [
       "<div>\n",
       "<style scoped>\n",
       "    .dataframe tbody tr th:only-of-type {\n",
       "        vertical-align: middle;\n",
       "    }\n",
       "\n",
       "    .dataframe tbody tr th {\n",
       "        vertical-align: top;\n",
       "    }\n",
       "\n",
       "    .dataframe thead th {\n",
       "        text-align: right;\n",
       "    }\n",
       "</style>\n",
       "<table border=\"1\" class=\"dataframe\">\n",
       "  <thead>\n",
       "    <tr style=\"text-align: right;\">\n",
       "      <th></th>\n",
       "      <th>gender</th>\n",
       "      <th>downgrade_select</th>\n",
       "      <th>count</th>\n",
       "    </tr>\n",
       "  </thead>\n",
       "  <tbody>\n",
       "    <tr>\n",
       "      <th>0</th>\n",
       "      <td>M</td>\n",
       "      <td>1</td>\n",
       "      <td>21</td>\n",
       "    </tr>\n",
       "    <tr>\n",
       "      <th>2</th>\n",
       "      <td>F</td>\n",
       "      <td>1</td>\n",
       "      <td>28</td>\n",
       "    </tr>\n",
       "    <tr>\n",
       "      <th>1</th>\n",
       "      <td>F</td>\n",
       "      <td>0</td>\n",
       "      <td>104</td>\n",
       "    </tr>\n",
       "    <tr>\n",
       "      <th>3</th>\n",
       "      <td>M</td>\n",
       "      <td>0</td>\n",
       "      <td>121</td>\n",
       "    </tr>\n",
       "  </tbody>\n",
       "</table>\n",
       "</div>"
      ],
      "text/plain": [
       "  gender  downgrade_select  count\n",
       "0      M                 1     21\n",
       "2      F                 1     28\n",
       "1      F                 0    104\n",
       "3      M                 0    121"
      ]
     },
     "execution_count": 102,
     "metadata": {},
     "output_type": "execute_result"
    }
   ],
   "source": [
    "df_downgrade = df_valid.select('userId','gender','downgrade_select').distinct().groupby('gender','downgrade_select').count().toPandas().sort_values(by='count')\n",
    "df_downgrade.head()"
   ]
  },
  {
   "cell_type": "markdown",
   "metadata": {},
   "source": [
    "#### Women are slightly more likely to downgrade than men"
   ]
  },
  {
   "cell_type": "code",
   "execution_count": 103,
   "metadata": {},
   "outputs": [
    {
     "data": {
      "text/html": [
       "<div>\n",
       "<style scoped>\n",
       "    .dataframe tbody tr th:only-of-type {\n",
       "        vertical-align: middle;\n",
       "    }\n",
       "\n",
       "    .dataframe tbody tr th {\n",
       "        vertical-align: top;\n",
       "    }\n",
       "\n",
       "    .dataframe thead th {\n",
       "        text-align: right;\n",
       "    }\n",
       "</style>\n",
       "<table border=\"1\" class=\"dataframe\">\n",
       "  <thead>\n",
       "    <tr style=\"text-align: right;\">\n",
       "      <th></th>\n",
       "      <th>level</th>\n",
       "      <th>downgrade_select</th>\n",
       "      <th>count</th>\n",
       "    </tr>\n",
       "  </thead>\n",
       "  <tbody>\n",
       "    <tr>\n",
       "      <th>2</th>\n",
       "      <td>paid</td>\n",
       "      <td>1</td>\n",
       "      <td>49</td>\n",
       "    </tr>\n",
       "    <tr>\n",
       "      <th>0</th>\n",
       "      <td>paid</td>\n",
       "      <td>0</td>\n",
       "      <td>165</td>\n",
       "    </tr>\n",
       "    <tr>\n",
       "      <th>1</th>\n",
       "      <td>free</td>\n",
       "      <td>0</td>\n",
       "      <td>195</td>\n",
       "    </tr>\n",
       "  </tbody>\n",
       "</table>\n",
       "</div>"
      ],
      "text/plain": [
       "  level  downgrade_select  count\n",
       "2  paid                 1     49\n",
       "0  paid                 0    165\n",
       "1  free                 0    195"
      ]
     },
     "execution_count": 103,
     "metadata": {},
     "output_type": "execute_result"
    }
   ],
   "source": [
    "df_downgrade_level = df_valid.select('userId','level','downgrade_select').distinct().groupby('level','downgrade_select').count().toPandas().sort_values(by='count')\n",
    "df_downgrade_level.head()"
   ]
  },
  {
   "cell_type": "markdown",
   "metadata": {},
   "source": [
    "# Now let's calculate the users who churn, that is, the users that confirmed cancellation"
   ]
  },
  {
   "cell_type": "code",
   "execution_count": 104,
   "metadata": {},
   "outputs": [],
   "source": [
    "churn_confirmation = udf(lambda x: 1 if x == \"Cancellation Confirmation\" else 0, IntegerType())\n",
    "df_valid = df_valid.withColumn(\"churn\", churn_confirmation(df_valid.page))\n",
    "df_users_churned = df_valid.withColumn(\"churned\", churn_confirmation(\"page\"))"
   ]
  },
  {
   "cell_type": "code",
   "execution_count": 105,
   "metadata": {},
   "outputs": [],
   "source": [
    "df_valid = df_valid.withColumn('will_churn', max('churn').over(windowSpec))"
   ]
  },
  {
   "cell_type": "code",
   "execution_count": 106,
   "metadata": {},
   "outputs": [
    {
     "name": "stdout",
     "output_type": "stream",
     "text": [
      "root\n",
      " |-- artist: string (nullable = true)\n",
      " |-- auth: string (nullable = true)\n",
      " |-- firstName: string (nullable = true)\n",
      " |-- gender: string (nullable = true)\n",
      " |-- itemInSession: long (nullable = true)\n",
      " |-- lastName: string (nullable = true)\n",
      " |-- length: double (nullable = true)\n",
      " |-- level: string (nullable = true)\n",
      " |-- location: string (nullable = true)\n",
      " |-- method: string (nullable = true)\n",
      " |-- page: string (nullable = true)\n",
      " |-- registration: long (nullable = true)\n",
      " |-- sessionId: long (nullable = true)\n",
      " |-- song: string (nullable = true)\n",
      " |-- status: long (nullable = true)\n",
      " |-- ts: long (nullable = true)\n",
      " |-- userAgent: string (nullable = true)\n",
      " |-- userId: string (nullable = true)\n",
      " |-- state: string (nullable = true)\n",
      " |-- registration_time: string (nullable = true)\n",
      " |-- date: string (nullable = true)\n",
      " |-- month: string (nullable = true)\n",
      " |-- day_of_month: string (nullable = true)\n",
      " |-- hour: string (nullable = true)\n",
      " |-- day_of_week: string (nullable = true)\n",
      " |-- subscription_days: double (nullable = true)\n",
      " |-- OS: string (nullable = true)\n",
      " |-- downgrade_select: integer (nullable = true)\n",
      " |-- will_downgrade: integer (nullable = true)\n",
      " |-- churn: integer (nullable = true)\n",
      " |-- will_churn: integer (nullable = true)\n",
      "\n"
     ]
    }
   ],
   "source": [
    "# Let's remember the schema of the data\n",
    "df_valid.printSchema()"
   ]
  },
  {
   "cell_type": "markdown",
   "metadata": {},
   "source": [
    "### Question: How many users churned? And what's the rate of churned users vs the total number of users ? "
   ]
  },
  {
   "cell_type": "code",
   "execution_count": 107,
   "metadata": {},
   "outputs": [
    {
     "name": "stdout",
     "output_type": "stream",
     "text": [
      "Number of users who churned: 52 vs Total Users: 225\n",
      "Percentage of users who churned: 23.11%\n"
     ]
    }
   ],
   "source": [
    "# Let's count the number of user cancellations (churns) --> there are 52 users who have cancel the service\n",
    "users_churned = df_users_churned.filter(df_users_churned[\"churned\"] ==1).count()\n",
    "# Let's calculate the total number of users\n",
    "total_users = df_valid.select('userId').distinct().count()\n",
    "# Let's calculate the percentage\n",
    "percentage_churn = df_users_churned.groupby(\"userId\").agg({\"churned\":\"sum\"}).select(avg(\"sum(churned)\")).collect()[0][\"avg(sum(churned))\"]\n",
    "\n",
    "print(\"Number of users who churned: {} vs Total Users: {}\".format(users_churned, total_users))\n",
    "print(\"Percentage of users who churned: {:.2f}%\".format(percentage_churn * 100))"
   ]
  },
  {
   "cell_type": "markdown",
   "metadata": {},
   "source": [
    "##### With those numbers, we can affirm that we have an imbalanced dataset...."
   ]
  },
  {
   "cell_type": "code",
   "execution_count": 108,
   "metadata": {},
   "outputs": [
    {
     "name": "stdout",
     "output_type": "stream",
     "text": [
      "+------+------+-----+------------+-------------+\n",
      "|userId|gender|level|       state|           ts|\n",
      "+------+------+-----+------------+-------------+\n",
      "|100011|     M| free|          OR|1538417085000|\n",
      "|100001|     F| free|          FL|1538498205000|\n",
      "|100024|     M| free|    NY-NJ-PA|1538695038000|\n",
      "|300007|     M| paid|          AZ|1538705338000|\n",
      "|100006|     F| free|          MI|1538753070000|\n",
      "|    18|     M| paid|       MO-KS|1538943990000|\n",
      "|100019|     M| free|          WA|1538953071000|\n",
      "|    32|     M| paid|          AZ|1539033046000|\n",
      "|100003|     F| free|          FL|1539274781000|\n",
      "|   125|     M| free|          TX|1539318918000|\n",
      "|   105|     M| paid|          IN|1539375441000|\n",
      "|    17|     F| paid| PA-NJ-DE-MD|1539465584000|\n",
      "|100023|     M| paid|          SC|1539475237000|\n",
      "|   143|     F| free|       VA-NC|1539588854000|\n",
      "|200001|     M| free| DC-VA-MD-WV|1539629720000|\n",
      "|   101|     M| paid|          CO|1539729037000|\n",
      "|   129|     M| paid|          MI|1539736161000|\n",
      "|   121|     M| paid|          CA|1539759749000|\n",
      "|    51|     M| paid|          KY|1539761972000|\n",
      "|100005|     M| free|          LA|1539971825000|\n",
      "+------+------+-----+------------+-------------+\n",
      "only showing top 20 rows\n",
      "\n"
     ]
    }
   ],
   "source": [
    "# Let's see some details of the users who churned\n",
    "df_users_churned.select([\"userId\", \"gender\", \"level\", \"state\", \"ts\"]).where(df_valid.churn == 1).sort(\"ts\").show(20)"
   ]
  },
  {
   "cell_type": "code",
   "execution_count": 109,
   "metadata": {},
   "outputs": [
    {
     "name": "stdout",
     "output_type": "stream",
     "text": [
      "Number of users who churned:    churn  count\n",
      "0      1     52\n",
      "1      0    225 \n"
     ]
    }
   ],
   "source": [
    "# Let's drop the UserId duplicates and then count the users who churned\n",
    "# And prepare the data to be plotted with a sns, so we need to convert to a Pandas Dataframe\n",
    "total_churn = df_valid.dropDuplicates(['userId','churn']).groupby(['churn']).count().toPandas()\n",
    "print(\"Number of users who churned: {} \".format(total_churn))"
   ]
  },
  {
   "cell_type": "code",
   "execution_count": 110,
   "metadata": {},
   "outputs": [
    {
     "data": {
      "image/png": "[encoded data removed]",
      "text/plain": [
       "<matplotlib.figure.Figure at 0x7fd8d513c6a0>"
      ]
     },
     "metadata": {
      "needs_background": "light"
     },
     "output_type": "display_data"
    }
   ],
   "source": [
    "# We like to see it graphically\n",
    "sns.barplot(x='churn', y='count', data=total_churn);\n",
    "plt.xlabel('Churn')\n",
    "plt.ylabel('Number of Users')\n",
    "plt.title('The number of Users who churned or not')\n",
    "plt.legend(title='Churn', loc='best');\n",
    "plt.savefig('Users_who_churned.png')"
   ]
  },
  {
   "cell_type": "markdown",
   "metadata": {},
   "source": [
    "#### Question: Is there a difference in the gender between the users who churned and who did not churn? \n"
   ]
  },
  {
   "cell_type": "code",
   "execution_count": 111,
   "metadata": {},
   "outputs": [
    {
     "name": "stdout",
     "output_type": "stream",
     "text": [
      "+------+-----+-----+\n",
      "|gender|churn|count|\n",
      "+------+-----+-----+\n",
      "|     M|    1|   32|\n",
      "|     F|    0|  104|\n",
      "|     F|    1|   20|\n",
      "|     M|    0|  121|\n",
      "+------+-----+-----+\n",
      "\n"
     ]
    }
   ],
   "source": [
    "# Let's see the churn flag and also the gender\n",
    "df_churn_gender = df_valid.select('userId','gender','churn').distinct().groupby('gender','churn').count().show()"
   ]
  },
  {
   "cell_type": "code",
   "execution_count": 112,
   "metadata": {},
   "outputs": [],
   "source": [
    "# Let's prepare a query, convert the sorted data to pandas \n",
    "df_churn_gender = df_valid.select('userId','gender','churn').distinct().groupby('gender','churn').count().toPandas().sort_values(by='count')"
   ]
  },
  {
   "cell_type": "code",
   "execution_count": 113,
   "metadata": {},
   "outputs": [
    {
     "data": {
      "image/png": "[encoded data removed]",
      "text/plain": [
       "<matplotlib.figure.Figure at 0x7fd8d60486a0>"
      ]
     },
     "metadata": {
      "needs_background": "light"
     },
     "output_type": "display_data"
    }
   ],
   "source": [
    "sns.barplot(x='gender', y='count',hue='churn', data=df_churn_gender);\n",
    "plt.xlabel('Gender')\n",
    "plt.ylabel('Number of Users')\n",
    "plt.title('Gender by Churn')\n",
    "plt.legend(title='Churn', loc='best');\n",
    "plt.savefig('Gender by Churn.png')"
   ]
  },
  {
   "cell_type": "markdown",
   "metadata": {},
   "source": [
    "#### Question: Is there a difference in the subscription type between the users who churned and who did not churn? \n"
   ]
  },
  {
   "cell_type": "code",
   "execution_count": 114,
   "metadata": {},
   "outputs": [],
   "source": [
    "df_churn_level = df_valid.select('userId','level','churn').distinct().groupby('level','churn').count().toPandas().sort_values(by='count')"
   ]
  },
  {
   "cell_type": "code",
   "execution_count": 115,
   "metadata": {},
   "outputs": [
    {
     "data": {
      "image/png": "[encoded data removed]",
      "text/plain": [
       "<matplotlib.figure.Figure at 0x7fd8d6024048>"
      ]
     },
     "metadata": {
      "needs_background": "light"
     },
     "output_type": "display_data"
    }
   ],
   "source": [
    "sns.barplot(x='level', y='count',hue='churn', data=df_churn_level);\n",
    "plt.xlabel('Level')\n",
    "plt.ylabel('Number of Users')\n",
    "plt.title('Level by Churn')\n",
    "plt.legend(title='Churn', loc='best');\n",
    "plt.savefig('Level by Churn.png')"
   ]
  },
  {
   "cell_type": "markdown",
   "metadata": {},
   "source": [
    "#### Question: Is there a difference in the location between the users who churned and who did not churn? \n"
   ]
  },
  {
   "cell_type": "code",
   "execution_count": 116,
   "metadata": {},
   "outputs": [],
   "source": [
    "df_churn_location = df_valid.select('userId','state','churn').distinct().groupby('state','churn').count().orderBy(desc('count')).toPandas()"
   ]
  },
  {
   "cell_type": "code",
   "execution_count": 117,
   "metadata": {},
   "outputs": [
    {
     "data": {
      "image/png": "[encoded data removed]",
      "text/plain": [
       "<matplotlib.figure.Figure at 0x7fd8d5fb8da0>"
      ]
     },
     "metadata": {
      "needs_background": "light"
     },
     "output_type": "display_data"
    }
   ],
   "source": [
    "fig = plt.figure(figsize=(12, 6))\n",
    "g = sns.barplot(x='state', y='count',hue='churn', data=df_churn_location);\n",
    "plt.xticks(rotation=90)\n",
    "plt.xlabel('State')\n",
    "plt.ylabel('Number of Users')\n",
    "plt.title('Location by Churn')\n",
    "plt.legend(title='Churn', loc='best');\n",
    "plt.savefig('Location by Churn.png')"
   ]
  },
  {
   "cell_type": "markdown",
   "metadata": {},
   "source": [
    "#### Question: Is there a difference in the day_of_week between the users who churned and who did not churn? "
   ]
  },
  {
   "cell_type": "code",
   "execution_count": 118,
   "metadata": {},
   "outputs": [],
   "source": [
    "day_of_week_by_churn = df_valid.dropDuplicates(['userId','day_of_week']).groupby(['day_of_week','churn']).count().toPandas()"
   ]
  },
  {
   "cell_type": "code",
   "execution_count": 119,
   "metadata": {},
   "outputs": [
    {
     "data": {
      "image/png": "[encoded data removed]",
      "text/plain": [
       "<matplotlib.figure.Figure at 0x7fd8d5de3a20>"
      ]
     },
     "metadata": {
      "needs_background": "light"
     },
     "output_type": "display_data"
    }
   ],
   "source": [
    "fig, ax = plt.subplots(figsize=(10, 5))\n",
    "g = sns.barplot(x=\"day_of_week\",y=\"count\", hue=\"churn\", data=day_of_week_by_churn, ax=ax);\n",
    "plt.xlabel('Day_of_week')\n",
    "plt.ylabel('Number of Users')\n",
    "plt.title('Day_of_Week by Churn')\n",
    "plt.legend(title='Churn', loc='best');\n",
    "plt.savefig('Day_of_week by Churn.png')"
   ]
  },
  {
   "cell_type": "code",
   "execution_count": 120,
   "metadata": {},
   "outputs": [],
   "source": [
    "##### The data is very imbalanced, but it seems that the favourite day to churn is Monday (day_of_week = 0)\n",
    "##### Maybe the responsibles of Sparkify could prepare some campaigns for Mondays (free trials, discounts, offers, etc..)"
   ]
  },
  {
   "cell_type": "code",
   "execution_count": 121,
   "metadata": {},
   "outputs": [
    {
     "data": {
      "text/html": [
       "<div>\n",
       "<style scoped>\n",
       "    .dataframe tbody tr th:only-of-type {\n",
       "        vertical-align: middle;\n",
       "    }\n",
       "\n",
       "    .dataframe tbody tr th {\n",
       "        vertical-align: top;\n",
       "    }\n",
       "\n",
       "    .dataframe thead th {\n",
       "        text-align: right;\n",
       "    }\n",
       "</style>\n",
       "<table border=\"1\" class=\"dataframe\">\n",
       "  <thead>\n",
       "    <tr style=\"text-align: right;\">\n",
       "      <th></th>\n",
       "      <th>page</th>\n",
       "      <th>downgrade_select</th>\n",
       "      <th>count</th>\n",
       "    </tr>\n",
       "  </thead>\n",
       "  <tbody>\n",
       "    <tr>\n",
       "      <th>0</th>\n",
       "      <td>Thumbs Up</td>\n",
       "      <td>0</td>\n",
       "      <td>12551</td>\n",
       "    </tr>\n",
       "    <tr>\n",
       "      <th>1</th>\n",
       "      <td>Upgrade</td>\n",
       "      <td>0</td>\n",
       "      <td>499</td>\n",
       "    </tr>\n",
       "    <tr>\n",
       "      <th>2</th>\n",
       "      <td>Cancel</td>\n",
       "      <td>0</td>\n",
       "      <td>52</td>\n",
       "    </tr>\n",
       "    <tr>\n",
       "      <th>3</th>\n",
       "      <td>Logout</td>\n",
       "      <td>0</td>\n",
       "      <td>3226</td>\n",
       "    </tr>\n",
       "    <tr>\n",
       "      <th>4</th>\n",
       "      <td>NextSong</td>\n",
       "      <td>0</td>\n",
       "      <td>228108</td>\n",
       "    </tr>\n",
       "    <tr>\n",
       "      <th>5</th>\n",
       "      <td>Submit Upgrade</td>\n",
       "      <td>0</td>\n",
       "      <td>159</td>\n",
       "    </tr>\n",
       "    <tr>\n",
       "      <th>6</th>\n",
       "      <td>Help</td>\n",
       "      <td>0</td>\n",
       "      <td>1454</td>\n",
       "    </tr>\n",
       "    <tr>\n",
       "      <th>7</th>\n",
       "      <td>Save Settings</td>\n",
       "      <td>0</td>\n",
       "      <td>310</td>\n",
       "    </tr>\n",
       "    <tr>\n",
       "      <th>8</th>\n",
       "      <td>Home</td>\n",
       "      <td>0</td>\n",
       "      <td>10082</td>\n",
       "    </tr>\n",
       "    <tr>\n",
       "      <th>9</th>\n",
       "      <td>Add to Playlist</td>\n",
       "      <td>0</td>\n",
       "      <td>6526</td>\n",
       "    </tr>\n",
       "    <tr>\n",
       "      <th>10</th>\n",
       "      <td>Settings</td>\n",
       "      <td>0</td>\n",
       "      <td>1514</td>\n",
       "    </tr>\n",
       "    <tr>\n",
       "      <th>11</th>\n",
       "      <td>Thumbs Down</td>\n",
       "      <td>0</td>\n",
       "      <td>2546</td>\n",
       "    </tr>\n",
       "    <tr>\n",
       "      <th>12</th>\n",
       "      <td>Cancellation Confirmation</td>\n",
       "      <td>0</td>\n",
       "      <td>52</td>\n",
       "    </tr>\n",
       "    <tr>\n",
       "      <th>13</th>\n",
       "      <td>Roll Advert</td>\n",
       "      <td>0</td>\n",
       "      <td>3933</td>\n",
       "    </tr>\n",
       "    <tr>\n",
       "      <th>14</th>\n",
       "      <td>Add Friend</td>\n",
       "      <td>0</td>\n",
       "      <td>4277</td>\n",
       "    </tr>\n",
       "    <tr>\n",
       "      <th>15</th>\n",
       "      <td>Error</td>\n",
       "      <td>0</td>\n",
       "      <td>252</td>\n",
       "    </tr>\n",
       "    <tr>\n",
       "      <th>16</th>\n",
       "      <td>Submit Downgrade</td>\n",
       "      <td>1</td>\n",
       "      <td>63</td>\n",
       "    </tr>\n",
       "    <tr>\n",
       "      <th>17</th>\n",
       "      <td>Downgrade</td>\n",
       "      <td>0</td>\n",
       "      <td>2055</td>\n",
       "    </tr>\n",
       "    <tr>\n",
       "      <th>18</th>\n",
       "      <td>About</td>\n",
       "      <td>0</td>\n",
       "      <td>495</td>\n",
       "    </tr>\n",
       "  </tbody>\n",
       "</table>\n",
       "</div>"
      ],
      "text/plain": [
       "                         page  downgrade_select   count\n",
       "0                   Thumbs Up                 0   12551\n",
       "1                     Upgrade                 0     499\n",
       "2                      Cancel                 0      52\n",
       "3                      Logout                 0    3226\n",
       "4                    NextSong                 0  228108\n",
       "5              Submit Upgrade                 0     159\n",
       "6                        Help                 0    1454\n",
       "7               Save Settings                 0     310\n",
       "8                        Home                 0   10082\n",
       "9             Add to Playlist                 0    6526\n",
       "10                   Settings                 0    1514\n",
       "11                Thumbs Down                 0    2546\n",
       "12  Cancellation Confirmation                 0      52\n",
       "13                Roll Advert                 0    3933\n",
       "14                 Add Friend                 0    4277\n",
       "15                      Error                 0     252\n",
       "16           Submit Downgrade                 1      63\n",
       "17                  Downgrade                 0    2055\n",
       "18                      About                 0     495"
      ]
     },
     "execution_count": 121,
     "metadata": {},
     "output_type": "execute_result"
    }
   ],
   "source": [
    "df_valid.select(['userId','page','churn','downgrade_select']).groupby(['page','downgrade_select']).count().toPandas()"
   ]
  },
  {
   "cell_type": "code",
   "execution_count": 127,
   "metadata": {},
   "outputs": [
    {
     "data": {
      "image/png": "[encoded data removed]",
      "text/plain": [
       "<matplotlib.figure.Figure at 0x7fd8d59769b0>"
      ]
     },
     "metadata": {
      "needs_background": "light"
     },
     "output_type": "display_data"
    }
   ],
   "source": [
    "page_total_downgraded = df_valid.dropDuplicates(['userId','page']).groupby(['page','downgrade_select']).count().toPandas()\n",
    "\n",
    "fig = plt.figure(figsize=(12, 6))\n",
    "g = sns.barplot(x='page', y='count',hue='downgrade_select', data=page_total_downgraded);\n",
    "plt.xticks(rotation=90)\n",
    "plt.xlabel('Page')\n",
    "plt.ylabel('Number of Users')\n",
    "plt.title('Activities of the User')\n",
    "plt.legend(title='Downgraded', loc='best');\n",
    "plt.savefig('Activities_User_downgraded.png')"
   ]
  },
  {
   "cell_type": "code",
   "execution_count": 128,
   "metadata": {},
   "outputs": [],
   "source": [
    "#### Question: Is there a difference in the actions between the users who churned and those who did not churn? \n",
    "#There are less movements on the users that are going to churn, less Thumbs-Up, less Thumbs-Down, etc.."
   ]
  },
  {
   "cell_type": "code",
   "execution_count": 129,
   "metadata": {},
   "outputs": [
    {
     "data": {
      "image/png": "[encoded data removed]",
      "text/plain": [
       "<matplotlib.figure.Figure at 0x7fd8d5941d68>"
      ]
     },
     "metadata": {
      "needs_background": "light"
     },
     "output_type": "display_data"
    }
   ],
   "source": [
    "page_total_churn = df_valid.dropDuplicates(['userId','page']).groupby(['page','will_churn']).count().toPandas()\n",
    "\n",
    "fig = plt.figure(figsize=(12, 6))\n",
    "g = sns.barplot(x='page', y='count',hue='will_churn', data=page_total_churn);\n",
    "plt.xticks(rotation=90)\n",
    "plt.xlabel('Page')\n",
    "plt.ylabel('Number of Users')\n",
    "plt.title('Activities of the User')\n",
    "plt.legend(title='Churn', loc='best');\n",
    "plt.savefig('Activities_User_Page.png')"
   ]
  },
  {
   "cell_type": "code",
   "execution_count": 130,
   "metadata": {},
   "outputs": [],
   "source": [
    "# Let's try sparksql \n",
    "# To do that, we need to create a temporary table, where we'll perform the SQL queries\n",
    "df_valid.createOrReplaceTempView(\"Sparkify_sql\")"
   ]
  },
  {
   "cell_type": "markdown",
   "metadata": {},
   "source": [
    "#### Question: What are the most played songs?"
   ]
  },
  {
   "cell_type": "markdown",
   "metadata": {},
   "source": [
    "##### Now let's use spark.sql"
   ]
  },
  {
   "cell_type": "code",
   "execution_count": 131,
   "metadata": {},
   "outputs": [
    {
     "name": "stdout",
     "output_type": "stream",
     "text": [
      "+--------------------+---------+\n",
      "|                song|TOP_SONGS|\n",
      "+--------------------+---------+\n",
      "|      You're The One|     1153|\n",
      "|                Undo|     1026|\n",
      "|             Revelry|      854|\n",
      "|       Sehr kosmisch|      728|\n",
      "|Horn Concerto No....|      641|\n",
      "|Dog Days Are Over...|      574|\n",
      "|             Secrets|      466|\n",
      "|        Use Somebody|      459|\n",
      "|              Canada|      435|\n",
      "|             Invalid|      424|\n",
      "+--------------------+---------+\n",
      "\n"
     ]
    }
   ],
   "source": [
    "songs_artists = spark.sql('''\n",
    "        SELECT song, count(song) AS TOP_SONGS\n",
    "        FROM Sparkify_sql\n",
    "        GROUP BY song\n",
    "        ORDER BY TOP_SONGS DESC\n",
    "        LIMIT 10\n",
    "         \n",
    "''').show()"
   ]
  },
  {
   "cell_type": "markdown",
   "metadata": {},
   "source": [
    "#### Question: What are the artist, users listen the most?"
   ]
  },
  {
   "cell_type": "code",
   "execution_count": 132,
   "metadata": {},
   "outputs": [
    {
     "name": "stdout",
     "output_type": "stream",
     "text": [
      "+--------------------+----------+\n",
      "|              artist|TOP_ARTIST|\n",
      "+--------------------+----------+\n",
      "|       Kings Of Leon|      1841|\n",
      "|            Coldplay|      1813|\n",
      "|Florence + The Ma...|      1236|\n",
      "|       Dwight Yoakam|      1135|\n",
      "|            BjÃÂ¶rk|      1133|\n",
      "|      The Black Keys|      1125|\n",
      "|                Muse|      1090|\n",
      "|       Justin Bieber|      1044|\n",
      "|        Jack Johnson|      1007|\n",
      "|              Eminem|       953|\n",
      "+--------------------+----------+\n",
      "\n"
     ]
    }
   ],
   "source": [
    "songs_artists = spark.sql('''\n",
    "        SELECT artist, count(artist) AS TOP_ARTIST\n",
    "        FROM Sparkify_sql\n",
    "        GROUP BY artist\n",
    "        ORDER BY TOP_ARTIST DESC\n",
    "        LIMIT 10\n",
    "         \n",
    "''').show()"
   ]
  },
  {
   "cell_type": "markdown",
   "metadata": {},
   "source": [
    "#### Question: What is the average length of song, users listen?\n"
   ]
  },
  {
   "cell_type": "code",
   "execution_count": 133,
   "metadata": {},
   "outputs": [],
   "source": [
    "songs_length = spark.sql('''\n",
    "        SELECT length\n",
    "        FROM Sparkify_sql\n",
    "''')"
   ]
  },
  {
   "cell_type": "code",
   "execution_count": 134,
   "metadata": {},
   "outputs": [
    {
     "data": {
      "image/png": "[encoded data removed]",
      "text/plain": [
       "<matplotlib.figure.Figure at 0x7fd917e3ec18>"
      ]
     },
     "metadata": {
      "needs_background": "light"
     },
     "output_type": "display_data"
    }
   ],
   "source": [
    "sns.distplot(songs_length.toPandas().dropna());"
   ]
  },
  {
   "cell_type": "markdown",
   "metadata": {},
   "source": [
    "##### The average duration is about 250 seconds\n"
   ]
  },
  {
   "cell_type": "code",
   "execution_count": 135,
   "metadata": {},
   "outputs": [
    {
     "data": {
      "image/png": "[encoded data removed]",
      "text/plain": [
       "<matplotlib.figure.Figure at 0x7fd8d5b49588>"
      ]
     },
     "metadata": {
      "needs_background": "light"
     },
     "output_type": "display_data"
    }
   ],
   "source": [
    "sessionId_total_churn = df_valid.dropDuplicates(['userId','will_churn','sessionId']).groupby(['userId','will_churn']).count().toPandas()\n",
    "\n",
    "# compare two groups of users\n",
    "g = sns.FacetGrid(sessionId_total_churn, col=\"will_churn\", sharey=False)\n",
    "g.map(plt.hist, \"count\");"
   ]
  },
  {
   "cell_type": "markdown",
   "metadata": {},
   "source": [
    "##### The users who don't churn use the Sparkify service much more than users who will churn"
   ]
  },
  {
   "cell_type": "code",
   "execution_count": 136,
   "metadata": {},
   "outputs": [
    {
     "data": {
      "text/html": [
       "<div>\n",
       "<style scoped>\n",
       "    .dataframe tbody tr th:only-of-type {\n",
       "        vertical-align: middle;\n",
       "    }\n",
       "\n",
       "    .dataframe tbody tr th {\n",
       "        vertical-align: top;\n",
       "    }\n",
       "\n",
       "    .dataframe thead th {\n",
       "        text-align: right;\n",
       "    }\n",
       "</style>\n",
       "<table border=\"1\" class=\"dataframe\">\n",
       "  <thead>\n",
       "    <tr style=\"text-align: right;\">\n",
       "      <th></th>\n",
       "      <th>userId</th>\n",
       "      <th>will_churn</th>\n",
       "      <th>count</th>\n",
       "    </tr>\n",
       "  </thead>\n",
       "  <tbody>\n",
       "    <tr>\n",
       "      <th>0</th>\n",
       "      <td>100010</td>\n",
       "      <td>0</td>\n",
       "      <td>7</td>\n",
       "    </tr>\n",
       "    <tr>\n",
       "      <th>1</th>\n",
       "      <td>200002</td>\n",
       "      <td>0</td>\n",
       "      <td>6</td>\n",
       "    </tr>\n",
       "    <tr>\n",
       "      <th>2</th>\n",
       "      <td>125</td>\n",
       "      <td>1</td>\n",
       "      <td>1</td>\n",
       "    </tr>\n",
       "    <tr>\n",
       "      <th>3</th>\n",
       "      <td>124</td>\n",
       "      <td>0</td>\n",
       "      <td>29</td>\n",
       "    </tr>\n",
       "    <tr>\n",
       "      <th>4</th>\n",
       "      <td>51</td>\n",
       "      <td>1</td>\n",
       "      <td>10</td>\n",
       "    </tr>\n",
       "    <tr>\n",
       "      <th>5</th>\n",
       "      <td>7</td>\n",
       "      <td>0</td>\n",
       "      <td>7</td>\n",
       "    </tr>\n",
       "    <tr>\n",
       "      <th>6</th>\n",
       "      <td>15</td>\n",
       "      <td>0</td>\n",
       "      <td>15</td>\n",
       "    </tr>\n",
       "    <tr>\n",
       "      <th>7</th>\n",
       "      <td>54</td>\n",
       "      <td>1</td>\n",
       "      <td>37</td>\n",
       "    </tr>\n",
       "    <tr>\n",
       "      <th>8</th>\n",
       "      <td>155</td>\n",
       "      <td>0</td>\n",
       "      <td>6</td>\n",
       "    </tr>\n",
       "    <tr>\n",
       "      <th>9</th>\n",
       "      <td>100014</td>\n",
       "      <td>1</td>\n",
       "      <td>6</td>\n",
       "    </tr>\n",
       "    <tr>\n",
       "      <th>10</th>\n",
       "      <td>132</td>\n",
       "      <td>0</td>\n",
       "      <td>16</td>\n",
       "    </tr>\n",
       "    <tr>\n",
       "      <th>11</th>\n",
       "      <td>154</td>\n",
       "      <td>0</td>\n",
       "      <td>3</td>\n",
       "    </tr>\n",
       "    <tr>\n",
       "      <th>12</th>\n",
       "      <td>101</td>\n",
       "      <td>1</td>\n",
       "      <td>10</td>\n",
       "    </tr>\n",
       "    <tr>\n",
       "      <th>13</th>\n",
       "      <td>11</td>\n",
       "      <td>0</td>\n",
       "      <td>16</td>\n",
       "    </tr>\n",
       "    <tr>\n",
       "      <th>14</th>\n",
       "      <td>138</td>\n",
       "      <td>0</td>\n",
       "      <td>15</td>\n",
       "    </tr>\n",
       "  </tbody>\n",
       "</table>\n",
       "</div>"
      ],
      "text/plain": [
       "    userId  will_churn  count\n",
       "0   100010           0      7\n",
       "1   200002           0      6\n",
       "2      125           1      1\n",
       "3      124           0     29\n",
       "4       51           1     10\n",
       "5        7           0      7\n",
       "6       15           0     15\n",
       "7       54           1     37\n",
       "8      155           0      6\n",
       "9   100014           1      6\n",
       "10     132           0     16\n",
       "11     154           0      3\n",
       "12     101           1     10\n",
       "13      11           0     16\n",
       "14     138           0     15"
      ]
     },
     "execution_count": 136,
     "metadata": {},
     "output_type": "execute_result"
    }
   ],
   "source": [
    "sessionId_total_churn.head(15)"
   ]
  },
  {
   "cell_type": "code",
   "execution_count": 137,
   "metadata": {},
   "outputs": [
    {
     "data": {
      "text/plain": [
       "Row(userId='125', firstname='Mason', ts=1539317144000, page='NextSong', level='free')"
      ]
     },
     "execution_count": 137,
     "metadata": {},
     "output_type": "execute_result"
    }
   ],
   "source": [
    "# Let's see a record with a user with the time log, page and level\n",
    "df_valid.select([\"userId\", \"firstname\", \"ts\", \"page\", \"level\"]).where(df_valid.userId == \"125\").sort(\"ts\").collect()[0]"
   ]
  },
  {
   "cell_type": "code",
   "execution_count": 138,
   "metadata": {},
   "outputs": [
    {
     "data": {
      "text/plain": [
       "Row(userId='100011', firstname='Sebastian', ts=1538417085000, page='Cancellation Confirmation', level='free')"
      ]
     },
     "execution_count": 138,
     "metadata": {},
     "output_type": "execute_result"
    }
   ],
   "source": [
    "# Let's see more information about the 52 users who churned\n",
    "df_valid.select([\"userId\", \"firstname\", \"ts\", \"page\", \"level\"]).where(df_valid.churn == 1).sort(\"ts\").collect()[0]"
   ]
  },
  {
   "cell_type": "code",
   "execution_count": 139,
   "metadata": {},
   "outputs": [],
   "source": [
    "# Let's calculate the max \n",
    "avg_time_user = df_valid.agg({\"itemInSession\": \"max\"}).collect()[0]"
   ]
  },
  {
   "cell_type": "code",
   "execution_count": 140,
   "metadata": {},
   "outputs": [
    {
     "data": {
      "text/plain": [
       "Row(max(itemInSession)=1321)"
      ]
     },
     "execution_count": 140,
     "metadata": {},
     "output_type": "execute_result"
    }
   ],
   "source": [
    "avg_time_user"
   ]
  },
  {
   "cell_type": "markdown",
   "metadata": {},
   "source": [
    "#### Question: Is there a difference in time between the users who churned and who did not churn? "
   ]
  },
  {
   "cell_type": "code",
   "execution_count": 141,
   "metadata": {},
   "outputs": [],
   "source": [
    "df_membership = df_valid.select([\"userId\", \"registration\", \"ts\", \"churn\"]) \\\n",
    "    .withColumn('membership_time',(df_valid.ts-df_valid.registration)) \\\n",
    "    .groupBy('userId', 'churn') \\\n",
    "    .agg({'membership_time':'max'}) \\\n",
    "    .withColumnRenamed('max(membership_time)', 'membership_time') \\\n",
    "    .select('userId', (col('membership_time')/1000/86400).alias('membership_time'),'churn') \\\n",
    "    .sort('membership_time') \\\n",
    "    .toPandas()                       "
   ]
  },
  {
   "cell_type": "code",
   "execution_count": 142,
   "metadata": {},
   "outputs": [
    {
     "data": {
      "image/png": "[encoded data removed]",
      "text/plain": [
       "<matplotlib.figure.Figure at 0x7fd8d5902898>"
      ]
     },
     "metadata": {
      "needs_background": "light"
     },
     "output_type": "display_data"
    }
   ],
   "source": [
    "ax = sns.boxplot(data=df_membership, y='membership_time', x='churn', orient='v')\n",
    "plt.ylabel('Membership time in days until churn')\n",
    "plt.xlabel('Churn')\n",
    "plt.title('Membership time (churn/no churn)')\n",
    "sns.despine(ax=ax);\n",
    "plt.savefig('Membership_time.png')"
   ]
  },
  {
   "cell_type": "markdown",
   "metadata": {},
   "source": [
    "##### With the previous boxplot graphic we can see that users who churn\n",
    "##### stay less time in the Sparkify service than those who don't churn\n",
    "##### Users who churn stay 50 days in average\n",
    "##### Users who don't churn stay aprox. 75 days in average "
   ]
  },
  {
   "cell_type": "markdown",
   "metadata": {},
   "source": [
    "# Feature Engineering\n",
    "Once you've familiarized yourself with the data, build out the features you find promising to train your model on. To work with the full dataset, you can follow the following steps.\n",
    "- Write a script to extract the necessary features from the smaller subset of data\n",
    "- Ensure that your script is scalable, using the best practices discussed in Lesson 3\n",
    "- Try your script on the full data set, debugging your script if necessary\n",
    "\n",
    "If you are working in the classroom workspace, you can just extract features based on the small subset of data contained here. Be sure to transfer over this work to the larger dataset when you work on your Spark cluster."
   ]
  },
  {
   "cell_type": "code",
   "execution_count": 143,
   "metadata": {
    "scrolled": true
   },
   "outputs": [
    {
     "name": "stdout",
     "output_type": "stream",
     "text": [
      "root\n",
      " |-- artist: string (nullable = true)\n",
      " |-- auth: string (nullable = true)\n",
      " |-- firstName: string (nullable = true)\n",
      " |-- gender: string (nullable = true)\n",
      " |-- itemInSession: long (nullable = true)\n",
      " |-- lastName: string (nullable = true)\n",
      " |-- length: double (nullable = true)\n",
      " |-- level: string (nullable = true)\n",
      " |-- location: string (nullable = true)\n",
      " |-- method: string (nullable = true)\n",
      " |-- page: string (nullable = true)\n",
      " |-- registration: long (nullable = true)\n",
      " |-- sessionId: long (nullable = true)\n",
      " |-- song: string (nullable = true)\n",
      " |-- status: long (nullable = true)\n",
      " |-- ts: long (nullable = true)\n",
      " |-- userAgent: string (nullable = true)\n",
      " |-- userId: string (nullable = true)\n",
      " |-- state: string (nullable = true)\n",
      " |-- registration_time: string (nullable = true)\n",
      " |-- date: string (nullable = true)\n",
      " |-- month: string (nullable = true)\n",
      " |-- day_of_month: string (nullable = true)\n",
      " |-- hour: string (nullable = true)\n",
      " |-- day_of_week: string (nullable = true)\n",
      " |-- subscription_days: double (nullable = true)\n",
      " |-- OS: string (nullable = true)\n",
      " |-- downgrade_select: integer (nullable = true)\n",
      " |-- will_downgrade: integer (nullable = true)\n",
      " |-- churn: integer (nullable = true)\n",
      " |-- will_churn: integer (nullable = true)\n",
      "\n"
     ]
    }
   ],
   "source": [
    "# Let's remember the fields of our datset\n",
    "# There are some fields that we can transform from categorical to numerical: e.g: gender, level\n",
    "df_valid.printSchema()"
   ]
  },
  {
   "cell_type": "markdown",
   "metadata": {},
   "source": [
    "These are the features I will include to build the model\n",
    "Features:\n",
    " |-- userId: string (nullable = true)\n",
    " |-- churn: cancellation of the service\n",
    " |-- level: type of subscription + I will convert into number 0/1\n",
    " |-- n_artists: number of artist a user listens to + I will convert into number\n",
    " |-- n_songs:number of songs a user listens to + I will convert into number  \n",
    " |-- n_songs_play:number of songs added to the playlist + I will convert into number   \n",
    " |-- n_thumbs_up: number of thumbs up + I will convert into number\n",
    " |-- n_thumbs_down:  number of thumbs down + I will convert into number \n",
    " |-- n_Errors: long (nullable = true)\n",
    " |-- n_friends: number of friends + I will convert into number \n",
    " |-- n_Rolls: number of spots displayed to the user\n",
    " |-- n_Help: number of visits to help page\n",
    " |-- total_sdays: time of the subscription (in days)\n",
    " |-- n_sessions: number of sesions of a user\n",
    " |-- IPAD: the user connects with an IPAD to our Sparkify service\n",
    " |-- IPHONE: the user connects with an IPHONE to our Sparkify service\n",
    " |-- LINUX: the user connects with a Linux device to our Sparkify service\n",
    " |-- MAC: the user connects with a MAC device to our Sparkify service\n",
    " |-- WINDOWS: the user connects with a WINDOWS to our Sparkify service"
   ]
  },
  {
   "cell_type": "markdown",
   "metadata": {},
   "source": [
    "#### Features related to the session\n"
   ]
  },
  {
   "cell_type": "markdown",
   "metadata": {},
   "source": [
    "#### 1. number of sessions by user"
   ]
  },
  {
   "cell_type": "code",
   "execution_count": 145,
   "metadata": {},
   "outputs": [
    {
     "data": {
      "text/plain": [
       "225"
      ]
     },
     "execution_count": 145,
     "metadata": {},
     "output_type": "execute_result"
    }
   ],
   "source": [
    "# Let's calculate the number of the sessions of a user\n",
    "n_sessions = df_valid.select('userId','sessionId').dropDuplicates().groupby('userId').count().withColumnRenamed('count','n_sessions')\n",
    "df_n_sessions = n_sessions.withColumn('n_sessions', n_sessions.n_sessions.cast('bigint'))\n",
    "df_n_sessions.count()"
   ]
  },
  {
   "cell_type": "code",
   "execution_count": 146,
   "metadata": {},
   "outputs": [
    {
     "data": {
      "text/plain": [
       "[Row(userId='100010', n_sessions=7), Row(userId='200002', n_sessions=6)]"
      ]
     },
     "execution_count": 146,
     "metadata": {},
     "output_type": "execute_result"
    }
   ],
   "source": [
    "df_n_sessions.take(2)"
   ]
  },
  {
   "cell_type": "markdown",
   "metadata": {},
   "source": [
    "#### 2. Operating System (device)"
   ]
  },
  {
   "cell_type": "code",
   "execution_count": 147,
   "metadata": {},
   "outputs": [],
   "source": [
    "# Let's take the OS the user connects to the Sparkify session and make one hot encoding with the pivot option\n",
    "df_os = df_valid.select('userId','OS').dropDuplicates().groupby('userId').pivot('OS').agg(count('OS')).fillna(0)"
   ]
  },
  {
   "cell_type": "code",
   "execution_count": 148,
   "metadata": {},
   "outputs": [
    {
     "name": "stdout",
     "output_type": "stream",
     "text": [
      "+------+----+------+-----+---+-------+\n",
      "|userId|IPAD|IPHONE|LINUX|MAC|WINDOWS|\n",
      "+------+----+------+-----+---+-------+\n",
      "|100010|   0|     1|    0|  0|      0|\n",
      "|200002|   0|     1|    0|  0|      0|\n",
      "+------+----+------+-----+---+-------+\n",
      "only showing top 2 rows\n",
      "\n"
     ]
    }
   ],
   "source": [
    "df_os.show(2)"
   ]
  },
  {
   "cell_type": "markdown",
   "metadata": {},
   "source": [
    "#### Features related to the subscription\n",
    "#### 1. subscription days of a user\n",
    "#### 2. subscription cancelled (churn)\n",
    "#### 3. level of subscription (payment)"
   ]
  },
  {
   "cell_type": "code",
   "execution_count": 149,
   "metadata": {},
   "outputs": [
    {
     "data": {
      "text/plain": [
       "225"
      ]
     },
     "execution_count": 149,
     "metadata": {},
     "output_type": "execute_result"
    }
   ],
   "source": [
    "# Let's calculate the subscription days a user stays in the service\n",
    "subscription_days = df_valid.select('userId','subscription_days').groupBy('userId').agg({'subscription_days':'max'}).withColumnRenamed('max(subscription_days)','total_sdays')\n",
    "df_subscription_days = subscription_days.withColumn('total_sdays', subscription_days.total_sdays.cast('double'))\n",
    "df_subscription_days.count()"
   ]
  },
  {
   "cell_type": "code",
   "execution_count": 150,
   "metadata": {},
   "outputs": [
    {
     "data": {
      "text/plain": [
       "[Row(userId='100010', total_sdays=55.64365740740741),\n",
       " Row(userId='200002', total_sdays=70.07462962962963),\n",
       " Row(userId='125', total_sdays=71.31688657407408),\n",
       " Row(userId='51', total_sdays=19.455844907407407)]"
      ]
     },
     "execution_count": 150,
     "metadata": {},
     "output_type": "execute_result"
    }
   ],
   "source": [
    "df_subscription_days.take(4)"
   ]
  },
  {
   "cell_type": "code",
   "execution_count": 151,
   "metadata": {},
   "outputs": [
    {
     "data": {
      "text/plain": [
       "225"
      ]
     },
     "execution_count": 151,
     "metadata": {},
     "output_type": "execute_result"
    }
   ],
   "source": [
    "# Let's calculate if a user churned the service\n",
    "# We need to be careful with this searchs as we can forget basic things:\n",
    "# We have to search through \"churn\" flag, but we will take the max value (1) \n",
    "# because the user before churning, he was subscribed in the service \n",
    "# and so the \"churn\" flag was equal to 0\n",
    "# If we do a fast search with churn=1, the user is repeated\n",
    "churn = df_valid.groupby('userId').max(\"churn\").withColumnRenamed(\"max(churn)\", \"churn\")\n",
    "df_churn = churn.withColumn('churn', churn.churn.cast('int'))\n",
    "df_churn.count()"
   ]
  },
  {
   "cell_type": "code",
   "execution_count": 152,
   "metadata": {},
   "outputs": [
    {
     "name": "stdout",
     "output_type": "stream",
     "text": [
      "+-----+-----+\n",
      "|churn|count|\n",
      "+-----+-----+\n",
      "|    1|   52|\n",
      "|    0|  173|\n",
      "+-----+-----+\n",
      "\n"
     ]
    }
   ],
   "source": [
    "df_churn.groupby(\"churn\").count().show()"
   ]
  },
  {
   "cell_type": "code",
   "execution_count": 153,
   "metadata": {},
   "outputs": [
    {
     "data": {
      "text/plain": [
       "[Row(userId='100010', churn=0), Row(userId='200002', churn=0)]"
      ]
     },
     "execution_count": 153,
     "metadata": {},
     "output_type": "execute_result"
    }
   ],
   "source": [
    "df_churn.take(2)"
   ]
  },
  {
   "cell_type": "code",
   "execution_count": 154,
   "metadata": {},
   "outputs": [
    {
     "data": {
      "text/plain": [
       "225"
      ]
     },
     "execution_count": 154,
     "metadata": {},
     "output_type": "execute_result"
    }
   ],
   "source": [
    "# Let's select the last level a user selected and change level into a numerical,binary field (0/1)\n",
    "level = df_valid.select(['userId', 'level','ts']).orderBy(desc('ts')).dropDuplicates(['userId']).select(['userId', 'level']).replace(['free', 'paid'], ['0', '1'], 'level')\n",
    "\n",
    "## Let's change level into a numerical,binary field (0/1)\n",
    "#level = df_valid.select(['userId', 'level']).dropDuplicates(['userId']).replace(['free', 'paid'], ['0', '1'], 'level')\n",
    "df_level = level.withColumn('level', level.level.cast('int'))\n",
    "df_level.count()"
   ]
  },
  {
   "cell_type": "code",
   "execution_count": 155,
   "metadata": {},
   "outputs": [
    {
     "data": {
      "text/plain": [
       "[Row(userId='100010', level=0), Row(userId='200002', level=1)]"
      ]
     },
     "execution_count": 155,
     "metadata": {},
     "output_type": "execute_result"
    }
   ],
   "source": [
    "df_level.take(2)"
   ]
  },
  {
   "cell_type": "markdown",
   "metadata": {},
   "source": [
    "#### Features related to the user\n",
    "#### 1. Gender of a user --> I will not include this feature in the model\n",
    "#### 2. Number of artists listened by a user\n",
    "#### 3. Number of songs listened by a user\n",
    "#### 4. Number of songs added to the playlist\n",
    "#### 5. Duration of songs added to the playlist\n",
    "#### 6. Average number of songs a user listens to music during a session\n",
    "#### 7. Number of thumbs_up a user does\n",
    "#### 8. Number of thumbs_down a user does\n",
    "#### 9. Number of friends a user adds\n",
    "#### 10.Subscription days the user has been with our service"
   ]
  },
  {
   "cell_type": "code",
   "execution_count": 156,
   "metadata": {},
   "outputs": [
    {
     "data": {
      "text/plain": [
       "225"
      ]
     },
     "execution_count": 156,
     "metadata": {},
     "output_type": "execute_result"
    }
   ],
   "source": [
    "# Let's change gender into a numerical,binary field (0/1)\n",
    "# But I will not include this feature in the training model\n",
    "gender = df_valid.select(['userId', 'gender']).dropDuplicates(['userId']).replace(['F', 'M'], ['0', '1'], 'gender')\n",
    "df_gender = gender.withColumn('gender', gender.gender.cast('int'))\n",
    "df_gender.count()"
   ]
  },
  {
   "cell_type": "code",
   "execution_count": 157,
   "metadata": {},
   "outputs": [
    {
     "data": {
      "text/plain": [
       "[Row(userId='100010', gender=0), Row(userId='200002', gender=1)]"
      ]
     },
     "execution_count": 157,
     "metadata": {},
     "output_type": "execute_result"
    }
   ],
   "source": [
    "df_gender.take(2)"
   ]
  },
  {
   "cell_type": "code",
   "execution_count": 158,
   "metadata": {},
   "outputs": [
    {
     "data": {
      "text/plain": [
       "225"
      ]
     },
     "execution_count": 158,
     "metadata": {},
     "output_type": "execute_result"
    }
   ],
   "source": [
    "# Let's calculate the number of artists a user listens to \n",
    "n_artists = df_valid.filter(df_valid.page==\"NextSong\").select(['userId', 'artist']).dropDuplicates().groupby('userId').count().withColumnRenamed('count', 'n_artists')\n",
    "df_n_artists= n_artists.withColumn('n_artists', n_artists.n_artists.cast('int'))\n",
    "df_n_artists.count()"
   ]
  },
  {
   "cell_type": "code",
   "execution_count": 159,
   "metadata": {},
   "outputs": [
    {
     "data": {
      "text/plain": [
       "[Row(userId='100010', n_artists=252), Row(userId='200002', n_artists=339)]"
      ]
     },
     "execution_count": 159,
     "metadata": {},
     "output_type": "execute_result"
    }
   ],
   "source": [
    "df_n_artists.take(2)"
   ]
  },
  {
   "cell_type": "code",
   "execution_count": 160,
   "metadata": {},
   "outputs": [
    {
     "data": {
      "text/plain": [
       "225"
      ]
     },
     "execution_count": 160,
     "metadata": {},
     "output_type": "execute_result"
    }
   ],
   "source": [
    "# Let's calculate the number of songs a user listens to \n",
    "n_songs = df_valid.select('userId','song').groupBy('userId').count().withColumnRenamed('count', 'n_songs')\n",
    "df_n_songs= n_songs.withColumn('n_songs', n_songs.n_songs.cast('double'))\n",
    "df_n_songs.count()"
   ]
  },
  {
   "cell_type": "code",
   "execution_count": 161,
   "metadata": {},
   "outputs": [
    {
     "data": {
      "text/plain": [
       "[Row(userId='100010', n_songs=381.0), Row(userId='200002', n_songs=474.0)]"
      ]
     },
     "execution_count": 161,
     "metadata": {},
     "output_type": "execute_result"
    }
   ],
   "source": [
    "df_n_songs.take(2)"
   ]
  },
  {
   "cell_type": "code",
   "execution_count": 162,
   "metadata": {},
   "outputs": [
    {
     "data": {
      "text/plain": [
       "215"
      ]
     },
     "execution_count": 162,
     "metadata": {},
     "output_type": "execute_result"
    }
   ],
   "source": [
    "# Let's calculate the number of songs a user adds to a playlist\n",
    "n_songs_playlist = df_valid.select('userId','page').where(df_valid.page == 'Add to Playlist').groupBy('userId').count().withColumnRenamed('count', 'n_songs_playlist')\n",
    "df_n_songs_playlist= n_songs_playlist.withColumn('n_songs_playlist', n_songs_playlist.n_songs_playlist.cast('double'))\n",
    "df_n_songs_playlist.count()"
   ]
  },
  {
   "cell_type": "code",
   "execution_count": 163,
   "metadata": {},
   "outputs": [
    {
     "data": {
      "text/plain": [
       "[Row(userId='100010', n_songs_playlist=7.0),\n",
       " Row(userId='200002', n_songs_playlist=8.0)]"
      ]
     },
     "execution_count": 163,
     "metadata": {},
     "output_type": "execute_result"
    }
   ],
   "source": [
    "df_n_songs_playlist.take(2)"
   ]
  },
  {
   "cell_type": "code",
   "execution_count": 164,
   "metadata": {},
   "outputs": [
    {
     "data": {
      "text/plain": [
       "225"
      ]
     },
     "execution_count": 164,
     "metadata": {},
     "output_type": "execute_result"
    }
   ],
   "source": [
    "# Let's calculate the duration of songs a user adds to a playlist\n",
    "n_time_songs = df_valid.select('userId','length').groupBy('userId').sum().withColumnRenamed('sum(length)', 'n_time_songs')\n",
    "df_n_time_songs= n_time_songs.withColumn('n_time_songs', n_time_songs.n_time_songs.cast('double'))\n",
    "df_n_time_songs.count()"
   ]
  },
  {
   "cell_type": "code",
   "execution_count": 165,
   "metadata": {},
   "outputs": [
    {
     "data": {
      "text/plain": [
       "[Row(userId='100010', n_time_songs=66940.89735000003),\n",
       " Row(userId='200002', n_time_songs=94008.87593999993)]"
      ]
     },
     "execution_count": 165,
     "metadata": {},
     "output_type": "execute_result"
    }
   ],
   "source": [
    "df_n_time_songs.take(2)"
   ]
  },
  {
   "cell_type": "code",
   "execution_count": 166,
   "metadata": {},
   "outputs": [
    {
     "data": {
      "text/plain": [
       "215"
      ]
     },
     "execution_count": 166,
     "metadata": {},
     "output_type": "execute_result"
    }
   ],
   "source": [
    "# Let's calculate the number of songs a user adds to a playlist\n",
    "n_songs_play = df_valid.select('userId', 'page').where(df_valid.page =='Add to Playlist').groupBy('userId').agg({'page':'count'}).withColumnRenamed('count(page)','n_songs_play')\n",
    "df_n_songs_play = n_songs_play.withColumn('n_songs_play', n_songs_play.n_songs_play.cast('double'))\n",
    "df_n_songs_play.count()"
   ]
  },
  {
   "cell_type": "code",
   "execution_count": 167,
   "metadata": {},
   "outputs": [
    {
     "data": {
      "text/plain": [
       "225"
      ]
     },
     "execution_count": 167,
     "metadata": {},
     "output_type": "execute_result"
    }
   ],
   "source": [
    "# Let's calculate the average number of songs a user listens to music during a session\n",
    "n_avg_songs = df_valid.where('page == \"NextSong\"').groupby(['userId', 'sessionId']).count().groupby(['userId']).agg({'count':'avg'}).withColumnRenamed('avg(count)','n_avg_songs')\n",
    "df_n_avg_songs= n_avg_songs.withColumn('n_avg_songs', n_avg_songs.n_avg_songs.cast('double'))\n",
    "df_n_avg_songs.count()"
   ]
  },
  {
   "cell_type": "code",
   "execution_count": 168,
   "metadata": {},
   "outputs": [
    {
     "data": {
      "text/plain": [
       "[Row(userId='100010', n_avg_songs=39.285714285714285),\n",
       " Row(userId='200002', n_avg_songs=64.5)]"
      ]
     },
     "execution_count": 168,
     "metadata": {},
     "output_type": "execute_result"
    }
   ],
   "source": [
    "df_n_avg_songs.take(2)"
   ]
  },
  {
   "cell_type": "code",
   "execution_count": 169,
   "metadata": {},
   "outputs": [
    {
     "data": {
      "text/plain": [
       "220"
      ]
     },
     "execution_count": 169,
     "metadata": {},
     "output_type": "execute_result"
    }
   ],
   "source": [
    "# Let's calculate the number of thumbs_up a user does\n",
    "n_thumbs_up = df_valid.select('userId','page').where(df_valid.page == 'Thumbs Up').groupBy('userId').count().withColumnRenamed('count', 'n_thumbs_up')\n",
    "df_n_thumbs_up= n_thumbs_up.withColumn('n_thumbs_up', n_thumbs_up.n_thumbs_up.cast('bigint'))\n",
    "df_n_thumbs_up.count()"
   ]
  },
  {
   "cell_type": "code",
   "execution_count": 170,
   "metadata": {},
   "outputs": [
    {
     "data": {
      "text/plain": [
       "[Row(userId='100010', n_thumbs_up=17), Row(userId='200002', n_thumbs_up=21)]"
      ]
     },
     "execution_count": 170,
     "metadata": {},
     "output_type": "execute_result"
    }
   ],
   "source": [
    "df_n_thumbs_up.take(2)"
   ]
  },
  {
   "cell_type": "code",
   "execution_count": 171,
   "metadata": {},
   "outputs": [
    {
     "data": {
      "text/plain": [
       "203"
      ]
     },
     "execution_count": 171,
     "metadata": {},
     "output_type": "execute_result"
    }
   ],
   "source": [
    "# Let's calculate the number of thumbs_down a user does\n",
    "n_thumbs_down = df_valid.select('userId','page').where(df_valid.page == 'Thumbs Down').groupBy('userId').count().withColumnRenamed('count', 'n_thumbs_down')\n",
    "df_n_thumbs_down= n_thumbs_down.withColumn('n_thumbs_down', n_thumbs_down.n_thumbs_down.cast('bigint'))\n",
    "df_n_thumbs_down.count()"
   ]
  },
  {
   "cell_type": "code",
   "execution_count": 172,
   "metadata": {},
   "outputs": [
    {
     "data": {
      "text/plain": [
       "[Row(userId='100010', n_thumbs_down=5), Row(userId='200002', n_thumbs_down=6)]"
      ]
     },
     "execution_count": 172,
     "metadata": {},
     "output_type": "execute_result"
    }
   ],
   "source": [
    "n_thumbs_down.take(2)"
   ]
  },
  {
   "cell_type": "code",
   "execution_count": 173,
   "metadata": {},
   "outputs": [
    {
     "data": {
      "text/plain": [
       "117"
      ]
     },
     "execution_count": 173,
     "metadata": {},
     "output_type": "execute_result"
    }
   ],
   "source": [
    "# Let's calculate the number of Error Pages a user experiments\n",
    "n_Errors = df_valid.select('userId','page').where(df_valid.page == 'Error').groupBy('userId').count().withColumnRenamed('count', 'n_Errors')\n",
    "df_n_Errors = n_Errors.withColumn('n_Errors', n_Errors.n_Errors.cast('bigint'))\n",
    "df_n_Errors.count()"
   ]
  },
  {
   "cell_type": "code",
   "execution_count": 174,
   "metadata": {},
   "outputs": [
    {
     "data": {
      "text/plain": [
       "[Row(userId='124', n_Errors=6), Row(userId='51', n_Errors=1)]"
      ]
     },
     "execution_count": 174,
     "metadata": {},
     "output_type": "execute_result"
    }
   ],
   "source": [
    "df_n_Errors.take(2)"
   ]
  },
  {
   "cell_type": "code",
   "execution_count": 175,
   "metadata": {},
   "outputs": [
    {
     "data": {
      "text/plain": [
       "206"
      ]
     },
     "execution_count": 175,
     "metadata": {},
     "output_type": "execute_result"
    }
   ],
   "source": [
    "# Let's calculate the number of friends a user adds\n",
    "n_friends = df_valid.select('userId','page').where(df_valid.page == 'Add Friend').groupBy('userId').count().withColumnRenamed('count', 'n_friends')\n",
    "df_n_friends= n_friends.withColumn('n_friends', n_friends.n_friends.cast('bigint'))\n",
    "df_n_friends.count()"
   ]
  },
  {
   "cell_type": "code",
   "execution_count": 176,
   "metadata": {},
   "outputs": [
    {
     "data": {
      "text/plain": [
       "[Row(userId='100010', n_friends=4), Row(userId='200002', n_friends=4)]"
      ]
     },
     "execution_count": 176,
     "metadata": {},
     "output_type": "execute_result"
    }
   ],
   "source": [
    "df_n_friends.take(2)"
   ]
  },
  {
   "cell_type": "code",
   "execution_count": 177,
   "metadata": {},
   "outputs": [
    {
     "data": {
      "text/plain": [
       "207"
      ]
     },
     "execution_count": 177,
     "metadata": {},
     "output_type": "execute_result"
    }
   ],
   "source": [
    "# Let's calculate the number of Roll Advert a user experiments\n",
    "n_Rolls = df_valid.select('userId','page').where(df_valid.page == 'Roll Advert').groupBy('userId').count().withColumnRenamed('count', 'n_Rolls')\n",
    "df_n_Rolls = n_Rolls.withColumn('n_Rolls', n_Rolls.n_Rolls.cast('bigint'))\n",
    "df_n_Rolls.count()"
   ]
  },
  {
   "cell_type": "code",
   "execution_count": 189,
   "metadata": {},
   "outputs": [
    {
     "data": {
      "text/plain": [
       "[Row(userId='100010', n_Rolls=52), Row(userId='200002', n_Rolls=7)]"
      ]
     },
     "execution_count": 189,
     "metadata": {},
     "output_type": "execute_result"
    }
   ],
   "source": [
    "df_n_Rolls.take(2)"
   ]
  },
  {
   "cell_type": "code",
   "execution_count": 190,
   "metadata": {},
   "outputs": [
    {
     "data": {
      "text/plain": [
       "192"
      ]
     },
     "execution_count": 190,
     "metadata": {},
     "output_type": "execute_result"
    }
   ],
   "source": [
    "# Let's calculate the number of Help a user visits\n",
    "n_Help = df_valid.select('userId','page').where(df_valid.page == 'Help').groupBy('userId').count().withColumnRenamed('count', 'n_Help')\n",
    "df_n_Help = n_Help.withColumn('n_Help', n_Help.n_Help.cast('bigint'))\n",
    "df_n_Help.count()"
   ]
  },
  {
   "cell_type": "code",
   "execution_count": 198,
   "metadata": {},
   "outputs": [
    {
     "data": {
      "text/plain": [
       "[Row(userId='100010', n_Help=2), Row(userId='200002', n_Help=2)]"
      ]
     },
     "execution_count": 198,
     "metadata": {},
     "output_type": "execute_result"
    }
   ],
   "source": [
    "df_n_Help.take(2)"
   ]
  },
  {
   "cell_type": "code",
   "execution_count": 199,
   "metadata": {},
   "outputs": [
    {
     "data": {
      "text/plain": [
       "225"
      ]
     },
     "execution_count": 199,
     "metadata": {},
     "output_type": "execute_result"
    }
   ],
   "source": [
    "# Let's calculate the membership time of a user\n",
    "#df_lifetime = df_valid.select('userId', 'subscription_days')\n",
    "df_subscription_days.count()"
   ]
  },
  {
   "cell_type": "code",
   "execution_count": 200,
   "metadata": {},
   "outputs": [
    {
     "data": {
      "text/plain": [
       "[Row(userId='100010', total_sdays=55.64365740740741),\n",
       " Row(userId='200002', total_sdays=70.07462962962963)]"
      ]
     },
     "execution_count": 200,
     "metadata": {},
     "output_type": "execute_result"
    }
   ],
   "source": [
    "df_subscription_days.take(2)"
   ]
  },
  {
   "cell_type": "code",
   "execution_count": 201,
   "metadata": {},
   "outputs": [
    {
     "data": {
      "text/plain": [
       "225"
      ]
     },
     "execution_count": 201,
     "metadata": {},
     "output_type": "execute_result"
    }
   ],
   "source": [
    "df_n_sessions.count()"
   ]
  },
  {
   "cell_type": "code",
   "execution_count": 202,
   "metadata": {},
   "outputs": [
    {
     "data": {
      "text/plain": [
       "[Row(userId='100010', n_sessions=7), Row(userId='200002', n_sessions=6)]"
      ]
     },
     "execution_count": 202,
     "metadata": {},
     "output_type": "execute_result"
    }
   ],
   "source": [
    "df_n_sessions.take(2)"
   ]
  },
  {
   "cell_type": "code",
   "execution_count": 203,
   "metadata": {},
   "outputs": [],
   "source": [
    "# Now let's collect all the previous features in a set\n",
    "features = [df_n_sessions, df_subscription_days,\n",
    "            df_gender, df_level, df_n_artists, df_n_songs, df_n_songs_play,\n",
    "            df_n_time_songs, df_n_avg_songs, df_n_thumbs_up, \n",
    "            df_n_thumbs_down, df_n_Errors, df_n_friends, df_n_Rolls, df_n_Help]"
   ]
  },
  {
   "cell_type": "code",
   "execution_count": 204,
   "metadata": {},
   "outputs": [
    {
     "name": "stdout",
     "output_type": "stream",
     "text": [
      "+-----+------+\n",
      "|churn| count|\n",
      "+-----+------+\n",
      "|    1|    52|\n",
      "|    0|278102|\n",
      "+-----+------+\n",
      "\n"
     ]
    }
   ],
   "source": [
    "# Let's check the number of churn users\n",
    "df_valid.groupby(\"churn\").count().show()"
   ]
  },
  {
   "cell_type": "code",
   "execution_count": 205,
   "metadata": {},
   "outputs": [],
   "source": [
    "# # Now let's collect all the previous features in a set\n",
    "\n",
    "final_features = df_churn.join(df_level,'userId','outer')\\\n",
    "     .join(df_n_artists,'userId','outer') \\\n",
    "     .join(df_n_songs,'userId','outer') \\\n",
    "     .join(df_n_songs_play,'userId','outer')\\\n",
    "     .join(df_n_thumbs_up,'userId','outer') \\\n",
    "     .join(df_n_thumbs_down,'userId','outer') \\\n",
    "     .join(df_n_Errors,'userId','outer') \\\n",
    "     .join(df_n_friends,'userId','outer') \\\n",
    "     .join(df_n_Rolls,'userId','outer') \\\n",
    "     .join(df_n_Help,'userId','outer') \\\n",
    "     .join(df_subscription_days,'userId','outer') \\\n",
    "     .join(df_n_sessions,'userId','outer') \\\n",
    "     .join(df_os,'userId','outer')"
   ]
  },
  {
   "cell_type": "code",
   "execution_count": 206,
   "metadata": {},
   "outputs": [
    {
     "name": "stdout",
     "output_type": "stream",
     "text": [
      "root\n",
      " |-- userId: string (nullable = true)\n",
      " |-- churn: integer (nullable = true)\n",
      " |-- level: integer (nullable = true)\n",
      " |-- n_artists: integer (nullable = true)\n",
      " |-- n_songs: double (nullable = true)\n",
      " |-- n_songs_play: double (nullable = true)\n",
      " |-- n_thumbs_up: long (nullable = true)\n",
      " |-- n_thumbs_down: long (nullable = true)\n",
      " |-- n_Errors: long (nullable = true)\n",
      " |-- n_friends: long (nullable = true)\n",
      " |-- n_Rolls: long (nullable = true)\n",
      " |-- n_Help: long (nullable = true)\n",
      " |-- total_sdays: double (nullable = true)\n",
      " |-- n_sessions: long (nullable = true)\n",
      " |-- IPAD: long (nullable = true)\n",
      " |-- IPHONE: long (nullable = true)\n",
      " |-- LINUX: long (nullable = true)\n",
      " |-- MAC: long (nullable = true)\n",
      " |-- WINDOWS: long (nullable = true)\n",
      "\n"
     ]
    }
   ],
   "source": [
    "# Let's have a general overview of the final features dataframe\n",
    "final_features.printSchema()"
   ]
  },
  {
   "cell_type": "code",
   "execution_count": 207,
   "metadata": {},
   "outputs": [
    {
     "name": "stdout",
     "output_type": "stream",
     "text": [
      "+-----+-----+\n",
      "|churn|count|\n",
      "+-----+-----+\n",
      "|    1|   52|\n",
      "|    0|  173|\n",
      "+-----+-----+\n",
      "\n"
     ]
    }
   ],
   "source": [
    "# Let's check if churn proportion maintains (as I had some problems with this)\n",
    "final_features.groupby(\"churn\").count().show()"
   ]
  },
  {
   "cell_type": "code",
   "execution_count": 208,
   "metadata": {},
   "outputs": [
    {
     "name": "stdout",
     "output_type": "stream",
     "text": [
      "The number of rows is 225 and the number of columns is 19\n"
     ]
    }
   ],
   "source": [
    "# Let's see the size of the final features dataframe\n",
    "rows = final_features.count()\n",
    "cols = len(final_features.columns)\n",
    "print(\"The number of rows is {} and the number of columns is {}\".format(rows, cols))"
   ]
  },
  {
   "cell_type": "code",
   "execution_count": 209,
   "metadata": {},
   "outputs": [],
   "source": [
    "# We don't need userId, as we will predict if a user will churn, but we are not interested in the id of that user\n",
    "final_features = final_features.drop('userId', 'sessionId')"
   ]
  },
  {
   "cell_type": "code",
   "execution_count": 210,
   "metadata": {},
   "outputs": [],
   "source": [
    "# But we need to imputate nulls with a value, 0 for instance\n",
    "final_features= final_features.na.fill(0)"
   ]
  },
  {
   "cell_type": "code",
   "execution_count": 211,
   "metadata": {},
   "outputs": [
    {
     "name": "stdout",
     "output_type": "stream",
     "text": [
      "+-----+-----+---------+-------+------------+-----------+-------------+--------+---------+-------+------+-----------------+----------+----+------+-----+---+-------+\n",
      "|churn|level|n_artists|n_songs|n_songs_play|n_thumbs_up|n_thumbs_down|n_Errors|n_friends|n_Rolls|n_Help|      total_sdays|n_sessions|IPAD|IPHONE|LINUX|MAC|WINDOWS|\n",
      "+-----+-----+---------+-------+------------+-----------+-------------+--------+---------+-------+------+-----------------+----------+----+------+-----+---+-------+\n",
      "|    0|    0|      252|  381.0|         7.0|         17|            5|       0|        4|     52|     2|55.64365740740741|         7|   0|     1|    0|  0|      0|\n",
      "|    0|    1|      339|  474.0|         8.0|         21|            6|       0|        4|      7|     2|70.07462962962963|         6|   0|     1|    0|  0|      0|\n",
      "+-----+-----+---------+-------+------------+-----------+-------------+--------+---------+-------+------+-----------------+----------+----+------+-----+---+-------+\n",
      "only showing top 2 rows\n",
      "\n"
     ]
    }
   ],
   "source": [
    "final_features.show(2)"
   ]
  },
  {
   "cell_type": "markdown",
   "metadata": {},
   "source": [
    "# Modeling\n",
    "Split the full dataset into train, test, and validation sets. Test out several of the machine learning methods you learned. Evaluate the accuracy of the various models, tuning parameters as necessary. Determine your winning model based on test accuracy and report results on the validation set. Since the churned users are a fairly small subset, I suggest using F1 score as the metric to optimize."
   ]
  },
  {
   "cell_type": "code",
   "execution_count": 212,
   "metadata": {},
   "outputs": [],
   "source": [
    "# Change the name of the churn column into label, that will be the feature to predict\n",
    "final_features = final_features.withColumnRenamed(\"churn\",\"label\")"
   ]
  },
  {
   "cell_type": "code",
   "execution_count": 213,
   "metadata": {},
   "outputs": [
    {
     "name": "stdout",
     "output_type": "stream",
     "text": [
      "root\n",
      " |-- label: integer (nullable = true)\n",
      " |-- level: integer (nullable = true)\n",
      " |-- n_artists: integer (nullable = true)\n",
      " |-- n_songs: double (nullable = false)\n",
      " |-- n_songs_play: double (nullable = false)\n",
      " |-- n_thumbs_up: long (nullable = true)\n",
      " |-- n_thumbs_down: long (nullable = true)\n",
      " |-- n_Errors: long (nullable = true)\n",
      " |-- n_friends: long (nullable = true)\n",
      " |-- n_Rolls: long (nullable = true)\n",
      " |-- n_Help: long (nullable = true)\n",
      " |-- total_sdays: double (nullable = false)\n",
      " |-- n_sessions: long (nullable = true)\n",
      " |-- IPAD: long (nullable = true)\n",
      " |-- IPHONE: long (nullable = true)\n",
      " |-- LINUX: long (nullable = true)\n",
      " |-- MAC: long (nullable = true)\n",
      " |-- WINDOWS: long (nullable = true)\n",
      "\n"
     ]
    }
   ],
   "source": [
    "final_features.printSchema()"
   ]
  },
  {
   "cell_type": "code",
   "execution_count": 214,
   "metadata": {},
   "outputs": [],
   "source": [
    "numerical_features = final_features"
   ]
  },
  {
   "cell_type": "code",
   "execution_count": 215,
   "metadata": {},
   "outputs": [],
   "source": [
    "ff_pandas = numerical_features.toPandas()"
   ]
  },
  {
   "cell_type": "code",
   "execution_count": 216,
   "metadata": {},
   "outputs": [
    {
     "data": {
      "text/plain": [
       "(225, 18)"
      ]
     },
     "execution_count": 216,
     "metadata": {},
     "output_type": "execute_result"
    }
   ],
   "source": [
    "ff_pandas.shape"
   ]
  },
  {
   "cell_type": "code",
   "execution_count": 217,
   "metadata": {},
   "outputs": [],
   "source": [
    "columns_features = numerical_features.columns"
   ]
  },
  {
   "cell_type": "code",
   "execution_count": 218,
   "metadata": {},
   "outputs": [
    {
     "data": {
      "text/plain": [
       "['label',\n",
       " 'level',\n",
       " 'n_artists',\n",
       " 'n_songs',\n",
       " 'n_songs_play',\n",
       " 'n_thumbs_up',\n",
       " 'n_thumbs_down',\n",
       " 'n_Errors',\n",
       " 'n_friends',\n",
       " 'n_Rolls',\n",
       " 'n_Help',\n",
       " 'total_sdays',\n",
       " 'n_sessions',\n",
       " 'IPAD',\n",
       " 'IPHONE',\n",
       " 'LINUX',\n",
       " 'MAC',\n",
       " 'WINDOWS']"
      ]
     },
     "execution_count": 218,
     "metadata": {},
     "output_type": "execute_result"
    }
   ],
   "source": [
    "columns_features"
   ]
  },
  {
   "cell_type": "code",
   "execution_count": 219,
   "metadata": {
    "scrolled": true
   },
   "outputs": [
    {
     "data": {
      "text/html": [
       "<div>\n",
       "<style scoped>\n",
       "    .dataframe tbody tr th:only-of-type {\n",
       "        vertical-align: middle;\n",
       "    }\n",
       "\n",
       "    .dataframe tbody tr th {\n",
       "        vertical-align: top;\n",
       "    }\n",
       "\n",
       "    .dataframe thead th {\n",
       "        text-align: right;\n",
       "    }\n",
       "</style>\n",
       "<table border=\"1\" class=\"dataframe\">\n",
       "  <thead>\n",
       "    <tr style=\"text-align: right;\">\n",
       "      <th></th>\n",
       "      <th>label</th>\n",
       "      <th>level</th>\n",
       "      <th>n_artists</th>\n",
       "      <th>n_songs</th>\n",
       "      <th>n_songs_play</th>\n",
       "      <th>n_thumbs_up</th>\n",
       "      <th>n_thumbs_down</th>\n",
       "      <th>n_Errors</th>\n",
       "      <th>n_friends</th>\n",
       "      <th>n_Rolls</th>\n",
       "      <th>n_Help</th>\n",
       "      <th>total_sdays</th>\n",
       "      <th>n_sessions</th>\n",
       "      <th>IPAD</th>\n",
       "      <th>IPHONE</th>\n",
       "      <th>LINUX</th>\n",
       "      <th>MAC</th>\n",
       "      <th>WINDOWS</th>\n",
       "    </tr>\n",
       "  </thead>\n",
       "  <tbody>\n",
       "    <tr>\n",
       "      <th>label</th>\n",
       "      <td>1.000000</td>\n",
       "      <td>-0.055309</td>\n",
       "      <td>-0.161657</td>\n",
       "      <td>-0.154349</td>\n",
       "      <td>-0.151875</td>\n",
       "      <td>-0.168105</td>\n",
       "      <td>-0.074668</td>\n",
       "      <td>-0.188287</td>\n",
       "      <td>-0.180956</td>\n",
       "      <td>0.028459</td>\n",
       "      <td>-0.141573</td>\n",
       "      <td>-0.328849</td>\n",
       "      <td>-0.142129</td>\n",
       "      <td>-0.063733</td>\n",
       "      <td>0.044987</td>\n",
       "      <td>0.104480</td>\n",
       "      <td>-0.018997</td>\n",
       "      <td>-0.034866</td>\n",
       "    </tr>\n",
       "    <tr>\n",
       "      <th>level</th>\n",
       "      <td>-0.055309</td>\n",
       "      <td>1.000000</td>\n",
       "      <td>0.475360</td>\n",
       "      <td>0.398479</td>\n",
       "      <td>0.393178</td>\n",
       "      <td>0.402981</td>\n",
       "      <td>0.286223</td>\n",
       "      <td>0.319744</td>\n",
       "      <td>0.402711</td>\n",
       "      <td>-0.162186</td>\n",
       "      <td>0.371286</td>\n",
       "      <td>0.138480</td>\n",
       "      <td>0.244118</td>\n",
       "      <td>0.005397</td>\n",
       "      <td>-0.094620</td>\n",
       "      <td>0.052340</td>\n",
       "      <td>-0.103603</td>\n",
       "      <td>0.120094</td>\n",
       "    </tr>\n",
       "    <tr>\n",
       "      <th>n_artists</th>\n",
       "      <td>-0.161657</td>\n",
       "      <td>0.475360</td>\n",
       "      <td>1.000000</td>\n",
       "      <td>0.981784</td>\n",
       "      <td>0.968319</td>\n",
       "      <td>0.929048</td>\n",
       "      <td>0.842385</td>\n",
       "      <td>0.706703</td>\n",
       "      <td>0.928800</td>\n",
       "      <td>0.327223</td>\n",
       "      <td>0.928123</td>\n",
       "      <td>0.238596</td>\n",
       "      <td>0.862178</td>\n",
       "      <td>0.201194</td>\n",
       "      <td>-0.077568</td>\n",
       "      <td>-0.090479</td>\n",
       "      <td>-0.021423</td>\n",
       "      <td>0.051530</td>\n",
       "    </tr>\n",
       "    <tr>\n",
       "      <th>n_songs</th>\n",
       "      <td>-0.154349</td>\n",
       "      <td>0.398479</td>\n",
       "      <td>0.981784</td>\n",
       "      <td>1.000000</td>\n",
       "      <td>0.986671</td>\n",
       "      <td>0.944133</td>\n",
       "      <td>0.857913</td>\n",
       "      <td>0.704089</td>\n",
       "      <td>0.949088</td>\n",
       "      <td>0.380858</td>\n",
       "      <td>0.942175</td>\n",
       "      <td>0.227225</td>\n",
       "      <td>0.905657</td>\n",
       "      <td>0.224107</td>\n",
       "      <td>-0.070060</td>\n",
       "      <td>-0.087582</td>\n",
       "      <td>-0.024598</td>\n",
       "      <td>0.044552</td>\n",
       "    </tr>\n",
       "    <tr>\n",
       "      <th>n_songs_play</th>\n",
       "      <td>-0.151875</td>\n",
       "      <td>0.393178</td>\n",
       "      <td>0.968319</td>\n",
       "      <td>0.986671</td>\n",
       "      <td>1.000000</td>\n",
       "      <td>0.939989</td>\n",
       "      <td>0.831258</td>\n",
       "      <td>0.681602</td>\n",
       "      <td>0.929507</td>\n",
       "      <td>0.343019</td>\n",
       "      <td>0.928972</td>\n",
       "      <td>0.219826</td>\n",
       "      <td>0.891548</td>\n",
       "      <td>0.242138</td>\n",
       "      <td>-0.063638</td>\n",
       "      <td>-0.094556</td>\n",
       "      <td>-0.008793</td>\n",
       "      <td>0.025192</td>\n",
       "    </tr>\n",
       "    <tr>\n",
       "      <th>n_thumbs_up</th>\n",
       "      <td>-0.168105</td>\n",
       "      <td>0.402981</td>\n",
       "      <td>0.929048</td>\n",
       "      <td>0.944133</td>\n",
       "      <td>0.939989</td>\n",
       "      <td>1.000000</td>\n",
       "      <td>0.778244</td>\n",
       "      <td>0.670309</td>\n",
       "      <td>0.902834</td>\n",
       "      <td>0.265990</td>\n",
       "      <td>0.889711</td>\n",
       "      <td>0.224662</td>\n",
       "      <td>0.883138</td>\n",
       "      <td>0.178320</td>\n",
       "      <td>-0.052531</td>\n",
       "      <td>-0.080044</td>\n",
       "      <td>-0.023697</td>\n",
       "      <td>0.042613</td>\n",
       "    </tr>\n",
       "    <tr>\n",
       "      <th>n_thumbs_down</th>\n",
       "      <td>-0.074668</td>\n",
       "      <td>0.286223</td>\n",
       "      <td>0.842385</td>\n",
       "      <td>0.857913</td>\n",
       "      <td>0.831258</td>\n",
       "      <td>0.778244</td>\n",
       "      <td>1.000000</td>\n",
       "      <td>0.595875</td>\n",
       "      <td>0.823676</td>\n",
       "      <td>0.483808</td>\n",
       "      <td>0.788749</td>\n",
       "      <td>0.178605</td>\n",
       "      <td>0.832234</td>\n",
       "      <td>0.219913</td>\n",
       "      <td>-0.068761</td>\n",
       "      <td>-0.087597</td>\n",
       "      <td>0.004109</td>\n",
       "      <td>0.017014</td>\n",
       "    </tr>\n",
       "    <tr>\n",
       "      <th>n_Errors</th>\n",
       "      <td>-0.188287</td>\n",
       "      <td>0.319744</td>\n",
       "      <td>0.706703</td>\n",
       "      <td>0.704089</td>\n",
       "      <td>0.681602</td>\n",
       "      <td>0.670309</td>\n",
       "      <td>0.595875</td>\n",
       "      <td>1.000000</td>\n",
       "      <td>0.667941</td>\n",
       "      <td>0.150245</td>\n",
       "      <td>0.659052</td>\n",
       "      <td>0.209340</td>\n",
       "      <td>0.600412</td>\n",
       "      <td>0.069622</td>\n",
       "      <td>-0.046152</td>\n",
       "      <td>-0.100155</td>\n",
       "      <td>-0.014441</td>\n",
       "      <td>0.064616</td>\n",
       "    </tr>\n",
       "    <tr>\n",
       "      <th>n_friends</th>\n",
       "      <td>-0.180956</td>\n",
       "      <td>0.402711</td>\n",
       "      <td>0.928800</td>\n",
       "      <td>0.949088</td>\n",
       "      <td>0.929507</td>\n",
       "      <td>0.902834</td>\n",
       "      <td>0.823676</td>\n",
       "      <td>0.667941</td>\n",
       "      <td>1.000000</td>\n",
       "      <td>0.367850</td>\n",
       "      <td>0.889177</td>\n",
       "      <td>0.204647</td>\n",
       "      <td>0.871090</td>\n",
       "      <td>0.222604</td>\n",
       "      <td>-0.074313</td>\n",
       "      <td>-0.045372</td>\n",
       "      <td>-0.025727</td>\n",
       "      <td>0.029009</td>\n",
       "    </tr>\n",
       "    <tr>\n",
       "      <th>n_Rolls</th>\n",
       "      <td>0.028459</td>\n",
       "      <td>-0.162186</td>\n",
       "      <td>0.327223</td>\n",
       "      <td>0.380858</td>\n",
       "      <td>0.343019</td>\n",
       "      <td>0.265990</td>\n",
       "      <td>0.483808</td>\n",
       "      <td>0.150245</td>\n",
       "      <td>0.367850</td>\n",
       "      <td>1.000000</td>\n",
       "      <td>0.369635</td>\n",
       "      <td>0.108197</td>\n",
       "      <td>0.570229</td>\n",
       "      <td>0.114541</td>\n",
       "      <td>0.057370</td>\n",
       "      <td>-0.073370</td>\n",
       "      <td>-0.019686</td>\n",
       "      <td>-0.000943</td>\n",
       "    </tr>\n",
       "    <tr>\n",
       "      <th>n_Help</th>\n",
       "      <td>-0.141573</td>\n",
       "      <td>0.371286</td>\n",
       "      <td>0.928123</td>\n",
       "      <td>0.942175</td>\n",
       "      <td>0.928972</td>\n",
       "      <td>0.889711</td>\n",
       "      <td>0.788749</td>\n",
       "      <td>0.659052</td>\n",
       "      <td>0.889177</td>\n",
       "      <td>0.369635</td>\n",
       "      <td>1.000000</td>\n",
       "      <td>0.202514</td>\n",
       "      <td>0.863092</td>\n",
       "      <td>0.228498</td>\n",
       "      <td>-0.097553</td>\n",
       "      <td>-0.097295</td>\n",
       "      <td>-0.006013</td>\n",
       "      <td>0.042678</td>\n",
       "    </tr>\n",
       "    <tr>\n",
       "      <th>total_sdays</th>\n",
       "      <td>-0.328849</td>\n",
       "      <td>0.138480</td>\n",
       "      <td>0.238596</td>\n",
       "      <td>0.227225</td>\n",
       "      <td>0.219826</td>\n",
       "      <td>0.224662</td>\n",
       "      <td>0.178605</td>\n",
       "      <td>0.209340</td>\n",
       "      <td>0.204647</td>\n",
       "      <td>0.108197</td>\n",
       "      <td>0.202514</td>\n",
       "      <td>1.000000</td>\n",
       "      <td>0.204714</td>\n",
       "      <td>-0.060161</td>\n",
       "      <td>0.021153</td>\n",
       "      <td>-0.052386</td>\n",
       "      <td>0.045915</td>\n",
       "      <td>-0.017153</td>\n",
       "    </tr>\n",
       "    <tr>\n",
       "      <th>n_sessions</th>\n",
       "      <td>-0.142129</td>\n",
       "      <td>0.244118</td>\n",
       "      <td>0.862178</td>\n",
       "      <td>0.905657</td>\n",
       "      <td>0.891548</td>\n",
       "      <td>0.883138</td>\n",
       "      <td>0.832234</td>\n",
       "      <td>0.600412</td>\n",
       "      <td>0.871090</td>\n",
       "      <td>0.570229</td>\n",
       "      <td>0.863092</td>\n",
       "      <td>0.204714</td>\n",
       "      <td>1.000000</td>\n",
       "      <td>0.208546</td>\n",
       "      <td>-0.034543</td>\n",
       "      <td>-0.060075</td>\n",
       "      <td>-0.026872</td>\n",
       "      <td>0.021395</td>\n",
       "    </tr>\n",
       "    <tr>\n",
       "      <th>IPAD</th>\n",
       "      <td>-0.063733</td>\n",
       "      <td>0.005397</td>\n",
       "      <td>0.201194</td>\n",
       "      <td>0.224107</td>\n",
       "      <td>0.242138</td>\n",
       "      <td>0.178320</td>\n",
       "      <td>0.219913</td>\n",
       "      <td>0.069622</td>\n",
       "      <td>0.222604</td>\n",
       "      <td>0.114541</td>\n",
       "      <td>0.228498</td>\n",
       "      <td>-0.060161</td>\n",
       "      <td>0.208546</td>\n",
       "      <td>1.000000</td>\n",
       "      <td>-0.028786</td>\n",
       "      <td>-0.027592</td>\n",
       "      <td>-0.091438</td>\n",
       "      <td>-0.114708</td>\n",
       "    </tr>\n",
       "    <tr>\n",
       "      <th>IPHONE</th>\n",
       "      <td>0.044987</td>\n",
       "      <td>-0.094620</td>\n",
       "      <td>-0.077568</td>\n",
       "      <td>-0.070060</td>\n",
       "      <td>-0.063638</td>\n",
       "      <td>-0.052531</td>\n",
       "      <td>-0.068761</td>\n",
       "      <td>-0.046152</td>\n",
       "      <td>-0.074313</td>\n",
       "      <td>0.057370</td>\n",
       "      <td>-0.097553</td>\n",
       "      <td>0.021153</td>\n",
       "      <td>-0.034543</td>\n",
       "      <td>-0.028786</td>\n",
       "      <td>1.000000</td>\n",
       "      <td>-0.058777</td>\n",
       "      <td>-0.194781</td>\n",
       "      <td>-0.244350</td>\n",
       "    </tr>\n",
       "    <tr>\n",
       "      <th>LINUX</th>\n",
       "      <td>0.104480</td>\n",
       "      <td>0.052340</td>\n",
       "      <td>-0.090479</td>\n",
       "      <td>-0.087582</td>\n",
       "      <td>-0.094556</td>\n",
       "      <td>-0.080044</td>\n",
       "      <td>-0.087597</td>\n",
       "      <td>-0.100155</td>\n",
       "      <td>-0.045372</td>\n",
       "      <td>-0.073370</td>\n",
       "      <td>-0.097295</td>\n",
       "      <td>-0.052386</td>\n",
       "      <td>-0.060075</td>\n",
       "      <td>-0.027592</td>\n",
       "      <td>-0.058777</td>\n",
       "      <td>1.000000</td>\n",
       "      <td>-0.186699</td>\n",
       "      <td>-0.234212</td>\n",
       "    </tr>\n",
       "    <tr>\n",
       "      <th>MAC</th>\n",
       "      <td>-0.018997</td>\n",
       "      <td>-0.103603</td>\n",
       "      <td>-0.021423</td>\n",
       "      <td>-0.024598</td>\n",
       "      <td>-0.008793</td>\n",
       "      <td>-0.023697</td>\n",
       "      <td>0.004109</td>\n",
       "      <td>-0.014441</td>\n",
       "      <td>-0.025727</td>\n",
       "      <td>-0.019686</td>\n",
       "      <td>-0.006013</td>\n",
       "      <td>0.045915</td>\n",
       "      <td>-0.026872</td>\n",
       "      <td>-0.091438</td>\n",
       "      <td>-0.194781</td>\n",
       "      <td>-0.186699</td>\n",
       "      <td>1.000000</td>\n",
       "      <td>-0.776159</td>\n",
       "    </tr>\n",
       "    <tr>\n",
       "      <th>WINDOWS</th>\n",
       "      <td>-0.034866</td>\n",
       "      <td>0.120094</td>\n",
       "      <td>0.051530</td>\n",
       "      <td>0.044552</td>\n",
       "      <td>0.025192</td>\n",
       "      <td>0.042613</td>\n",
       "      <td>0.017014</td>\n",
       "      <td>0.064616</td>\n",
       "      <td>0.029009</td>\n",
       "      <td>-0.000943</td>\n",
       "      <td>0.042678</td>\n",
       "      <td>-0.017153</td>\n",
       "      <td>0.021395</td>\n",
       "      <td>-0.114708</td>\n",
       "      <td>-0.244350</td>\n",
       "      <td>-0.234212</td>\n",
       "      <td>-0.776159</td>\n",
       "      <td>1.000000</td>\n",
       "    </tr>\n",
       "  </tbody>\n",
       "</table>\n",
       "</div>"
      ],
      "text/plain": [
       "                  label     level  n_artists   n_songs  n_songs_play  \\\n",
       "label          1.000000 -0.055309  -0.161657 -0.154349     -0.151875   \n",
       "level         -0.055309  1.000000   0.475360  0.398479      0.393178   \n",
       "n_artists     -0.161657  0.475360   1.000000  0.981784      0.968319   \n",
       "n_songs       -0.154349  0.398479   0.981784  1.000000      0.986671   \n",
       "n_songs_play  -0.151875  0.393178   0.968319  0.986671      1.000000   \n",
       "n_thumbs_up   -0.168105  0.402981   0.929048  0.944133      0.939989   \n",
       "n_thumbs_down -0.074668  0.286223   0.842385  0.857913      0.831258   \n",
       "n_Errors      -0.188287  0.319744   0.706703  0.704089      0.681602   \n",
       "n_friends     -0.180956  0.402711   0.928800  0.949088      0.929507   \n",
       "n_Rolls        0.028459 -0.162186   0.327223  0.380858      0.343019   \n",
       "n_Help        -0.141573  0.371286   0.928123  0.942175      0.928972   \n",
       "total_sdays   -0.328849  0.138480   0.238596  0.227225      0.219826   \n",
       "n_sessions    -0.142129  0.244118   0.862178  0.905657      0.891548   \n",
       "IPAD          -0.063733  0.005397   0.201194  0.224107      0.242138   \n",
       "IPHONE         0.044987 -0.094620  -0.077568 -0.070060     -0.063638   \n",
       "LINUX          0.104480  0.052340  -0.090479 -0.087582     -0.094556   \n",
       "MAC           -0.018997 -0.103603  -0.021423 -0.024598     -0.008793   \n",
       "WINDOWS       -0.034866  0.120094   0.051530  0.044552      0.025192   \n",
       "\n",
       "               n_thumbs_up  n_thumbs_down  n_Errors  n_friends   n_Rolls  \\\n",
       "label            -0.168105      -0.074668 -0.188287  -0.180956  0.028459   \n",
       "level             0.402981       0.286223  0.319744   0.402711 -0.162186   \n",
       "n_artists         0.929048       0.842385  0.706703   0.928800  0.327223   \n",
       "n_songs           0.944133       0.857913  0.704089   0.949088  0.380858   \n",
       "n_songs_play      0.939989       0.831258  0.681602   0.929507  0.343019   \n",
       "n_thumbs_up       1.000000       0.778244  0.670309   0.902834  0.265990   \n",
       "n_thumbs_down     0.778244       1.000000  0.595875   0.823676  0.483808   \n",
       "n_Errors          0.670309       0.595875  1.000000   0.667941  0.150245   \n",
       "n_friends         0.902834       0.823676  0.667941   1.000000  0.367850   \n",
       "n_Rolls           0.265990       0.483808  0.150245   0.367850  1.000000   \n",
       "n_Help            0.889711       0.788749  0.659052   0.889177  0.369635   \n",
       "total_sdays       0.224662       0.178605  0.209340   0.204647  0.108197   \n",
       "n_sessions        0.883138       0.832234  0.600412   0.871090  0.570229   \n",
       "IPAD              0.178320       0.219913  0.069622   0.222604  0.114541   \n",
       "IPHONE           -0.052531      -0.068761 -0.046152  -0.074313  0.057370   \n",
       "LINUX            -0.080044      -0.087597 -0.100155  -0.045372 -0.073370   \n",
       "MAC              -0.023697       0.004109 -0.014441  -0.025727 -0.019686   \n",
       "WINDOWS           0.042613       0.017014  0.064616   0.029009 -0.000943   \n",
       "\n",
       "                 n_Help  total_sdays  n_sessions      IPAD    IPHONE  \\\n",
       "label         -0.141573    -0.328849   -0.142129 -0.063733  0.044987   \n",
       "level          0.371286     0.138480    0.244118  0.005397 -0.094620   \n",
       "n_artists      0.928123     0.238596    0.862178  0.201194 -0.077568   \n",
       "n_songs        0.942175     0.227225    0.905657  0.224107 -0.070060   \n",
       "n_songs_play   0.928972     0.219826    0.891548  0.242138 -0.063638   \n",
       "n_thumbs_up    0.889711     0.224662    0.883138  0.178320 -0.052531   \n",
       "n_thumbs_down  0.788749     0.178605    0.832234  0.219913 -0.068761   \n",
       "n_Errors       0.659052     0.209340    0.600412  0.069622 -0.046152   \n",
       "n_friends      0.889177     0.204647    0.871090  0.222604 -0.074313   \n",
       "n_Rolls        0.369635     0.108197    0.570229  0.114541  0.057370   \n",
       "n_Help         1.000000     0.202514    0.863092  0.228498 -0.097553   \n",
       "total_sdays    0.202514     1.000000    0.204714 -0.060161  0.021153   \n",
       "n_sessions     0.863092     0.204714    1.000000  0.208546 -0.034543   \n",
       "IPAD           0.228498    -0.060161    0.208546  1.000000 -0.028786   \n",
       "IPHONE        -0.097553     0.021153   -0.034543 -0.028786  1.000000   \n",
       "LINUX         -0.097295    -0.052386   -0.060075 -0.027592 -0.058777   \n",
       "MAC           -0.006013     0.045915   -0.026872 -0.091438 -0.194781   \n",
       "WINDOWS        0.042678    -0.017153    0.021395 -0.114708 -0.244350   \n",
       "\n",
       "                  LINUX       MAC   WINDOWS  \n",
       "label          0.104480 -0.018997 -0.034866  \n",
       "level          0.052340 -0.103603  0.120094  \n",
       "n_artists     -0.090479 -0.021423  0.051530  \n",
       "n_songs       -0.087582 -0.024598  0.044552  \n",
       "n_songs_play  -0.094556 -0.008793  0.025192  \n",
       "n_thumbs_up   -0.080044 -0.023697  0.042613  \n",
       "n_thumbs_down -0.087597  0.004109  0.017014  \n",
       "n_Errors      -0.100155 -0.014441  0.064616  \n",
       "n_friends     -0.045372 -0.025727  0.029009  \n",
       "n_Rolls       -0.073370 -0.019686 -0.000943  \n",
       "n_Help        -0.097295 -0.006013  0.042678  \n",
       "total_sdays   -0.052386  0.045915 -0.017153  \n",
       "n_sessions    -0.060075 -0.026872  0.021395  \n",
       "IPAD          -0.027592 -0.091438 -0.114708  \n",
       "IPHONE        -0.058777 -0.194781 -0.244350  \n",
       "LINUX          1.000000 -0.186699 -0.234212  \n",
       "MAC           -0.186699  1.000000 -0.776159  \n",
       "WINDOWS       -0.234212 -0.776159  1.000000  "
      ]
     },
     "execution_count": 219,
     "metadata": {},
     "output_type": "execute_result"
    }
   ],
   "source": [
    "# Let's calculate the correlation matrix to see if there are \n",
    "# correlation between features\n",
    "corr = final_features.toPandas().corr()\n",
    "corr"
   ]
  },
  {
   "cell_type": "code",
   "execution_count": 220,
   "metadata": {},
   "outputs": [
    {
     "data": {
      "image/png": "[encoded data removed]",
      "text/plain": [
       "<matplotlib.figure.Figure at 0x7fd8d63fb668>"
      ]
     },
     "metadata": {
      "needs_background": "light"
     },
     "output_type": "display_data"
    }
   ],
   "source": [
    "# Let's plot a heatmap with the correlation of the variables\n",
    "# we can see there are some correlated features, such as number of songs and the number of artist, \n",
    "# that are related, the number of songs added to the playlist\n",
    "sns.heatmap(corr, xticklabels=corr.columns, yticklabels=corr.columns,  cmap=\"Blues\");"
   ]
  },
  {
   "cell_type": "code",
   "execution_count": 221,
   "metadata": {
    "scrolled": true
   },
   "outputs": [
    {
     "data": {
      "text/plain": [
       "DataFrame[label: int, level: int, n_artists: int, n_songs: double, n_songs_play: double, n_thumbs_up: bigint, n_thumbs_down: bigint, n_Errors: bigint, n_friends: bigint, n_Rolls: bigint, n_Help: bigint, total_sdays: double, n_sessions: bigint, IPAD: bigint, IPHONE: bigint, LINUX: bigint, MAC: bigint, WINDOWS: bigint, NumFeatures: vector]"
      ]
     },
     "execution_count": 221,
     "metadata": {},
     "output_type": "execute_result"
    }
   ],
   "source": [
    "# First we have to vectorize our features with a VectorAssembler\n",
    "# because SparkML requires a vector of features\n",
    "assembler = VectorAssembler(inputCols=columns_features[1:], outputCol=\"NumFeatures\")\n",
    "df = assembler.transform(numerical_features)\n",
    "df"
   ]
  },
  {
   "cell_type": "code",
   "execution_count": 222,
   "metadata": {},
   "outputs": [
    {
     "data": {
      "text/plain": [
       "DataFrame[label: int, level: int, n_artists: int, n_songs: double, n_songs_play: double, n_thumbs_up: bigint, n_thumbs_down: bigint, n_Errors: bigint, n_friends: bigint, n_Rolls: bigint, n_Help: bigint, total_sdays: double, n_sessions: bigint, IPAD: bigint, IPHONE: bigint, LINUX: bigint, MAC: bigint, WINDOWS: bigint, NumFeatures: vector, features: vector]"
      ]
     },
     "execution_count": 222,
     "metadata": {},
     "output_type": "execute_result"
    }
   ],
   "source": [
    "# The second step is to standardize the features, to avoid that a feature that has higher values,\n",
    "# dominates the rest of features\n",
    "# To do that we use the StandardScaler method (scaling the standard deviation) \n",
    "scaler = StandardScaler(inputCol=\"NumFeatures\", outputCol=\"features\", withStd=True)\n",
    "scalerModel = scaler.fit(df)\n",
    "df = scalerModel.transform(df)\n",
    "df"
   ]
  },
  {
   "cell_type": "code",
   "execution_count": 223,
   "metadata": {},
   "outputs": [],
   "source": [
    "# We eliminate NumFeatures column as we don't need it anymore\n",
    "df = df.drop('NumFeatures')"
   ]
  },
  {
   "cell_type": "code",
   "execution_count": 224,
   "metadata": {},
   "outputs": [
    {
     "data": {
      "text/plain": [
       "[Row(label=0, level=0, n_artists=252, n_songs=381.0, n_songs_play=7.0, n_thumbs_up=17, n_thumbs_down=5, n_Errors=0, n_friends=4, n_Rolls=52, n_Help=2, total_sdays=55.64365740740741, n_sessions=7, IPAD=0, IPHONE=1, LINUX=0, MAC=0, WINDOWS=0, features=DenseVector([0.0, 0.4173, 0.2866, 0.214, 0.2596, 0.3823, 0.0, 0.1943, 2.413, 0.2761, 1.4775, 0.4779, 0.0, 4.2764, 0.0, 0.0, 0.0])),\n",
       " Row(label=0, level=1, n_artists=339, n_songs=474.0, n_songs_play=8.0, n_thumbs_up=21, n_thumbs_down=6, n_Errors=0, n_friends=4, n_Rolls=7, n_Help=2, total_sdays=70.07462962962963, n_sessions=6, IPAD=0, IPHONE=1, LINUX=0, MAC=0, WINDOWS=0, features=DenseVector([2.0844, 0.5613, 0.3565, 0.2445, 0.3207, 0.4588, 0.0, 0.1943, 0.3248, 0.2761, 1.8606, 0.4096, 0.0, 4.2764, 0.0, 0.0, 0.0]))]"
      ]
     },
     "execution_count": 224,
     "metadata": {},
     "output_type": "execute_result"
    }
   ],
   "source": [
    "df.take(2)"
   ]
  },
  {
   "cell_type": "code",
   "execution_count": 225,
   "metadata": {},
   "outputs": [],
   "source": [
    "df_final = df.select('label','features')"
   ]
  },
  {
   "cell_type": "code",
   "execution_count": 226,
   "metadata": {},
   "outputs": [
    {
     "data": {
      "text/plain": [
       "[Row(label=0, features=DenseVector([0.0, 0.4173, 0.2866, 0.214, 0.2596, 0.3823, 0.0, 0.1943, 2.413, 0.2761, 1.4775, 0.4779, 0.0, 4.2764, 0.0, 0.0, 0.0])),\n",
       " Row(label=0, features=DenseVector([2.0844, 0.5613, 0.3565, 0.2445, 0.3207, 0.4588, 0.0, 0.1943, 0.3248, 0.2761, 1.8606, 0.4096, 0.0, 4.2764, 0.0, 0.0, 0.0])),\n",
       " Row(label=1, features=SparseVector(17, {1: 0.0132, 2: 0.0083, 8: 0.0464, 10: 1.8936, 11: 0.0683, 15: 2.0533})),\n",
       " Row(label=0, features=DenseVector([2.0844, 3.6957, 3.6291, 3.6067, 2.6116, 3.1352, 4.0744, 3.5954, 0.1856, 3.1757, 3.4931, 1.9799, 0.0, 0.0, 0.0, 2.0533, 0.0])),\n",
       " Row(label=1, features=DenseVector([2.0844, 2.2932, 1.8533, 1.5894, 1.5272, 1.6058, 0.6791, 1.3604, 0.0, 1.6569, 0.5166, 0.6827, 0.0, 0.0, 0.0, 0.0, 1.9957]))]"
      ]
     },
     "execution_count": 226,
     "metadata": {},
     "output_type": "execute_result"
    }
   ],
   "source": [
    "df_final.take(5)"
   ]
  },
  {
   "cell_type": "code",
   "execution_count": 227,
   "metadata": {},
   "outputs": [
    {
     "name": "stdout",
     "output_type": "stream",
     "text": [
      "+-----+-----+\n",
      "|label|count|\n",
      "+-----+-----+\n",
      "|    1|   52|\n",
      "|    0|  173|\n",
      "+-----+-----+\n",
      "\n"
     ]
    }
   ],
   "source": [
    "df_final.groupby(\"label\").count().show()"
   ]
  },
  {
   "cell_type": "code",
   "execution_count": 228,
   "metadata": {},
   "outputs": [],
   "source": [
    "# Split dataset into train and test 70% vs 30%\n",
    "train, test = df_final.randomSplit([0.7, 0.3], seed = 42)\n",
    "#train, test, validation = df_final.randomSplit([0.6, 0.2, 0.2], seed = 42)"
   ]
  },
  {
   "cell_type": "code",
   "execution_count": 229,
   "metadata": {},
   "outputs": [
    {
     "name": "stdout",
     "output_type": "stream",
     "text": [
      "+-----+-----+\n",
      "|label|count|\n",
      "+-----+-----+\n",
      "|    1|   37|\n",
      "|    0|  126|\n",
      "+-----+-----+\n",
      "\n"
     ]
    }
   ],
   "source": [
    "# Let's check if we have both labels (0/1)\n",
    "train.groupby(\"label\").count().show()"
   ]
  },
  {
   "cell_type": "code",
   "execution_count": 230,
   "metadata": {},
   "outputs": [
    {
     "name": "stdout",
     "output_type": "stream",
     "text": [
      "+-----+-----+\n",
      "|label|count|\n",
      "+-----+-----+\n",
      "|    1|   15|\n",
      "|    0|   47|\n",
      "+-----+-----+\n",
      "\n"
     ]
    }
   ],
   "source": [
    "# Let's check if we have both label (0/1)\n",
    "test.groupby(\"label\").count().show()"
   ]
  },
  {
   "cell_type": "code",
   "execution_count": 231,
   "metadata": {},
   "outputs": [],
   "source": [
    "# Let's build a function to calculate the performance of our models\n",
    "# inspired by https://stackoverflow.com/questions/60772315/how-to-evaluate-a-classifier-with-apache-spark-2-4-5-and-pyspark-python\n",
    "def calculate_performace(results):\n",
    "    '''\n",
    "    Function that calculate the performance of a model\n",
    "    Input:  \n",
    "            model: model we want to evaluate\n",
    "    Output: \n",
    "            print performance metrics\n",
    "    '''  \n",
    "    # Create both evaluators\n",
    "    evaluatorMulti = MulticlassClassificationEvaluator(labelCol='label', predictionCol='prediction')\n",
    "    evaluator = BinaryClassificationEvaluator(labelCol = 'label', rawPredictionCol='prediction', metricName='areaUnderROC')\n",
    "\n",
    "    # Make predictions\n",
    "    predictionAndTarget = results.select('label', 'prediction')\n",
    "    #print (\"The Ground Truth is {} and the prediction is \".format(target, prediction))    \n",
    "    \n",
    "    # Get metrics\n",
    "    acc = evaluatorMulti.evaluate(predictionAndTarget, {evaluatorMulti.metricName: \"accuracy\"})\n",
    "    f1 = evaluatorMulti.evaluate(predictionAndTarget, {evaluatorMulti.metricName: \"f1\"})\n",
    "    auc = evaluator.evaluate(predictionAndTarget)  \n",
    "   \n",
    "    # Prepare a DataFrame with all metrics\n",
    "    performance = pd.DataFrame(index=['Accuracy', 'F1', 'AUC'], \\\n",
    "                     data={'Performance value': [acc, f1, auc]})\n",
    "    \n",
    "    # Return metrics\n",
    "    return performance       "
   ]
  },
  {
   "cell_type": "code",
   "execution_count": 232,
   "metadata": {},
   "outputs": [],
   "source": [
    "clf_LR = LogisticRegression(maxIter=10, regParam=0.0)\n",
    "clf_DT = DecisionTreeClassifier(seed=5)\n",
    "clf_GBT = GBTClassifier(maxDepth=5, maxIter = 10, seed=42)\n",
    "clf_RF = RandomForestClassifier(seed=5)\n",
    "clf_SVM = LinearSVC(maxIter = 10, regParam=0.01)"
   ]
  },
  {
   "cell_type": "code",
   "execution_count": 233,
   "metadata": {},
   "outputs": [
    {
     "name": "stdout",
     "output_type": "stream",
     "text": [
      "Logistic Regression:\n",
      "\n",
      "[[44  3]\n",
      " [11  4]]\n",
      "\n",
      "\n",
      "             precision    recall  f1-score   support\n",
      "\n",
      "          0       0.80      0.94      0.86        47\n",
      "          1       0.57      0.27      0.36        15\n",
      "\n",
      "avg / total       0.74      0.77      0.74        62\n",
      "\n",
      "CPU times: user 1.29 s, sys: 311 ms, total: 1.6 s\n",
      "Wall time: 3min 55s\n"
     ]
    }
   ],
   "source": [
    "%%time\n",
    "############## LOGISTIC REGRESSION ##############\n",
    "# Train the model\n",
    "LR_model = clf_LR.fit(train)\n",
    "# Test the model\n",
    "prediction_LR = LR_model.transform(test)\n",
    "\n",
    "# Let's prepare the confusion matrix\n",
    "# and cast the results to Pandas \n",
    "# in order to use sklearn metrics (confussion matrix and classification report)\n",
    "y_true = prediction_LR.select(\"label\").toPandas()\n",
    "y_pred = prediction_LR.select(\"prediction\").toPandas()\n",
    "\n",
    "conf_matrix_LR = confusion_matrix(y_true, y_pred)\n",
    "clas_rep_LR = classification_report(y_true, y_pred)\n",
    "\n",
    "print(\"Logistic Regression:\\n\")\n",
    "print(conf_matrix_LR)\n",
    "print(\"\\n\")\n",
    "print(clas_rep_LR)"
   ]
  },
  {
   "cell_type": "code",
   "execution_count": 234,
   "metadata": {},
   "outputs": [
    {
     "name": "stdout",
     "output_type": "stream",
     "text": [
      "Decission Trees:\n",
      "\n",
      "[[39  8]\n",
      " [10  5]]\n",
      "\n",
      "\n",
      "             precision    recall  f1-score   support\n",
      "\n",
      "          0       0.80      0.83      0.81        47\n",
      "          1       0.38      0.33      0.36        15\n",
      "\n",
      "avg / total       0.70      0.71      0.70        62\n",
      "\n",
      "CPU times: user 1.37 s, sys: 448 ms, total: 1.82 s\n",
      "Wall time: 4min 51s\n"
     ]
    }
   ],
   "source": [
    "%%time\n",
    "############## DECISION TREES ##############\n",
    "# Train the model\n",
    "DT_model = clf_DT.fit(train)\n",
    "# Test the model\n",
    "prediction_DT = DT_model.transform(test)\n",
    "\n",
    "# Let's prepare the confusion matrix\n",
    "# and cast the results to Pandas \n",
    "# in order to use sklearn metrics (confussion matrix and classification report)\n",
    "y_true = prediction_DT.select(\"label\").toPandas()\n",
    "y_pred = prediction_DT.select(\"prediction\").toPandas()\n",
    "\n",
    "conf_matrix_DT = confusion_matrix(y_true, y_pred)\n",
    "clas_rep_DT = classification_report(y_true, y_pred)\n",
    "\n",
    "print(\"Decision Trees:\\n\")\n",
    "print(conf_matrix_DT)\n",
    "print(\"\\n\")\n",
    "print(clas_rep_DT)"
   ]
  },
  {
   "cell_type": "code",
   "execution_count": 235,
   "metadata": {},
   "outputs": [
    {
     "name": "stdout",
     "output_type": "stream",
     "text": [
      "Gradient Boosted Tree:\n",
      "\n",
      "[[39  8]\n",
      " [ 9  6]]\n",
      "\n",
      "\n",
      "             precision    recall  f1-score   support\n",
      "\n",
      "          0       0.81      0.83      0.82        47\n",
      "          1       0.43      0.40      0.41        15\n",
      "\n",
      "avg / total       0.72      0.73      0.72        62\n",
      "\n",
      "CPU times: user 2.55 s, sys: 664 ms, total: 3.21 s\n",
      "Wall time: 6min 46s\n"
     ]
    }
   ],
   "source": [
    "%%time\n",
    "############## GRADIENT BOOSTED TREE ##############\n",
    "# Train the model\n",
    "GBT_model = clf_GBT.fit(train)\n",
    "# Test the model\n",
    "prediction_GBT = GBT_model.transform(test)\n",
    "\n",
    "# Let's prepare the confusion matrix\n",
    "# and cast the results to Pandas \n",
    "# in order to use sklearn metrics (confussion matrix and classification report)\n",
    "y_true = prediction_GBT.select(\"label\").toPandas()\n",
    "y_pred = prediction_GBT.select(\"prediction\").toPandas()\n",
    "\n",
    "conf_matrix_GBT = confusion_matrix(y_true, y_pred)\n",
    "clas_rep_GBT = classification_report(y_true, y_pred)\n",
    "\n",
    "print(\"Gradient Boosted Tree:\\n\")\n",
    "print(conf_matrix_GBT)\n",
    "print(\"\\n\")\n",
    "print(clas_rep_GBT)"
   ]
  },
  {
   "cell_type": "code",
   "execution_count": 236,
   "metadata": {},
   "outputs": [
    {
     "name": "stdout",
     "output_type": "stream",
     "text": [
      "Random Forest:\n",
      "\n",
      "[[46  1]\n",
      " [12  3]]\n",
      "\n",
      "\n",
      "             precision    recall  f1-score   support\n",
      "\n",
      "          0       0.79      0.98      0.88        47\n",
      "          1       0.75      0.20      0.32        15\n",
      "\n",
      "avg / total       0.78      0.79      0.74        62\n",
      "\n",
      "CPU times: user 1.51 s, sys: 422 ms, total: 1.93 s\n",
      "Wall time: 5min 5s\n"
     ]
    }
   ],
   "source": [
    "%%time\n",
    "############## RANDOM FOREST ##############\n",
    "# Train the model\n",
    "RF_model = clf_RF.fit(train)\n",
    "# Test the model\n",
    "prediction_RF = RF_model.transform(test)\n",
    "\n",
    "# Let's prepare the confusion matrix\n",
    "# and cast the results to Pandas \n",
    "# in order to use sklearn metrics (confussion matrix and classification report)\n",
    "y_true = prediction_RF.select(\"label\").toPandas()\n",
    "y_pred = prediction_RF.select(\"prediction\").toPandas()\n",
    "\n",
    "conf_matrix_RF = confusion_matrix(y_true, y_pred)\n",
    "clas_rep_RF = classification_report(y_true, y_pred)\n",
    "\n",
    "print(\"Random Forest:\\n\")\n",
    "print(conf_matrix_RF)\n",
    "print(\"\\n\")\n",
    "print(clas_rep_RF)"
   ]
  },
  {
   "cell_type": "code",
   "execution_count": 237,
   "metadata": {},
   "outputs": [
    {
     "name": "stdout",
     "output_type": "stream",
     "text": [
      "Support Vector Machine:\n",
      "\n",
      "[[47  0]\n",
      " [15  0]]\n",
      "\n",
      "\n",
      "             precision    recall  f1-score   support\n",
      "\n",
      "          0       0.76      1.00      0.86        47\n",
      "          1       0.00      0.00      0.00        15\n",
      "\n",
      "avg / total       0.57      0.76      0.65        62\n",
      "\n",
      "CPU times: user 1.63 s, sys: 492 ms, total: 2.13 s\n",
      "Wall time: 5min 10s\n"
     ]
    },
    {
     "name": "stderr",
     "output_type": "stream",
     "text": [
      "/opt/conda/lib/python3.6/site-packages/sklearn/metrics/classification.py:1135: UndefinedMetricWarning:\n",
      "\n",
      "Precision and F-score are ill-defined and being set to 0.0 in labels with no predicted samples.\n",
      "\n"
     ]
    }
   ],
   "source": [
    "%%time\n",
    "############## SUPPORT VECTOR MACHINE ##############\n",
    "# Train the model\n",
    "SVM_model = clf_SVM.fit(train)\n",
    "# Test the model\n",
    "prediction_SVM = SVM_model.transform(test)\n",
    "\n",
    "# Let's prepare the confusion matrix\n",
    "# and cast the results to Pandas \n",
    "# in order to use sklearn metrics (confussion matrix and classification report)\n",
    "y_true = prediction_SVM.select(\"label\").toPandas()\n",
    "y_pred = prediction_SVM.select(\"prediction\").toPandas()\n",
    "\n",
    "conf_matrix_SVM = confusion_matrix(y_true, y_pred)\n",
    "clas_rep_SVM = classification_report(y_true, y_pred)\n",
    "\n",
    "print(\"Support Vector Machine:\\n\")\n",
    "print(conf_matrix_SVM)\n",
    "print(\"\\n\")\n",
    "print(clas_rep_SVM)"
   ]
  },
  {
   "cell_type": "code",
   "execution_count": 242,
   "metadata": {},
   "outputs": [
    {
     "data": {
      "image/png": "[encoded data removed]",
      "text/plain": [
       "<matplotlib.figure.Figure at 0x7fd8d5902ac8>"
      ]
     },
     "metadata": {
      "needs_background": "light"
     },
     "output_type": "display_data"
    }
   ],
   "source": [
    "# Random Forest model has the best F1-score\n",
    "# Let's see the importance feature of this model\n",
    "# to do that, first we get the indices of the feature importances and convert them to a list\n",
    "feat_imp_ind   = RF_model.featureImportances.indices.tolist()\n",
    "# and we get the feature names, from the original final_features except the label (churn)\n",
    "features_without_label = final_features.columns[1:]\n",
    "feat_imp_key   = [features_without_label[ind] for ind in feat_imp_ind]\n",
    "# after that we get the weight, that is, the importance value and convert them to a list\n",
    "feat_imp_value = RF_model.featureImportances.values.tolist()\n",
    "# next we get all together in a dataframe, to be able to display it with a nice sns barplot\n",
    "feat_df        = pd.DataFrame(list(zip(features_without_label,feat_imp_value)),columns=['Feature','Importance']).sort_values('Importance',ascending=False)\n",
    "# prepare the graphical details\n",
    "plt.figure(figsize=(6,6))\n",
    "plt.title(\"Feature Importance on Random Forest model\")\n",
    "sns.barplot(x='Importance', y='Feature', data=feat_df);\n",
    "plt.savefig('Feature_Importance_RF.png')"
   ]
  },
  {
   "cell_type": "code",
   "execution_count": 243,
   "metadata": {},
   "outputs": [
    {
     "data": {
      "image/png": "[encoded data removed]",
      "text/plain": [
       "<matplotlib.figure.Figure at 0x7fd8d5cf7278>"
      ]
     },
     "metadata": {
      "needs_background": "light"
     },
     "output_type": "display_data"
    }
   ],
   "source": [
    "# Gradient Boosted Trees model has the best F1-score\n",
    "# Let's see the importance feature of this model\n",
    "# to do that, first we get the indices of the feature importances and convert them to a list\n",
    "feat_imp_ind   = GBT_model.featureImportances.indices.tolist()\n",
    "# and we get the feature names, from the original final_features except the label (churn)\n",
    "features_without_label = final_features.columns[1:]\n",
    "feat_imp_key   = [features_without_label[ind] for ind in feat_imp_ind]\n",
    "# after that we get the weight, that is, the importance value and convert them to a list\n",
    "feat_imp_value = GBT_model.featureImportances.values.tolist()\n",
    "# next we get all together in a dataframe, to be able to display it with a nice sns barplot\n",
    "feat_df        = pd.DataFrame(list(zip(features_without_label,feat_imp_value)),columns=['Feature','Importance']).sort_values('Importance',ascending=False)\n",
    "# prepare the graphical details\n",
    "plt.figure(figsize=(6,6))\n",
    "plt.title(\"Feature Importance on Gradient Boosted Trees model\")\n",
    "sns.barplot(x='Importance', y='Feature', data=feat_df);\n",
    "plt.savefig('Feature_Importance_GBT.png')"
   ]
  },
  {
   "cell_type": "markdown",
   "metadata": {},
   "source": [
    "#### Hyperparameter Tuning"
   ]
  },
  {
   "cell_type": "code",
   "execution_count": 248,
   "metadata": {},
   "outputs": [
    {
     "name": "stdout",
     "output_type": "stream",
     "text": [
      "CrossValidatorModel_c7d1d5b93359\n",
      "Accuracy: 0.7652482269503547\n",
      "CPU times: user 20.7 s, sys: 6.42 s, total: 27.1 s\n",
      "Wall time: 43min 59s\n"
     ]
    }
   ],
   "source": [
    "%%time\n",
    "# Now I am going to fine-tune the Decision Tree model\n",
    "# as it is the one with the highest F1-Score\n",
    "# Inspiration in https://gist.github.com/colbyford/7758088502211daa90dbc1b51c408762\n",
    "\n",
    "# Create the initial GBT Model\n",
    "\n",
    "rf = RandomForestClassifier(featuresCol=\"features\", labelCol=\"label\", maxDepth=2)\n",
    "\n",
    "# Prepare the parameters to find the best combination\n",
    "rf_param_grid = ParamGridBuilder() \\\n",
    "    .addGrid(rf.numTrees,[15, 20, 25]) \\\n",
    "    .addGrid(rf.maxBins,[2, 4]) \\\n",
    "    .addGrid(rf.maxDepth,[2, 4]) \\\n",
    "    .build()\n",
    "\n",
    "# Evaluate the model\n",
    "rfevaluator = BinaryClassificationEvaluator(rawPredictionCol=\"rawPrediction\")\n",
    "\n",
    "# Create 3-fold CrossValidator\n",
    "rfcv = CrossValidator(estimator =rf,\n",
    "                      estimatorParamMaps = rf_param_grid,\n",
    "                      evaluator = rfevaluator,\n",
    "                      numFolds = 3)\n",
    "\n",
    "# Run Cross Validations\n",
    "rfcvModel = rfcv.fit(train)\n",
    "print(rfcvModel)\n",
    "\n",
    "# Use test set here so we can measure the accuracy of our model on new data\n",
    "rfpredictions = rfcvModel.transform(test)\n",
    "\n",
    "# Evaluate best model\n",
    "print('Accuracy:', rfevaluator.evaluate(rfpredictions))"
   ]
  },
  {
   "cell_type": "code",
   "execution_count": 251,
   "metadata": {},
   "outputs": [],
   "source": [
    "best_model = rfcvModel.bestModel\n",
    "#best_model = best_model.stages[2]\n",
    "best_model.write().overwrite().save(\"Best_Random_Forest\")"
   ]
  },
  {
   "cell_type": "code",
   "execution_count": 252,
   "metadata": {},
   "outputs": [],
   "source": [
    "best_model_pred = best_model.transform(test)"
   ]
  },
  {
   "cell_type": "code",
   "execution_count": 253,
   "metadata": {},
   "outputs": [
    {
     "name": "stdout",
     "output_type": "stream",
     "text": [
      "Best Random Forest Trees:\n",
      "\n",
      "[[47  0]\n",
      " [15  0]]\n",
      "\n",
      "\n",
      "             precision    recall  f1-score   support\n",
      "\n",
      "          0       0.76      1.00      0.86        47\n",
      "          1       0.00      0.00      0.00        15\n",
      "\n",
      "avg / total       0.57      0.76      0.65        62\n",
      "\n"
     ]
    },
    {
     "name": "stderr",
     "output_type": "stream",
     "text": [
      "/opt/conda/lib/python3.6/site-packages/sklearn/metrics/classification.py:1135: UndefinedMetricWarning:\n",
      "\n",
      "Precision and F-score are ill-defined and being set to 0.0 in labels with no predicted samples.\n",
      "\n"
     ]
    }
   ],
   "source": [
    "y_true_best = best_model_pred.select(\"label\").toPandas()\n",
    "y_pred_best = best_model_pred.select(\"prediction\").toPandas()\n",
    "\n",
    "conf_matrix_RF_best = confusion_matrix(y_true_best, y_pred_best)\n",
    "clas_rep_RF_best = classification_report(y_true_best, y_pred_best)\n",
    "\n",
    "print(\"Best Random Forest Trees:\\n\")\n",
    "print(conf_matrix_RF_best)\n",
    "print(\"\\n\")\n",
    "print(clas_rep_RF_best)"
   ]
  },
  {
   "cell_type": "code",
   "execution_count": null,
   "metadata": {},
   "outputs": [],
   "source": [
    "# The best model after the hyperparameter tuning is not better than the original\n",
    "# So we will keep the original as the best model"
   ]
  },
  {
   "cell_type": "code",
   "execution_count": null,
   "metadata": {},
   "outputs": [],
   "source": [
    "# In order to execute it on the larger dataset, I will prepare some helper functions\n",
    "# based on the previous code"
   ]
  },
  {
   "cell_type": "code",
   "execution_count": 254,
   "metadata": {},
   "outputs": [],
   "source": [
    "def load_data_spark(path_to_dataset):\n",
    "    '''\n",
    "    Function that load a dataset\n",
    "    Input:  \n",
    "            path_to_dataset: path to the file containing the data\n",
    "    Output: \n",
    "            df: loaded dataset\n",
    "    '''  \n",
    "    df = spark.read.json(path_to_dataset)  \n",
    "    \n",
    "    return df"
   ]
  },
  {
   "cell_type": "code",
   "execution_count": 255,
   "metadata": {},
   "outputs": [],
   "source": [
    "def feature_engineerme(df_input):\n",
    "    '''\n",
    "    Function that collects the feature to build the ML model\n",
    "    Input:  \n",
    "            df_input: dataframe\n",
    "    Output: \n",
    "            df_output: output datadrame with the features\n",
    "    '''  \n",
    "    # This dataframe will contain the following features:\n",
    "    # |-- userId: string (nullable = true)\n",
    "    # |-- churn: cancellation of the service\n",
    "    # |-- level: type of subscription + I will convert into number 0/1\n",
    "    # |-- n_artists: number of artist a user listens to + I will convert into number\n",
    "    # |-- n_songs:number of songs a user listens to + I will convert into number  \n",
    "    # |-- n_songs_play:number of songs added to the playlist + I will convert into number   \n",
    "    # |-- n_thumbs_up: number of thumbs up + I will convert into number\n",
    "    # |-- n_thumbs_down:  number of thumbs down + I will convert into number \n",
    "    # |-- n_Errors: long (nullable = true)\n",
    "    # |-- n_friends: number of friends + I will convert into number \n",
    "    # |-- n_Rolls: number of spots displayed to the user\n",
    "    # |-- n_Help: number of visits to help page\n",
    "    # |-- total_sdays: time of the subscription (in days)\n",
    "    # |-- n_sessions: number of sesions of a user\n",
    "    # |-- IPAD: the user connects with an IPAD to our Sparkify service\n",
    "    # |-- IPHONE: the user connects with an IPHONE to our Sparkify service\n",
    "    # |-- LINUX: the user connects with a Linux device to our Sparkify service\n",
    "    # |-- MAC: the user connects with a MAC device to our Sparkify service\n",
    "    # |-- WINDOWS: the user connects with a WINDOWS to our Sparkify service\n",
    "\n",
    "\n",
    "    churn = df_input.groupby('userId').max(\"churn\").withColumnRenamed(\"max(churn)\", \"churn\")\n",
    "    df_churn = churn.withColumn('churn', churn.churn.cast('int'))\n",
    "    df_churn.count()\n",
    "        \n",
    "    level = df_input.select(['userId', 'level','ts']).orderBy(desc('ts')).dropDuplicates(['userId']).select(['userId', 'level']).replace(['free', 'paid'], ['0', '1'], 'level')\n",
    "    ## Let's change level into a numerical,binary field (0/1)\n",
    "    #level = df_valid.select(['userId', 'level']).dropDuplicates(['userId']).replace(['free', 'paid'], ['0', '1'], 'level')\n",
    "    df_level = level.withColumn('level', level.level.cast('int'))\n",
    "    df_level.count()\n",
    "    \n",
    "    # Let's calculate the number of artists a user listens to \n",
    "    n_artists = df_input.filter(df_valid.page==\"NextSong\").select(['userId', 'artist']).dropDuplicates().groupby('userId').count().withColumnRenamed('count', 'n_artists')\n",
    "    df_n_artists= n_artists.withColumn('n_artists', n_artists.n_artists.cast('int'))\n",
    "    df_n_artists.count()\n",
    "    \n",
    "    n_songs = df_input.select('userId','song').groupBy('userId').count().withColumnRenamed('count', 'n_songs')\n",
    "    df_n_songs= n_songs.withColumn('n_songs', n_songs.n_songs.cast('double'))\n",
    "    df_n_songs.count()\n",
    "    \n",
    "    n_songs_play = df_input.select('userId', 'page').where(df_valid.page =='Add to Playlist').groupBy('userId').agg({'page':'count'}).withColumnRenamed('count(page)','n_songs_play')\n",
    "    df_n_songs_play = n_songs_play.withColumn('n_songs_play', n_songs_play.n_songs_play.cast('double'))\n",
    "    df_n_songs_play.count()\n",
    "        \n",
    "    n_thumbs_up = df_input.select('userId','page').where(df_valid.page == 'Thumbs Up').groupBy('userId').count().withColumnRenamed('count', 'n_thumbs_up')\n",
    "    df_n_thumbs_up= n_thumbs_up.withColumn('n_thumbs_up', n_thumbs_up.n_thumbs_up.cast('bigint'))\n",
    "    df_n_thumbs_up.count()\n",
    "    \n",
    "    n_thumbs_down = df_input.select('userId','page').where(df_valid.page == 'Thumbs Down').groupBy('userId').count().withColumnRenamed('count', 'n_thumbs_down')\n",
    "    df_n_thumbs_down= n_thumbs_down.withColumn('n_thumbs_down', n_thumbs_down.n_thumbs_down.cast('bigint'))\n",
    "    df_n_thumbs_down.count()\n",
    "    \n",
    "    n_Errors = df_input.select('userId','page').where(df_valid.page == 'Error').groupBy('userId').count().withColumnRenamed('count', 'n_Errors')\n",
    "    df_n_Errors = n_Errors.withColumn('n_Errors', n_Errors.n_Errors.cast('bigint'))\n",
    "    df_n_Errors.count()\n",
    "    \n",
    "    n_friends = df_input.select('userId','page').where(df_valid.page == 'Add Friend').groupBy('userId').count().withColumnRenamed('count', 'n_friends')\n",
    "    df_n_friends= n_friends.withColumn('n_friends', n_friends.n_friends.cast('bigint'))\n",
    "    df_n_friends.count()\n",
    "    \n",
    "    n_Rolls = df_input.select('userId','page').where(df_valid.page == 'Roll Advert').groupBy('userId').count().withColumnRenamed('count', 'n_Rolls')\n",
    "    df_n_Rolls = n_Rolls.withColumn('n_Rolls', n_Rolls.n_Rolls.cast('bigint'))\n",
    "    df_n_Rolls.count()\n",
    "    \n",
    "    # Let's calculate the number of Help a user visits\n",
    "    n_Help = df_input.select('userId','page').where(df_valid.page == 'Help').groupBy('userId').count().withColumnRenamed('count', 'n_Help')\n",
    "    df_n_Help = n_Help.withColumn('n_Help', n_Help.n_Help.cast('bigint'))\n",
    "    df_n_Help.count()\n",
    "    \n",
    "    # Let's calculate the subscription days a user stays in the service\n",
    "    subscription_days = df_input.select('userId','subscription_days').groupBy('userId').agg({'subscription_days':'max'}).withColumnRenamed('max(subscription_days)','total_sdays')\n",
    "    df_subscription_days = subscription_days.withColumn('total_sdays', subscription_days.total_sdays.cast('double'))\n",
    "    df_subscription_days.count()\n",
    "\n",
    "    n_sessions = df_input.select('userId','sessionId').dropDuplicates().groupby('userId').count().withColumnRenamed('count','n_sessions')\n",
    "    df_n_sessions = n_sessions.withColumn('n_sessions', n_sessions.n_sessions.cast('bigint'))\n",
    "    df_n_sessions.count()\n",
    "    \n",
    "    # Let's take the OS the user connects to the Sparkify session and make one hot encoding with the pivot option\n",
    "    df_os = df_valid.select('userId','OS').dropDuplicates().groupby('userId').pivot('OS').agg(count('OS')).fillna(0)   \n",
    "    \n",
    "    df_output = df_churn.join(df_level,'userId','outer')\\\n",
    "     .join(df_n_artists,'userId','outer') \\\n",
    "     .join(df_n_songs,'userId','outer') \\\n",
    "     .join(df_n_songs_play,'userId','outer')\\\n",
    "     .join(df_n_thumbs_up,'userId','outer') \\\n",
    "     .join(df_n_thumbs_down,'userId','outer') \\\n",
    "     .join(df_n_Errors,'userId','outer') \\\n",
    "     .join(df_n_friends,'userId','outer') \\\n",
    "     .join(df_n_Rolls,'userId','outer') \\\n",
    "     .join(df_n_Help,'userId','outer') \\\n",
    "     .join(df_subscription_days,'userId','outer') \\\n",
    "     .join(df_n_sessions,'userId','outer') \\\n",
    "     .join(df_os,'userId','outer')\n",
    "    \n",
    "\n",
    "    return df_output"
   ]
  },
  {
   "cell_type": "code",
   "execution_count": 256,
   "metadata": {},
   "outputs": [],
   "source": [
    "# Test if the feature function works fine\n",
    "df_final_feat = feature_engineerme(df_valid)"
   ]
  },
  {
   "cell_type": "code",
   "execution_count": 257,
   "metadata": {},
   "outputs": [
    {
     "data": {
      "text/plain": [
       "DataFrame[userId: string, churn: int, level: int, n_artists: int, n_songs: double, n_songs_play: double, n_thumbs_up: bigint, n_thumbs_down: bigint, n_Errors: bigint, n_friends: bigint, n_Rolls: bigint, n_Help: bigint, total_sdays: double, n_sessions: bigint, IPAD: bigint, IPHONE: bigint, LINUX: bigint, MAC: bigint, WINDOWS: bigint]"
      ]
     },
     "execution_count": 257,
     "metadata": {},
     "output_type": "execute_result"
    }
   ],
   "source": [
    "# Yes! it works fine!\n",
    "df_final_feat"
   ]
  },
  {
   "cell_type": "markdown",
   "metadata": {},
   "source": [
    "# Final Steps\n",
    "Clean up your code, adding comments and renaming variables to make the code easier to read and maintain. Refer to the Spark Project Overview page and Data Scientist Capstone Project Rubric to make sure you are including all components of the capstone project and meet all expectations. Remember, this includes thorough documentation in a README file in a Github repository, as well as a web app or blog post."
   ]
  },
  {
   "cell_type": "code",
   "execution_count": null,
   "metadata": {},
   "outputs": [],
   "source": []
  },
  {
   "cell_type": "code",
   "execution_count": null,
   "metadata": {},
   "outputs": [],
   "source": []
  },
  {
   "cell_type": "code",
   "execution_count": null,
   "metadata": {},
   "outputs": [],
   "source": []
  }
 ],
 "metadata": {
  "kernelspec": {
   "display_name": "Python 3",
   "language": "python",
   "name": "python3"
  },
  "language_info": {
   "codemirror_mode": {
    "name": "ipython",
    "version": 3
   },
   "file_extension": ".py",
   "mimetype": "text/x-python",
   "name": "python",
   "nbconvert_exporter": "python",
   "pygments_lexer": "ipython3",
   "version": "3.6.3"
  }
 },
 "nbformat": 4,
 "nbformat_minor": 2
}
